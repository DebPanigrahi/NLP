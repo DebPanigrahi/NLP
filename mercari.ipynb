{
 "cells": [
  {
   "cell_type": "markdown",
   "metadata": {},
   "source": [
    "## Mercari Price Suggestion"
   ]
  },
  {
   "cell_type": "markdown",
   "metadata": {},
   "source": [
    "### Import statements"
   ]
  },
  {
   "cell_type": "code",
   "execution_count": 4,
   "metadata": {
    "collapsed": true
   },
   "outputs": [],
   "source": [
    "%matplotlib inline\n",
    "%reload_ext autoreload\n",
    "%autoreload 2"
   ]
  },
  {
   "cell_type": "code",
   "execution_count": 5,
   "metadata": {},
   "outputs": [],
   "source": [
    "from fastai.structured import *\n",
    "from fastai.column_data import *\n",
    "np.set_printoptions(threshold=50, edgeitems=20)\n",
    "\n",
    "import torchtext\n",
    "from torchtext import vocab, data\n",
    "from torchtext.datasets import language_modeling\n",
    "\n",
    "from fastai.rnn_reg import *\n",
    "from fastai.rnn_train import *\n",
    "from fastai.nlp import *\n",
    "from fastai.lm_rnn import *\n",
    "\n",
    "import dill as pickle\n",
    "\n",
    "import timeit"
   ]
  },
  {
   "cell_type": "code",
   "execution_count": 6,
   "metadata": {},
   "outputs": [
    {
     "name": "stdout",
     "output_type": "stream",
     "text": [
      "models\tsample_submission.csv  test.tsv  tmp  train.tsv\r\n"
     ]
    }
   ],
   "source": [
    "PATH='data/'\n",
    "!ls {PATH}"
   ]
  },
  {
   "cell_type": "code",
   "execution_count": 7,
   "metadata": {
    "collapsed": true
   },
   "outputs": [],
   "source": [
    "train = pd.read_csv(f'{PATH}/train.tsv', sep='\\t')\n",
    "test_df = pd.read_csv(f'{PATH}/test.tsv', sep='\\t')"
   ]
  },
  {
   "cell_type": "code",
   "execution_count": 8,
   "metadata": {},
   "outputs": [
    {
     "data": {
      "text/html": [
       "<div>\n",
       "<style>\n",
       "    .dataframe thead tr:only-child th {\n",
       "        text-align: right;\n",
       "    }\n",
       "\n",
       "    .dataframe thead th {\n",
       "        text-align: left;\n",
       "    }\n",
       "\n",
       "    .dataframe tbody tr th {\n",
       "        vertical-align: top;\n",
       "    }\n",
       "</style>\n",
       "<table border=\"1\" class=\"dataframe\">\n",
       "  <thead>\n",
       "    <tr style=\"text-align: right;\">\n",
       "      <th></th>\n",
       "      <th>train_id</th>\n",
       "      <th>name</th>\n",
       "      <th>item_condition_id</th>\n",
       "      <th>category_name</th>\n",
       "      <th>brand_name</th>\n",
       "      <th>price</th>\n",
       "      <th>shipping</th>\n",
       "      <th>item_description</th>\n",
       "    </tr>\n",
       "  </thead>\n",
       "  <tbody>\n",
       "    <tr>\n",
       "      <th>0</th>\n",
       "      <td>0</td>\n",
       "      <td>MLB Cincinnati Reds T Shirt Size XL</td>\n",
       "      <td>3</td>\n",
       "      <td>Men/Tops/T-shirts</td>\n",
       "      <td>NaN</td>\n",
       "      <td>10.0</td>\n",
       "      <td>1</td>\n",
       "      <td>No description yet</td>\n",
       "    </tr>\n",
       "    <tr>\n",
       "      <th>1</th>\n",
       "      <td>1</td>\n",
       "      <td>Razer BlackWidow Chroma Keyboard</td>\n",
       "      <td>3</td>\n",
       "      <td>Electronics/Computers &amp; Tablets/Components &amp; P...</td>\n",
       "      <td>Razer</td>\n",
       "      <td>52.0</td>\n",
       "      <td>0</td>\n",
       "      <td>This keyboard is in great condition and works ...</td>\n",
       "    </tr>\n",
       "  </tbody>\n",
       "</table>\n",
       "</div>"
      ],
      "text/plain": [
       "   train_id                                 name  item_condition_id  \\\n",
       "0         0  MLB Cincinnati Reds T Shirt Size XL                  3   \n",
       "1         1     Razer BlackWidow Chroma Keyboard                  3   \n",
       "\n",
       "                                       category_name brand_name  price  \\\n",
       "0                                  Men/Tops/T-shirts        NaN   10.0   \n",
       "1  Electronics/Computers & Tablets/Components & P...      Razer   52.0   \n",
       "\n",
       "   shipping                                   item_description  \n",
       "0         1                                 No description yet  \n",
       "1         0  This keyboard is in great condition and works ...  "
      ]
     },
     "metadata": {},
     "output_type": "display_data"
    },
    {
     "data": {
      "text/html": [
       "<div>\n",
       "<style>\n",
       "    .dataframe thead tr:only-child th {\n",
       "        text-align: right;\n",
       "    }\n",
       "\n",
       "    .dataframe thead th {\n",
       "        text-align: left;\n",
       "    }\n",
       "\n",
       "    .dataframe tbody tr th {\n",
       "        vertical-align: top;\n",
       "    }\n",
       "</style>\n",
       "<table border=\"1\" class=\"dataframe\">\n",
       "  <thead>\n",
       "    <tr style=\"text-align: right;\">\n",
       "      <th></th>\n",
       "      <th>test_id</th>\n",
       "      <th>name</th>\n",
       "      <th>item_condition_id</th>\n",
       "      <th>category_name</th>\n",
       "      <th>brand_name</th>\n",
       "      <th>shipping</th>\n",
       "      <th>item_description</th>\n",
       "    </tr>\n",
       "  </thead>\n",
       "  <tbody>\n",
       "    <tr>\n",
       "      <th>0</th>\n",
       "      <td>0</td>\n",
       "      <td>Breast cancer \"I fight like a girl\" ring</td>\n",
       "      <td>1</td>\n",
       "      <td>Women/Jewelry/Rings</td>\n",
       "      <td>NaN</td>\n",
       "      <td>1</td>\n",
       "      <td>Size 7</td>\n",
       "    </tr>\n",
       "    <tr>\n",
       "      <th>1</th>\n",
       "      <td>1</td>\n",
       "      <td>25 pcs NEW 7.5\"x12\" Kraft Bubble Mailers</td>\n",
       "      <td>1</td>\n",
       "      <td>Other/Office supplies/Shipping Supplies</td>\n",
       "      <td>NaN</td>\n",
       "      <td>1</td>\n",
       "      <td>25 pcs NEW 7.5\"x12\" Kraft Bubble Mailers Lined...</td>\n",
       "    </tr>\n",
       "  </tbody>\n",
       "</table>\n",
       "</div>"
      ],
      "text/plain": [
       "   test_id                                      name  item_condition_id  \\\n",
       "0        0  Breast cancer \"I fight like a girl\" ring                  1   \n",
       "1        1  25 pcs NEW 7.5\"x12\" Kraft Bubble Mailers                  1   \n",
       "\n",
       "                             category_name brand_name  shipping  \\\n",
       "0                      Women/Jewelry/Rings        NaN         1   \n",
       "1  Other/Office supplies/Shipping Supplies        NaN         1   \n",
       "\n",
       "                                    item_description  \n",
       "0                                             Size 7  \n",
       "1  25 pcs NEW 7.5\"x12\" Kraft Bubble Mailers Lined...  "
      ]
     },
     "metadata": {},
     "output_type": "display_data"
    }
   ],
   "source": [
    "display(train.head(2))\n",
    "display(test_df.head(2))"
   ]
  },
  {
   "cell_type": "code",
   "execution_count": 9,
   "metadata": {
    "collapsed": true
   },
   "outputs": [],
   "source": [
    "def join_columns(df):\n",
    "    # casting into string converts NaN to nan\n",
    "    ret = '<category> ' + df.category_name.astype(str).str.replace(r'[\\s*]','').str.replace(r'/',' ') \n",
    "    ret += ' <name> ' + df.name.astype(str) + ' <description> ' + df.item_description.astype(str)\n",
    "    return ret\n",
    "\n",
    "train['item_description'] = join_columns(train)\n",
    "test_df['item_description'] = join_columns(test_df)"
   ]
  },
  {
   "cell_type": "code",
   "execution_count": 10,
   "metadata": {},
   "outputs": [
    {
     "data": {
      "text/plain": [
       "'<category> Men Tops T-shirts <name> MLB Cincinnati Reds T Shirt Size XL <description> No description yet'"
      ]
     },
     "execution_count": 10,
     "metadata": {},
     "output_type": "execute_result"
    }
   ],
   "source": [
    "train['item_description'].iloc[0]"
   ]
  },
  {
   "cell_type": "code",
   "execution_count": 11,
   "metadata": {},
   "outputs": [
    {
     "data": {
      "text/plain": [
       "1482535"
      ]
     },
     "execution_count": 11,
     "metadata": {},
     "output_type": "execute_result"
    }
   ],
   "source": [
    "ntrn = len(train)\n",
    "ntrn"
   ]
  },
  {
   "cell_type": "code",
   "execution_count": 12,
   "metadata": {
    "collapsed": true
   },
   "outputs": [],
   "source": [
    "# since test size is 500K pick a comparable val size\n",
    "val_idx = train.sample(int(ntrn*0.35)).index\n",
    "(val_df, train_df),  = split_by_idx(val_idx, train)"
   ]
  },
  {
   "cell_type": "code",
   "execution_count": 13,
   "metadata": {},
   "outputs": [
    {
     "data": {
      "text/plain": [
       "0.3499998313699171"
      ]
     },
     "execution_count": 13,
     "metadata": {},
     "output_type": "execute_result"
    }
   ],
   "source": [
    "len(val_df)/ntrn"
   ]
  },
  {
   "cell_type": "code",
   "execution_count": 14,
   "metadata": {
    "collapsed": true
   },
   "outputs": [],
   "source": [
    "import time\n",
    "\n",
    "class time_check:\n",
    "    def __init__(self):\n",
    "        type(self).current = time.time()\n",
    "        type(self).last = None\n",
    "    \n",
    "    @staticmethod\n",
    "    def showtime(str1):\n",
    "        time_check.last = time_check.current\n",
    "        time_check.current = time.time()\n",
    "        print(str1, time_check.current-time_check.last)\n",
    "        sys.stdout.flush()\n",
    "        return "
   ]
  },
  {
   "cell_type": "markdown",
   "metadata": {},
   "source": [
    "## Tokenization"
   ]
  },
  {
   "cell_type": "code",
   "execution_count": 15,
   "metadata": {
    "collapsed": true
   },
   "outputs": [],
   "source": [
    "re_tok = re.compile(f'([{string.punctuation}“”¨«»®´·º½¾¿¡§£₤‘’])')\n",
    "re_ptbl = re.compile(f'([{string.printable}])')\n",
    "re_rm = re.compile(r'\\s*\\[\\s*rm\\s*\\]\\s*')\n",
    "re_num = re.compile(r'([0-9])')"
   ]
  },
  {
   "cell_type": "code",
   "execution_count": 16,
   "metadata": {},
   "outputs": [
    {
     "data": {
      "text/plain": [
       "\"Home/ DécrAntsWJwlyNkaSp&OudGiBMT,CEPhg-VFbKf(4+)RLvZq'02U5Ixz1Y7Q\""
      ]
     },
     "execution_count": 16,
     "metadata": {},
     "output_type": "execute_result"
    }
   ],
   "source": [
    "import collections\n",
    "all_des = val_df['category_name'].str.cat(sep=' ')\n",
    "chars = list(all_des)\n",
    "counter=collections.Counter(chars)\n",
    "ret = str('')\n",
    "for x in counter: ret += x[0]\n",
    "ret"
   ]
  },
  {
   "cell_type": "code",
   "execution_count": 14,
   "metadata": {
    "scrolled": true
   },
   "outputs": [
    {
     "data": {
      "text/plain": [
       "'<category> WmnOhBudlisqfRpb,CkwzAL.S&GNPTVDIvH9\"MFx0251[]K:\\'’E-%U6JX3j*48!#Y/(+)é\\xa0Q~@7⋅☆?Z;➡♡❌•❤️❗☺✨⬆⭐=⬅|‼▪⚡¼$…®è·✔⃣\\\\×Ó‘✖\\u200b{}➕\\u2028ô●\\u3000［］＊❣©™–☀”Ⓜ_✳✅¤♦♥°⚠☘“■çÁá✴√ＦＡＱ^É¡℉★◆Σ￣□˘³\\u2029⏺—ë：✭☃❎⚫➖。・✘✂》℃≥í，▶）⬛✉❇❄�÷ñ✧ツ†！ᖴᗩᑕᗪᔕᒪᑭᗯᖇ⛔⭕″、（《◾½☄✈⁄◀☞☜¾⬇☑♨ó⚜\\xad♠ē〰☻⁉α£Ē‑➰¥€✽♢❁▫\\x97ً➔ÍᏚᎢᎬᎡᏞᏩᏙᏌᎾᎠᏔᏢ↪↩`✓\\x7f◕‿╹◡⊙︿û＼／❀à⋆ғᴇʟʀᴛᴏᴀᴋɴʏǫᴜɪᴍʜᴠᴘʙᴄᴅɢᴡッ◼◇¿ōÑᑎᐯ︎❥ꕥΩ❓【】ξ»ᴢ⤵✕►⠀☐⇻◈ú☇Û❊͈ᴗ☒⚘Ü↗«ℹø✮∆Π⚪⏩⏪☹화양연⛅❕➽äいなばぁっこんにちはたらラタンワとゃ日本の中古品ですオリジナルケース付きませう傷があり自宅再生機視聴可能しよろくお願↘ö♻̈ᎪᎷᏴᎻ☯☮⚛☪¯˜☾↓¢✩⛱îİÈ⚽✌ā┅✿⏬\\u200eü≤✦¹⛄→²ᐠᐛᐟ♧♪♬ᗰ№◦ı↖↙◑ØÄÇ◉✏；▼ì⚀\\ufeffÔ〽º☠⛳☝ÀÌ☼⏳⚅↔✯✄ʕᴥʔ☁≫♤￼Δ✗３⛵⇢⇠⇝⇜⇨⇦Ꮯ➵ķ\\u2006±➺＝＄\\x16☕ʼ대한민국\\x96♀゜※✪❃☽♍☂⅞Õ⤴○\\uf8ff➜✬вєуσυℓѕâ♣\\uf04a⅛ūï\\x92ღ？⚃✼℅〃⛤\\x03\\u2002я⊝ᴊ\\uf8b8\\uf81e\\uf8bc\\uf821\\uf820\\uf824\\uf8e7ꪹꪵ\\uf823\\uf8ea☡אודםхｗｉｌｄｆｏｘ˚ω∙～͜͡ʖêᴖθ♛ᏃᏆ◻═⛥₂⚂͟カネボウソアイシャドⅠ✚\\x94̑⏰\\u202f➝➳け玉剣拳❈←ÂÒę᙭ᕼÎ⇾Æ⌚―ビトフォマサヒパダ´\\x99ãļ∅ⓟⓔⓣⓢⓜⓞⓚⓕⓡź♏⏹Ë⅔−༶﹏мιтнĸЅΙ⚾ᑌꂦノヮ♫⌊⌉⚓¨å↟‡≧▽≦ăßŸŠㅡćù⇉⇇✺❦．ᕕᕗĹ✱⁰\\x1aﬂﬁŁšś↠↕✷⊹\\u2009õᵔª△⚁\\u200fò➪➣⇒▵방탄션단앵무새죽이기우리들의행복시간정가원묶음으로구입하면송비를절약실수있습니다彡✍⊗ꍏ┌ಠ┘Úϟ소년＋刚化玻璃片č◯⚄⇣ч\\uf84c˝ᗷ✫⌛\\x14❉◔ⓛⓦ⛓Ū〜ゝ∂ł㎡⬘☙⚝ổ╮╯╰╭ミ⁃\\u202dΦ➲☔♐ď'"
      ]
     },
     "execution_count": 14,
     "metadata": {},
     "output_type": "execute_result"
    }
   ],
   "source": [
    "import collections\n",
    "all_des = val_df['item_description'].str.cat(sep=' ')\n",
    "chars = list(all_des)\n",
    "counter=collections.Counter(chars)\n",
    "ret = str('')\n",
    "for x in counter: ret += x[0]\n",
    "ret"
   ]
  },
  {
   "cell_type": "code",
   "execution_count": 17,
   "metadata": {
    "collapsed": true
   },
   "outputs": [],
   "source": [
    "# to skip computation\n",
    "ret = \"\"\"HmDéAnsLhSudipNw.Rlf[]bTqkFJW24KGOC&7Yz/x!)B-~:v✨“”,1MEVX50\\'6PI3U8%(+9\"\\xa0Q@*#;Z➡♡j•❤️\\u3000?［］＊–è’|$⚡▪❄…®✴{}\\\\❇=☑Ó‼☆♥_⬇❗⛔♦°⭐¡^üë❣✭íÁ½✳×✅❌—☺✔➖《》¤″⚠⬆➕■☇◇●▶➔！✉☀✖á★✧ツ†〰\\u200b€¥É©™\\u2028ñシ、（），：‘ú❎☄ô◀ᏢᎡᏟᏞᎬᎪᎢᏌᏚᏆ·♨⚜⃣▼�√«»\\xad⁉α£︎❥♏✈▫⬅ē❓å➺Õ¼☞✽♢○âÜÍᏩᏙᎾᎠᏔç♧◡̈⭕ō⚫ᔕᖇᒪᑎᐯᖴᗩᗯ‑Ⓜ☼⤵↪Ω`⇻◈①②③❀\\u2029⏺\\x7fΚΑθ⋆ғʀᴇʜɪᴘʟᴛᴏᴀᴋɴʏǫᴜᴍᴠʙᴄᴅɢᴡッ¾ℹ◕‿╹⊙︿⏩⏪✝□℃ä✏いなばぁっこんにちはたらラタンワとゃ日本の中古品です。オリジナルケース付きませう傷があり自宅再生機視聴可能しよろくお願ᎷᏴᎻ❁⇝↓⛵【】◑┅♠\\u200eĒ→☻´∀｀・Ñ♻Ô⏰óØᐠᐛᐟ❕⛥¹ᑕᗰ◉ı↖↘↙；ᕼᗷᑌᗪ✓∆ì►⚘ºʕᴥʔà✌ω～✦➾➳⚀✩ꕥ✿ß❃☾☽⚾È▵ÄÇ⚅◆█✯û♛≥≤Ⓡ♤ᴢ◾◼乛Öū⟁➜☡✲゜͡ᵔ͜ʖ☕✂³⚪čï※➰\\x96\\x16ᴊ↔÷ă✪˘¦îê◠✬Β✘語⁄Ìღ✮？＆☐ø⛤☝\\uf8e7ꪹꪵ\\uf81e\\uf823\\uf8eaℓєя⊝◦☃❊⠀ö²―⌚Σ￣\\uf8ff➙⚓Ꮓ↩¿☯☮⚛☪\\ufeff͈ᴗ☒⅜〽ⓡⓔⓓⓑⓛⓐⓒⓚⓦⓗⓘⓣⓢⓤⓝ§Δξェヽノ✕➝∅ⓟⓜⓞⓕ☜↟◄⇒Â═☔❶❷❸❹❺❻،¶Æ˚⛅ﬁ\\x99♪⇢⋅¢༶⛄☠＼／ʘ＄☸⚃「」☹➀➁⛳‡ËŸŠ℅⅛ㅡ⟹❦☁Ûś『』šù✷⊹õã⺣\\u202f⬛İ⏹Ⓢⓨ±⚁￼⅔✄ŕ▿ò➪⁰ā୨୧\\x95∙̀\\u2009♫⛱❔ᑭ➵☘⇨⇦➲\\uf84c△♀℉˝✼さ冊¯ọ✫Ð↕\\uf8ba\\uf8bc\\uf8b8\\uf8bd\\uf8b9\\uf8c0⌛国结刺绣小紫色的心形丝绸挂件Ū\\x14⁴♣⛓〜ゝ∂㎡᙭′どかも森絵ポトビ他╮╯╰╭Φ\\x92➿⏬招猫一\"\"\""
   ]
  },
  {
   "cell_type": "code",
   "execution_count": 18,
   "metadata": {
    "collapsed": true
   },
   "outputs": [],
   "source": [
    "spcl = re_ptbl.sub(r'', ret)\n",
    "re_spcl = re.compile(f'([{spcl}0-9])')"
   ]
  },
  {
   "cell_type": "code",
   "execution_count": 19,
   "metadata": {},
   "outputs": [],
   "source": [
    "from spacy.symbols import ORTH\n",
    "\n",
    "my_tok = spacy.load('en')\n",
    "\n",
    "# To join multiple columns\n",
    "# my_tok.tokenizer.add_special_case('<SUMM>', [{ORTH: '<SUMM>'}])\n",
    "my_tok.tokenizer.add_special_case('<eos>', [{ORTH: '<eos>'}])\n",
    "my_tok.tokenizer.add_special_case('<category>', [{ORTH: '<category>'}])\n",
    "my_tok.tokenizer.add_special_case('<name>', [{ORTH: '<name>'}])\n",
    "my_tok.tokenizer.add_special_case('<description>', [{ORTH: '<description>'}])\n",
    "my_tok.tokenizer.add_special_case('[rm]', [{ORTH: '[rm]'}])\n",
    "\n",
    "def my_spacy_tok(x):\n",
    "    x = str(x).lower()\n",
    "    # x = re.sub(r'[^\\x00-\\x7f]', r' ', x)\n",
    "    x = re_rm.sub(' [rm] ', x)\n",
    "    #x = re_num.sub(r' \\1 ', x)\n",
    "    x = re_spcl.sub(r' \\1 ', x)\n",
    "    x = ' '.join(x.split())\n",
    "    return [tok.text for tok in my_tok.tokenizer(x)]"
   ]
  },
  {
   "cell_type": "code",
   "execution_count": 20,
   "metadata": {},
   "outputs": [
    {
     "data": {
      "text/plain": [
       "['a', '1', '2', '3', '.', '【', '】', '♥']"
      ]
     },
     "execution_count": 20,
     "metadata": {},
     "output_type": "execute_result"
    }
   ],
   "source": [
    "my_spacy_tok(\"a123.【】 ♥\")"
   ]
  },
  {
   "cell_type": "markdown",
   "metadata": {},
   "source": [
    "## Language Model for category, name and item_description "
   ]
  },
  {
   "cell_type": "code",
   "execution_count": 21,
   "metadata": {
    "collapsed": true
   },
   "outputs": [],
   "source": [
    "# Use small portion for text modeling \n",
    "sample = 0.2\n",
    "train_text = train_df.sample(int(sample*len(train_df))).reset_index()\n",
    "val_text = val_df.sample(int(sample*len(val_df))).reset_index()"
   ]
  },
  {
   "cell_type": "code",
   "execution_count": 33,
   "metadata": {},
   "outputs": [
    {
     "data": {
      "text/plain": [
       "(array([   1135.,   56803.,  111234.,  172722.,  100045.,  138350.,   83271.,  109401.,   63493.,   81542.,\n",
       "          46619.,   61350.,   35199.,   45828.,   27106.,   36000.,   21148.,   27510.,   16214.,   21298.,\n",
       "        ...,     162.,      88.,     200.,      82.,      47.,      96.,     101.,      32.,      79.,\n",
       "             24.,       8.,       1.,       2.,       0.,       1.,       0.,       1.,       1.,       1.,\n",
       "              1.]),\n",
       " array([   6.  ,    8.52,   11.04,   13.56,   16.08,   18.6 ,   21.12,   23.64,   26.16,   28.68,   31.2 ,\n",
       "          33.72,   36.24,   38.76,   41.28,   43.8 ,   46.32,   48.84,   51.36,   53.88, ...,  210.12,  212.64,\n",
       "         215.16,  217.68,  220.2 ,  222.72,  225.24,  227.76,  230.28,  232.8 ,  235.32,  237.84,  240.36,\n",
       "         242.88,  245.4 ,  247.92,  250.44,  252.96,  255.48,  258.  ]),\n",
       " <a list of 100 Patch objects>)"
      ]
     },
     "execution_count": 33,
     "metadata": {},
     "output_type": "execute_result"
    },
    {
     "data": {
      "image/png": "[encoded data removed]",
      "text/plain": [
       "<matplotlib.figure.Figure at 0x7fdd407736d8>"
      ]
     },
     "metadata": {},
     "output_type": "display_data"
    }
   ],
   "source": [
    "text_length = train['item_description'].apply(lambda x: len(str(x).split()))\n",
    "plt.hist(text_length, bins=100)"
   ]
  },
  {
   "cell_type": "code",
   "execution_count": 22,
   "metadata": {
    "collapsed": true,
    "scrolled": true
   },
   "outputs": [],
   "source": [
    "# This is to test if numericalization is possible with the given text with symbols and all special characters\n",
    "# Since the origibal text can be lengthy \n",
    "\n",
    "t = time_check()\n",
    "def test_text_dataload(field, df, col):\n",
    "    # fir create Fields\n",
    "    fields = [('text', field)]\n",
    "    text = []\n",
    "    \n",
    "    # Tokenize\n",
    "    text += field.preprocess(df[col].str.cat(sep=' <eos> '))\n",
    "    text.append('<eos>')\n",
    "    # create datasets\n",
    "    examples = [torchtext.data.Example.fromlist([text], fields)]\n",
    "    dataset = torchtext.data.Dataset(examples, fields)\n",
    "    \n",
    "    field.build_vocab(dataset)\n",
    "    \n",
    "    t.showtime(\"build examples and vocab:\")\n",
    "    flush\n",
    "    # create dataloader from dataset this is one long text \n",
    "    text = sum([o.text for o in dataset], [])\n",
    "    n=100\n",
    "    for i in np.arange(int(len(text)/n)):\n",
    "        if (i%10000 == 0):\n",
    "            t.showtime(str(i)+\" numericalize :\")\n",
    "            flush\n",
    "        itext = [text[i*n:(i+1)*n]]\n",
    "        try: \n",
    "            nums = field.numericalize(itext)\n",
    "        except (RuntimeError):\n",
    "            print(itext)\n",
    "    return \n",
    "\n",
    "#TEXT = data.Field(lower=True, tokenize=my_spacy_tok)\n",
    "#test_text_dataload(TEXT, train_text, 'item_description')"
   ]
  },
  {
   "cell_type": "code",
   "execution_count": 23,
   "metadata": {
    "collapsed": true
   },
   "outputs": [],
   "source": [
    "ITEM_DESCRIPTION = data.Field(lower=True, tokenize=my_spacy_tok)"
   ]
  },
  {
   "cell_type": "markdown",
   "metadata": {},
   "source": [
    "Possible text processings:\n",
    "0. min_freq, bs, bptt \n",
    "1. highlight for a streak of caps\n",
    "2. replace \" -\" word with `<list>`\n",
    "3. plural handling (?)\n",
    "4. handling past/present/future tense\n"
   ]
  },
  {
   "cell_type": "code",
   "execution_count": 24,
   "metadata": {
    "collapsed": true
   },
   "outputs": [],
   "source": [
    "bs,bptt = 128,50\n",
    "min_freq=10\n",
    "tag=\"match_trn_val\""
   ]
  },
  {
   "cell_type": "code",
   "execution_count": 25,
   "metadata": {
    "collapsed": true
   },
   "outputs": [],
   "source": [
    "# DF takes 12mins on GTX1060\n",
    "idmd = LanguageModelData.from_dataframes(PATH, ITEM_DESCRIPTION, 'item_description', train_text, val_text, val_text, \n",
    "                                       bs=bs, bptt=bptt, min_freq=min_freq)\n",
    "pickle.dump(ITEM_DESCRIPTION, open(f'{PATH}models/ITEM_DESCRIPTION_{tag}.pkl','wb'))"
   ]
  },
  {
   "cell_type": "code",
   "execution_count": 26,
   "metadata": {},
   "outputs": [
    {
     "data": {
      "text/plain": [
       "[(1908, '♥'), (0, '<unk>')]"
      ]
     },
     "execution_count": 26,
     "metadata": {},
     "output_type": "execute_result"
    }
   ],
   "source": [
    "idxs = ITEM_DESCRIPTION.numericalize([['♥', 'xyz']])\n",
    "idxs = idxs.data.cpu().numpy().ravel()\n",
    "#ITEM_DESCRIPTION.vocab.itos[idx.data.cpu().numpy()[0]]\n",
    "#idx.data.cpu().numpy()\n",
    "[(idx,ITEM_DESCRIPTION.vocab.itos[idx]) for idx in idxs]"
   ]
  },
  {
   "cell_type": "markdown",
   "metadata": {},
   "source": [
    "#### Unfderstanding Input/Output"
   ]
  },
  {
   "cell_type": "code",
   "execution_count": 27,
   "metadata": {},
   "outputs": [
    {
     "data": {
      "text/plain": [
       "'<unk> || <pad> || . || , || <category> || <description> || <eos> || <name> || ! || and || 1 || women'"
      ]
     },
     "execution_count": 27,
     "metadata": {},
     "output_type": "execute_result"
    }
   ],
   "source": [
    "' || '.join(ITEM_DESCRIPTION.vocab.itos[:12])"
   ]
  },
  {
   "cell_type": "code",
   "execution_count": 28,
   "metadata": {},
   "outputs": [
    {
     "data": {
      "text/plain": [
       "15343"
      ]
     },
     "execution_count": 28,
     "metadata": {},
     "output_type": "execute_result"
    }
   ],
   "source": [
    "len(ITEM_DESCRIPTION.vocab.itos[:])"
   ]
  },
  {
   "cell_type": "code",
   "execution_count": 29,
   "metadata": {},
   "outputs": [
    {
     "data": {
      "text/plain": [
       "(1355, 15343, 1, 8680264)"
      ]
     },
     "execution_count": 29,
     "metadata": {},
     "output_type": "execute_result"
    }
   ],
   "source": [
    "len(idmd.trn_dl), idmd.nt, len(idmd.trn_ds), len(idmd.trn_ds[0].text)"
   ]
  },
  {
   "cell_type": "code",
   "execution_count": 30,
   "metadata": {},
   "outputs": [
    {
     "data": {
      "text/plain": [
       "\"<category>   beauty   haircare   shampoo&conditionersets   <name>   holding   wen   2   bottle   over   1   2   oz/   bottle   <description>   holding   for   sdrzsg   4   0   wen   six   thirteen   by   chaz   dean   ,   ultra   nourishing   cleansing   treatment   for   hair   .   it   's   a   lemon   rosemary   vanilla   bean   scent   <eos>   <category>   beauty   makeup   makeuppalettes   <name>   bnib   le\""
      ]
     },
     "execution_count": 30,
     "metadata": {},
     "output_type": "execute_result"
    }
   ],
   "source": [
    "'   '.join(idmd.trn_ds[0].text[:50])"
   ]
  },
  {
   "cell_type": "code",
   "execution_count": 31,
   "metadata": {
    "scrolled": true
   },
   "outputs": [
    {
     "data": {
      "text/plain": [
       "array([    4,    45,   922,  2897,     7,  2453,  4957,    13,   445,   335,    10,    13,  2599,   445,\n",
       "           5,  2453,    15,     0,    26,    18,  4957,  2360, 11741,   152, 10587,  6591,     3,   763,\n",
       "        4554,  1824,  1445,    15,   308,     2,    36,    39,    16,  2095,  5771,  1251,  2511,   873,\n",
       "           6,     4,    45,    64,   421,     7,  1989,  2919])"
      ]
     },
     "execution_count": 31,
     "metadata": {},
     "output_type": "execute_result"
    }
   ],
   "source": [
    "to_np(ITEM_DESCRIPTION.numericalize([idmd.trn_ds[0].text[:50]])).ravel()"
   ]
  },
  {
   "cell_type": "code",
   "execution_count": 32,
   "metadata": {},
   "outputs": [
    {
     "name": "stdout",
     "output_type": "stream",
     "text": [
      "Xs=Variable containing:\n",
      "     4   2292   1342  ...    1779   2638     29\n",
      "    45   1043    725  ...     950   4990   5544\n",
      "   922      7      5  ...       5   3913    602\n",
      "        ...            ⋱           ...         \n",
      "  1251    784     10  ...       3   1940     17\n",
      "  2511     34      3  ...    3402    413     32\n",
      "   873     16   4166  ...       7      5     43\n",
      "[torch.cuda.LongTensor of size 42x128 (GPU 0)]\n",
      "\n",
      "Ys=Variable containing:\n",
      "    45\n",
      "  1043\n",
      "   725\n",
      "  ⋮   \n",
      "  4264\n",
      "  8242\n",
      "     6\n",
      "[torch.cuda.LongTensor of size 5376 (GPU 0)]\n",
      "\n"
     ]
    }
   ],
   "source": [
    "batch = next(iter(idmd.trn_dl))\n",
    "xs, y = batch\n",
    "print(\"Xs={}\\nYs={}\".format(xs, y))"
   ]
  },
  {
   "cell_type": "markdown",
   "metadata": {},
   "source": [
    "### TEXT Model Learner\n",
    "##### Tune these learning parameters"
   ]
  },
  {
   "cell_type": "code",
   "execution_count": 33,
   "metadata": {
    "collapsed": true
   },
   "outputs": [],
   "source": [
    "em_sz = 100  # size of each embedding vector\n",
    "nh = 200     # number of hidden activations per layer\n",
    "nl = 3       # number of layers\n",
    "opt_fn = partial(optim.Adam, betas=(0.7, 0.99))"
   ]
  },
  {
   "cell_type": "code",
   "execution_count": 34,
   "metadata": {
    "collapsed": true
   },
   "outputs": [],
   "source": [
    "id_learner = idmd.get_model(opt_fn, em_sz, nh, nl,\n",
    "               dropouti=0.05, dropout=0.05, wdrop=0.1, dropoute=0.02, dropouth=0.05)"
   ]
  },
  {
   "cell_type": "code",
   "execution_count": 35,
   "metadata": {
    "collapsed": true
   },
   "outputs": [],
   "source": [
    "id_learner.reg_fn = partial(seq2seq_reg, alpha=2, beta=1)\n",
    "id_learner.clip=0.3"
   ]
  },
  {
   "cell_type": "markdown",
   "metadata": {},
   "source": [
    "#### Unfderstanding Input/Output of the Edcoder-Decoder Model"
   ]
  },
  {
   "cell_type": "code",
   "execution_count": 36,
   "metadata": {},
   "outputs": [
    {
     "data": {
      "text/plain": [
       "1482535"
      ]
     },
     "execution_count": 36,
     "metadata": {},
     "output_type": "execute_result"
    }
   ],
   "source": [
    "ntrn"
   ]
  },
  {
   "cell_type": "code",
   "execution_count": 37,
   "metadata": {},
   "outputs": [
    {
     "data": {
      "text/plain": [
       "SequentialRNN (\n",
       "  (0): RNN_Encoder (\n",
       "    (encoder): Embedding(15343, 100, padding_idx=1)\n",
       "    (encoder_with_dropout): EmbeddingDropout (\n",
       "      (embed): Embedding(15343, 100, padding_idx=1)\n",
       "    )\n",
       "    (rnns): ModuleList (\n",
       "      (0): WeightDrop (\n",
       "        (module): LSTM(100, 200, dropout=0.05)\n",
       "      )\n",
       "      (1): WeightDrop (\n",
       "        (module): LSTM(200, 200, dropout=0.05)\n",
       "      )\n",
       "      (2): WeightDrop (\n",
       "        (module): LSTM(200, 100, dropout=0.05)\n",
       "      )\n",
       "    )\n",
       "    (dropouti): LockedDropout (\n",
       "    )\n",
       "    (dropouths): ModuleList (\n",
       "      (0): LockedDropout (\n",
       "      )\n",
       "      (1): LockedDropout (\n",
       "      )\n",
       "      (2): LockedDropout (\n",
       "      )\n",
       "    )\n",
       "  )\n",
       "  (1): LinearDecoder (\n",
       "    (decoder): Linear (100 -> 15343)\n",
       "    (dropout): LockedDropout (\n",
       "    )\n",
       "  )\n",
       ")"
      ]
     },
     "execution_count": 37,
     "metadata": {},
     "output_type": "execute_result"
    }
   ],
   "source": [
    "lm = id_learner.model\n",
    "lm"
   ]
  },
  {
   "cell_type": "code",
   "execution_count": 38,
   "metadata": {
    "scrolled": true
   },
   "outputs": [
    {
     "data": {
      "text/plain": [
       "Variable containing:\n",
       "( 0 ,.,.) = \n",
       " -4.4758e-02  7.4585e-03  1.8314e-02  ...  -3.1149e-02  1.8176e-02 -2.2777e-03\n",
       " -4.6178e-02  6.3326e-03  1.8344e-02  ...  -3.1044e-02  1.7707e-02 -3.4300e-03\n",
       " -4.6265e-02  7.4348e-03  1.6810e-02  ...  -3.0746e-02  1.9027e-02 -2.6596e-03\n",
       "                 ...                   ⋱                   ...                \n",
       " -4.4694e-02  7.6293e-03  1.7821e-02  ...  -2.9771e-02  1.7545e-02 -1.6881e-03\n",
       " -4.5830e-02  7.5543e-03  1.9599e-02  ...  -2.9679e-02  1.7508e-02 -2.0004e-03\n",
       " -4.4141e-02  8.0052e-03  1.7165e-02  ...  -2.9648e-02  1.7769e-02 -2.1913e-03\n",
       "\n",
       "( 1 ,.,.) = \n",
       " -6.7363e-02  4.6915e-03  2.2757e-02  ...  -4.4870e-02  2.9250e-02 -1.9758e-03\n",
       " -7.0571e-02  3.1861e-03  2.2255e-02  ...  -4.4802e-02  2.8535e-02 -3.8281e-03\n",
       " -7.0108e-02  4.5743e-03  1.9771e-02  ...  -4.4483e-02  3.0747e-02 -2.6667e-03\n",
       "                 ...                   ⋱                   ...                \n",
       " -6.7709e-02  5.0739e-03  2.1648e-02  ...  -4.2043e-02  2.7853e-02 -6.7811e-04\n",
       " -6.9932e-02  5.2542e-03  2.5645e-02  ...  -4.2320e-02  2.7470e-02 -1.2471e-03\n",
       " -6.6983e-02  5.9276e-03  2.0460e-02  ...  -4.2457e-02  2.8440e-02 -1.5542e-03\n",
       "\n",
       "( 2 ,.,.) = \n",
       " -7.8380e-02 -1.8873e-05  2.3025e-02  ...  -5.0461e-02  3.4758e-02 -2.2173e-03\n",
       " -8.2901e-02 -1.4122e-03  2.2011e-02  ...  -5.0469e-02  3.3931e-02 -4.1304e-03\n",
       " -8.1879e-02 -1.0617e-04  1.9293e-02  ...  -4.9873e-02  3.6215e-02 -2.6390e-03\n",
       "                 ...                   ⋱                   ...                \n",
       " -7.9261e-02  3.5079e-04  2.1642e-02  ...  -4.6461e-02  3.2298e-02 -3.4604e-06\n",
       " -8.2305e-02  9.8978e-04  2.7061e-02  ...  -4.6891e-02  3.2148e-02 -8.1761e-04\n",
       " -7.7925e-02  1.9261e-03  2.0017e-02  ...  -4.7476e-02  3.3271e-02 -1.0635e-03\n",
       "... \n",
       "\n",
       "(39 ,.,.) = \n",
       " -8.5979e-02 -1.0985e-02  2.2340e-02  ...  -5.1334e-02  3.5485e-02 -5.7938e-03\n",
       " -9.3058e-02 -1.1964e-02  2.1388e-02  ...  -5.3125e-02  3.3577e-02 -6.1932e-03\n",
       " -9.1131e-02 -1.0218e-02  1.9166e-02  ...  -4.9024e-02  3.6007e-02 -6.6075e-03\n",
       "                 ...                   ⋱                   ...                \n",
       " -8.7761e-02 -1.0561e-02  1.9593e-02  ...  -4.5817e-02  3.2455e-02 -3.7021e-03\n",
       " -9.1577e-02 -9.5210e-03  2.9037e-02  ...  -4.3255e-02  3.3118e-02 -2.9850e-03\n",
       " -8.6317e-02 -1.0142e-02  1.6210e-02  ...  -4.7042e-02  3.3555e-02 -4.9808e-03\n",
       "\n",
       "(40 ,.,.) = \n",
       " -8.5935e-02 -1.0868e-02  2.1820e-02  ...  -5.1621e-02  3.5472e-02 -5.4075e-03\n",
       " -9.2987e-02 -1.1849e-02  2.1327e-02  ...  -5.3208e-02  3.3510e-02 -6.1108e-03\n",
       " -9.1031e-02 -1.0108e-02  1.9172e-02  ...  -4.9004e-02  3.5634e-02 -6.6377e-03\n",
       "                 ...                   ⋱                   ...                \n",
       " -8.8056e-02 -1.0486e-02  1.9188e-02  ...  -4.6361e-02  3.2473e-02 -4.0600e-03\n",
       " -9.2136e-02 -9.3793e-03  2.9051e-02  ...  -4.2946e-02  3.3265e-02 -3.1594e-03\n",
       " -8.6873e-02 -9.8633e-03  1.5959e-02  ...  -4.7105e-02  3.3843e-02 -4.8280e-03\n",
       "\n",
       "(41 ,.,.) = \n",
       " -8.6116e-02 -1.0834e-02  2.1333e-02  ...  -5.2230e-02  3.5706e-02 -5.6994e-03\n",
       " -9.2860e-02 -1.1898e-02  2.1607e-02  ...  -5.2978e-02  3.3425e-02 -6.2369e-03\n",
       " -9.0909e-02 -9.9664e-03  1.9195e-02  ...  -4.9085e-02  3.5320e-02 -6.6469e-03\n",
       "                 ...                   ⋱                   ...                \n",
       " -8.8261e-02 -1.0357e-02  1.8942e-02  ...  -4.6850e-02  3.2537e-02 -4.2474e-03\n",
       " -9.2365e-02 -9.3983e-03  2.9212e-02  ...  -4.2976e-02  3.3076e-02 -3.1738e-03\n",
       " -8.6958e-02 -9.7079e-03  1.5966e-02  ...  -4.7585e-02  3.3593e-02 -4.7916e-03\n",
       "[torch.cuda.FloatTensor of size 42x128x100 (GPU 0)]"
      ]
     },
     "execution_count": 38,
     "metadata": {},
     "output_type": "execute_result"
    }
   ],
   "source": [
    "# Test 1 batch \n",
    "lm.reset()   # Initializes hidden states\n",
    "rnn_enc, lin_dec = lm\n",
    "raw_outputs, outputs = rnn_enc(*[xs])\n",
    "lstm1_op, lstm2_op, lstm3_op = outputs\n",
    "lstm3_op"
   ]
  },
  {
   "cell_type": "code",
   "execution_count": 39,
   "metadata": {},
   "outputs": [
    {
     "data": {
      "text/plain": [
       "Variable containing:\n",
       " 3.4898e-03  8.3568e-03  7.3704e-03  ...   2.5602e-02  2.1766e-03  7.7881e-03\n",
       " 6.2540e-04  9.5010e-03  7.6554e-04  ...   2.2584e-02 -1.2874e-03  8.7497e-03\n",
       " 7.1270e-03  1.0459e-02  1.5013e-03  ...   1.7077e-02 -2.6456e-03  4.7618e-03\n",
       "                ...                   ⋱                   ...                \n",
       "-3.0950e-03  2.2168e-02 -1.1662e-03  ...   4.6552e-02 -2.1737e-03  1.7574e-02\n",
       " 2.9055e-03  1.6324e-02  9.7078e-03  ...   4.2519e-02  4.3329e-03  1.7457e-02\n",
       "-8.6456e-03  2.9341e-03  1.1887e-02  ...   3.2033e-02  6.2839e-03  1.0625e-02\n",
       "[torch.cuda.FloatTensor of size 5376x15343 (GPU 0)]"
      ]
     },
     "execution_count": 39,
     "metadata": {},
     "output_type": "execute_result"
    }
   ],
   "source": [
    "word_map, raw_outputs, outputs = lin_dec([raw_outputs, outputs])\n",
    "word_map"
   ]
  },
  {
   "cell_type": "code",
   "execution_count": 37,
   "metadata": {},
   "outputs": [
    {
     "data": {
      "application/vnd.jupyter.widget-view+json": {
       "model_id": "6a877b6446744a328dab1111a9514f34",
       "version_major": 2,
       "version_minor": 0
      },
      "text/plain": [
       "A Jupyter Widget"
      ]
     },
     "metadata": {},
     "output_type": "display_data"
    },
    {
     "name": "stdout",
     "output_type": "stream",
     "text": [
      " 92%|█████████▏| 1376/1496 [01:31<00:08, 14.97it/s, loss=19.1]"
     ]
    }
   ],
   "source": [
    "id_learner.lr_find()"
   ]
  },
  {
   "cell_type": "code",
   "execution_count": 38,
   "metadata": {},
   "outputs": [
    {
     "data": {
      "image/png": "[encoded data removed]",
      "text/plain": [
       "<matplotlib.figure.Figure at 0x7fb5116fca58>"
      ]
     },
     "metadata": {},
     "output_type": "display_data"
    }
   ],
   "source": [
    "id_learner.sched.plot()"
   ]
  },
  {
   "cell_type": "code",
   "execution_count": 40,
   "metadata": {},
   "outputs": [
    {
     "data": {
      "application/vnd.jupyter.widget-view+json": {
       "model_id": "98c0942775624b589d493bb7eacc1616",
       "version_major": 2,
       "version_minor": 0
      },
      "text/plain": [
       "A Jupyter Widget"
      ]
     },
     "metadata": {},
     "output_type": "display_data"
    },
    {
     "name": "stdout",
     "output_type": "stream",
     "text": [
      "[ 0.       4.59451  4.49359]                                  \n",
      "[ 1.       4.04386  3.92221]                                  \n",
      "[ 2.       3.8661   3.72083]                                  \n",
      "[ 3.       3.77331  3.65912]                                  \n",
      "\n"
     ]
    }
   ],
   "source": [
    "id_learner.fit(2.0e-2, 2, wds=1e-6, cycle_len=1, cycle_mult=3)"
   ]
  },
  {
   "cell_type": "code",
   "execution_count": 40,
   "metadata": {
    "collapsed": true
   },
   "outputs": [],
   "source": [
    "#del(id_learner)"
   ]
  },
  {
   "cell_type": "code",
   "execution_count": 41,
   "metadata": {
    "collapsed": true
   },
   "outputs": [],
   "source": [
    "id_learner.save_encoder(f'adam1_enc_{tag}')"
   ]
  },
  {
   "cell_type": "markdown",
   "metadata": {},
   "source": [
    "# Process DataFrames and Create Data Loaders"
   ]
  },
  {
   "cell_type": "code",
   "execution_count": 257,
   "metadata": {
    "collapsed": true
   },
   "outputs": [],
   "source": [
    "def split_into_columns(x, split_by=\"/\", ncol=4, fillna='NA'):\n",
    "    l = str(x).split(split_by)\n",
    "    return pd.Series((l+fillna*(ncol-len(l)))[:ncol])"
   ]
  },
  {
   "cell_type": "code",
   "execution_count": 42,
   "metadata": {},
   "outputs": [
    {
     "data": {
      "text/html": [
       "<div>\n",
       "<style>\n",
       "    .dataframe thead tr:only-child th {\n",
       "        text-align: right;\n",
       "    }\n",
       "\n",
       "    .dataframe thead th {\n",
       "        text-align: left;\n",
       "    }\n",
       "\n",
       "    .dataframe tbody tr th {\n",
       "        vertical-align: top;\n",
       "    }\n",
       "</style>\n",
       "<table border=\"1\" class=\"dataframe\">\n",
       "  <thead>\n",
       "    <tr style=\"text-align: right;\">\n",
       "      <th></th>\n",
       "      <th>test_id</th>\n",
       "      <th>name</th>\n",
       "      <th>item_condition_id</th>\n",
       "      <th>category_name</th>\n",
       "      <th>brand_name</th>\n",
       "      <th>shipping</th>\n",
       "      <th>item_description</th>\n",
       "    </tr>\n",
       "  </thead>\n",
       "  <tbody>\n",
       "    <tr>\n",
       "      <th>0</th>\n",
       "      <td>0</td>\n",
       "      <td>Breast cancer \"I fight like a girl\" ring</td>\n",
       "      <td>1</td>\n",
       "      <td>Women/Jewelry/Rings</td>\n",
       "      <td>NaN</td>\n",
       "      <td>1</td>\n",
       "      <td>&lt;category&gt; Women Jewelry Rings &lt;name&gt; Breast c...</td>\n",
       "    </tr>\n",
       "    <tr>\n",
       "      <th>1</th>\n",
       "      <td>1</td>\n",
       "      <td>25 pcs NEW 7.5\"x12\" Kraft Bubble Mailers</td>\n",
       "      <td>1</td>\n",
       "      <td>Other/Office supplies/Shipping Supplies</td>\n",
       "      <td>NaN</td>\n",
       "      <td>1</td>\n",
       "      <td>&lt;category&gt; Other Officesupplies ShippingSuppli...</td>\n",
       "    </tr>\n",
       "  </tbody>\n",
       "</table>\n",
       "</div>"
      ],
      "text/plain": [
       "   test_id                                      name  item_condition_id  \\\n",
       "0        0  Breast cancer \"I fight like a girl\" ring                  1   \n",
       "1        1  25 pcs NEW 7.5\"x12\" Kraft Bubble Mailers                  1   \n",
       "\n",
       "                             category_name brand_name  shipping  \\\n",
       "0                      Women/Jewelry/Rings        NaN         1   \n",
       "1  Other/Office supplies/Shipping Supplies        NaN         1   \n",
       "\n",
       "                                    item_description  \n",
       "0  <category> Women Jewelry Rings <name> Breast c...  \n",
       "1  <category> Other Officesupplies ShippingSuppli...  "
      ]
     },
     "execution_count": 42,
     "metadata": {},
     "output_type": "execute_result"
    }
   ],
   "source": [
    "test_df.head(2)"
   ]
  },
  {
   "cell_type": "code",
   "execution_count": 43,
   "metadata": {
    "collapsed": true
   },
   "outputs": [],
   "source": [
    "text_name = 'item_description'\n",
    "text_vars = [text_name]\n",
    "cat_vars = ['item_condition_id', 'category_name', 'brand_name', 'shipping']\n",
    "contin_vars = []\n",
    "dep = 'price'\n",
    "cols = text_vars+cat_vars+contin_vars+[dep]"
   ]
  },
  {
   "cell_type": "code",
   "execution_count": 44,
   "metadata": {
    "collapsed": true
   },
   "outputs": [],
   "source": [
    "train_df2 = train[text_vars+cat_vars+contin_vars+[dep]].copy()\n",
    "test_df[dep] = 0.0\n",
    "test_df2 = test_df[text_vars+cat_vars+contin_vars+[dep, 'test_id']].copy()"
   ]
  },
  {
   "cell_type": "markdown",
   "metadata": {},
   "source": [
    "Before we call torch text to create DataLoaders we need to convert categorical data to numerical data. "
   ]
  },
  {
   "cell_type": "code",
   "execution_count": 45,
   "metadata": {
    "collapsed": true
   },
   "outputs": [],
   "source": [
    "# make train/test categories\n",
    "for v in cat_vars: train_df2[v] = train_df2[v].astype('category').cat.as_ordered()\n",
    "apply_cats(test_df2, train_df2)"
   ]
  },
  {
   "cell_type": "code",
   "execution_count": 46,
   "metadata": {
    "collapsed": true
   },
   "outputs": [],
   "source": [
    "cat_sz = [(c, len(train_df2[c].cat.categories)+1) for c in cat_vars]\n",
    "cat_emb_szs = [(c, min(50, (c+1)//2)) for _,c in cat_sz]"
   ]
  },
  {
   "cell_type": "code",
   "execution_count": 47,
   "metadata": {
    "collapsed": true
   },
   "outputs": [],
   "source": [
    "# make float continuous variables if any\n",
    "for v in contin_vars+[dep]:\n",
    "    train_df2[v] = train_df2[v].astype('float32')\n",
    "    test_df2[v] = test_df2[v].astype('float32')"
   ]
  },
  {
   "cell_type": "code",
   "execution_count": 48,
   "metadata": {
    "collapsed": true
   },
   "outputs": [],
   "source": [
    "# numericalize all but the text field then add it back at the end\n",
    "# pd.get_dummies creates expanded 1 hot encoding then collapsed\n",
    "df, y, nas = proc_df(train_df2, dep, skip_flds=text_vars, do_scale=False)\n",
    "df[text_vars] = train_df2[text_vars].astype(str)\n",
    "df[dep] = np.log(y+1)"
   ]
  },
  {
   "cell_type": "code",
   "execution_count": 49,
   "metadata": {},
   "outputs": [
    {
     "data": {
      "text/plain": [
       "item_condition_id       int8\n",
       "category_name          int16\n",
       "brand_name             int16\n",
       "shipping                int8\n",
       "item_description      object\n",
       "price                float32\n",
       "dtype: object"
      ]
     },
     "execution_count": 49,
     "metadata": {},
     "output_type": "execute_result"
    }
   ],
   "source": [
    "df.dtypes"
   ]
  },
  {
   "cell_type": "code",
   "execution_count": 50,
   "metadata": {
    "collapsed": true
   },
   "outputs": [],
   "source": [
    "df_test, _, nas = proc_df(test_df2, dep, do_scale=False, \n",
    "                          skip_flds=text_vars + ['test_id'], na_dict=nas)\n",
    "df_test[text_vars] = test_df2[text_vars].astype(str)\n",
    "df_test[dep] = 0.0"
   ]
  },
  {
   "cell_type": "code",
   "execution_count": 51,
   "metadata": {},
   "outputs": [
    {
     "data": {
      "text/html": [
       "<div>\n",
       "<style>\n",
       "    .dataframe thead tr:only-child th {\n",
       "        text-align: right;\n",
       "    }\n",
       "\n",
       "    .dataframe thead th {\n",
       "        text-align: left;\n",
       "    }\n",
       "\n",
       "    .dataframe tbody tr th {\n",
       "        vertical-align: top;\n",
       "    }\n",
       "</style>\n",
       "<table border=\"1\" class=\"dataframe\">\n",
       "  <thead>\n",
       "    <tr style=\"text-align: right;\">\n",
       "      <th></th>\n",
       "      <th>item_condition_id</th>\n",
       "      <th>category_name</th>\n",
       "      <th>brand_name</th>\n",
       "      <th>shipping</th>\n",
       "      <th>item_description</th>\n",
       "      <th>price</th>\n",
       "    </tr>\n",
       "  </thead>\n",
       "  <tbody>\n",
       "    <tr>\n",
       "      <th>0</th>\n",
       "      <td>3</td>\n",
       "      <td>809</td>\n",
       "      <td>0</td>\n",
       "      <td>2</td>\n",
       "      <td>&lt;category&gt; Men Tops T-shirts &lt;name&gt; MLB Cincin...</td>\n",
       "      <td>2.397895</td>\n",
       "    </tr>\n",
       "    <tr>\n",
       "      <th>1</th>\n",
       "      <td>3</td>\n",
       "      <td>87</td>\n",
       "      <td>3558</td>\n",
       "      <td>1</td>\n",
       "      <td>&lt;category&gt; Electronics Computers&amp;Tablets Compo...</td>\n",
       "      <td>3.970292</td>\n",
       "    </tr>\n",
       "  </tbody>\n",
       "</table>\n",
       "</div>"
      ],
      "text/plain": [
       "   item_condition_id  category_name  brand_name  shipping  \\\n",
       "0                  3            809           0         2   \n",
       "1                  3             87        3558         1   \n",
       "\n",
       "                                    item_description     price  \n",
       "0  <category> Men Tops T-shirts <name> MLB Cincin...  2.397895  \n",
       "1  <category> Electronics Computers&Tablets Compo...  3.970292  "
      ]
     },
     "metadata": {},
     "output_type": "display_data"
    },
    {
     "data": {
      "text/html": [
       "<div>\n",
       "<style>\n",
       "    .dataframe thead tr:only-child th {\n",
       "        text-align: right;\n",
       "    }\n",
       "\n",
       "    .dataframe thead th {\n",
       "        text-align: left;\n",
       "    }\n",
       "\n",
       "    .dataframe tbody tr th {\n",
       "        vertical-align: top;\n",
       "    }\n",
       "</style>\n",
       "<table border=\"1\" class=\"dataframe\">\n",
       "  <thead>\n",
       "    <tr style=\"text-align: right;\">\n",
       "      <th></th>\n",
       "      <th>item_condition_id</th>\n",
       "      <th>category_name</th>\n",
       "      <th>brand_name</th>\n",
       "      <th>shipping</th>\n",
       "      <th>item_description</th>\n",
       "      <th>price</th>\n",
       "    </tr>\n",
       "  </thead>\n",
       "  <tbody>\n",
       "    <tr>\n",
       "      <th>0</th>\n",
       "      <td>1</td>\n",
       "      <td>1183</td>\n",
       "      <td>0</td>\n",
       "      <td>2</td>\n",
       "      <td>&lt;category&gt; Women Jewelry Rings &lt;name&gt; Breast c...</td>\n",
       "      <td>0.0</td>\n",
       "    </tr>\n",
       "    <tr>\n",
       "      <th>1</th>\n",
       "      <td>1</td>\n",
       "      <td>878</td>\n",
       "      <td>0</td>\n",
       "      <td>2</td>\n",
       "      <td>&lt;category&gt; Other Officesupplies ShippingSuppli...</td>\n",
       "      <td>0.0</td>\n",
       "    </tr>\n",
       "  </tbody>\n",
       "</table>\n",
       "</div>"
      ],
      "text/plain": [
       "   item_condition_id  category_name  brand_name  shipping  \\\n",
       "0                  1           1183           0         2   \n",
       "1                  1            878           0         2   \n",
       "\n",
       "                                    item_description  price  \n",
       "0  <category> Women Jewelry Rings <name> Breast c...    0.0  \n",
       "1  <category> Other Officesupplies ShippingSuppli...    0.0  "
      ]
     },
     "execution_count": 51,
     "metadata": {},
     "output_type": "execute_result"
    }
   ],
   "source": [
    "display(df.head(2))\n",
    "df_test.head(2)"
   ]
  },
  {
   "cell_type": "markdown",
   "metadata": {},
   "source": [
    "#### call torch.text to process the text in text field and create data splits"
   ]
  },
  {
   "cell_type": "code",
   "execution_count": 103,
   "metadata": {},
   "outputs": [
    {
     "data": {
      "text/plain": [
       "['<category>',\n",
       " 'men',\n",
       " 'tops',\n",
       " 't',\n",
       " '-',\n",
       " 'shirts',\n",
       " '<name>',\n",
       " 'mlb',\n",
       " 'cincinnati',\n",
       " 'reds',\n",
       " 't',\n",
       " 'shirt',\n",
       " 'size',\n",
       " 'xl',\n",
       " '<description>',\n",
       " 'no',\n",
       " 'description',\n",
       " 'yet']"
      ]
     },
     "execution_count": 103,
     "metadata": {},
     "output_type": "execute_result"
    }
   ],
   "source": [
    "ITEM_DESCRIPTION = pickle.load(open(f'{PATH}models/ITEM_DESCRIPTION_{tag}.pkl','rb'))\n",
    "# test my_spacy_token\n",
    "my_spacy_tok(df['item_description'].iloc[0])"
   ]
  },
  {
   "cell_type": "code",
   "execution_count": 104,
   "metadata": {
    "collapsed": true
   },
   "outputs": [],
   "source": [
    "DATA_FIELDS = {'item_description': ITEM_DESCRIPTION}\n",
    "for v in cat_vars: \n",
    "    DATA_FIELDS[v] = data.Field(sequential=False, use_vocab=False)\n",
    "DATA_FIELDS[dep] = data.Field(sequential=False, tensor_type=torch.FloatTensor, use_vocab=False)"
   ]
  },
  {
   "cell_type": "code",
   "execution_count": 105,
   "metadata": {},
   "outputs": [
    {
     "data": {
      "text/plain": [
       "963648"
      ]
     },
     "execution_count": 105,
     "metadata": {},
     "output_type": "execute_result"
    }
   ],
   "source": [
    "n=2000000\n",
    "dfs = {'test': df_test.iloc[:min(n, len(df_test))]}\n",
    "(dfs['val'], dfs['train']),  = split_by_idx(val_idx, df)\n",
    "dfs['val'] = dfs['val'].iloc[:min(n, len(dfs['val']))]\n",
    "dfs['train'] = dfs['train'].iloc[:min(n, len(dfs['train']))]\n",
    "\n",
    "len(dfs['train'])"
   ]
  },
  {
   "cell_type": "code",
   "execution_count": 106,
   "metadata": {
    "collapsed": true
   },
   "outputs": [],
   "source": [
    "min_freq=10"
   ]
  },
  {
   "cell_type": "code",
   "execution_count": 107,
   "metadata": {},
   "outputs": [
    {
     "name": "stdout",
     "output_type": "stream",
     "text": [
      "train tokenize : 282.36514472961426\n",
      "val tokenize : 145.18840861320496\n",
      "test tokenize : 305.5603578090668\n"
     ]
    }
   ],
   "source": [
    "# tokenize and cast to object type prior to creating examples to save time\n",
    "dtypes = {}\n",
    "for split_type in ['train', 'val', 'test']:\n",
    "    t = time_check()\n",
    "    tbl = dfs[split_type]\n",
    "    tbl.loc[:,text_name] = tbl[text_name].apply(DATA_FIELDS[text_name].tokenize)\n",
    "    t.showtime(split_type+\" tokenize :\")"
   ]
  },
  {
   "cell_type": "code",
   "execution_count": 61,
   "metadata": {
    "collapsed": true
   },
   "outputs": [],
   "source": [
    "??data.Example"
   ]
  },
  {
   "cell_type": "code",
   "execution_count": 99,
   "metadata": {},
   "outputs": [
    {
     "data": {
      "text/plain": [
       "['<category>',\n",
       " 'men',\n",
       " 'tops',\n",
       " 't',\n",
       " '-',\n",
       " 'shirts',\n",
       " '<name>',\n",
       " 'mlb',\n",
       " 'cincinnati',\n",
       " 'reds',\n",
       " 't',\n",
       " 'shirt',\n",
       " 'size',\n",
       " 'xl',\n",
       " '<description>',\n",
       " 'no',\n",
       " 'description',\n",
       " 'yet']"
      ]
     },
     "execution_count": 99,
     "metadata": {},
     "output_type": "execute_result"
    }
   ],
   "source": [
    "dfs['train']['item_description'].iloc[0]"
   ]
  },
  {
   "cell_type": "code",
   "execution_count": 108,
   "metadata": {
    "collapsed": true
   },
   "outputs": [],
   "source": [
    "class MixedTextDataset(torchtext.data.Dataset):\n",
    "    def __init__(self, split_type, text_name, data_fields, dfs, **kwargs):\n",
    "        #type(self).text_name = text_name\n",
    "        fields = list(data_fields.items())\n",
    "        cols = [fld[0] for fld in fields]\n",
    "        #cols.remove(text_name)\n",
    "        df = dfs[split_type]\n",
    "        \n",
    "        t = time_check()\n",
    "        # populating examples using fromList is slow \n",
    "        #examples = list(df.apply(lambda x: data.Example.fromlist(list(x[cols]), fields), axis=1))\n",
    "        n = len(df) \n",
    "        examples = []\n",
    "        for i in range(n):\n",
    "            ex = data.Example()\n",
    "            for col in cols:\n",
    "                setattr(ex, col, df[col].iloc[i])\n",
    "                #print(col, type(getattr(examples[i], col)))\n",
    "            examples.append(ex)\n",
    "        \n",
    "        t.showtime(split_type+\" creation of examples \"+str(n)+\" :\")\n",
    "        super().__init__(examples, fields, **kwargs)\n",
    "        t.showtime(split_type+\" dataset done \"+str(n)+\" :\")\n",
    "\n",
    "    @staticmethod\n",
    "    def sort_key(ex): return len(ex.item_description)\n",
    "    \n",
    "    @classmethod\n",
    "    def splits(cls, data_fields, train, val, test, dfs, **kwargs):\n",
    "        # set path to null ('') as we are dealing with dataframes\n",
    "        return super().splits('', data_fields=data_fields,  \n",
    "                              train=train, validation=val, test=test, dfs=dfs, **kwargs)"
   ]
  },
  {
   "cell_type": "code",
   "execution_count": 109,
   "metadata": {},
   "outputs": [
    {
     "name": "stdout",
     "output_type": "stream",
     "text": [
      "train creation of examples 963648 : 54.90806579589844\n",
      "train dataset done 963648 : 0.0006690025329589844\n",
      "val creation of examples 518887 : 32.61764216423035\n",
      "val dataset done 518887 : 0.0015587806701660156\n",
      "test creation of examples 693359 : 44.055135011672974\n",
      "test dataset done 693359 : 0.0005402565002441406\n"
     ]
    }
   ],
   "source": [
    "# No GPU, so optimize\n",
    "splits = MixedTextDataset.splits(DATA_FIELDS, text_name='item_description', train='train', \n",
    "                                     val='val', test='test', dfs=dfs)"
   ]
  },
  {
   "cell_type": "code",
   "execution_count": 110,
   "metadata": {},
   "outputs": [
    {
     "name": "stdout",
     "output_type": "stream",
     "text": [
      "item_condition_id  :  <class 'numpy.int8'>  :  3\n",
      "category_name  :  <class 'numpy.int16'>  :  809\n",
      "brand_name  :  <class 'numpy.int16'>  :  0\n",
      "shipping  :  <class 'numpy.int8'>  :  2\n",
      "item_description  :  <class 'list'>  :  ['<category>', 'men', 'tops', 't', '-', 'shirts', '<name>', 'mlb', 'cincinnati', 'reds', 't', 'shirt', 'size', 'xl', '<description>', 'no', 'description', 'yet']\n",
      "price  :  <class 'numpy.float32'>  :  2.3979\n",
      "item_condition_id  :  <class 'numpy.int8'>  :  3\n",
      "category_name  :  <class 'numpy.int16'>  :  87\n",
      "brand_name  :  <class 'numpy.int16'>  :  3558\n",
      "shipping  :  <class 'numpy.int8'>  :  1\n",
      "item_description  :  <class 'list'>  :  ['<category>', 'electronics', 'computers&tablets', 'components&parts', '<name>', 'razer', 'blackwidow', 'chroma', 'keyboard', '<description>', 'this', 'keyboard', 'is', 'in', 'great', 'condition', 'and', 'works', 'like', 'it', 'came', 'out', 'of', 'the', 'box', '.', 'all', 'of', 'the', 'ports', 'are', 'tested', 'and', 'work', 'perfectly', '.', 'the', 'lights', 'are', 'customizable', 'via', 'the', 'razer', 'synapse', 'app', 'on', 'your', 'pc', '.']\n",
      "price  :  <class 'numpy.float32'>  :  3.97029\n",
      "item_condition_id  :  <class 'numpy.int8'>  :  1\n",
      "category_name  :  <class 'numpy.int16'>  :  1255\n",
      "brand_name  :  <class 'numpy.int16'>  :  4181\n",
      "shipping  :  <class 'numpy.int8'>  :  2\n",
      "item_description  :  <class 'list'>  :  ['<category>', 'women', 'tops&blouses', 'blouse', '<name>', 'ava', '-', 'viv', 'blouse', '<description>', 'adorable', 'top', 'with', 'a', 'hint', 'of', 'lace', 'and', 'a', 'key', 'hole', 'in', 'the', 'back', '!', 'the', 'pale', 'pink', 'is', 'a', '1', 'x', ',', 'and', 'i', 'also', 'have', 'a', '3', 'x', 'available', 'in', 'white', '!']\n",
      "price  :  <class 'numpy.float32'>  :  2.3979\n",
      "item_condition_id  :  <class 'numpy.int8'>  :  3\n",
      "category_name  :  <class 'numpy.int16'>  :  1194\n",
      "brand_name  :  <class 'numpy.int16'>  :  0\n",
      "shipping  :  <class 'numpy.int8'>  :  1\n",
      "item_description  :  <class 'list'>  :  ['<category>', 'women', 'other', 'other', '<name>', 'bundled', 'items', 'requested', 'for', 'ruie', '<description>', 'banana', 'republic', 'bottoms', ',', 'candies', 'skirt', 'with', 'matching', 'blazer', ',', 'amy', 'byers', 'suit', ',', 'loft', 'bottoms', 'and', 'cami', 'top', '.']\n",
      "price  :  <class 'numpy.float32'>  :  4.09434\n",
      "item_condition_id  :  <class 'numpy.int8'>  :  3\n",
      "category_name  :  <class 'numpy.int16'>  :  1254\n",
      "brand_name  :  <class 'numpy.int16'>  :  80\n",
      "shipping  :  <class 'numpy.int8'>  :  1\n",
      "item_description  :  <class 'list'>  :  ['<category>', 'women', 'swimwear', 'two', '-', 'piece', '<name>', 'acacia', 'pacific', 'tides', 'santorini', 'top', '<description>', 'size', 'small', 'but', 'straps', 'slightly', 'shortened', 'to', 'fit', 'xs', ',', 'besides', 'that', ',', 'perfect', 'condition']\n",
      "price  :  <class 'numpy.float32'>  :  4.17439\n"
     ]
    }
   ],
   "source": [
    "# Fields contain vocab, examples contain data \n",
    "for i in range(5):\n",
    "    for var in df.columns:\n",
    "        val = getattr(splits[0].examples[i], var)\n",
    "        print(var, \" : \", type(val), \" : \", val)"
   ]
  },
  {
   "cell_type": "code",
   "execution_count": 122,
   "metadata": {
    "collapsed": true
   },
   "outputs": [],
   "source": [
    "class MixedTextDataLoader():\n",
    "    def __init__(self, src, x_fld, c_flds, y_fld):\n",
    "        self.src,self.x_fld,self.c_flds, self.y_fld = src,x_fld,c_flds, y_fld\n",
    "\n",
    "    def __len__(self): return len(self.src)-1\n",
    "\n",
    "    def __iter__(self):\n",
    "        it = iter(self.src)\n",
    "        for i in range(len(self)):\n",
    "            b = next(it)\n",
    "            # work-around: core.py does not handle list of lists for V and VV\n",
    "            ys = getattr(b, self.y_fld)\n",
    "            bs_it = len(ys)\n",
    "            cat_batch = torch.cat([getattr(b, f).view(bs_it, 1) for f in self.c_flds], 1)\n",
    "            yield getattr(b, self.x_fld), cat_batch, ys\n",
    "\n",
    "\n",
    "class MixedTextModel(BasicModel):\n",
    "    def get_layer_groups(self):\n",
    "        # defines how the differential learning rates would be applied to model groups\n",
    "        m=self.model\n",
    "        m_enc = m.rnn_encoder\n",
    "        return [m_enc.encoder, *zip(m_enc.rnns, m_enc.dropouths), (children(m.lins)+children(m.bns)+[m.outp])]\n",
    "\n",
    "class MixedTextData(ModelData):\n",
    "    def create_td(self, it): return TextDataLoader(it, self.text_fld, self.label_fld)\n",
    "\n",
    "    @classmethod\n",
    "    def from_splits(cls, path, splits, bs, text_name='text', target_name='label', cat_names=['category']):\n",
    "        text_fld = splits[0].fields[text_name]\n",
    "        target_fld = splits[0].fields[target_name]\n",
    "        if hasattr(target_fld, 'build_vocab') and target_fld.build_vocab == True: target_fld.build_vocab(splits[0])\n",
    "        iters = torchtext.data.BucketIterator.splits(splits, batch_size=bs)\n",
    "        trn_iter,val_iter,test_iter = iters[0],iters[1],None\n",
    "        test_dl = None\n",
    "        if len(iters) == 3:\n",
    "            test_iter = iters[2]\n",
    "            test_dl = MixedTextDataLoader(test_iter, text_name, cat_names, target_name)\n",
    "        trn_dl = MixedTextDataLoader(trn_iter, text_name, cat_names, target_name)\n",
    "        val_dl = MixedTextDataLoader(val_iter, text_name, cat_names, target_name)\n",
    "        obj = cls.from_dls(path, trn_dl, val_dl, test_dl)\n",
    "        obj.bs = bs\n",
    "        obj.pad_idx = text_fld.vocab.stoi[text_fld.pad_token]\n",
    "        obj.nt = len(text_fld.vocab)\n",
    "        target_len = (target_fld.vocab if hasattr(target_fld, 'vocab')\n",
    "                        else getattr(splits[0][0], target_name))\n",
    "        try: \n",
    "            obj.c = len(target_len)\n",
    "        except (TypeError):\n",
    "            obj.c = None\n",
    "            \n",
    "        return obj\n",
    "\n",
    "\n",
    "    def get_learner(self, opt_fn, text_emb_sz, enc_n_hid, enc_n_layers, enc_max_seq, enc_bptt, \n",
    "                    cat_emb_szs, cat_emb_drop, fc_layers, fc_drops, out_sz, y_range=None, use_bn=False, \n",
    "                    dropouth=0.3, dropouti=0.5, dropoute=0.1, wdrop=0.5, **kwargs):\n",
    "        \n",
    "        #rnn_enc = MultiBatchRNN(enc_bptt, enc_max_seq, self.nt, text_emb_sz, enc_n_hid, \n",
    "        #                        enc_n_layers, pad_token=self.pad_idx, bidir=False, dropouth=dropouth, \n",
    "        #                        dropouti=dropouti, dropoute=dropoute, wdrop=wdrop)\n",
    "        \n",
    "        rnn_enc = MultiBatchRNN(enc_max_seq, enc_bptt, self.bs, self.nt, text_emb_sz, enc_n_hid, \n",
    "                                enc_n_layers, pad_token=self.pad_idx, bidir=False, dropouth=dropouth, \n",
    "                                dropouti=dropouti, dropoute=dropoute, wdrop=wdrop)\n",
    "        \n",
    "        m = MixedTextInputModel(cat_emb_szs, 0, cat_emb_drop, out_sz, fc_layers, fc_drops, y_range, use_bn, text_emb_sz,\n",
    "                            rnn_enc)\n",
    "        \n",
    "        model = MixedTextModel(to_gpu(m))\n",
    "        return MixedTextLearner(self, model, opt_fn=opt_fn)"
   ]
  },
  {
   "cell_type": "code",
   "execution_count": 123,
   "metadata": {
    "collapsed": true
   },
   "outputs": [],
   "source": [
    "class MixedTextInputModel(nn.Module):\n",
    "    def __init__(self, emb_szs, n_cont, emb_drop, out_sz, szs, drops,\n",
    "                 y_range=None, use_bn=False, text_emb_sz=0, rnn_encoder=None):\n",
    "        super().__init__()\n",
    "        \n",
    "        self.embs = nn.ModuleList([nn.Embedding(c, s) for c,s in emb_szs])\n",
    "        for emb in self.embs: emb_init(emb)\n",
    "        n_emb = sum(e.embedding_dim for e in self.embs)\n",
    "        self.n_emb, self.n_cont=n_emb, n_cont\n",
    "        \n",
    "        self.text_emb_sz, self.rnn_encoder = text_emb_sz, rnn_encoder\n",
    "            \n",
    "        szs = [n_emb+n_cont+3*text_emb_sz] + szs\n",
    "        self.lins = nn.ModuleList([\n",
    "            nn.Linear(szs[i], szs[i+1]) for i in range(len(szs)-1)])\n",
    "        self.bns = nn.ModuleList([\n",
    "            nn.BatchNorm1d(sz) for sz in szs[1:]])\n",
    "        for o in self.lins: kaiming_normal(o.weight.data)\n",
    "        self.outp = nn.Linear(szs[-1], out_sz)\n",
    "        kaiming_normal(self.outp.weight.data)\n",
    "\n",
    "        self.emb_drop = nn.Dropout(emb_drop)\n",
    "        self.drops = nn.ModuleList([nn.Dropout(drop) for drop in drops])\n",
    "        self.bn = nn.BatchNorm1d(n_cont)\n",
    "        self.use_bn,self.y_range = use_bn,y_range\n",
    "\n",
    "    def pool(self, x, bs, is_max):\n",
    "        f = F.adaptive_max_pool1d if is_max else F.adaptive_avg_pool1d\n",
    "        return f(x.permute(1,2,0), (1,)).view(bs,-1)\n",
    "        \n",
    "    def forward(self, x_text, x_cat, x_cont=None):\n",
    "\n",
    "        if self.n_emb != 0:\n",
    "            x = [e(x_cat[:,i]) for i,e in enumerate(self.embs)]\n",
    "            x = torch.cat(x, 1)\n",
    "            x = self.emb_drop(x)\n",
    "        if self.n_cont != 0:\n",
    "            x2 = self.bn(x_cont)\n",
    "            x = torch.cat([x, x2], 1) if self.n_emb != 0 else x2\n",
    "        \n",
    "        if self.rnn_encoder:\n",
    "            enc_raw_outputs, enc_outputs = self.rnn_encoder(x_text)\n",
    "            enc_last_layer = enc_outputs[-1]\n",
    "            sl,bs,_ = enc_last_layer.size()\n",
    "            avgpool = self.pool(enc_last_layer, bs, False)\n",
    "            mxpool = self.pool(enc_last_layer, bs, True)\n",
    "            x3 = torch.cat([enc_last_layer[-1], mxpool, avgpool], 1)\n",
    "            x = torch.cat([x, x3], 1)\n",
    "            \n",
    "        for l,d,b in zip(self.lins, self.drops, self.bns):\n",
    "            x = F.relu(l(x))\n",
    "            if self.use_bn: x = b(x)\n",
    "            x = d(x)\n",
    "        x = self.outp(x)\n",
    "        if self.y_range:\n",
    "            x = F.sigmoid(x)\n",
    "            x = x*(self.y_range[1] - self.y_range[0])\n",
    "            x = x+self.y_range[0]\n",
    "        \n",
    "        # encoder outputs are needed by the regularization function\n",
    "        return x, enc_raw_outputs, enc_outputs\n",
    "\n",
    "    def reset(self):\n",
    "        for c in self.children():\n",
    "            if hasattr(c, 'reset'): c.reset()\n",
    "    \n",
    "class StructuredLearner(Learner):\n",
    "    def __init__(self, data, models, **kwargs):\n",
    "        super().__init__(data, models, **kwargs)\n",
    "        self.crit = F.mse_loss\n",
    "        \n",
    "class MixedTextLearner(Learner):\n",
    "    def __init__(self, data, models, **kwargs):\n",
    "        super().__init__(data, models, **kwargs)\n",
    "        self.crit = F.mse_loss\n",
    "        # self.crit = F.cross_entropy\n",
    "\n",
    "    def save_encoder(self, name): save_model(self.model.rnn_encoder, self.get_model_path(name))\n",
    "    def load_encoder(self, name): load_model(self.model.rnn_encoder, self.get_model_path(name))"
   ]
  },
  {
   "cell_type": "code",
   "execution_count": 150,
   "metadata": {
    "collapsed": true
   },
   "outputs": [],
   "source": [
    "bs = 256"
   ]
  },
  {
   "cell_type": "code",
   "execution_count": 151,
   "metadata": {
    "collapsed": true
   },
   "outputs": [],
   "source": [
    "md = MixedTextData.from_splits(PATH, splits, bs, text_name=text_vars[0], target_name=dep, cat_names=cat_vars)"
   ]
  },
  {
   "cell_type": "code",
   "execution_count": 152,
   "metadata": {
    "collapsed": true
   },
   "outputs": [],
   "source": [
    "*xbs, yb = next(iter(md.trn_dl))"
   ]
  },
  {
   "cell_type": "code",
   "execution_count": 153,
   "metadata": {
    "scrolled": true
   },
   "outputs": [
    {
     "data": {
      "text/html": [
       "<div>\n",
       "<style>\n",
       "    .dataframe thead tr:only-child th {\n",
       "        text-align: right;\n",
       "    }\n",
       "\n",
       "    .dataframe thead th {\n",
       "        text-align: left;\n",
       "    }\n",
       "\n",
       "    .dataframe tbody tr th {\n",
       "        vertical-align: top;\n",
       "    }\n",
       "</style>\n",
       "<table border=\"1\" class=\"dataframe\">\n",
       "  <thead>\n",
       "    <tr style=\"text-align: right;\">\n",
       "      <th></th>\n",
       "      <th>0</th>\n",
       "      <th>1</th>\n",
       "      <th>2</th>\n",
       "      <th>3</th>\n",
       "      <th>4</th>\n",
       "      <th>5</th>\n",
       "      <th>6</th>\n",
       "      <th>7</th>\n",
       "      <th>8</th>\n",
       "      <th>9</th>\n",
       "      <th>...</th>\n",
       "      <th>246</th>\n",
       "      <th>247</th>\n",
       "      <th>248</th>\n",
       "      <th>249</th>\n",
       "      <th>250</th>\n",
       "      <th>251</th>\n",
       "      <th>252</th>\n",
       "      <th>253</th>\n",
       "      <th>254</th>\n",
       "      <th>255</th>\n",
       "    </tr>\n",
       "  </thead>\n",
       "  <tbody>\n",
       "    <tr>\n",
       "      <th>0</th>\n",
       "      <td>&lt;category&gt;</td>\n",
       "      <td>&lt;category&gt;</td>\n",
       "      <td>&lt;category&gt;</td>\n",
       "      <td>&lt;category&gt;</td>\n",
       "      <td>&lt;category&gt;</td>\n",
       "      <td>&lt;category&gt;</td>\n",
       "      <td>&lt;category&gt;</td>\n",
       "      <td>&lt;category&gt;</td>\n",
       "      <td>&lt;category&gt;</td>\n",
       "      <td>&lt;category&gt;</td>\n",
       "      <td>...</td>\n",
       "      <td>&lt;category&gt;</td>\n",
       "      <td>&lt;category&gt;</td>\n",
       "      <td>&lt;category&gt;</td>\n",
       "      <td>&lt;category&gt;</td>\n",
       "      <td>&lt;category&gt;</td>\n",
       "      <td>&lt;category&gt;</td>\n",
       "      <td>&lt;category&gt;</td>\n",
       "      <td>&lt;category&gt;</td>\n",
       "      <td>&lt;category&gt;</td>\n",
       "      <td>&lt;category&gt;</td>\n",
       "    </tr>\n",
       "    <tr>\n",
       "      <th>1</th>\n",
       "      <td>women</td>\n",
       "      <td>women</td>\n",
       "      <td>women</td>\n",
       "      <td>women</td>\n",
       "      <td>handmade</td>\n",
       "      <td>beauty</td>\n",
       "      <td>women</td>\n",
       "      <td>women</td>\n",
       "      <td>beauty</td>\n",
       "      <td>beauty</td>\n",
       "      <td>...</td>\n",
       "      <td>women</td>\n",
       "      <td>kids</td>\n",
       "      <td>women</td>\n",
       "      <td>kids</td>\n",
       "      <td>kids</td>\n",
       "      <td>electronics</td>\n",
       "      <td>kids</td>\n",
       "      <td>vintage&amp;collectibles</td>\n",
       "      <td>women</td>\n",
       "      <td>women</td>\n",
       "    </tr>\n",
       "    <tr>\n",
       "      <th>2</th>\n",
       "      <td>women'saccessories</td>\n",
       "      <td>women'saccessories</td>\n",
       "      <td>swimwear</td>\n",
       "      <td>athleticapparel</td>\n",
       "      <td>knitting</td>\n",
       "      <td>makeup</td>\n",
       "      <td>dresses</td>\n",
       "      <td>women'saccessories</td>\n",
       "      <td>skincare</td>\n",
       "      <td>fragrance</td>\n",
       "      <td>...</td>\n",
       "      <td>dresses</td>\n",
       "      <td>toys</td>\n",
       "      <td>athleticapparel</td>\n",
       "      <td>boys</td>\n",
       "      <td>boys</td>\n",
       "      <td>cellphones&amp;accessories</td>\n",
       "      <td>toys</td>\n",
       "      <td>jewelry</td>\n",
       "      <td>shoes</td>\n",
       "      <td>jewelry</td>\n",
       "    </tr>\n",
       "    <tr>\n",
       "      <th>3</th>\n",
       "      <td>hats</td>\n",
       "      <td>wallets</td>\n",
       "      <td>two</td>\n",
       "      <td>shorts</td>\n",
       "      <td>cozy</td>\n",
       "      <td>lips</td>\n",
       "      <td>knee</td>\n",
       "      <td>wallets</td>\n",
       "      <td>face</td>\n",
       "      <td>women</td>\n",
       "      <td>...</td>\n",
       "      <td>aboveknee</td>\n",
       "      <td>stuffedanimals&amp;plush</td>\n",
       "      <td>pants</td>\n",
       "      <td>2</td>\n",
       "      <td>2</td>\n",
       "      <td>cellphones&amp;smartphones</td>\n",
       "      <td>actionfigures&amp;statues</td>\n",
       "      <td>pendant</td>\n",
       "      <td>loafers&amp;slip</td>\n",
       "      <td>earrings</td>\n",
       "    </tr>\n",
       "    <tr>\n",
       "      <th>4</th>\n",
       "      <td>&lt;name&gt;</td>\n",
       "      <td>&lt;name&gt;</td>\n",
       "      <td>-</td>\n",
       "      <td>&lt;name&gt;</td>\n",
       "      <td>&lt;name&gt;</td>\n",
       "      <td>&lt;name&gt;</td>\n",
       "      <td>-</td>\n",
       "      <td>&lt;name&gt;</td>\n",
       "      <td>&lt;name&gt;</td>\n",
       "      <td>&lt;name&gt;</td>\n",
       "      <td>...</td>\n",
       "      <td>,</td>\n",
       "      <td>&lt;name&gt;</td>\n",
       "      <td>,</td>\n",
       "      <td>t-</td>\n",
       "      <td>t-</td>\n",
       "      <td>&lt;name&gt;</td>\n",
       "      <td>&lt;name&gt;</td>\n",
       "      <td>&lt;name&gt;</td>\n",
       "      <td>-</td>\n",
       "      <td>&lt;name&gt;</td>\n",
       "    </tr>\n",
       "    <tr>\n",
       "      <th>5</th>\n",
       "      <td>black</td>\n",
       "      <td>pink</td>\n",
       "      <td>piece</td>\n",
       "      <td>plaid</td>\n",
       "      <td>pom</td>\n",
       "      <td>kylie</td>\n",
       "      <td>length</td>\n",
       "      <td>red</td>\n",
       "      <td>lancome</td>\n",
       "      <td>burberry</td>\n",
       "      <td>...</td>\n",
       "      <td>mini</td>\n",
       "      <td>barney</td>\n",
       "      <td>tights</td>\n",
       "      <td>5</td>\n",
       "      <td>5</td>\n",
       "      <td>apple</td>\n",
       "      <td>naruto</td>\n",
       "      <td>kathy</td>\n",
       "      <td>ons</td>\n",
       "      <td>kate</td>\n",
       "    </tr>\n",
       "    <tr>\n",
       "      <th>6</th>\n",
       "      <td>ear</td>\n",
       "      <td>lanyard</td>\n",
       "      <td>&lt;name&gt;</td>\n",
       "      <td>hollister</td>\n",
       "      <td>pom</td>\n",
       "      <td>matte</td>\n",
       "      <td>&lt;name&gt;</td>\n",
       "      <td>wallet</td>\n",
       "      <td>visionnaire</td>\n",
       "      <td>london</td>\n",
       "      <td>...</td>\n",
       "      <td>&lt;name&gt;</td>\n",
       "      <td>baby</td>\n",
       "      <td>,</td>\n",
       "      <td>t</td>\n",
       "      <td>t</td>\n",
       "      <td>ipod</td>\n",
       "      <td>(</td>\n",
       "      <td>&lt;unk&gt;</td>\n",
       "      <td>&lt;name&gt;</td>\n",
       "      <td>spade</td>\n",
       "    </tr>\n",
       "    <tr>\n",
       "      <th>7</th>\n",
       "      <td>&lt;unk&gt;</td>\n",
       "      <td>&lt;description&gt;</td>\n",
       "      <td>hollister</td>\n",
       "      <td>shorts</td>\n",
       "      <td>maker</td>\n",
       "      <td>lip</td>\n",
       "      <td>bnwot</td>\n",
       "      <td>&lt;description&gt;</td>\n",
       "      <td>set</td>\n",
       "      <td>3</td>\n",
       "      <td>...</td>\n",
       "      <td>caribbean</td>\n",
       "      <td>bop</td>\n",
       "      <td>leggings</td>\n",
       "      <td>tops&amp;t</td>\n",
       "      <td>shoes</td>\n",
       "      <td>touch</td>\n",
       "      <td>six</td>\n",
       "      <td>pendant</td>\n",
       "      <td>women</td>\n",
       "      <td>iridescent</td>\n",
       "    </tr>\n",
       "    <tr>\n",
       "      <th>8</th>\n",
       "      <td>&lt;description&gt;</td>\n",
       "      <td>never</td>\n",
       "      <td>white</td>\n",
       "      <td>size</td>\n",
       "      <td>&lt;description&gt;</td>\n",
       "      <td>kit</td>\n",
       "      <td>amelia</td>\n",
       "      <td>this</td>\n",
       "      <td>&lt;description&gt;</td>\n",
       "      <td>.</td>\n",
       "      <td>...</td>\n",
       "      <td>beauty</td>\n",
       "      <td>with</td>\n",
       "      <td>&lt;name&gt;</td>\n",
       "      <td>-</td>\n",
       "      <td>&lt;name&gt;</td>\n",
       "      <td>5</td>\n",
       "      <td>path</td>\n",
       "      <td>&lt;description&gt;</td>\n",
       "      <td>'s</td>\n",
       "      <td>opal</td>\n",
       "    </tr>\n",
       "    <tr>\n",
       "      <th>9</th>\n",
       "      <td>has</td>\n",
       "      <td>used</td>\n",
       "      <td>push</td>\n",
       "      <td>0</td>\n",
       "      <td>clover</td>\n",
       "      <td>posie</td>\n",
       "      <td>l</td>\n",
       "      <td>wallet</td>\n",
       "      <td>lancome</td>\n",
       "      <td>3</td>\n",
       "      <td>...</td>\n",
       "      <td>bodycon</td>\n",
       "      <td>a</td>\n",
       "      <td>lularoe</td>\n",
       "      <td>shirts</td>\n",
       "      <td>boys</td>\n",
       "      <td>&lt;description&gt;</td>\n",
       "      <td>)</td>\n",
       "      <td>kathy</td>\n",
       "      <td>sperry</td>\n",
       "      <td>studs</td>\n",
       "    </tr>\n",
       "    <tr>\n",
       "      <th>10</th>\n",
       "      <td>white</td>\n",
       "      <td>pink</td>\n",
       "      <td>up</td>\n",
       "      <td>&lt;description&gt;</td>\n",
       "      <td>&lt;unk&gt;</td>\n",
       "      <td>k</td>\n",
       "      <td>black</td>\n",
       "      <td>is</td>\n",
       "      <td>visionnaire</td>\n",
       "      <td>oz</td>\n",
       "      <td>...</td>\n",
       "      <td>dress</td>\n",
       "      <td>book</td>\n",
       "      <td>leggings</td>\n",
       "      <td>&lt;name&gt;</td>\n",
       "      <td>h</td>\n",
       "      <td>used</td>\n",
       "      <td>pop</td>\n",
       "      <td>&lt;unk&gt;</td>\n",
       "      <td>&lt;description&gt;</td>\n",
       "      <td>&lt;description&gt;</td>\n",
       "    </tr>\n",
       "    <tr>\n",
       "      <th>11</th>\n",
       "      <td>cream</td>\n",
       "      <td>lanyard</td>\n",
       "      <td>bikini</td>\n",
       "      <td>nice</td>\n",
       "      <td>&lt;unk&gt;</td>\n",
       "      <td>&lt;description&gt;</td>\n",
       "      <td>and</td>\n",
       "      <td>in</td>\n",
       "      <td>set</td>\n",
       "      <td>edp</td>\n",
       "      <td>...</td>\n",
       "      <td>&lt;description&gt;</td>\n",
       "      <td>&lt;description&gt;</td>\n",
       "      <td>&lt;description&gt;</td>\n",
       "      <td>4</td>\n",
       "      <td>loafers</td>\n",
       "      <td>3</td>\n",
       "      <td>vinyl</td>\n",
       "      <td>sterling</td>\n",
       "      <td>women</td>\n",
       "      <td>square</td>\n",
       "    </tr>\n",
       "    <tr>\n",
       "      <th>12</th>\n",
       "      <td>fur</td>\n",
       "      <td>.</td>\n",
       "      <td>top</td>\n",
       "      <td>surfer</td>\n",
       "      <td>•</td>\n",
       "      <td>kylie</td>\n",
       "      <td>white</td>\n",
       "      <td>great</td>\n",
       "      <td>for</td>\n",
       "      <td>spray</td>\n",
       "      <td>...</td>\n",
       "      <td>alluring</td>\n",
       "      <td>barney</td>\n",
       "      <td>lularoe</td>\n",
       "      <td>t</td>\n",
       "      <td>brand</td>\n",
       "      <td>2</td>\n",
       "      <td>figure</td>\n",
       "      <td>silver</td>\n",
       "      <td>'s</td>\n",
       "      <td>iridescent</td>\n",
       "    </tr>\n",
       "    <tr>\n",
       "      <th>13</th>\n",
       "      <td>inside</td>\n",
       "      <td>tags</td>\n",
       "      <td>&lt;description&gt;</td>\n",
       "      <td>girl</td>\n",
       "      <td>free</td>\n",
       "      <td>matte</td>\n",
       "      <td>&lt;description&gt;</td>\n",
       "      <td>condition</td>\n",
       "      <td>face</td>\n",
       "      <td>&lt;description&gt;</td>\n",
       "      <td>...</td>\n",
       "      <td>open</td>\n",
       "      <td>2</td>\n",
       "      <td>leggings</td>\n",
       "      <td>falls</td>\n",
       "      <td>new</td>\n",
       "      <td>gb</td>\n",
       "      <td>&lt;description&gt;</td>\n",
       "      <td>pendant</td>\n",
       "      <td>size</td>\n",
       "      <td>glitter</td>\n",
       "    </tr>\n",
       "    <tr>\n",
       "      <th>14</th>\n",
       "      <td>will</td>\n",
       "      <td>still</td>\n",
       "      <td>super</td>\n",
       "      <td>shorts</td>\n",
       "      <td>gift</td>\n",
       "      <td>liquid</td>\n",
       "      <td>lularoe</td>\n",
       "      <td>and</td>\n",
       "      <td>&amp;</td>\n",
       "      <td>brand</td>\n",
       "      <td>...</td>\n",
       "      <td>back</td>\n",
       "      <td>0</td>\n",
       "      <td>.</td>\n",
       "      <td>creek</td>\n",
       "      <td>size</td>\n",
       "      <td>comes</td>\n",
       "      <td>great</td>\n",
       "      <td>.</td>\n",
       "      <td>7</td>\n",
       "      <td>over</td>\n",
       "    </tr>\n",
       "    <tr>\n",
       "      <th>15</th>\n",
       "      <td>keep</td>\n",
       "      <td>attached</td>\n",
       "      <td>cute</td>\n",
       "      <td>.</td>\n",
       "      <td>•</td>\n",
       "      <td>lipstick</td>\n",
       "      <td>amelia</td>\n",
       "      <td>great</td>\n",
       "      <td>eye</td>\n",
       "      <td>new</td>\n",
       "      <td>...</td>\n",
       "      <td>sexy</td>\n",
       "      <td>inches</td>\n",
       "      <td>one</td>\n",
       "      <td>birthday</td>\n",
       "      <td>1</td>\n",
       "      <td>with</td>\n",
       "      <td>condition</td>\n",
       "      <td>stamped</td>\n",
       "      <td>.</td>\n",
       "      <td>opal</td>\n",
       "    </tr>\n",
       "    <tr>\n",
       "      <th>16</th>\n",
       "      <td>your</td>\n",
       "      <td>.</td>\n",
       "      <td>bikini</td>\n",
       "      <td>soft</td>\n",
       "      <td>(</td>\n",
       "      <td>&amp;</td>\n",
       "      <td>-</td>\n",
       "      <td>color</td>\n",
       "      <td>brand</td>\n",
       "      <td>,</td>\n",
       "      <td>...</td>\n",
       "      <td>bodycon</td>\n",
       "      <td>baby</td>\n",
       "      <td>size</td>\n",
       "      <td>boy</td>\n",
       "      <td>1</td>\n",
       "      <td>original</td>\n",
       "      <td>never</td>\n",
       "      <td>9</td>\n",
       "      <td>5</td>\n",
       "      <td>colored</td>\n",
       "    </tr>\n",
       "    <tr>\n",
       "      <th>17</th>\n",
       "      <td>ears</td>\n",
       "      <td>price</td>\n",
       "      <td>top</td>\n",
       "      <td>9</td>\n",
       "      <td>i</td>\n",
       "      <td>lip</td>\n",
       "      <td>brand</td>\n",
       "      <td>!</td>\n",
       "      <td>new</td>\n",
       "      <td>authentic</td>\n",
       "      <td>...</td>\n",
       "      <td>mini</td>\n",
       "      <td>bop</td>\n",
       "      <td>.</td>\n",
       "      <td>shirt</td>\n",
       "      <td>.</td>\n",
       "      <td>packaging</td>\n",
       "      <td>opened</td>\n",
       "      <td>2</td>\n",
       "      <td>good</td>\n",
       "      <td>gem</td>\n",
       "    </tr>\n",
       "    <tr>\n",
       "      <th>18</th>\n",
       "      <td>warm</td>\n",
       "      <td>firm</td>\n",
       "      <td>a</td>\n",
       "      <td>8</td>\n",
       "      <td>will</td>\n",
       "      <td>liner</td>\n",
       "      <td>new</td>\n",
       "      <td>from</td>\n",
       "      <td>sealed</td>\n",
       "      <td>,</td>\n",
       "      <td>...</td>\n",
       "      <td>dress</td>\n",
       "      <td>2</td>\n",
       "      <td>super</td>\n",
       "      <td>euc</td>\n",
       "      <td>5</td>\n",
       "      <td>and</td>\n",
       "      <td>perfect</td>\n",
       "      <td>5</td>\n",
       "      <td>condition</td>\n",
       "      <td>.</td>\n",
       "    </tr>\n",
       "    <tr>\n",
       "      <th>19</th>\n",
       "      <td>1</td>\n",
       "      <td>no</td>\n",
       "      <td>crochet</td>\n",
       "      <td>%</td>\n",
       "      <td>answer</td>\n",
       "      <td>posie</td>\n",
       "      <td>,</td>\n",
       "      <td>charming</td>\n",
       "      <td>in</td>\n",
       "      <td>factory</td>\n",
       "      <td>...</td>\n",
       "      <td>.</td>\n",
       "      <td>2</td>\n",
       "      <td>cute</td>\n",
       "      <td>&lt;description&gt;</td>\n",
       "      <td>&lt;description&gt;</td>\n",
       "      <td>apple</td>\n",
       "      <td>paint</td>\n",
       "      <td>.</td>\n",
       "      <td>worn</td>\n",
       "      <td>plated</td>\n",
       "    </tr>\n",
       "    <tr>\n",
       "      <th>20</th>\n",
       "      <td>8</td>\n",
       "      <td>free</td>\n",
       "      <td>detailing</td>\n",
       "      <td>cotton</td>\n",
       "      <td>quickly</td>\n",
       "      <td>k</td>\n",
       "      <td>never</td>\n",
       "      <td>charlie</td>\n",
       "      <td>plastic</td>\n",
       "      <td>sealed</td>\n",
       "      <td>...</td>\n",
       "      <td>curve</td>\n",
       "      <td>inches</td>\n",
       "      <td>and</td>\n",
       "      <td>no</td>\n",
       "      <td>no</td>\n",
       "      <td>loop</td>\n",
       "      <td>no</td>\n",
       "      <td>eternity</td>\n",
       "      <td>a</td>\n",
       "      <td>in</td>\n",
       "    </tr>\n",
       "    <tr>\n",
       "      <th>21</th>\n",
       "      <td>os</td>\n",
       "      <td>ship</td>\n",
       "      <td>!</td>\n",
       "      <td>.</td>\n",
       "      <td>)</td>\n",
       "      <td>new</td>\n",
       "      <td>worn</td>\n",
       "      <td>'s</td>\n",
       "      <td>bag</td>\n",
       "      <td>.</td>\n",
       "      <td>...</td>\n",
       "      <td>flattering</td>\n",
       "      <td>book</td>\n",
       "      <td>soft</td>\n",
       "      <td>description</td>\n",
       "      <td>description</td>\n",
       "      <td>factory</td>\n",
       "      <td>box</td>\n",
       "      <td>poem</td>\n",
       "      <td>few</td>\n",
       "      <td>gold</td>\n",
       "    </tr>\n",
       "    <tr>\n",
       "      <th>22</th>\n",
       "      <td>&lt;pad&gt;</td>\n",
       "      <td>&lt;pad&gt;</td>\n",
       "      <td>&lt;pad&gt;</td>\n",
       "      <td>&lt;pad&gt;</td>\n",
       "      <td>&lt;pad&gt;</td>\n",
       "      <td>&lt;pad&gt;</td>\n",
       "      <td>&lt;pad&gt;</td>\n",
       "      <td>&lt;pad&gt;</td>\n",
       "      <td>&lt;pad&gt;</td>\n",
       "      <td>&lt;pad&gt;</td>\n",
       "      <td>...</td>\n",
       "      <td>mini</td>\n",
       "      <td>works</td>\n",
       "      <td>!</td>\n",
       "      <td>yet</td>\n",
       "      <td>yet</td>\n",
       "      <td>reset</td>\n",
       "      <td>damage</td>\n",
       "      <td>.</td>\n",
       "      <td>times</td>\n",
       "      <td>!</td>\n",
       "    </tr>\n",
       "  </tbody>\n",
       "</table>\n",
       "<p>23 rows × 256 columns</p>\n",
       "</div>"
      ],
      "text/plain": [
       "                   0                   1              2                3    \\\n",
       "0           <category>          <category>     <category>       <category>   \n",
       "1                women               women          women            women   \n",
       "2   women'saccessories  women'saccessories       swimwear  athleticapparel   \n",
       "3                 hats             wallets            two           shorts   \n",
       "4               <name>              <name>              -           <name>   \n",
       "5                black                pink          piece            plaid   \n",
       "6                  ear             lanyard         <name>        hollister   \n",
       "7                <unk>       <description>      hollister           shorts   \n",
       "8        <description>               never          white             size   \n",
       "9                  has                used           push                0   \n",
       "10               white                pink             up    <description>   \n",
       "11               cream             lanyard         bikini             nice   \n",
       "12                 fur                   .            top           surfer   \n",
       "13              inside                tags  <description>             girl   \n",
       "14                will               still          super           shorts   \n",
       "15                keep            attached           cute                .   \n",
       "16                your                   .         bikini             soft   \n",
       "17                ears               price            top                9   \n",
       "18                warm                firm              a                8   \n",
       "19                   1                  no        crochet                %   \n",
       "20                   8                free      detailing           cotton   \n",
       "21                  os                ship              !                .   \n",
       "22               <pad>               <pad>          <pad>            <pad>   \n",
       "\n",
       "              4              5              6                   7    \\\n",
       "0      <category>     <category>     <category>          <category>   \n",
       "1        handmade         beauty          women               women   \n",
       "2        knitting         makeup        dresses  women'saccessories   \n",
       "3            cozy           lips           knee             wallets   \n",
       "4          <name>         <name>              -              <name>   \n",
       "5             pom          kylie         length                 red   \n",
       "6             pom          matte         <name>              wallet   \n",
       "7           maker            lip          bnwot       <description>   \n",
       "8   <description>            kit         amelia                this   \n",
       "9          clover          posie              l              wallet   \n",
       "10          <unk>              k          black                  is   \n",
       "11          <unk>  <description>            and                  in   \n",
       "12              •          kylie          white               great   \n",
       "13           free          matte  <description>           condition   \n",
       "14           gift         liquid        lularoe                 and   \n",
       "15              •       lipstick         amelia               great   \n",
       "16              (              &              -               color   \n",
       "17              i            lip          brand                   !   \n",
       "18           will          liner            new                from   \n",
       "19         answer          posie              ,            charming   \n",
       "20        quickly              k          never             charlie   \n",
       "21              )            new           worn                  's   \n",
       "22          <pad>          <pad>          <pad>               <pad>   \n",
       "\n",
       "              8              9        ...                  246  \\\n",
       "0      <category>     <category>      ...           <category>   \n",
       "1          beauty         beauty      ...                women   \n",
       "2        skincare      fragrance      ...              dresses   \n",
       "3            face          women      ...            aboveknee   \n",
       "4          <name>         <name>      ...                    ,   \n",
       "5         lancome       burberry      ...                 mini   \n",
       "6     visionnaire         london      ...               <name>   \n",
       "7             set              3      ...            caribbean   \n",
       "8   <description>              .      ...               beauty   \n",
       "9         lancome              3      ...              bodycon   \n",
       "10    visionnaire             oz      ...                dress   \n",
       "11            set            edp      ...        <description>   \n",
       "12            for          spray      ...             alluring   \n",
       "13           face  <description>      ...                 open   \n",
       "14              &          brand      ...                 back   \n",
       "15            eye            new      ...                 sexy   \n",
       "16          brand              ,      ...              bodycon   \n",
       "17            new      authentic      ...                 mini   \n",
       "18         sealed              ,      ...                dress   \n",
       "19             in        factory      ...                    .   \n",
       "20        plastic         sealed      ...                curve   \n",
       "21            bag              .      ...           flattering   \n",
       "22          <pad>          <pad>      ...                 mini   \n",
       "\n",
       "                     247              248            249            250  \\\n",
       "0             <category>       <category>     <category>     <category>   \n",
       "1                   kids            women           kids           kids   \n",
       "2                   toys  athleticapparel           boys           boys   \n",
       "3   stuffedanimals&plush            pants              2              2   \n",
       "4                 <name>                ,             t-             t-   \n",
       "5                 barney           tights              5              5   \n",
       "6                   baby                ,              t              t   \n",
       "7                    bop         leggings         tops&t          shoes   \n",
       "8                   with           <name>              -         <name>   \n",
       "9                      a          lularoe         shirts           boys   \n",
       "10                  book         leggings         <name>              h   \n",
       "11         <description>    <description>              4        loafers   \n",
       "12                barney          lularoe              t          brand   \n",
       "13                     2         leggings          falls            new   \n",
       "14                     0                .          creek           size   \n",
       "15                inches              one       birthday              1   \n",
       "16                  baby             size            boy              1   \n",
       "17                   bop                .          shirt              .   \n",
       "18                     2            super            euc              5   \n",
       "19                     2             cute  <description>  <description>   \n",
       "20                inches              and             no             no   \n",
       "21                  book             soft    description    description   \n",
       "22                 works                !            yet            yet   \n",
       "\n",
       "                       251                    252                   253  \\\n",
       "0               <category>             <category>            <category>   \n",
       "1              electronics                   kids  vintage&collectibles   \n",
       "2   cellphones&accessories                   toys               jewelry   \n",
       "3   cellphones&smartphones  actionfigures&statues               pendant   \n",
       "4                   <name>                 <name>                <name>   \n",
       "5                    apple                 naruto                 kathy   \n",
       "6                     ipod                      (                 <unk>   \n",
       "7                    touch                    six               pendant   \n",
       "8                        5                   path         <description>   \n",
       "9            <description>                      )                 kathy   \n",
       "10                    used                    pop                 <unk>   \n",
       "11                       3                  vinyl              sterling   \n",
       "12                       2                 figure                silver   \n",
       "13                      gb          <description>               pendant   \n",
       "14                   comes                  great                     .   \n",
       "15                    with              condition               stamped   \n",
       "16                original                  never                     9   \n",
       "17               packaging                 opened                     2   \n",
       "18                     and                perfect                     5   \n",
       "19                   apple                  paint                     .   \n",
       "20                    loop                     no              eternity   \n",
       "21                 factory                    box                  poem   \n",
       "22                   reset                 damage                     .   \n",
       "\n",
       "              254            255  \n",
       "0      <category>     <category>  \n",
       "1           women          women  \n",
       "2           shoes        jewelry  \n",
       "3    loafers&slip       earrings  \n",
       "4               -         <name>  \n",
       "5             ons           kate  \n",
       "6          <name>          spade  \n",
       "7           women     iridescent  \n",
       "8              's           opal  \n",
       "9          sperry          studs  \n",
       "10  <description>  <description>  \n",
       "11          women         square  \n",
       "12             's     iridescent  \n",
       "13           size        glitter  \n",
       "14              7           over  \n",
       "15              .           opal  \n",
       "16              5        colored  \n",
       "17           good            gem  \n",
       "18      condition              .  \n",
       "19           worn         plated  \n",
       "20              a             in  \n",
       "21            few           gold  \n",
       "22          times              !  \n",
       "\n",
       "[23 rows x 256 columns]"
      ]
     },
     "execution_count": 153,
     "metadata": {},
     "output_type": "execute_result"
    }
   ],
   "source": [
    "# same as to_np(xs[0])\n",
    "xdf = pd.DataFrame(xbs[0].data.cpu().numpy())\n",
    "xdf.apply(lambda x: x.apply(lambda x1: ITEM_DESCRIPTION.vocab.itos[x1]))"
   ]
  },
  {
   "cell_type": "code",
   "execution_count": 154,
   "metadata": {},
   "outputs": [
    {
     "data": {
      "text/plain": [
       "Variable containing:\n",
       "    3  1273  4456     1\n",
       "    1  1277  3222     1\n",
       "    1  1254  1951     1\n",
       "           ⋮            \n",
       "    2  1075     0     2\n",
       "    3  1208  4007     1\n",
       "    1  1181  2311     2\n",
       "[torch.cuda.LongTensor of size 256x4 (GPU 0)]"
      ]
     },
     "execution_count": 154,
     "metadata": {},
     "output_type": "execute_result"
    }
   ],
   "source": [
    "xbs[1]"
   ]
  },
  {
   "cell_type": "code",
   "execution_count": 155,
   "metadata": {},
   "outputs": [
    {
     "data": {
      "text/plain": [
       "Variable containing:\n",
       " 2.4849\n",
       " 3.2581\n",
       " 2.7726\n",
       " 2.1972\n",
       " 2.3026\n",
       " 2.7081\n",
       " 3.7377\n",
       " 2.7081\n",
       " 2.9444\n",
       " 3.8286\n",
       " 2.0794\n",
       " 2.1972\n",
       " 2.8332\n",
       " 3.0445\n",
       " 2.9957\n",
       " 1.6094\n",
       " 3.8286\n",
       " 1.7918\n",
       " 4.2047\n",
       " 6.4232\n",
       " 1.3863\n",
       " 2.3979\n",
       " 3.4657\n",
       " 2.7726\n",
       " 4.0431\n",
       " 2.5649\n",
       " 2.7726\n",
       " 2.7081\n",
       " 3.3673\n",
       " 2.6391\n",
       " 3.8286\n",
       " 2.7726\n",
       " 4.0073\n",
       " 3.4012\n",
       " 2.3979\n",
       " 2.0794\n",
       " 1.7918\n",
       " 4.2047\n",
       " 5.7366\n",
       " 2.5649\n",
       " 3.1355\n",
       " 1.9459\n",
       " 2.3026\n",
       " 2.3026\n",
       " 3.2189\n",
       " 1.6094\n",
       " 2.9957\n",
       " 4.3175\n",
       " 3.7377\n",
       " 2.3979\n",
       " 3.7377\n",
       " 2.5649\n",
       " 2.5649\n",
       " 1.9459\n",
       " 2.7726\n",
       " 2.1972\n",
       " 4.8363\n",
       " 1.6094\n",
       " 2.8332\n",
       " 3.0445\n",
       " 2.3979\n",
       " 2.8332\n",
       " 3.8501\n",
       " 3.3673\n",
       " 2.7081\n",
       " 3.9318\n",
       " 3.0445\n",
       " 3.5264\n",
       " 2.5649\n",
       " 2.5649\n",
       " 2.7726\n",
       " 2.5649\n",
       " 3.1781\n",
       " 3.9318\n",
       " 2.5649\n",
       " 3.9512\n",
       " 2.9444\n",
       " 2.7081\n",
       " 2.7081\n",
       " 2.8332\n",
       " 2.7081\n",
       " 3.9318\n",
       " 3.2189\n",
       " 3.7842\n",
       " 3.9318\n",
       " 3.7612\n",
       " 2.3979\n",
       " 2.7081\n",
       " 2.7081\n",
       " 1.9459\n",
       " 3.0445\n",
       " 3.0910\n",
       " 3.0445\n",
       " 2.7081\n",
       " 3.2958\n",
       " 3.2189\n",
       " 2.4849\n",
       " 2.3979\n",
       " 3.2958\n",
       " 3.0445\n",
       " 3.2189\n",
       " 5.1358\n",
       " 2.3979\n",
       " 3.2189\n",
       " 2.3979\n",
       " 2.5649\n",
       " 2.0794\n",
       " 2.5649\n",
       " 2.8904\n",
       " 3.5553\n",
       " 2.8332\n",
       " 4.3307\n",
       " 2.1972\n",
       " 2.9957\n",
       " 1.7918\n",
       " 2.5649\n",
       " 3.2958\n",
       " 3.2189\n",
       " 3.0910\n",
       " 3.0445\n",
       " 2.8904\n",
       " 1.3863\n",
       " 3.2581\n",
       " 2.3026\n",
       " 2.9444\n",
       " 1.3863\n",
       " 2.5649\n",
       " 2.7726\n",
       " 3.2581\n",
       " 3.6109\n",
       " 2.3979\n",
       " 3.4012\n",
       " 2.9957\n",
       " 3.7377\n",
       " 2.0794\n",
       " 2.7081\n",
       " 3.0445\n",
       " 2.8904\n",
       " 3.6636\n",
       " 5.5683\n",
       " 3.0445\n",
       " 3.1355\n",
       " 2.3979\n",
       " 3.4340\n",
       " 3.7136\n",
       " 3.3322\n",
       " 2.8904\n",
       " 3.2581\n",
       " 2.0794\n",
       " 2.1972\n",
       " 2.6391\n",
       " 4.1431\n",
       " 4.1744\n",
       " 2.9444\n",
       " 2.0794\n",
       " 2.5649\n",
       " 3.0910\n",
       " 4.0431\n",
       " 2.8332\n",
       " 2.4849\n",
       " 3.1355\n",
       " 2.8332\n",
       " 4.0254\n",
       " 3.0445\n",
       " 3.0910\n",
       " 4.4067\n",
       " 2.9444\n",
       " 2.7081\n",
       " 2.3979\n",
       " 2.4849\n",
       " 2.5649\n",
       " 3.6636\n",
       " 3.4012\n",
       " 2.9957\n",
       " 2.4849\n",
       " 2.5649\n",
       " 3.0445\n",
       " 2.3979\n",
       " 2.3979\n",
       " 3.2958\n",
       " 2.3979\n",
       " 2.4849\n",
       " 3.4965\n",
       " 3.9318\n",
       " 4.0604\n",
       " 2.9957\n",
       " 2.8332\n",
       " 2.3026\n",
       " 2.3979\n",
       " 3.1355\n",
       " 3.2958\n",
       " 2.8332\n",
       " 3.4012\n",
       " 4.1897\n",
       " 2.1972\n",
       " 2.7726\n",
       " 2.3979\n",
       " 3.0910\n",
       " 1.9459\n",
       " 3.3322\n",
       " 2.3979\n",
       " 2.5649\n",
       " 3.6889\n",
       " 2.5649\n",
       " 2.1972\n",
       " 3.0445\n",
       " 4.2767\n",
       " 2.8332\n",
       " 1.7918\n",
       " 2.4849\n",
       " 3.1355\n",
       " 3.5835\n",
       " 4.0073\n",
       " 2.7081\n",
       " 2.7081\n",
       " 3.0910\n",
       " 2.3026\n",
       " 2.4849\n",
       " 3.8067\n",
       " 1.9459\n",
       " 3.8501\n",
       " 2.7081\n",
       " 3.2581\n",
       " 2.0794\n",
       " 2.1972\n",
       " 3.5835\n",
       " 4.0073\n",
       " 3.0445\n",
       " 3.5835\n",
       " 3.4657\n",
       " 2.4849\n",
       " 2.1972\n",
       " 3.8918\n",
       " 2.5649\n",
       " 1.7918\n",
       " 4.4659\n",
       " 2.1972\n",
       " 3.1355\n",
       " 2.8332\n",
       " 1.6094\n",
       " 2.7726\n",
       " 2.5649\n",
       " 3.6889\n",
       " 1.9459\n",
       " 3.6636\n",
       " 3.2581\n",
       " 2.6391\n",
       " 3.5553\n",
       " 2.3979\n",
       " 1.9459\n",
       " 3.3673\n",
       " 4.6728\n",
       " 2.9444\n",
       " 3.7136\n",
       " 2.8332\n",
       " 3.3322\n",
       "[torch.cuda.FloatTensor of size 256 (GPU 0)]"
      ]
     },
     "execution_count": 155,
     "metadata": {},
     "output_type": "execute_result"
    }
   ],
   "source": [
    "yb"
   ]
  },
  {
   "cell_type": "code",
   "execution_count": 156,
   "metadata": {
    "collapsed": true
   },
   "outputs": [],
   "source": [
    "bptt, enc_max_seq=50, 200\n",
    "text_emb_sz = 100  # size of each embedding vector\n",
    "enc_n_hid = 200     # number of hidden activations per layer\n",
    "enc_n_layers = 3       # number of layers\n",
    "opt_fn = partial(optim.Adam, betas=(0.7, 0.99))\n",
    "cat_emb_drop=0.04\n",
    "fc_layers=[1000, 500]\n",
    "fc_drops =[0.001, 0.01]"
   ]
  },
  {
   "cell_type": "code",
   "execution_count": 157,
   "metadata": {},
   "outputs": [],
   "source": [
    "y_range = (float(np.min(np.log(y+1))), float(np.max(np.log(y+1))))"
   ]
  },
  {
   "cell_type": "code",
   "execution_count": 158,
   "metadata": {},
   "outputs": [],
   "source": [
    "learner = md.get_learner(opt_fn, text_emb_sz, enc_n_hid, enc_n_layers, enc_max_seq, bptt, \n",
    "                    cat_emb_szs, cat_emb_drop, fc_layers, fc_drops, out_sz=1, y_range=y_range, \n",
    "                    dropouti=0.65, dropoute=0.1, dropouth=0.3, wdrop=0.5)\n",
    "\n",
    "learner.reg_fn = partial(seq2seq_reg, alpha=2, beta=1)\n",
    "learner.clip=3.0"
   ]
  },
  {
   "cell_type": "code",
   "execution_count": 159,
   "metadata": {
    "collapsed": true
   },
   "outputs": [],
   "source": [
    "learner.load_encoder(f'adam1_enc_{tag}')"
   ]
  },
  {
   "cell_type": "code",
   "execution_count": 160,
   "metadata": {
    "collapsed": true
   },
   "outputs": [],
   "source": [
    "#lrs=np.array([1e-4,1e-3,1e-2])"
   ]
  },
  {
   "cell_type": "code",
   "execution_count": 161,
   "metadata": {},
   "outputs": [
    {
     "data": {
      "text/html": [
       "<div>\n",
       "<style>\n",
       "    .dataframe thead tr:only-child th {\n",
       "        text-align: right;\n",
       "    }\n",
       "\n",
       "    .dataframe thead th {\n",
       "        text-align: left;\n",
       "    }\n",
       "\n",
       "    .dataframe tbody tr th {\n",
       "        vertical-align: top;\n",
       "    }\n",
       "</style>\n",
       "<table border=\"1\" class=\"dataframe\">\n",
       "  <thead>\n",
       "    <tr style=\"text-align: right;\">\n",
       "      <th></th>\n",
       "      <th>item_condition_id</th>\n",
       "      <th>category_name</th>\n",
       "      <th>brand_name</th>\n",
       "      <th>shipping</th>\n",
       "      <th>item_description</th>\n",
       "      <th>price</th>\n",
       "    </tr>\n",
       "  </thead>\n",
       "  <tbody>\n",
       "    <tr>\n",
       "      <th>3</th>\n",
       "      <td>1</td>\n",
       "      <td>486</td>\n",
       "      <td>0</td>\n",
       "      <td>2</td>\n",
       "      <td>[&lt;category&gt;, home, homed, é, cor, homed, é, co...</td>\n",
       "      <td>3.583519</td>\n",
       "    </tr>\n",
       "    <tr>\n",
       "      <th>4</th>\n",
       "      <td>1</td>\n",
       "      <td>1182</td>\n",
       "      <td>0</td>\n",
       "      <td>1</td>\n",
       "      <td>[&lt;category&gt;, women, jewelry, necklaces, &lt;name&gt;...</td>\n",
       "      <td>3.806663</td>\n",
       "    </tr>\n",
       "  </tbody>\n",
       "</table>\n",
       "</div>"
      ],
      "text/plain": [
       "   item_condition_id  category_name  brand_name  shipping  \\\n",
       "3                  1            486           0         2   \n",
       "4                  1           1182           0         1   \n",
       "\n",
       "                                    item_description     price  \n",
       "3  [<category>, home, homed, é, cor, homed, é, co...  3.583519  \n",
       "4  [<category>, women, jewelry, necklaces, <name>...  3.806663  "
      ]
     },
     "execution_count": 161,
     "metadata": {},
     "output_type": "execute_result"
    }
   ],
   "source": [
    "dfs['val'].head(2)"
   ]
  },
  {
   "cell_type": "markdown",
   "metadata": {},
   "source": [
    "Lets test if the model is correctly defined as data is being correctly processed. "
   ]
  },
  {
   "cell_type": "code",
   "execution_count": 162,
   "metadata": {},
   "outputs": [],
   "source": [
    "m = learner.model\n",
    "#m.rnn_encoder(*[xs[0]])\n",
    "m.reset()\n",
    "output = m(*xbs)"
   ]
  },
  {
   "cell_type": "code",
   "execution_count": 163,
   "metadata": {},
   "outputs": [
    {
     "data": {
      "text/plain": [
       "(Variable containing:\n",
       "  3.8540\n",
       "  3.1337\n",
       "  3.5962\n",
       "  3.4404\n",
       "  3.6479\n",
       "  3.9920\n",
       "  3.9348\n",
       "  3.9131\n",
       "  3.7003\n",
       "  3.7057\n",
       "  3.9181\n",
       "  3.3785\n",
       "  3.7232\n",
       "  3.7758\n",
       "  3.7290\n",
       "  3.9012\n",
       "  3.8731\n",
       "  3.6632\n",
       "  3.2653\n",
       "  3.3461\n",
       "  3.7844\n",
       "  3.3638\n",
       "  3.8403\n",
       "  3.8574\n",
       "  3.3472\n",
       "  3.7055\n",
       "  4.0183\n",
       "  3.5348\n",
       "  3.2754\n",
       "  3.4168\n",
       "  3.5808\n",
       "  3.8171\n",
       "  3.7657\n",
       "  3.6429\n",
       "  3.4707\n",
       "  4.3630\n",
       "  3.9044\n",
       "  3.1680\n",
       "  3.5421\n",
       "  3.6757\n",
       "  3.8000\n",
       "  3.8320\n",
       "  3.4532\n",
       "  4.1257\n",
       "  3.7030\n",
       "  3.8200\n",
       "  3.6925\n",
       "  3.6598\n",
       "  3.2915\n",
       "  3.5849\n",
       "  3.6192\n",
       "  3.7644\n",
       "  2.9753\n",
       "  3.3325\n",
       "  3.9501\n",
       "  3.9115\n",
       "  3.7878\n",
       "  3.5637\n",
       "  3.3908\n",
       "  3.2806\n",
       "  3.5378\n",
       "  3.5391\n",
       "  3.5410\n",
       "  3.8464\n",
       "  3.6516\n",
       "  3.5393\n",
       "  3.7545\n",
       "  3.5970\n",
       "  3.8485\n",
       "  3.4931\n",
       "  3.6335\n",
       "  3.4823\n",
       "  3.7646\n",
       "  3.5900\n",
       "  3.3577\n",
       "  3.3656\n",
       "  3.5842\n",
       "  3.4415\n",
       "  3.4839\n",
       "  3.5716\n",
       "  3.5829\n",
       "  3.6247\n",
       "  3.4900\n",
       "  3.4993\n",
       "  3.7681\n",
       "  4.0423\n",
       "  3.7773\n",
       "  3.7037\n",
       "  3.5000\n",
       "  3.3895\n",
       "  3.9417\n",
       "  4.3033\n",
       "  3.5286\n",
       "  3.3734\n",
       "  3.8236\n",
       "  3.8222\n",
       "  3.9550\n",
       "  4.1739\n",
       "  3.2164\n",
       "  3.9579\n",
       "  3.5997\n",
       "  3.9026\n",
       "  3.2508\n",
       "  3.9326\n",
       "  3.0282\n",
       "  3.4919\n",
       "  3.5586\n",
       "  3.6890\n",
       "  3.9013\n",
       "  3.7065\n",
       "  3.1314\n",
       "  3.9313\n",
       "  3.6624\n",
       "  3.5929\n",
       "  3.6485\n",
       "  3.4755\n",
       "  3.7526\n",
       "  3.2158\n",
       "  3.7805\n",
       "  3.3671\n",
       "  3.5047\n",
       "  4.0700\n",
       "  3.6334\n",
       "  3.6280\n",
       "  3.4023\n",
       "  3.7395\n",
       "  3.9018\n",
       "  3.6268\n",
       "  3.3101\n",
       "  3.5076\n",
       "  3.8539\n",
       "  3.7277\n",
       "  2.8655\n",
       "  3.5312\n",
       "  3.9973\n",
       "  3.8614\n",
       "  3.9268\n",
       "  3.5086\n",
       "  3.7608\n",
       "  3.7002\n",
       "  3.9425\n",
       "  3.7363\n",
       "  3.4320\n",
       "  3.3594\n",
       "  3.6844\n",
       "  3.3116\n",
       "  3.8834\n",
       "  4.0187\n",
       "  3.7533\n",
       "  3.5784\n",
       "  3.7748\n",
       "  3.7684\n",
       "  3.8189\n",
       "  3.9218\n",
       "  3.9941\n",
       "  3.6717\n",
       "  3.6880\n",
       "  3.7405\n",
       "  3.4131\n",
       "  3.7625\n",
       "  3.3403\n",
       "  3.5768\n",
       "  3.6396\n",
       "  3.8354\n",
       "  3.5454\n",
       "  3.7666\n",
       "  3.2955\n",
       "  3.8503\n",
       "  3.6357\n",
       "  3.7982\n",
       "  3.6156\n",
       "  3.9199\n",
       "  3.4891\n",
       "  3.3154\n",
       "  3.5878\n",
       "  3.5424\n",
       "  3.8932\n",
       "  3.8651\n",
       "  3.9667\n",
       "  3.7674\n",
       "  4.2531\n",
       "  3.3753\n",
       "  3.8758\n",
       "  3.7013\n",
       "  3.4639\n",
       "  3.6298\n",
       "  3.7126\n",
       "  3.1947\n",
       "  3.8687\n",
       "  3.6548\n",
       "  3.4737\n",
       "  3.5231\n",
       "  3.7699\n",
       "  3.6626\n",
       "  4.0120\n",
       "  3.4157\n",
       "  3.7604\n",
       "  3.8257\n",
       "  3.8709\n",
       "  3.6979\n",
       "  3.4149\n",
       "  3.7666\n",
       "  3.9632\n",
       "  3.8334\n",
       "  3.6988\n",
       "  4.3372\n",
       "  3.7976\n",
       "  3.6623\n",
       "  3.8876\n",
       "  3.6914\n",
       "  4.0407\n",
       "  3.7789\n",
       "  3.5247\n",
       "  3.4759\n",
       "  3.5053\n",
       "  3.5442\n",
       "  3.2961\n",
       "  3.6295\n",
       "  3.4173\n",
       "  3.7532\n",
       "  4.3591\n",
       "  3.3413\n",
       "  3.5730\n",
       "  3.7150\n",
       "  3.8275\n",
       "  3.5592\n",
       "  3.8743\n",
       "  3.3619\n",
       "  4.1233\n",
       "  3.3810\n",
       "  3.6858\n",
       "  3.7137\n",
       "  4.0666\n",
       "  3.8752\n",
       "  3.7449\n",
       "  3.8333\n",
       "  3.7548\n",
       "  3.8713\n",
       "  3.7126\n",
       "  3.9029\n",
       "  3.8268\n",
       "  3.9836\n",
       "  3.5952\n",
       "  3.8135\n",
       "  3.9479\n",
       "  4.2984\n",
       "  3.8481\n",
       "  4.0215\n",
       "  3.3766\n",
       "  3.9713\n",
       "  3.6921\n",
       "  3.5152\n",
       "  3.6585\n",
       "  3.6500\n",
       "  3.1529\n",
       "  3.6914\n",
       " [torch.cuda.FloatTensor of size 256x1 (GPU 0)], [Variable containing:\n",
       "  ( 0 ,.,.) = \n",
       "   -0.0000  0.7616 -0.7574  ...  -0.0000  0.0000  0.0000\n",
       "   -0.2998  0.0021 -0.0000  ...   0.0000 -0.0000 -0.0000\n",
       "   -0.0000  0.6790 -0.0438  ...  -0.0000 -0.0000 -0.0000\n",
       "             ...             ⋱             ...          \n",
       "   -0.0000  0.7615 -0.0000  ...  -0.0000 -0.0000 -0.0000\n",
       "   -0.0000  0.7616 -0.0001  ...   0.0000  0.0000  0.7603\n",
       "   -0.7558  0.7604 -0.0000  ...  -0.0000  0.0000  0.0113\n",
       "  \n",
       "  ( 1 ,.,.) = \n",
       "   -0.0000  0.9636 -0.8662  ...  -0.0000 -0.0000  0.7519\n",
       "   -0.0000  0.8348 -0.7538  ...   0.0000 -0.0000  0.0000\n",
       "   -0.0000  0.9474 -0.7616  ...  -0.0000 -0.0000  0.0000\n",
       "             ...             ⋱             ...          \n",
       "   -0.0025  0.0021 -0.3983  ...  -0.0961  0.0019  0.0221\n",
       "   -0.0328  0.9640 -0.7616  ...  -0.0000 -0.0000  0.0000\n",
       "   -0.9326  0.9624 -0.7642  ...  -0.0000 -0.0000  0.0019\n",
       "  \n",
       "  ( 2 ,.,.) = \n",
       "   -0.0000  0.0000 -0.6745  ...  -0.9008  0.0045 -0.0000\n",
       "   -0.2647  0.0000 -0.0000  ...   0.0000  0.0000  0.6447\n",
       "   -0.1086  0.0006 -0.1966  ...  -0.0169  0.1036  0.0014\n",
       "             ...             ⋱             ...          \n",
       "   -0.0000  0.0000 -0.9431  ...  -0.0985  0.0233  0.0000\n",
       "   -0.5954  0.0000 -0.0000  ...  -0.0000  0.0000  0.0000\n",
       "   -0.0000  0.0000 -0.0012  ...  -0.0022  0.0017  0.0247\n",
       "  ... \n",
       "  \n",
       "  (20 ,.,.) = \n",
       "   -0.0000  0.9365 -0.0000  ...  -0.0000  0.0003 -0.0288\n",
       "   -0.0000  0.6574  0.0274  ...  -0.7343  0.8878  0.0000\n",
       "    0.0333 -0.0000 -0.0003  ...   0.0730  0.6124  0.0000\n",
       "             ...             ⋱             ...          \n",
       "   -0.0145  0.0000 -0.1693  ...  -0.3329  0.1770  0.0260\n",
       "   -0.0000 -0.1065 -0.8112  ...  -0.0000 -0.0601  0.0000\n",
       "   -0.0087 -0.0000 -0.9323  ...  -0.7706 -0.0001  0.0015\n",
       "  \n",
       "  (21 ,.,.) = \n",
       "   -0.0005  0.0000 -0.0319  ...  -0.0198  0.0057  0.0344\n",
       "   -0.3220  0.0000 -0.0000  ...  -0.0000  0.8230  0.0000\n",
       "   -0.5227 -0.0000 -0.0000  ...   0.0000  0.0000 -0.0000\n",
       "             ...             ⋱             ...          \n",
       "   -0.0004  0.0006 -0.1463  ...  -0.0909  0.0029  0.0471\n",
       "   -0.0000  0.0581 -0.8969  ...  -0.0012 -0.0000  0.7621\n",
       "   -0.0002  0.0000 -0.6244  ...  -0.0000 -0.0141  0.0027\n",
       "  \n",
       "  (22 ,.,.) = \n",
       "   -0.0013  0.0002 -0.3418  ...  -0.1605  0.0340  0.1255\n",
       "   -0.0017  0.0000 -0.0034  ...  -0.0013  0.0090  0.1604\n",
       "   -0.0382  0.0000 -0.0120  ...  -0.0133  0.0001  0.0360\n",
       "             ...             ⋱             ...          \n",
       "   -0.0000 -0.0000 -0.0000  ...  -0.0000  0.0000  0.0000\n",
       "   -0.9452  0.0000 -0.0000  ...  -0.0727 -0.0000 -0.7607\n",
       "   -0.7561  0.0000 -0.0000  ...  -0.0004  0.3236  0.0000\n",
       "  [torch.cuda.FloatTensor of size 23x256x200 (GPU 0)], Variable containing:\n",
       "  ( 0 ,.,.) = \n",
       "    3.8573e-03 -1.7129e-05 -2.4823e-03  ...  -2.9782e-03 -3.7226e-05 -7.9513e-03\n",
       "    1.1222e-04 -1.4275e-03 -5.1179e-04  ...  -5.1361e-02 -4.1108e-02 -5.2929e-03\n",
       "    1.7350e-04  7.8807e-03 -5.9744e-04  ...  -2.2707e-02 -1.0307e-04  2.5417e-05\n",
       "                   ...                   ⋱                   ...                \n",
       "   -1.1358e-04 -1.8310e-05 -3.0236e-05  ...   7.0410e-03 -1.6950e-02  5.1151e-05\n",
       "    1.6239e-06  1.4174e-05 -8.6282e-02  ...  -4.7537e-03 -6.7335e-04 -2.2582e-03\n",
       "   -1.1940e-07  1.1113e-05 -8.8389e-04  ...   8.7845e-03 -5.8440e-02  1.7850e-02\n",
       "  \n",
       "  ( 1 ,.,.) = \n",
       "    1.5851e-04  1.5534e-03 -7.0648e-06  ...  -1.3256e-02 -5.9650e-06  8.7571e-02\n",
       "   -2.7266e-02 -8.8349e-03 -1.1975e-03  ...  -1.1459e-01 -3.0471e-01 -4.1505e-03\n",
       "    2.7065e-04  1.5556e-02 -5.3453e-05  ...  -2.7207e-02 -6.0978e-03  3.9558e-04\n",
       "                   ...                   ⋱                   ...                \n",
       "   -2.1504e-05  3.9740e-03 -4.6209e-02  ...  -1.6936e-02 -5.9650e-01  2.0254e-03\n",
       "    6.7903e-07  4.1081e-05 -3.0736e-08  ...   1.0387e-02 -4.7309e-04  1.6967e-03\n",
       "   -1.6086e-08  6.0567e-05 -9.4408e-07  ...  -8.5479e-02 -2.2478e-03  2.5230e-04\n",
       "  \n",
       "  ( 2 ,.,.) = \n",
       "    1.2194e-06  7.0931e-01 -1.3700e-01  ...  -7.1891e-02 -1.5548e-03  7.6794e-04\n",
       "   -8.5171e-03  7.0937e-02 -8.8725e-02  ...  -2.7758e-02 -9.4454e-05 -1.1467e-03\n",
       "    1.7804e-02  3.6075e-02 -5.2252e-05  ...  -1.8261e-02 -4.3938e-01  3.5219e-04\n",
       "                   ...                   ⋱                   ...                \n",
       "   -7.5913e-06  2.2407e-03 -7.6599e-03  ...  -5.1199e-02 -6.7206e-01 -4.2722e-07\n",
       "    1.9247e-05  1.5677e-04 -2.8741e-01  ...   1.5399e-02 -3.4888e-02  9.8253e-05\n",
       "    5.8163e-06  3.4789e-04 -7.6510e-04  ...   5.9414e-02 -4.9287e-05  1.2244e-04\n",
       "  ... \n",
       "  \n",
       "  (20 ,.,.) = \n",
       "    2.4410e-05  1.5543e-04 -2.6646e-05  ...   6.5807e-02 -2.4870e-04 -1.4719e-05\n",
       "    1.9510e-04  8.3364e-04 -3.7509e-03  ...   4.1076e-01 -9.2277e-01 -6.5756e-02\n",
       "    1.1502e-04  1.1748e-02 -9.2295e-02  ...   1.1996e-01 -1.3311e-02 -4.8967e-03\n",
       "                   ...                   ⋱                   ...                \n",
       "    3.8210e-06  4.7849e-02 -1.2381e-02  ...   1.1758e-01 -1.9952e-01 -2.2818e-03\n",
       "   -6.7200e-06 -8.7619e-03 -2.3847e-08  ...   8.7829e-03 -4.8437e-06 -2.9677e-03\n",
       "    3.2347e-04  4.4180e-04 -5.2670e-03  ...  -1.3723e-01 -9.7234e-01  2.0976e-06\n",
       "  \n",
       "  (21 ,.,.) = \n",
       "    3.2889e-02 -1.0800e-02 -5.4265e-03  ...   7.7887e-02 -1.2412e-01 -2.0242e-02\n",
       "    3.1384e-05  1.0211e-04 -8.8664e-03  ...   2.8011e-01 -1.1176e-03 -1.9470e-03\n",
       "    3.2789e-04  2.5543e-05 -8.2198e-06  ...   1.2337e-01 -2.8597e-03 -1.0552e-02\n",
       "                   ...                   ⋱                   ...                \n",
       "    5.1982e-02 -9.0420e-05 -1.3973e-01  ...   1.7566e-01 -6.5790e-01 -1.1418e-02\n",
       "   -1.2064e-04 -4.3375e-03 -1.5459e-04  ...   2.1235e-02 -1.0242e-03  1.0958e-03\n",
       "    3.3046e-04  5.7428e-03 -1.7626e-03  ...   1.8515e-03 -2.1733e-02 -1.2915e-06\n",
       "  \n",
       "  (22 ,.,.) = \n",
       "    1.5472e-03  1.0107e-02 -3.0387e-02  ...   1.0567e-01 -1.0262e-02 -5.3596e-03\n",
       "    3.2202e-03 -5.6433e-02 -1.2195e-02  ...   2.4024e-01 -5.8436e-01 -2.8204e-03\n",
       "    5.1607e-05  4.3578e-03 -1.3085e-01  ...   1.0060e-01 -4.5228e-01 -1.8366e-03\n",
       "                   ...                   ⋱                   ...                \n",
       "    2.8308e-02 -2.6670e-02 -9.5635e-04  ...   1.5890e-01 -5.1563e-02 -2.2549e-02\n",
       "   -7.1580e-06  4.4059e-05 -9.3886e-04  ...   1.4819e-02 -1.3247e-01  1.6191e-04\n",
       "    1.6671e-04  2.4758e-02 -5.3057e-03  ...   7.3954e-03 -9.8163e-01 -9.2670e-05\n",
       "  [torch.cuda.FloatTensor of size 23x256x200 (GPU 0)], Variable containing:\n",
       "  ( 0 ,.,.) = \n",
       "    3.3421e-02  1.2100e-02 -1.4586e-02  ...  -2.4696e-02 -1.7886e-01 -1.2184e-02\n",
       "   -1.1174e-02  2.7869e-03 -1.1411e-03  ...   8.8319e-03  2.5977e-02 -7.2571e-03\n",
       "   -1.1829e-02 -9.6479e-03 -3.5304e-02  ...  -5.9544e-02  2.5520e-01 -8.9380e-04\n",
       "                   ...                   ⋱                   ...                \n",
       "   -3.8909e-02 -6.0253e-02 -2.5861e-02  ...  -6.2057e-02  3.6383e-01 -2.4840e-02\n",
       "   -5.7192e-02 -8.8223e-03 -1.1827e-02  ...  -5.9902e-02  3.0872e-01 -2.5177e-04\n",
       "   -2.4463e-01  6.1552e-03  2.2067e-02  ...   1.4049e-01  2.3182e-02 -1.1812e-01\n",
       "  \n",
       "  ( 1 ,.,.) = \n",
       "   -2.9899e-01  5.8512e-03 -3.7190e-02  ...  -7.2077e-02  5.0503e-01 -1.8688e-02\n",
       "   -1.1423e-02  5.5068e-03 -7.0812e-03  ...   7.3334e-02  3.8334e-02 -2.9992e-02\n",
       "   -1.4615e-01 -1.5972e-02 -2.7980e-02  ...  -1.5886e-03  5.0222e-01 -9.6383e-04\n",
       "                   ...                   ⋱                   ...                \n",
       "    1.0402e-01 -1.3051e-01 -1.6440e-02  ...  -3.9252e-02  6.1233e-01 -2.6558e-02\n",
       "   -7.3465e-02 -1.8019e-01 -2.1855e-02  ...  -3.9778e-02  5.5043e-01 -1.8740e-04\n",
       "    6.2283e-02 -3.0742e-02  1.2336e-01  ...   1.2986e-01 -2.7870e-02 -3.2926e-03\n",
       "  \n",
       "  ( 2 ,.,.) = \n",
       "   -1.3065e-01  3.4590e-04 -4.8736e-02  ...   2.2447e-01  1.1593e-02 -4.0872e-02\n",
       "    6.5415e-02  4.3932e-03 -1.2467e-02  ...   9.6415e-03  2.9155e-02 -7.5566e-05\n",
       "   -3.4598e-01 -6.0523e-02 -8.3819e-04  ...  -4.9043e-01  1.9274e-01 -6.5293e-02\n",
       "                   ...                   ⋱                   ...                \n",
       "    3.6562e-03  1.1104e-03 -1.5632e-03  ...   5.1483e-02  1.4746e-01 -8.3704e-03\n",
       "    4.0973e-03 -8.1029e-03 -5.9487e-02  ...  -8.4727e-03  1.1454e-01 -3.5844e-01\n",
       "    3.0835e-04  8.9901e-03  3.4549e-02  ...   6.1432e-03 -3.1855e-03 -3.8692e-03\n",
       "  ... \n",
       "  \n",
       "  (20 ,.,.) = \n",
       "    1.0983e-01  1.5758e-01  1.3114e-01  ...   1.6956e-01 -3.7080e-02 -4.7871e-02\n",
       "   -7.8368e-02  2.1198e-01  8.0318e-03  ...  -3.3754e-02 -6.6924e-02 -7.6029e-05\n",
       "    3.1699e-03  6.3193e-04 -9.4069e-02  ...   5.6217e-03  7.8823e-04 -3.3773e-02\n",
       "                   ...                   ⋱                   ...                \n",
       "   -2.2605e-02  1.2682e-02  4.0811e-04  ...   1.3030e-04  1.7530e-04 -1.0891e-04\n",
       "   -3.4446e-01  3.4498e-02 -8.6447e-02  ...  -1.0753e-02 -9.4292e-03 -7.0632e-02\n",
       "   -1.6575e-01  8.5991e-02 -6.5148e-02  ...   8.4246e-02 -7.4495e-02 -1.2999e-02\n",
       "  \n",
       "  (21 ,.,.) = \n",
       "   -3.3199e-01  5.8398e-02  7.1637e-02  ...   1.6722e-01 -9.0462e-02 -9.6023e-03\n",
       "    5.3384e-01  4.3727e-03  1.6590e-02  ...   1.0160e-02 -5.1189e-02 -9.7782e-02\n",
       "   -1.4256e-01  1.0081e-01 -1.6593e-01  ...  -4.2517e-04  1.5921e-03 -1.1967e-01\n",
       "                   ...                   ⋱                   ...                \n",
       "    2.4160e-02  1.8691e-02 -1.1144e-03  ...   6.6946e-03  3.2454e-04 -1.4907e-03\n",
       "    1.9305e-02  7.1631e-02 -1.3381e-02  ...   4.3747e-02 -5.0154e-02 -8.4446e-04\n",
       "    3.2012e-02  1.6080e-02 -9.5336e-02  ...   6.3512e-02  4.0470e-04 -5.4793e-03\n",
       "  \n",
       "  (22 ,.,.) = \n",
       "    2.2713e-02  8.9866e-03  1.2480e-02  ...   1.0644e-02 -6.3243e-02 -2.8890e-02\n",
       "    8.7388e-02  4.8709e-02  4.3320e-03  ...   1.7024e-02 -8.0022e-02 -1.7719e-02\n",
       "    1.3228e-02  1.4754e-02 -5.1646e-02  ...   5.1609e-03  4.3660e-03 -9.6951e-03\n",
       "                   ...                   ⋱                   ...                \n",
       "   -6.0931e-03  5.9301e-02 -2.1901e-02  ...  -6.7434e-03  3.2453e-02 -1.6875e-02\n",
       "    1.5958e-02  6.2127e-02  5.9731e-02  ...   2.0244e-03  1.8768e-02 -9.1034e-02\n",
       "   -3.5246e-02  9.9037e-02 -1.0359e-01  ...   2.6774e-02 -2.8953e-02 -2.3805e-02\n",
       "  [torch.cuda.FloatTensor of size 23x256x100 (GPU 0)]], [Variable containing:\n",
       "  ( 0 ,.,.) = \n",
       "   -0.0000  1.0880 -1.0819  ...  -0.0000  0.0000  0.0000\n",
       "   -0.4283  0.0000 -0.0000  ...   0.0000 -0.0000 -0.0000\n",
       "   -0.0000  0.9701 -0.0626  ...  -0.0000 -0.0000 -0.0000\n",
       "             ...             ⋱             ...          \n",
       "   -0.0000  1.0879 -0.0000  ...  -0.0000 -0.0000 -0.0000\n",
       "   -0.0000  1.0880 -0.0000  ...   0.0000  0.0000  1.0861\n",
       "   -0.0000  1.0863 -0.0000  ...  -0.0000  0.0000  0.0162\n",
       "  \n",
       "  ( 1 ,.,.) = \n",
       "   -0.0000  1.3766 -1.2375  ...  -0.0000 -0.0000  1.0742\n",
       "   -0.0000  0.0000 -1.0769  ...   0.0000 -0.0000  0.0000\n",
       "   -0.0000  1.3534 -1.0880  ...  -0.0000 -0.0000  0.0000\n",
       "             ...             ⋱             ...          \n",
       "   -0.0036  0.0030 -0.0000  ...  -0.1373  0.0027  0.0000\n",
       "   -0.0468  1.3772 -0.0000  ...  -0.0000 -0.0000  0.0001\n",
       "   -0.0000  1.3749 -1.0916  ...  -0.0001 -0.0000  0.0027\n",
       "  \n",
       "  ( 2 ,.,.) = \n",
       "   -0.0000  0.0000 -0.9636  ...  -1.2868  0.0065 -0.0000\n",
       "   -0.3781  0.0000 -0.0000  ...   0.0000  0.0000  0.9210\n",
       "   -0.1552  0.0009 -0.2808  ...  -0.0241  0.1480  0.0021\n",
       "             ...             ⋱             ...          \n",
       "   -0.0000  0.0000 -0.0000  ...  -0.1407  0.0332  0.0000\n",
       "   -0.8506  0.0000 -0.0000  ...  -0.0000  0.0000  0.0000\n",
       "   -0.0000  0.0000 -0.0017  ...  -0.0031  0.0024  0.0353\n",
       "  ... \n",
       "  \n",
       "  (20 ,.,.) = \n",
       "   -0.0000  1.3379 -0.0000  ...  -0.0000  0.0005 -0.0411\n",
       "   -0.0000  0.0000  0.0392  ...  -1.0490  1.2683  0.0000\n",
       "    0.0476 -0.0000 -0.0005  ...   0.1043  0.8749  0.0000\n",
       "             ...             ⋱             ...          \n",
       "   -0.0207  0.0000 -0.0000  ...  -0.4756  0.2529  0.0000\n",
       "   -0.0000 -0.1521 -0.0000  ...  -0.0000 -0.0859  0.0000\n",
       "   -0.0000 -0.0000 -1.3319  ...  -1.1009 -0.0001  0.0022\n",
       "  \n",
       "  (21 ,.,.) = \n",
       "   -0.0007  0.0000 -0.0455  ...  -0.0283  0.0082  0.0492\n",
       "   -0.4600  0.0000 -0.0000  ...  -0.0000  1.1757  0.0000\n",
       "   -0.7467 -0.0000 -0.0000  ...   0.0000  0.0000 -0.0000\n",
       "             ...             ⋱             ...          \n",
       "   -0.0005  0.0009 -0.0000  ...  -0.1298  0.0042  0.0000\n",
       "   -0.0000  0.0829 -0.0000  ...  -0.0000 -0.0000  1.0887\n",
       "   -0.0000  0.0000 -0.8920  ...  -0.0000 -0.0202  0.0039\n",
       "  \n",
       "  (22 ,.,.) = \n",
       "   -0.0018  0.0002 -0.4884  ...  -0.2294  0.0486  0.1793\n",
       "   -0.0025  0.0000 -0.0049  ...  -0.0019  0.0129  0.2291\n",
       "   -0.0546  0.0000 -0.0171  ...  -0.0190  0.0001  0.0515\n",
       "             ...             ⋱             ...          \n",
       "   -0.0000 -0.0000 -0.0000  ...  -0.0000  0.0000  0.0000\n",
       "   -1.3502  0.0000 -0.0000  ...  -0.0000 -0.0000 -1.0867\n",
       "   -0.0000  0.0000 -0.0000  ...  -0.0006  0.4623  0.0000\n",
       "  [torch.cuda.FloatTensor of size 23x256x200 (GPU 0)], Variable containing:\n",
       "  ( 0 ,.,.) = \n",
       "    0.0055 -0.0000 -0.0035  ...  -0.0000 -0.0001 -0.0000\n",
       "    0.0002 -0.0000 -0.0007  ...  -0.0734 -0.0587 -0.0000\n",
       "    0.0002  0.0113 -0.0000  ...  -0.0324 -0.0001  0.0000\n",
       "             ...             ⋱             ...          \n",
       "   -0.0000 -0.0000 -0.0000  ...   0.0101 -0.0000  0.0000\n",
       "    0.0000  0.0000 -0.1233  ...  -0.0068 -0.0010 -0.0032\n",
       "   -0.0000  0.0000 -0.0000  ...   0.0125 -0.0000  0.0255\n",
       "  \n",
       "  ( 1 ,.,.) = \n",
       "    0.0002  0.0022 -0.0000  ...  -0.0000 -0.0000  0.0000\n",
       "   -0.0390 -0.0000 -0.0017  ...  -0.1637 -0.4353 -0.0000\n",
       "    0.0004  0.0222 -0.0000  ...  -0.0389 -0.0087  0.0000\n",
       "             ...             ⋱             ...          \n",
       "   -0.0000  0.0000 -0.0000  ...  -0.0242 -0.0000  0.0000\n",
       "    0.0000  0.0001 -0.0000  ...   0.0148 -0.0007  0.0024\n",
       "   -0.0000  0.0001 -0.0000  ...  -0.1221 -0.0000  0.0004\n",
       "  \n",
       "  ( 2 ,.,.) = \n",
       "    0.0000  1.0133 -0.1957  ...  -0.0000 -0.0022  0.0000\n",
       "   -0.0122  0.0000 -0.1268  ...  -0.0397 -0.0001 -0.0000\n",
       "    0.0254  0.0515 -0.0000  ...  -0.0261 -0.6277  0.0000\n",
       "             ...             ⋱             ...          \n",
       "   -0.0000  0.0000 -0.0000  ...  -0.0731 -0.0000 -0.0000\n",
       "    0.0000  0.0002 -0.4106  ...   0.0220 -0.0498  0.0001\n",
       "    0.0000  0.0005 -0.0000  ...   0.0849 -0.0000  0.0002\n",
       "  ... \n",
       "  \n",
       "  (20 ,.,.) = \n",
       "    0.0000  0.0002 -0.0000  ...   0.0000 -0.0004 -0.0000\n",
       "    0.0003  0.0000 -0.0054  ...   0.5868 -1.3182 -0.0000\n",
       "    0.0002  0.0168 -0.0000  ...   0.1714 -0.0190 -0.0000\n",
       "             ...             ⋱             ...          \n",
       "    0.0000  0.0000 -0.0000  ...   0.1680 -0.0000 -0.0000\n",
       "   -0.0000 -0.0125 -0.0000  ...   0.0125 -0.0000 -0.0042\n",
       "    0.0000  0.0006 -0.0000  ...  -0.1960 -0.0000  0.0000\n",
       "  \n",
       "  (21 ,.,.) = \n",
       "    0.0470 -0.0154 -0.0078  ...   0.0000 -0.1773 -0.0000\n",
       "    0.0000  0.0000 -0.0127  ...   0.4002 -0.0016 -0.0000\n",
       "    0.0005  0.0000 -0.0000  ...   0.1762 -0.0041 -0.0000\n",
       "             ...             ⋱             ...          \n",
       "    0.0000 -0.0000 -0.0000  ...   0.2509 -0.0000 -0.0000\n",
       "   -0.0002 -0.0062 -0.0002  ...   0.0303 -0.0015  0.0016\n",
       "    0.0000  0.0082 -0.0000  ...   0.0026 -0.0000 -0.0000\n",
       "  \n",
       "  (22 ,.,.) = \n",
       "    0.0022  0.0144 -0.0434  ...   0.0000 -0.0147 -0.0000\n",
       "    0.0046 -0.0000 -0.0174  ...   0.3432 -0.8348 -0.0000\n",
       "    0.0001  0.0062 -0.0000  ...   0.1437 -0.6461 -0.0000\n",
       "             ...             ⋱             ...          \n",
       "    0.0000 -0.0000 -0.0000  ...   0.2270 -0.0000 -0.0000\n",
       "   -0.0000  0.0001 -0.0013  ...   0.0212 -0.1892  0.0002\n",
       "    0.0000  0.0354 -0.0000  ...   0.0106 -0.0000 -0.0001\n",
       "  [torch.cuda.FloatTensor of size 23x256x200 (GPU 0)], Variable containing:\n",
       "  ( 0 ,.,.) = \n",
       "    3.3421e-02  1.2100e-02 -1.4586e-02  ...  -2.4696e-02 -1.7886e-01 -1.2184e-02\n",
       "   -1.1174e-02  2.7869e-03 -1.1411e-03  ...   8.8319e-03  2.5977e-02 -7.2571e-03\n",
       "   -1.1829e-02 -9.6479e-03 -3.5304e-02  ...  -5.9544e-02  2.5520e-01 -8.9380e-04\n",
       "                   ...                   ⋱                   ...                \n",
       "   -3.8909e-02 -6.0253e-02 -2.5861e-02  ...  -6.2057e-02  3.6383e-01 -2.4840e-02\n",
       "   -5.7192e-02 -8.8223e-03 -1.1827e-02  ...  -5.9902e-02  3.0872e-01 -2.5177e-04\n",
       "   -2.4463e-01  6.1552e-03  2.2067e-02  ...   1.4049e-01  2.3182e-02 -1.1812e-01\n",
       "  \n",
       "  ( 1 ,.,.) = \n",
       "   -2.9899e-01  5.8512e-03 -3.7190e-02  ...  -7.2077e-02  5.0503e-01 -1.8688e-02\n",
       "   -1.1423e-02  5.5068e-03 -7.0812e-03  ...   7.3334e-02  3.8334e-02 -2.9992e-02\n",
       "   -1.4615e-01 -1.5972e-02 -2.7980e-02  ...  -1.5886e-03  5.0222e-01 -9.6383e-04\n",
       "                   ...                   ⋱                   ...                \n",
       "    1.0402e-01 -1.3051e-01 -1.6440e-02  ...  -3.9252e-02  6.1233e-01 -2.6558e-02\n",
       "   -7.3465e-02 -1.8019e-01 -2.1855e-02  ...  -3.9778e-02  5.5043e-01 -1.8740e-04\n",
       "    6.2283e-02 -3.0742e-02  1.2336e-01  ...   1.2986e-01 -2.7870e-02 -3.2926e-03\n",
       "  \n",
       "  ( 2 ,.,.) = \n",
       "   -1.3065e-01  3.4590e-04 -4.8736e-02  ...   2.2447e-01  1.1593e-02 -4.0872e-02\n",
       "    6.5415e-02  4.3932e-03 -1.2467e-02  ...   9.6415e-03  2.9155e-02 -7.5566e-05\n",
       "   -3.4598e-01 -6.0523e-02 -8.3819e-04  ...  -4.9043e-01  1.9274e-01 -6.5293e-02\n",
       "                   ...                   ⋱                   ...                \n",
       "    3.6562e-03  1.1104e-03 -1.5632e-03  ...   5.1483e-02  1.4746e-01 -8.3704e-03\n",
       "    4.0973e-03 -8.1029e-03 -5.9487e-02  ...  -8.4727e-03  1.1454e-01 -3.5844e-01\n",
       "    3.0835e-04  8.9901e-03  3.4549e-02  ...   6.1432e-03 -3.1855e-03 -3.8692e-03\n",
       "  ... \n",
       "  \n",
       "  (20 ,.,.) = \n",
       "    1.0983e-01  1.5758e-01  1.3114e-01  ...   1.6956e-01 -3.7080e-02 -4.7871e-02\n",
       "   -7.8368e-02  2.1198e-01  8.0318e-03  ...  -3.3754e-02 -6.6924e-02 -7.6029e-05\n",
       "    3.1699e-03  6.3193e-04 -9.4069e-02  ...   5.6217e-03  7.8823e-04 -3.3773e-02\n",
       "                   ...                   ⋱                   ...                \n",
       "   -2.2605e-02  1.2682e-02  4.0811e-04  ...   1.3030e-04  1.7530e-04 -1.0891e-04\n",
       "   -3.4446e-01  3.4498e-02 -8.6447e-02  ...  -1.0753e-02 -9.4292e-03 -7.0632e-02\n",
       "   -1.6575e-01  8.5991e-02 -6.5148e-02  ...   8.4246e-02 -7.4495e-02 -1.2999e-02\n",
       "  \n",
       "  (21 ,.,.) = \n",
       "   -3.3199e-01  5.8398e-02  7.1637e-02  ...   1.6722e-01 -9.0462e-02 -9.6023e-03\n",
       "    5.3384e-01  4.3727e-03  1.6590e-02  ...   1.0160e-02 -5.1189e-02 -9.7782e-02\n",
       "   -1.4256e-01  1.0081e-01 -1.6593e-01  ...  -4.2517e-04  1.5921e-03 -1.1967e-01\n",
       "                   ...                   ⋱                   ...                \n",
       "    2.4160e-02  1.8691e-02 -1.1144e-03  ...   6.6946e-03  3.2454e-04 -1.4907e-03\n",
       "    1.9305e-02  7.1631e-02 -1.3381e-02  ...   4.3747e-02 -5.0154e-02 -8.4446e-04\n",
       "    3.2012e-02  1.6080e-02 -9.5336e-02  ...   6.3512e-02  4.0470e-04 -5.4793e-03\n",
       "  \n",
       "  (22 ,.,.) = \n",
       "    2.2713e-02  8.9866e-03  1.2480e-02  ...   1.0644e-02 -6.3243e-02 -2.8890e-02\n",
       "    8.7388e-02  4.8709e-02  4.3320e-03  ...   1.7024e-02 -8.0022e-02 -1.7719e-02\n",
       "    1.3228e-02  1.4754e-02 -5.1646e-02  ...   5.1609e-03  4.3660e-03 -9.6951e-03\n",
       "                   ...                   ⋱                   ...                \n",
       "   -6.0931e-03  5.9301e-02 -2.1901e-02  ...  -6.7434e-03  3.2453e-02 -1.6875e-02\n",
       "    1.5958e-02  6.2127e-02  5.9731e-02  ...   2.0244e-03  1.8768e-02 -9.1034e-02\n",
       "   -3.5246e-02  9.9037e-02 -1.0359e-01  ...   2.6774e-02 -2.8953e-02 -2.3805e-02\n",
       "  [torch.cuda.FloatTensor of size 23x256x100 (GPU 0)]])"
      ]
     },
     "execution_count": 163,
     "metadata": {},
     "output_type": "execute_result"
    }
   ],
   "source": [
    "output"
   ]
  },
  {
   "cell_type": "code",
   "execution_count": 164,
   "metadata": {},
   "outputs": [
    {
     "data": {
      "application/vnd.jupyter.widget-view+json": {
       "model_id": "66570d1e350e4b919c591e23dc415168",
       "version_major": 2,
       "version_minor": 0
      },
      "text/plain": [
       "A Jupyter Widget"
      ]
     },
     "metadata": {},
     "output_type": "display_data"
    },
    {
     "name": "stdout",
     "output_type": "stream",
     "text": [
      "  0%|          | 0/3764 [00:00<?, ?it/s]                    "
     ]
    },
    {
     "ename": "RuntimeError",
     "evalue": "cuda runtime error (2) : out of memory at /opt/conda/conda-bld/pytorch_1511320797808/work/torch/lib/THC/generic/THCTensorMath.cu:35",
     "output_type": "error",
     "traceback": [
      "\u001b[0;31m---------------------------------------------------------------------------\u001b[0m",
      "\u001b[0;31mRuntimeError\u001b[0m                              Traceback (most recent call last)",
      "\u001b[0;32m<ipython-input-164-a954d7a49894>\u001b[0m in \u001b[0;36m<module>\u001b[0;34m()\u001b[0m\n\u001b[0;32m----> 1\u001b[0;31m \u001b[0mlearner\u001b[0m\u001b[0;34m.\u001b[0m\u001b[0mlr_find\u001b[0m\u001b[0;34m(\u001b[0m\u001b[0;34m)\u001b[0m\u001b[0;34m\u001b[0m\u001b[0m\n\u001b[0m",
      "\u001b[0;32m~/mercari/fastai/learner.py\u001b[0m in \u001b[0;36mlr_find\u001b[0;34m(self, start_lr, end_lr, wds)\u001b[0m\n\u001b[1;32m    254\u001b[0m         \u001b[0mlayer_opt\u001b[0m \u001b[0;34m=\u001b[0m \u001b[0mself\u001b[0m\u001b[0;34m.\u001b[0m\u001b[0mget_layer_opt\u001b[0m\u001b[0;34m(\u001b[0m\u001b[0mstart_lr\u001b[0m\u001b[0;34m,\u001b[0m \u001b[0mwds\u001b[0m\u001b[0;34m)\u001b[0m\u001b[0;34m\u001b[0m\u001b[0m\n\u001b[1;32m    255\u001b[0m         \u001b[0mself\u001b[0m\u001b[0;34m.\u001b[0m\u001b[0msched\u001b[0m \u001b[0;34m=\u001b[0m \u001b[0mLR_Finder\u001b[0m\u001b[0;34m(\u001b[0m\u001b[0mlayer_opt\u001b[0m\u001b[0;34m,\u001b[0m \u001b[0mlen\u001b[0m\u001b[0;34m(\u001b[0m\u001b[0mself\u001b[0m\u001b[0;34m.\u001b[0m\u001b[0mdata\u001b[0m\u001b[0;34m.\u001b[0m\u001b[0mtrn_dl\u001b[0m\u001b[0;34m)\u001b[0m\u001b[0;34m,\u001b[0m \u001b[0mend_lr\u001b[0m\u001b[0;34m)\u001b[0m\u001b[0;34m\u001b[0m\u001b[0m\n\u001b[0;32m--> 256\u001b[0;31m         \u001b[0mself\u001b[0m\u001b[0;34m.\u001b[0m\u001b[0mfit_gen\u001b[0m\u001b[0;34m(\u001b[0m\u001b[0mself\u001b[0m\u001b[0;34m.\u001b[0m\u001b[0mmodel\u001b[0m\u001b[0;34m,\u001b[0m \u001b[0mself\u001b[0m\u001b[0;34m.\u001b[0m\u001b[0mdata\u001b[0m\u001b[0;34m,\u001b[0m \u001b[0mlayer_opt\u001b[0m\u001b[0;34m,\u001b[0m \u001b[0;36m1\u001b[0m\u001b[0;34m)\u001b[0m\u001b[0;34m\u001b[0m\u001b[0m\n\u001b[0m\u001b[1;32m    257\u001b[0m         \u001b[0mself\u001b[0m\u001b[0;34m.\u001b[0m\u001b[0mload\u001b[0m\u001b[0;34m(\u001b[0m\u001b[0;34m'tmp'\u001b[0m\u001b[0;34m)\u001b[0m\u001b[0;34m\u001b[0m\u001b[0m\n\u001b[1;32m    258\u001b[0m \u001b[0;34m\u001b[0m\u001b[0m\n",
      "\u001b[0;32m~/mercari/fastai/learner.py\u001b[0m in \u001b[0;36mfit_gen\u001b[0;34m(self, model, data, layer_opt, n_cycle, cycle_len, cycle_mult, cycle_save_name, metrics, callbacks, use_wd_sched, norm_wds, wds_sched_mult, **kwargs)\u001b[0m\n\u001b[1;32m    158\u001b[0m         \u001b[0mn_epoch\u001b[0m \u001b[0;34m=\u001b[0m \u001b[0msum_geom\u001b[0m\u001b[0;34m(\u001b[0m\u001b[0mcycle_len\u001b[0m \u001b[0;32mif\u001b[0m \u001b[0mcycle_len\u001b[0m \u001b[0;32melse\u001b[0m \u001b[0;36m1\u001b[0m\u001b[0;34m,\u001b[0m \u001b[0mcycle_mult\u001b[0m\u001b[0;34m,\u001b[0m \u001b[0mn_cycle\u001b[0m\u001b[0;34m)\u001b[0m\u001b[0;34m\u001b[0m\u001b[0m\n\u001b[1;32m    159\u001b[0m         fit(model, data, n_epoch, layer_opt.opt, self.crit,\n\u001b[0;32m--> 160\u001b[0;31m             metrics=metrics, callbacks=callbacks, reg_fn=self.reg_fn, clip=self.clip, **kwargs)\n\u001b[0m\u001b[1;32m    161\u001b[0m \u001b[0;34m\u001b[0m\u001b[0m\n\u001b[1;32m    162\u001b[0m     \u001b[0;32mdef\u001b[0m \u001b[0mget_layer_groups\u001b[0m\u001b[0;34m(\u001b[0m\u001b[0mself\u001b[0m\u001b[0;34m)\u001b[0m\u001b[0;34m:\u001b[0m \u001b[0;32mreturn\u001b[0m \u001b[0mself\u001b[0m\u001b[0;34m.\u001b[0m\u001b[0mmodels\u001b[0m\u001b[0;34m.\u001b[0m\u001b[0mget_layer_groups\u001b[0m\u001b[0;34m(\u001b[0m\u001b[0;34m)\u001b[0m\u001b[0;34m\u001b[0m\u001b[0m\n",
      "\u001b[0;32m~/mercari/fastai/model.py\u001b[0m in \u001b[0;36mfit\u001b[0;34m(model, data, epochs, opt, crit, metrics, callbacks, **kwargs)\u001b[0m\n\u001b[1;32m     89\u001b[0m             \u001b[0mmodel\u001b[0m\u001b[0;34m.\u001b[0m\u001b[0mxz\u001b[0m \u001b[0;34m=\u001b[0m \u001b[0mx\u001b[0m\u001b[0;34m\u001b[0m\u001b[0m\n\u001b[1;32m     90\u001b[0m             \u001b[0mmodel\u001b[0m\u001b[0;34m.\u001b[0m\u001b[0myz\u001b[0m \u001b[0;34m=\u001b[0m \u001b[0my\u001b[0m\u001b[0;34m\u001b[0m\u001b[0m\n\u001b[0;32m---> 91\u001b[0;31m             \u001b[0mloss\u001b[0m \u001b[0;34m=\u001b[0m \u001b[0mstepper\u001b[0m\u001b[0;34m.\u001b[0m\u001b[0mstep\u001b[0m\u001b[0;34m(\u001b[0m\u001b[0mV\u001b[0m\u001b[0;34m(\u001b[0m\u001b[0mx\u001b[0m\u001b[0;34m)\u001b[0m\u001b[0;34m,\u001b[0m\u001b[0mV\u001b[0m\u001b[0;34m(\u001b[0m\u001b[0my\u001b[0m\u001b[0;34m)\u001b[0m\u001b[0;34m)\u001b[0m\u001b[0;34m\u001b[0m\u001b[0m\n\u001b[0m\u001b[1;32m     92\u001b[0m             \u001b[0mavg_loss\u001b[0m \u001b[0;34m=\u001b[0m \u001b[0mavg_loss\u001b[0m \u001b[0;34m*\u001b[0m \u001b[0mavg_mom\u001b[0m \u001b[0;34m+\u001b[0m \u001b[0mloss\u001b[0m \u001b[0;34m*\u001b[0m \u001b[0;34m(\u001b[0m\u001b[0;36m1\u001b[0m\u001b[0;34m-\u001b[0m\u001b[0mavg_mom\u001b[0m\u001b[0;34m)\u001b[0m\u001b[0;34m\u001b[0m\u001b[0m\n\u001b[1;32m     93\u001b[0m             \u001b[0mdebias_loss\u001b[0m \u001b[0;34m=\u001b[0m \u001b[0mavg_loss\u001b[0m \u001b[0;34m/\u001b[0m \u001b[0;34m(\u001b[0m\u001b[0;36m1\u001b[0m \u001b[0;34m-\u001b[0m \u001b[0mavg_mom\u001b[0m\u001b[0;34m**\u001b[0m\u001b[0mbatch_num\u001b[0m\u001b[0;34m)\u001b[0m\u001b[0;34m\u001b[0m\u001b[0m\n",
      "\u001b[0;32m~/mercari/fastai/model.py\u001b[0m in \u001b[0;36mstep\u001b[0;34m(self, xs, y)\u001b[0m\n\u001b[1;32m     43\u001b[0m         \u001b[0mloss\u001b[0m \u001b[0;34m=\u001b[0m \u001b[0mraw_loss\u001b[0m \u001b[0;34m=\u001b[0m \u001b[0mself\u001b[0m\u001b[0;34m.\u001b[0m\u001b[0mcrit\u001b[0m\u001b[0;34m(\u001b[0m\u001b[0moutput\u001b[0m\u001b[0;34m,\u001b[0m \u001b[0my\u001b[0m\u001b[0;34m)\u001b[0m\u001b[0;34m\u001b[0m\u001b[0m\n\u001b[1;32m     44\u001b[0m         \u001b[0;32mif\u001b[0m \u001b[0mself\u001b[0m\u001b[0;34m.\u001b[0m\u001b[0mreg_fn\u001b[0m\u001b[0;34m:\u001b[0m \u001b[0mloss\u001b[0m \u001b[0;34m=\u001b[0m \u001b[0mself\u001b[0m\u001b[0;34m.\u001b[0m\u001b[0mreg_fn\u001b[0m\u001b[0;34m(\u001b[0m\u001b[0moutput\u001b[0m\u001b[0;34m,\u001b[0m \u001b[0mxtra\u001b[0m\u001b[0;34m,\u001b[0m \u001b[0mraw_loss\u001b[0m\u001b[0;34m)\u001b[0m\u001b[0;34m\u001b[0m\u001b[0m\n\u001b[0;32m---> 45\u001b[0;31m         \u001b[0mloss\u001b[0m\u001b[0;34m.\u001b[0m\u001b[0mbackward\u001b[0m\u001b[0;34m(\u001b[0m\u001b[0;34m)\u001b[0m\u001b[0;34m\u001b[0m\u001b[0m\n\u001b[0m\u001b[1;32m     46\u001b[0m         \u001b[0;32mif\u001b[0m \u001b[0mself\u001b[0m\u001b[0;34m.\u001b[0m\u001b[0mclip\u001b[0m\u001b[0;34m:\u001b[0m   \u001b[0;31m# Gradient clipping\u001b[0m\u001b[0;34m\u001b[0m\u001b[0m\n\u001b[1;32m     47\u001b[0m             \u001b[0mnn\u001b[0m\u001b[0;34m.\u001b[0m\u001b[0mutils\u001b[0m\u001b[0;34m.\u001b[0m\u001b[0mclip_grad_norm\u001b[0m\u001b[0;34m(\u001b[0m\u001b[0mtrainable_params_\u001b[0m\u001b[0;34m(\u001b[0m\u001b[0mself\u001b[0m\u001b[0;34m.\u001b[0m\u001b[0mm\u001b[0m\u001b[0;34m)\u001b[0m\u001b[0;34m,\u001b[0m \u001b[0mself\u001b[0m\u001b[0;34m.\u001b[0m\u001b[0mclip\u001b[0m\u001b[0;34m)\u001b[0m\u001b[0;34m\u001b[0m\u001b[0m\n",
      "\u001b[0;32m~/anaconda3/lib/python3.6/site-packages/torch/autograd/variable.py\u001b[0m in \u001b[0;36mbackward\u001b[0;34m(self, gradient, retain_graph, create_graph, retain_variables)\u001b[0m\n\u001b[1;32m    154\u001b[0m                 \u001b[0mVariable\u001b[0m\u001b[0;34m.\u001b[0m\u001b[0;34m\u001b[0m\u001b[0m\n\u001b[1;32m    155\u001b[0m         \"\"\"\n\u001b[0;32m--> 156\u001b[0;31m         \u001b[0mtorch\u001b[0m\u001b[0;34m.\u001b[0m\u001b[0mautograd\u001b[0m\u001b[0;34m.\u001b[0m\u001b[0mbackward\u001b[0m\u001b[0;34m(\u001b[0m\u001b[0mself\u001b[0m\u001b[0;34m,\u001b[0m \u001b[0mgradient\u001b[0m\u001b[0;34m,\u001b[0m \u001b[0mretain_graph\u001b[0m\u001b[0;34m,\u001b[0m \u001b[0mcreate_graph\u001b[0m\u001b[0;34m,\u001b[0m \u001b[0mretain_variables\u001b[0m\u001b[0;34m)\u001b[0m\u001b[0;34m\u001b[0m\u001b[0m\n\u001b[0m\u001b[1;32m    157\u001b[0m \u001b[0;34m\u001b[0m\u001b[0m\n\u001b[1;32m    158\u001b[0m     \u001b[0;32mdef\u001b[0m \u001b[0mregister_hook\u001b[0m\u001b[0;34m(\u001b[0m\u001b[0mself\u001b[0m\u001b[0;34m,\u001b[0m \u001b[0mhook\u001b[0m\u001b[0;34m)\u001b[0m\u001b[0;34m:\u001b[0m\u001b[0;34m\u001b[0m\u001b[0m\n",
      "\u001b[0;32m~/anaconda3/lib/python3.6/site-packages/torch/autograd/__init__.py\u001b[0m in \u001b[0;36mbackward\u001b[0;34m(variables, grad_variables, retain_graph, create_graph, retain_variables)\u001b[0m\n\u001b[1;32m     96\u001b[0m \u001b[0;34m\u001b[0m\u001b[0m\n\u001b[1;32m     97\u001b[0m     Variable._execution_engine.run_backward(\n\u001b[0;32m---> 98\u001b[0;31m         variables, grad_variables, retain_graph)\n\u001b[0m\u001b[1;32m     99\u001b[0m \u001b[0;34m\u001b[0m\u001b[0m\n\u001b[1;32m    100\u001b[0m \u001b[0;34m\u001b[0m\u001b[0m\n",
      "\u001b[0;32m~/anaconda3/lib/python3.6/site-packages/torch/autograd/function.py\u001b[0m in \u001b[0;36mapply\u001b[0;34m(self, *args)\u001b[0m\n\u001b[1;32m     89\u001b[0m \u001b[0;34m\u001b[0m\u001b[0m\n\u001b[1;32m     90\u001b[0m     \u001b[0;32mdef\u001b[0m \u001b[0mapply\u001b[0m\u001b[0;34m(\u001b[0m\u001b[0mself\u001b[0m\u001b[0;34m,\u001b[0m \u001b[0;34m*\u001b[0m\u001b[0margs\u001b[0m\u001b[0;34m)\u001b[0m\u001b[0;34m:\u001b[0m\u001b[0;34m\u001b[0m\u001b[0m\n\u001b[0;32m---> 91\u001b[0;31m         \u001b[0;32mreturn\u001b[0m \u001b[0mself\u001b[0m\u001b[0;34m.\u001b[0m\u001b[0m_forward_cls\u001b[0m\u001b[0;34m.\u001b[0m\u001b[0mbackward\u001b[0m\u001b[0;34m(\u001b[0m\u001b[0mself\u001b[0m\u001b[0;34m,\u001b[0m \u001b[0;34m*\u001b[0m\u001b[0margs\u001b[0m\u001b[0;34m)\u001b[0m\u001b[0;34m\u001b[0m\u001b[0m\n\u001b[0m\u001b[1;32m     92\u001b[0m \u001b[0;34m\u001b[0m\u001b[0m\n\u001b[1;32m     93\u001b[0m \u001b[0;34m\u001b[0m\u001b[0m\n",
      "\u001b[0;32m~/anaconda3/lib/python3.6/site-packages/torch/nn/_functions/thnn/auto.py\u001b[0m in \u001b[0;36mbackward\u001b[0;34m(ctx, grad_output)\u001b[0m\n\u001b[1;32m     52\u001b[0m         \u001b[0minput\u001b[0m\u001b[0;34m,\u001b[0m \u001b[0mtarget\u001b[0m \u001b[0;34m=\u001b[0m \u001b[0mctx\u001b[0m\u001b[0;34m.\u001b[0m\u001b[0msaved_variables\u001b[0m\u001b[0;34m\u001b[0m\u001b[0m\n\u001b[1;32m     53\u001b[0m         \u001b[0;31m# apply returns grad_input, so we need to return Nones for target (1) + 1 for each extra arg passed to forward.\u001b[0m\u001b[0;34m\u001b[0m\u001b[0;34m\u001b[0m\u001b[0m\n\u001b[0;32m---> 54\u001b[0;31m         return ((backward_cls.apply(input, target, grad_output, ctx.additional_args, ctx._backend),) +\n\u001b[0m\u001b[1;32m     55\u001b[0m                 (None,) * (ctx.forward_args_count + 1))\n\u001b[1;32m     56\u001b[0m \u001b[0;34m\u001b[0m\u001b[0m\n",
      "\u001b[0;32m~/anaconda3/lib/python3.6/site-packages/torch/nn/_functions/thnn/auto.py\u001b[0m in \u001b[0;36mbackward_cls_forward\u001b[0;34m(ctx, input, target, grad_output, additional_args_ctx, backend_ctx)\u001b[0m\n\u001b[1;32m     60\u001b[0m         \u001b[0mctx\u001b[0m\u001b[0;34m.\u001b[0m\u001b[0m_backend\u001b[0m \u001b[0;34m=\u001b[0m \u001b[0mbackend_ctx\u001b[0m\u001b[0;34m\u001b[0m\u001b[0m\n\u001b[1;32m     61\u001b[0m         \u001b[0mctx\u001b[0m\u001b[0;34m.\u001b[0m\u001b[0msave_for_backward\u001b[0m\u001b[0;34m(\u001b[0m\u001b[0minput\u001b[0m\u001b[0;34m,\u001b[0m \u001b[0mtarget\u001b[0m\u001b[0;34m,\u001b[0m \u001b[0mgrad_output\u001b[0m\u001b[0;34m)\u001b[0m\u001b[0;34m\u001b[0m\u001b[0m\n\u001b[0;32m---> 62\u001b[0;31m         \u001b[0mgrad_input\u001b[0m \u001b[0;34m=\u001b[0m \u001b[0mgrad_output\u001b[0m\u001b[0;34m.\u001b[0m\u001b[0mnew\u001b[0m\u001b[0;34m(\u001b[0m\u001b[0;34m)\u001b[0m\u001b[0;34m.\u001b[0m\u001b[0mresize_as_\u001b[0m\u001b[0;34m(\u001b[0m\u001b[0minput\u001b[0m\u001b[0;34m)\u001b[0m\u001b[0;34m.\u001b[0m\u001b[0mzero_\u001b[0m\u001b[0;34m(\u001b[0m\u001b[0;34m)\u001b[0m\u001b[0;34m\u001b[0m\u001b[0m\n\u001b[0m\u001b[1;32m     63\u001b[0m         getattr(ctx._backend, update_grad_input.name)(ctx._backend.library_state, input, target,\n\u001b[1;32m     64\u001b[0m                                                       grad_input, *ctx.additional_args)\n",
      "\u001b[0;31mRuntimeError\u001b[0m: cuda runtime error (2) : out of memory at /opt/conda/conda-bld/pytorch_1511320797808/work/torch/lib/THC/generic/THCTensorMath.cu:35"
     ]
    }
   ],
   "source": [
    "learner.lr_find()"
   ]
  },
  {
   "cell_type": "code",
   "execution_count": 102,
   "metadata": {
    "scrolled": true
   },
   "outputs": [
    {
     "data": {
      "image/png": "[encoded data removed]",
      "text/plain": [
       "<matplotlib.figure.Figure at 0x7fdba206b8d0>"
      ]
     },
     "metadata": {},
     "output_type": "display_data"
    }
   ],
   "source": [
    "learner.sched.plot()"
   ]
  },
  {
   "cell_type": "code",
   "execution_count": 93,
   "metadata": {
    "collapsed": true
   },
   "outputs": [],
   "source": [
    "??learner.crit"
   ]
  },
  {
   "cell_type": "code",
   "execution_count": 94,
   "metadata": {},
   "outputs": [
    {
     "data": {
      "application/vnd.jupyter.widget-view+json": {
       "model_id": "cfff9ca79a0b4a1c9f362971d5e9da4a",
       "version_major": 2,
       "version_minor": 0
      },
      "text/plain": [
       "A Jupyter Widget"
      ]
     },
     "metadata": {},
     "output_type": "display_data"
    },
    {
     "name": "stdout",
     "output_type": "stream",
     "text": [
      "epoch      trn_loss   val_loss                              \n",
      "    0      16.431645  14.061416 \n",
      "\n"
     ]
    },
    {
     "data": {
      "application/vnd.jupyter.widget-view+json": {
       "model_id": "bb88082d899c4bffae46f120100b3722",
       "version_major": 2,
       "version_minor": 0
      },
      "text/plain": [
       "A Jupyter Widget"
      ]
     },
     "metadata": {},
     "output_type": "display_data"
    },
    {
     "name": "stdout",
     "output_type": "stream",
     "text": [
      "epoch      trn_loss   val_loss                               \n",
      "    0      0.65052    0.062206  \n",
      "\n"
     ]
    },
    {
     "data": {
      "text/plain": [
       "[0.062205672]"
      ]
     },
     "execution_count": 94,
     "metadata": {},
     "output_type": "execute_result"
    }
   ],
   "source": [
    "lrs=np.array([1.0e-4,1.0e-3,1.0e-2])\n",
    "learner.freeze_to(-2)\n",
    "learner.fit(lrs/2, 1)\n",
    "learner.unfreeze()\n",
    "learner.fit(lrs, 1, cycle_len=1)"
   ]
  },
  {
   "cell_type": "code",
   "execution_count": 84,
   "metadata": {},
   "outputs": [
    {
     "data": {
      "application/vnd.jupyter.widget-view+json": {
       "model_id": "6bcd61c58c404d12b056ff9e02b4563a",
       "version_major": 2,
       "version_minor": 0
      },
      "text/plain": [
       "A Jupyter Widget"
      ]
     },
     "metadata": {},
     "output_type": "display_data"
    },
    {
     "name": "stdout",
     "output_type": "stream",
     "text": [
      "epoch      trn_loss   val_loss                               \n",
      "    0      0.143078   0.030417  \n",
      "    1      0.141826   0.031732                               \n",
      "    2      0.13973    0.031122                               \n",
      "    3      0.141468   0.033243                               \n",
      "    4      0.13998    0.031004                               \n",
      "    5      0.139549   0.029887                               \n",
      "    6      0.140449   0.029943                               \n",
      "\n"
     ]
    },
    {
     "data": {
      "text/plain": [
       "[0.029943017]"
      ]
     },
     "execution_count": 84,
     "metadata": {},
     "output_type": "execute_result"
    }
   ],
   "source": [
    "learner.fit(lrs, 3, cycle_len=1, cycle_mult=2, cycle_save_name='mercari')"
   ]
  },
  {
   "cell_type": "code",
   "execution_count": 85,
   "metadata": {},
   "outputs": [
    {
     "data": {
      "image/png": "[encoded data removed]",
      "text/plain": [
       "<matplotlib.figure.Figure at 0x7f4f3e33c9b0>"
      ]
     },
     "metadata": {},
     "output_type": "display_data"
    }
   ],
   "source": [
    "learner.sched.plot_loss()"
   ]
  },
  {
   "cell_type": "markdown",
   "metadata": {},
   "source": [
    "# Learner and Model"
   ]
  },
  {
   "cell_type": "code",
   "execution_count": 24,
   "metadata": {
    "collapsed": true
   },
   "outputs": [],
   "source": [
    "dep = 'price'\n",
    "test[dep] = 0\n",
    "joined = train[cat_vars+contin_vars+[dep,'name']].copy()\n",
    "joined_test = test[cat_vars+contin_vars+[dep, 'name',  'test_id']].copy()"
   ]
  },
  {
   "cell_type": "code",
   "execution_count": 25,
   "metadata": {},
   "outputs": [
    {
     "data": {
      "text/plain": [
       "['cat1',\n",
       " 'cat2',\n",
       " 'cat3',\n",
       " 'brand_name',\n",
       " 'shipping',\n",
       " 'item_condition_id',\n",
       " 'price',\n",
       " 'name']"
      ]
     },
     "execution_count": 25,
     "metadata": {},
     "output_type": "execute_result"
    }
   ],
   "source": [
    "cat_vars+contin_vars+[dep,'name']"
   ]
  },
  {
   "cell_type": "code",
   "execution_count": 26,
   "metadata": {
    "collapsed": true
   },
   "outputs": [],
   "source": [
    "######## NYI\n",
    "# factors the individual columns (does not make sense for item_description need NLP??)\n",
    "for v in cat_vars: joined[v] = joined[v].astype('category').cat.as_ordered()"
   ]
  },
  {
   "cell_type": "code",
   "execution_count": 27,
   "metadata": {
    "collapsed": true
   },
   "outputs": [],
   "source": [
    "apply_cats(joined_test, joined)"
   ]
  },
  {
   "cell_type": "code",
   "execution_count": 28,
   "metadata": {
    "collapsed": true
   },
   "outputs": [],
   "source": [
    "for v in contin_vars:\n",
    "    joined[v] = joined[v].astype('float32')\n",
    "    joined_test[v] = joined_test[v].astype('float32')"
   ]
  },
  {
   "cell_type": "code",
   "execution_count": 29,
   "metadata": {
    "collapsed": true
   },
   "outputs": [],
   "source": [
    "#joined['item_condition_id'] = joined.item_condition_id.astype(np.int32)\n",
    "#joined['shipping'] = joined.shipping.astype(np.int32)\n",
    "#joined_test['item_condition_id'] = joined_test.item_condition_id.astype(np.int32)\n",
    "#joined_test['shipping'] = joined_test.shipping.astype(np.int32)"
   ]
  },
  {
   "cell_type": "code",
   "execution_count": 30,
   "metadata": {},
   "outputs": [
    {
     "data": {
      "text/plain": [
       "296507"
      ]
     },
     "execution_count": 30,
     "metadata": {},
     "output_type": "execute_result"
    }
   ],
   "source": [
    "n = len(joined)\n",
    "idxs = get_cv_idxs(n, val_pct=0.2)\n",
    "joined_samp = joined.iloc[idxs].set_index(\"name\")\n",
    "samp_size = len(joined_samp); samp_size"
   ]
  },
  {
   "cell_type": "code",
   "execution_count": 31,
   "metadata": {
    "collapsed": true
   },
   "outputs": [],
   "source": [
    "#n = len(joined)\n",
    "#samp_size = n\n",
    "#joined_samp = joined"
   ]
  },
  {
   "cell_type": "code",
   "execution_count": 32,
   "metadata": {},
   "outputs": [
    {
     "data": {
      "text/html": [
       "<div>\n",
       "<style>\n",
       "    .dataframe thead tr:only-child th {\n",
       "        text-align: right;\n",
       "    }\n",
       "\n",
       "    .dataframe thead th {\n",
       "        text-align: left;\n",
       "    }\n",
       "\n",
       "    .dataframe tbody tr th {\n",
       "        vertical-align: top;\n",
       "    }\n",
       "</style>\n",
       "<table border=\"1\" class=\"dataframe\">\n",
       "  <thead>\n",
       "    <tr style=\"text-align: right;\">\n",
       "      <th></th>\n",
       "      <th>cat1</th>\n",
       "      <th>cat2</th>\n",
       "      <th>cat3</th>\n",
       "      <th>brand_name</th>\n",
       "      <th>shipping</th>\n",
       "      <th>item_condition_id</th>\n",
       "      <th>price</th>\n",
       "    </tr>\n",
       "    <tr>\n",
       "      <th>name</th>\n",
       "      <th></th>\n",
       "      <th></th>\n",
       "      <th></th>\n",
       "      <th></th>\n",
       "      <th></th>\n",
       "      <th></th>\n",
       "      <th></th>\n",
       "    </tr>\n",
       "  </thead>\n",
       "  <tbody>\n",
       "    <tr>\n",
       "      <th>F/ship 4 Totoro Washi + 1 pen</th>\n",
       "      <td>Handmade</td>\n",
       "      <td>Paper Goods</td>\n",
       "      <td>Stationery</td>\n",
       "      <td>NaN</td>\n",
       "      <td>1</td>\n",
       "      <td>1.0</td>\n",
       "      <td>12.0</td>\n",
       "    </tr>\n",
       "    <tr>\n",
       "      <th>UCLA Men's Bundle + Shorts</th>\n",
       "      <td>Women</td>\n",
       "      <td>Other</td>\n",
       "      <td>Other</td>\n",
       "      <td>Adidas</td>\n",
       "      <td>1</td>\n",
       "      <td>1.0</td>\n",
       "      <td>76.0</td>\n",
       "    </tr>\n",
       "    <tr>\n",
       "      <th>Listing for lol</th>\n",
       "      <td>Beauty</td>\n",
       "      <td>Makeup</td>\n",
       "      <td>Lips</td>\n",
       "      <td>NaN</td>\n",
       "      <td>1</td>\n",
       "      <td>1.0</td>\n",
       "      <td>12.0</td>\n",
       "    </tr>\n",
       "    <tr>\n",
       "      <th>25 pcs kawaii sticker flakes</th>\n",
       "      <td>Kids</td>\n",
       "      <td>Toys</td>\n",
       "      <td>Arts &amp; Crafts</td>\n",
       "      <td>NaN</td>\n",
       "      <td>1</td>\n",
       "      <td>1.0</td>\n",
       "      <td>3.0</td>\n",
       "    </tr>\n",
       "    <tr>\n",
       "      <th>Chanel Mini Lipgloss Set</th>\n",
       "      <td>Beauty</td>\n",
       "      <td>Makeup</td>\n",
       "      <td>Lips</td>\n",
       "      <td>Chanel</td>\n",
       "      <td>1</td>\n",
       "      <td>2.0</td>\n",
       "      <td>30.0</td>\n",
       "    </tr>\n",
       "  </tbody>\n",
       "</table>\n",
       "</div>"
      ],
      "text/plain": [
       "                                   cat1         cat2           cat3  \\\n",
       "name                                                                  \n",
       "F/ship 4 Totoro Washi + 1 pen  Handmade  Paper Goods     Stationery   \n",
       "UCLA Men's Bundle + Shorts        Women        Other          Other   \n",
       "Listing for lol                  Beauty       Makeup           Lips   \n",
       "25 pcs kawaii sticker flakes       Kids         Toys  Arts & Crafts   \n",
       "Chanel Mini Lipgloss Set         Beauty       Makeup           Lips   \n",
       "\n",
       "                              brand_name shipping  item_condition_id  price  \n",
       "name                                                                         \n",
       "F/ship 4 Totoro Washi + 1 pen        NaN        1                1.0   12.0  \n",
       "UCLA Men's Bundle + Shorts        Adidas        1                1.0   76.0  \n",
       "Listing for lol                      NaN        1                1.0   12.0  \n",
       "25 pcs kawaii sticker flakes         NaN        1                1.0    3.0  \n",
       "Chanel Mini Lipgloss Set          Chanel        1                2.0   30.0  "
      ]
     },
     "execution_count": 32,
     "metadata": {},
     "output_type": "execute_result"
    }
   ],
   "source": [
    "joined_samp.head()"
   ]
  },
  {
   "cell_type": "code",
   "execution_count": 33,
   "metadata": {
    "collapsed": true
   },
   "outputs": [],
   "source": [
    "#??proc_df"
   ]
  },
  {
   "cell_type": "code",
   "execution_count": 34,
   "metadata": {},
   "outputs": [
    {
     "data": {
      "text/plain": [
       "296507"
      ]
     },
     "execution_count": 34,
     "metadata": {},
     "output_type": "execute_result"
    }
   ],
   "source": [
    "len(joined_samp)"
   ]
  },
  {
   "cell_type": "code",
   "execution_count": 35,
   "metadata": {
    "collapsed": true
   },
   "outputs": [],
   "source": [
    "joined_test = joined_test"
   ]
  },
  {
   "cell_type": "code",
   "execution_count": 36,
   "metadata": {
    "collapsed": true
   },
   "outputs": [],
   "source": [
    "joined_test = joined_test.set_index(\"name\")\n",
    "joined = joined.set_index(\"name\")"
   ]
  },
  {
   "cell_type": "code",
   "execution_count": 37,
   "metadata": {
    "collapsed": true
   },
   "outputs": [],
   "source": [
    "df, y, nas, mapper = proc_df(joined, 'price', do_scale=True)\n",
    "yl = np.log(y+1).astype('float32')"
   ]
  },
  {
   "cell_type": "code",
   "execution_count": 38,
   "metadata": {
    "collapsed": true
   },
   "outputs": [],
   "source": [
    "df_test, _, nas, mapper = proc_df(joined_test, 'price', do_scale=True, skip_flds=['test_id'],\n",
    "                                  mapper=mapper, na_dict=nas)\n",
    "#for n,c in joined_samp.items(): print(n), print(c)"
   ]
  },
  {
   "cell_type": "code",
   "execution_count": 39,
   "metadata": {
    "collapsed": true
   },
   "outputs": [],
   "source": [
    "train_ratio = 0.75\n",
    "# train_ratio = 0.9\n",
    "train_size = int(samp_size * train_ratio); train_size\n",
    "val_idx = list(range(train_size, len(df)))"
   ]
  },
  {
   "cell_type": "code",
   "execution_count": 40,
   "metadata": {},
   "outputs": [
    {
     "data": {
      "text/plain": [
       "[222381, 222382, 222383, 222384]"
      ]
     },
     "execution_count": 40,
     "metadata": {},
     "output_type": "execute_result"
    }
   ],
   "source": [
    "val_idx[1:5]"
   ]
  },
  {
   "cell_type": "code",
   "execution_count": 41,
   "metadata": {},
   "outputs": [
    {
     "data": {
      "text/html": [
       "<div>\n",
       "<style>\n",
       "    .dataframe thead tr:only-child th {\n",
       "        text-align: right;\n",
       "    }\n",
       "\n",
       "    .dataframe thead th {\n",
       "        text-align: left;\n",
       "    }\n",
       "\n",
       "    .dataframe tbody tr th {\n",
       "        vertical-align: top;\n",
       "    }\n",
       "</style>\n",
       "<table border=\"1\" class=\"dataframe\">\n",
       "  <thead>\n",
       "    <tr style=\"text-align: right;\">\n",
       "      <th></th>\n",
       "      <th>cat1</th>\n",
       "      <th>cat2</th>\n",
       "      <th>cat3</th>\n",
       "      <th>brand_name</th>\n",
       "      <th>shipping</th>\n",
       "      <th>item_condition_id</th>\n",
       "    </tr>\n",
       "    <tr>\n",
       "      <th>name</th>\n",
       "      <th></th>\n",
       "      <th></th>\n",
       "      <th></th>\n",
       "      <th></th>\n",
       "      <th></th>\n",
       "      <th></th>\n",
       "    </tr>\n",
       "  </thead>\n",
       "  <tbody>\n",
       "    <tr>\n",
       "      <th>MLB Cincinnati Reds T Shirt Size XL</th>\n",
       "      <td>6</td>\n",
       "      <td>104</td>\n",
       "      <td>764</td>\n",
       "      <td>0</td>\n",
       "      <td>2</td>\n",
       "      <td>1.209777</td>\n",
       "    </tr>\n",
       "    <tr>\n",
       "      <th>Razer BlackWidow Chroma Keyboard</th>\n",
       "      <td>2</td>\n",
       "      <td>31</td>\n",
       "      <td>213</td>\n",
       "      <td>3558</td>\n",
       "      <td>1</td>\n",
       "      <td>1.209777</td>\n",
       "    </tr>\n",
       "    <tr>\n",
       "      <th>AVA-VIV Blouse</th>\n",
       "      <td>10</td>\n",
       "      <td>105</td>\n",
       "      <td>95</td>\n",
       "      <td>4181</td>\n",
       "      <td>2</td>\n",
       "      <td>-1.004675</td>\n",
       "    </tr>\n",
       "    <tr>\n",
       "      <th>Leather Horse Statues</th>\n",
       "      <td>4</td>\n",
       "      <td>56</td>\n",
       "      <td>405</td>\n",
       "      <td>0</td>\n",
       "      <td>2</td>\n",
       "      <td>-1.004675</td>\n",
       "    </tr>\n",
       "    <tr>\n",
       "      <th>24K GOLD plated rose</th>\n",
       "      <td>10</td>\n",
       "      <td>59</td>\n",
       "      <td>538</td>\n",
       "      <td>0</td>\n",
       "      <td>1</td>\n",
       "      <td>-1.004675</td>\n",
       "    </tr>\n",
       "  </tbody>\n",
       "</table>\n",
       "</div>"
      ],
      "text/plain": [
       "                                     cat1  cat2  cat3  brand_name  shipping  \\\n",
       "name                                                                          \n",
       "MLB Cincinnati Reds T Shirt Size XL     6   104   764           0         2   \n",
       "Razer BlackWidow Chroma Keyboard        2    31   213        3558         1   \n",
       "AVA-VIV Blouse                         10   105    95        4181         2   \n",
       "Leather Horse Statues                   4    56   405           0         2   \n",
       "24K GOLD plated rose                   10    59   538           0         1   \n",
       "\n",
       "                                     item_condition_id  \n",
       "name                                                    \n",
       "MLB Cincinnati Reds T Shirt Size XL           1.209777  \n",
       "Razer BlackWidow Chroma Keyboard              1.209777  \n",
       "AVA-VIV Blouse                               -1.004675  \n",
       "Leather Horse Statues                        -1.004675  \n",
       "24K GOLD plated rose                         -1.004675  "
      ]
     },
     "execution_count": 41,
     "metadata": {},
     "output_type": "execute_result"
    }
   ],
   "source": [
    "df.head()"
   ]
  },
  {
   "cell_type": "code",
   "execution_count": 42,
   "metadata": {},
   "outputs": [
    {
     "data": {
      "text/plain": [
       "1482535"
      ]
     },
     "execution_count": 42,
     "metadata": {},
     "output_type": "execute_result"
    }
   ],
   "source": [
    "len(joined)"
   ]
  },
  {
   "cell_type": "code",
   "execution_count": 43,
   "metadata": {
    "collapsed": true
   },
   "outputs": [],
   "source": [
    "def exp_rmsle(y_pred, targ):\n",
    "    return math.sqrt(((targ - y_pred)**2).mean())\n",
    "\n",
    "max_log_y = np.max(yl)\n",
    "y_range = (0, max_log_y*1.2)"
   ]
  },
  {
   "cell_type": "code",
   "execution_count": 44,
   "metadata": {
    "collapsed": true
   },
   "outputs": [],
   "source": [
    "md = ColumnarModelData.from_data_frame(PATH, val_idx, df, yl, cat_flds=cat_vars, bs=128, \n",
    "                                       test_df=df_test)"
   ]
  },
  {
   "cell_type": "code",
   "execution_count": 45,
   "metadata": {},
   "outputs": [
    {
     "data": {
      "text/plain": [
       "dtype('float32')"
      ]
     },
     "execution_count": 45,
     "metadata": {},
     "output_type": "execute_result"
    }
   ],
   "source": [
    "yl.dtype"
   ]
  },
  {
   "cell_type": "code",
   "execution_count": 46,
   "metadata": {
    "collapsed": true
   },
   "outputs": [],
   "source": [
    "cat_sz = [(c, len(joined_samp[c].cat.categories)+1) for c in cat_vars]"
   ]
  },
  {
   "cell_type": "code",
   "execution_count": 47,
   "metadata": {},
   "outputs": [
    {
     "data": {
      "text/plain": [
       "[('cat1', 12),\n",
       " ('cat2', 115),\n",
       " ('cat3', 872),\n",
       " ('brand_name', 4810),\n",
       " ('shipping', 3)]"
      ]
     },
     "execution_count": 47,
     "metadata": {},
     "output_type": "execute_result"
    }
   ],
   "source": [
    "cat_sz"
   ]
  },
  {
   "cell_type": "code",
   "execution_count": 48,
   "metadata": {
    "collapsed": true
   },
   "outputs": [],
   "source": [
    "emb_szs = [(c, min(50, (c+1)//2)) for _,c in cat_sz]"
   ]
  },
  {
   "cell_type": "code",
   "execution_count": 49,
   "metadata": {},
   "outputs": [
    {
     "data": {
      "text/plain": [
       "[(12, 6), (115, 50), (872, 50), (4810, 50), (3, 2)]"
      ]
     },
     "execution_count": 49,
     "metadata": {},
     "output_type": "execute_result"
    }
   ],
   "source": [
    "emb_szs"
   ]
  },
  {
   "cell_type": "code",
   "execution_count": 50,
   "metadata": {},
   "outputs": [
    {
     "data": {
      "text/plain": [
       "Index(['cat1', 'cat2', 'cat3', 'brand_name', 'shipping', 'item_condition_id'], dtype='object')"
      ]
     },
     "execution_count": 50,
     "metadata": {},
     "output_type": "execute_result"
    }
   ],
   "source": [
    "df.columns"
   ]
  },
  {
   "cell_type": "code",
   "execution_count": 51,
   "metadata": {},
   "outputs": [
    {
     "data": {
      "text/plain": [
       "['cat1', 'cat2', 'cat3', 'brand_name', 'shipping']"
      ]
     },
     "execution_count": 51,
     "metadata": {},
     "output_type": "execute_result"
    }
   ],
   "source": [
    "cat_vars"
   ]
  },
  {
   "cell_type": "code",
   "execution_count": 52,
   "metadata": {},
   "outputs": [
    {
     "data": {
      "text/plain": [
       "(0, 9.1270677566528313)"
      ]
     },
     "execution_count": 52,
     "metadata": {},
     "output_type": "execute_result"
    }
   ],
   "source": [
    "y_range"
   ]
  },
  {
   "cell_type": "code",
   "execution_count": 53,
   "metadata": {
    "collapsed": true
   },
   "outputs": [],
   "source": [
    "m = md.get_learner(emb_szs, len(df.columns)-len(cat_vars),\n",
    "                   0.04, 1, [1500,1000,500], [0.001,0.01,0.01], y_range=y_range)\n",
    "lr = 1e-3"
   ]
  },
  {
   "cell_type": "code",
   "execution_count": 54,
   "metadata": {},
   "outputs": [
    {
     "data": {
      "application/vnd.jupyter.widget-view+json": {
       "model_id": "29a6d5b95bad46d997bec86a875b66e7",
       "version_major": 2,
       "version_minor": 0
      },
      "text/plain": [
       "A Jupyter Widget"
      ]
     },
     "metadata": {},
     "output_type": "display_data"
    },
    {
     "name": "stdout",
     "output_type": "stream",
     "text": [
      " 61%|██████▏   | 1068/1738 [00:09<00:05, 114.63it/s, loss=1.72] \n",
      "                                                               \r"
     ]
    }
   ],
   "source": [
    "m.lr_find()"
   ]
  },
  {
   "cell_type": "code",
   "execution_count": 55,
   "metadata": {},
   "outputs": [
    {
     "data": {
      "image/png": "[encoded data removed]",
      "text/plain": [
       "<matplotlib.figure.Figure at 0x7efef43e78d0>"
      ]
     },
     "metadata": {},
     "output_type": "display_data"
    }
   ],
   "source": [
    "m.sched.plot()"
   ]
  },
  {
   "cell_type": "code",
   "execution_count": 56,
   "metadata": {},
   "outputs": [
    {
     "data": {
      "application/vnd.jupyter.widget-view+json": {
       "model_id": "f4de2e4727e44cadb717cc7580d80cd9",
       "version_major": 2,
       "version_minor": 0
      },
      "text/plain": [
       "A Jupyter Widget"
      ]
     },
     "metadata": {},
     "output_type": "display_data"
    },
    {
     "name": "stdout",
     "output_type": "stream",
     "text": [
      "[ 0.       0.36065  0.35247  0.59251]                           \n",
      "[ 1.       0.334    0.32686  0.57049]                           \n",
      "[ 2.       0.3201   0.32173  0.56601]                           \n",
      "[ 3.       0.31909  0.32209  0.56627]                           \n",
      "[ 4.       0.31596  0.31786  0.56258]                           \n",
      "[ 5.       0.29835  0.31438  0.55947]                           \n",
      "[ 6.       0.30538  0.31377  0.55894]                           \n",
      "\n"
     ]
    }
   ],
   "source": [
    "lr=5.0e-5\n",
    "m.fit(lr, 3, metrics=[exp_rmsle], cycle_len=1, cycle_mult=2)"
   ]
  },
  {
   "cell_type": "code",
   "execution_count": 48,
   "metadata": {},
   "outputs": [
    {
     "data": {
      "application/vnd.jupyter.widget-view+json": {
       "model_id": "eb1b944b062b4e919416f4d526654d92",
       "version_major": 2,
       "version_minor": 0
      },
      "text/plain": [
       "A Jupyter Widget"
      ]
     },
     "metadata": {},
     "output_type": "display_data"
    },
    {
     "name": "stdout",
     "output_type": "stream",
     "text": [
      "[ 0.       0.32404  0.31878  0.56345]                           \n",
      "[ 1.       0.30513  0.31197  0.55732]                           \n",
      "[ 2.       0.29919  0.31445  0.55954]                           \n",
      "[ 3.       0.28376  0.31089  0.55636]                           \n",
      "[ 4.       0.30098  0.3125   0.55779]                           \n",
      "[ 5.       0.28833  0.31059  0.55608]                           \n",
      "\n"
     ]
    }
   ],
   "source": [
    "lr = 5.0e-4\n",
    "m.fit(lr, 3, metrics=[exp_rmsle], cycle_len=2)"
   ]
  },
  {
   "cell_type": "code",
   "execution_count": 47,
   "metadata": {
    "collapsed": true
   },
   "outputs": [],
   "source": [
    "??md.get_learner"
   ]
  }
 ],
 "metadata": {
  "kernelspec": {
   "display_name": "Python 3",
   "language": "python",
   "name": "python3"
  },
  "language_info": {
   "codemirror_mode": {
    "name": "ipython",
    "version": 3
   },
   "file_extension": ".py",
   "mimetype": "text/x-python",
   "name": "python",
   "nbconvert_exporter": "python",
   "pygments_lexer": "ipython3",
   "version": "3.6.2"
  }
 },
 "nbformat": 4,
 "nbformat_minor": 2
}
