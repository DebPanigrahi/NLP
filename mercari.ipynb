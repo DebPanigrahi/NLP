{
 "cells": [
  {
   "cell_type": "markdown",
   "metadata": {},
   "source": [
    "## Mercari Price Suggestion"
   ]
  },
  {
   "cell_type": "markdown",
   "metadata": {},
   "source": [
    "### Import statements"
   ]
  },
  {
   "cell_type": "code",
   "execution_count": 75,
   "metadata": {
    "collapsed": true
   },
   "outputs": [],
   "source": [
    "%matplotlib inline\n",
    "%reload_ext autoreload\n",
    "%autoreload 2"
   ]
  },
  {
   "cell_type": "code",
   "execution_count": 76,
   "metadata": {
    "collapsed": true
   },
   "outputs": [],
   "source": [
    "from fastai.structured import *\n",
    "from fastai.column_data import *\n",
    "np.set_printoptions(threshold=50, edgeitems=20)\n",
    "\n",
    "import torchtext\n",
    "from torchtext import vocab, data\n",
    "from torchtext.datasets import language_modeling\n",
    "\n",
    "from fastai.rnn_reg import *\n",
    "from fastai.rnn_train import *\n",
    "from fastai.nlp import *\n",
    "from fastai.lm_rnn import *\n",
    "\n",
    "import dill as pickle\n",
    "\n",
    "import timeit"
   ]
  },
  {
   "cell_type": "code",
   "execution_count": 77,
   "metadata": {},
   "outputs": [
    {
     "name": "stdout",
     "output_type": "stream",
     "text": [
      "models\tsample_submission.csv  test.tsv  tmp  train.tsv\r\n"
     ]
    }
   ],
   "source": [
    "PATH='data/'\n",
    "!ls {PATH}"
   ]
  },
  {
   "cell_type": "code",
   "execution_count": 84,
   "metadata": {
    "collapsed": true
   },
   "outputs": [],
   "source": [
    "train = pd.read_csv(f'{PATH}/train.tsv', sep='\\t')\n",
    "test_df = pd.read_csv(f'{PATH}/test.tsv', sep='\\t')"
   ]
  },
  {
   "cell_type": "code",
   "execution_count": 85,
   "metadata": {},
   "outputs": [
    {
     "data": {
      "text/html": [
       "<div>\n",
       "<style>\n",
       "    .dataframe thead tr:only-child th {\n",
       "        text-align: right;\n",
       "    }\n",
       "\n",
       "    .dataframe thead th {\n",
       "        text-align: left;\n",
       "    }\n",
       "\n",
       "    .dataframe tbody tr th {\n",
       "        vertical-align: top;\n",
       "    }\n",
       "</style>\n",
       "<table border=\"1\" class=\"dataframe\">\n",
       "  <thead>\n",
       "    <tr style=\"text-align: right;\">\n",
       "      <th></th>\n",
       "      <th>train_id</th>\n",
       "      <th>name</th>\n",
       "      <th>item_condition_id</th>\n",
       "      <th>category_name</th>\n",
       "      <th>brand_name</th>\n",
       "      <th>price</th>\n",
       "      <th>shipping</th>\n",
       "      <th>item_description</th>\n",
       "    </tr>\n",
       "  </thead>\n",
       "  <tbody>\n",
       "    <tr>\n",
       "      <th>0</th>\n",
       "      <td>0</td>\n",
       "      <td>MLB Cincinnati Reds T Shirt Size XL</td>\n",
       "      <td>3</td>\n",
       "      <td>Men/Tops/T-shirts</td>\n",
       "      <td>NaN</td>\n",
       "      <td>10.0</td>\n",
       "      <td>1</td>\n",
       "      <td>No description yet</td>\n",
       "    </tr>\n",
       "    <tr>\n",
       "      <th>1</th>\n",
       "      <td>1</td>\n",
       "      <td>Razer BlackWidow Chroma Keyboard</td>\n",
       "      <td>3</td>\n",
       "      <td>Electronics/Computers &amp; Tablets/Components &amp; P...</td>\n",
       "      <td>Razer</td>\n",
       "      <td>52.0</td>\n",
       "      <td>0</td>\n",
       "      <td>This keyboard is in great condition and works ...</td>\n",
       "    </tr>\n",
       "  </tbody>\n",
       "</table>\n",
       "</div>"
      ],
      "text/plain": [
       "   train_id                                 name  item_condition_id  \\\n",
       "0         0  MLB Cincinnati Reds T Shirt Size XL                  3   \n",
       "1         1     Razer BlackWidow Chroma Keyboard                  3   \n",
       "\n",
       "                                       category_name brand_name  price  \\\n",
       "0                                  Men/Tops/T-shirts        NaN   10.0   \n",
       "1  Electronics/Computers & Tablets/Components & P...      Razer   52.0   \n",
       "\n",
       "   shipping                                   item_description  \n",
       "0         1                                 No description yet  \n",
       "1         0  This keyboard is in great condition and works ...  "
      ]
     },
     "metadata": {},
     "output_type": "display_data"
    },
    {
     "data": {
      "text/html": [
       "<div>\n",
       "<style>\n",
       "    .dataframe thead tr:only-child th {\n",
       "        text-align: right;\n",
       "    }\n",
       "\n",
       "    .dataframe thead th {\n",
       "        text-align: left;\n",
       "    }\n",
       "\n",
       "    .dataframe tbody tr th {\n",
       "        vertical-align: top;\n",
       "    }\n",
       "</style>\n",
       "<table border=\"1\" class=\"dataframe\">\n",
       "  <thead>\n",
       "    <tr style=\"text-align: right;\">\n",
       "      <th></th>\n",
       "      <th>test_id</th>\n",
       "      <th>name</th>\n",
       "      <th>item_condition_id</th>\n",
       "      <th>category_name</th>\n",
       "      <th>brand_name</th>\n",
       "      <th>shipping</th>\n",
       "      <th>item_description</th>\n",
       "    </tr>\n",
       "  </thead>\n",
       "  <tbody>\n",
       "    <tr>\n",
       "      <th>0</th>\n",
       "      <td>0</td>\n",
       "      <td>Breast cancer \"I fight like a girl\" ring</td>\n",
       "      <td>1</td>\n",
       "      <td>Women/Jewelry/Rings</td>\n",
       "      <td>NaN</td>\n",
       "      <td>1</td>\n",
       "      <td>Size 7</td>\n",
       "    </tr>\n",
       "    <tr>\n",
       "      <th>1</th>\n",
       "      <td>1</td>\n",
       "      <td>25 pcs NEW 7.5\"x12\" Kraft Bubble Mailers</td>\n",
       "      <td>1</td>\n",
       "      <td>Other/Office supplies/Shipping Supplies</td>\n",
       "      <td>NaN</td>\n",
       "      <td>1</td>\n",
       "      <td>25 pcs NEW 7.5\"x12\" Kraft Bubble Mailers Lined...</td>\n",
       "    </tr>\n",
       "  </tbody>\n",
       "</table>\n",
       "</div>"
      ],
      "text/plain": [
       "   test_id                                      name  item_condition_id  \\\n",
       "0        0  Breast cancer \"I fight like a girl\" ring                  1   \n",
       "1        1  25 pcs NEW 7.5\"x12\" Kraft Bubble Mailers                  1   \n",
       "\n",
       "                             category_name brand_name  shipping  \\\n",
       "0                      Women/Jewelry/Rings        NaN         1   \n",
       "1  Other/Office supplies/Shipping Supplies        NaN         1   \n",
       "\n",
       "                                    item_description  \n",
       "0                                             Size 7  \n",
       "1  25 pcs NEW 7.5\"x12\" Kraft Bubble Mailers Lined...  "
      ]
     },
     "metadata": {},
     "output_type": "display_data"
    }
   ],
   "source": [
    "display(train.head(2))\n",
    "display(test_df.head(2))"
   ]
  },
  {
   "cell_type": "code",
   "execution_count": 86,
   "metadata": {},
   "outputs": [],
   "source": [
    "def join_columns(df):\n",
    "    # casting into string converts NaN to nan\n",
    "    ret = '<category> ' + df.category_name.astype(str).str.replace(r'[\\s*]','').str.replace(r'/',' ') \n",
    "    ret += ' <name> ' + df.name.astype(str) + ' <description> ' + df.item_description.astype(str)\n",
    "    return ret\n",
    "\n",
    "train['item_description'] = join_columns(train)\n",
    "test_df['item_description'] = join_columns(test_df)"
   ]
  },
  {
   "cell_type": "code",
   "execution_count": 89,
   "metadata": {},
   "outputs": [
    {
     "data": {
      "text/plain": [
       "'<category> Men Tops T-shirts <name> MLB Cincinnati Reds T Shirt Size XL <description> No description yet'"
      ]
     },
     "execution_count": 89,
     "metadata": {},
     "output_type": "execute_result"
    }
   ],
   "source": [
    "train['item_description'].iloc[0]"
   ]
  },
  {
   "cell_type": "code",
   "execution_count": 8,
   "metadata": {},
   "outputs": [
    {
     "data": {
      "text/plain": [
       "1482535"
      ]
     },
     "execution_count": 8,
     "metadata": {},
     "output_type": "execute_result"
    }
   ],
   "source": [
    "ntrn = len(train)\n",
    "ntrn"
   ]
  },
  {
   "cell_type": "code",
   "execution_count": 9,
   "metadata": {
    "collapsed": true
   },
   "outputs": [],
   "source": [
    "val_idx = train.sample(int(ntrn*0.2)).index\n",
    "(val_df, train_df),  = split_by_idx(val_idx, train)"
   ]
  },
  {
   "cell_type": "code",
   "execution_count": 10,
   "metadata": {},
   "outputs": [
    {
     "data": {
      "text/plain": [
       "0.2"
      ]
     },
     "execution_count": 10,
     "metadata": {},
     "output_type": "execute_result"
    }
   ],
   "source": [
    "len(val_df)/ntrn"
   ]
  },
  {
   "cell_type": "markdown",
   "metadata": {},
   "source": [
    "## Language Model for item_description and name (?)"
   ]
  },
  {
   "cell_type": "code",
   "execution_count": 11,
   "metadata": {
    "collapsed": true
   },
   "outputs": [],
   "source": [
    "re_tok = re.compile(f'([{string.punctuation}“”¨«»®´·º½¾¿¡§£₤‘’])')\n",
    "re_ptbl = re.compile(f'([{string.printable}])')\n",
    "re_rm = re.compile(r'\\s*\\[\\s*rm\\s*\\]\\s*')\n",
    "re_num = re.compile(r'([0-9])')"
   ]
  },
  {
   "cell_type": "code",
   "execution_count": 12,
   "metadata": {
    "scrolled": true
   },
   "outputs": [
    {
     "data": {
      "text/plain": [
       "'<category> HmDéAnsLhSudipNw.Rlf[]bTqkFJW24KGOC&7Yz/x!)B-~:v✨“”,1MEVX50\\'6PI3U8%(+9\"\\xa0Q@*#;Z➡♡j•❤️\\u3000?［］＊–è’|$⚡▪❄…®✴{}\\\\❇=☑Ó‼☆♥_⬇❗⛔♦°⭐¡^üë❣✭íÁ½✳×✅❌—☺✔➖《》¤″⚠⬆➕■☇◇●▶➔！✉☀✖á★✧ツ†〰\\u200b€¥É©™\\u2028ñシ、（），：‘ú❎☄ô◀ᏢᎡᏟᏞᎬᎪᎢᏌᏚᏆ·♨⚜⃣▼�√«»\\xad⁉α£︎❥♏✈▫⬅ē❓å➺Õ¼☞✽♢○âÜÍᏩᏙᎾᎠᏔç♧◡̈⭕ō⚫ᔕᖇᒪᑎᐯᖴᗩᗯ‑Ⓜ☼⤵↪Ω`⇻◈①②③❀\\u2029⏺\\x7fΚΑθ⋆ғʀᴇʜɪᴘʟᴛᴏᴀᴋɴʏǫᴜᴍᴠʙᴄᴅɢᴡッ¾ℹ◕‿╹⊙︿⏩⏪✝□℃ä✏いなばぁっこんにちはたらラタンワとゃ日本の中古品です。オリジナルケース付きませう傷があり自宅再生機視聴可能しよろくお願ᎷᏴᎻ❁⇝↓⛵【】◑┅♠\\u200eĒ→☻´∀｀・Ñ♻Ô⏰óØᐠᐛᐟ❕⛥¹ᑕᗰ◉ı↖↘↙；ᕼᗷᑌᗪ✓∆ì►⚘ºʕᴥʔà✌ω～✦➾➳⚀✩ꕥ✿ß❃☾☽⚾È▵ÄÇ⚅◆█✯û♛≥≤Ⓡ♤ᴢ◾◼乛Öū⟁➜☡✲゜͡ᵔ͜ʖ☕✂³⚪čï※➰\\x96\\x16ᴊ↔÷ă✪˘¦îê◠✬Β✘語⁄Ìღ✮？＆☐ø⛤☝\\uf8e7ꪹꪵ\\uf81e\\uf823\\uf8eaℓєя⊝◦☃❊⠀ö²―⌚Σ￣\\uf8ff➙⚓Ꮓ↩¿☯☮⚛☪\\ufeff͈ᴗ☒⅜〽ⓡⓔⓓⓑⓛⓐⓒⓚⓦⓗⓘⓣⓢⓤⓝ§Δξェヽノ✕➝∅ⓟⓜⓞⓕ☜↟◄⇒Â═☔❶❷❸❹❺❻،¶Æ˚⛅ﬁ\\x99♪⇢⋅¢༶⛄☠＼／ʘ＄☸⚃「」☹➀➁⛳‡ËŸŠ℅⅛ㅡ⟹❦☁Ûś『』šù✷⊹õã⺣\\u202f⬛İ⏹Ⓢⓨ±⚁￼⅔✄ŕ▿ò➪⁰ā୨୧\\x95∙̀\\u2009♫⛱❔ᑭ➵☘⇨⇦➲\\uf84c△♀℉˝✼さ冊¯ọ✫Ð↕\\uf8ba\\uf8bc\\uf8b8\\uf8bd\\uf8b9\\uf8c0⌛国结刺绣小紫色的心形丝绸挂件Ū\\x14⁴♣⛓〜ゝ∂㎡᙭′どかも森絵ポトビ他╮╯╰╭Φ\\x92➿⏬招猫一'"
      ]
     },
     "execution_count": 12,
     "metadata": {},
     "output_type": "execute_result"
    }
   ],
   "source": [
    "import collections\n",
    "all_des = val_df['item_description'].str.cat(sep=' ')\n",
    "chars = list(all_des)\n",
    "counter=collections.Counter(chars)\n",
    "ret = str('')\n",
    "for x in counter: ret += x[0]\n",
    "ret"
   ]
  },
  {
   "cell_type": "code",
   "execution_count": 13,
   "metadata": {
    "collapsed": true
   },
   "outputs": [],
   "source": [
    "# to skip computation\n",
    "ret = \"\"\"HmDéAnsLhSudipNw.Rlf[]bTqkFJW24KGOC&7Yz/x!)B-~:v✨“”,1MEVX50\\'6PI3U8%(+9\"\\xa0Q@*#;Z➡♡j•❤️\\u3000?［］＊–è’|$⚡▪❄…®✴{}\\\\❇=☑Ó‼☆♥_⬇❗⛔♦°⭐¡^üë❣✭íÁ½✳×✅❌—☺✔➖《》¤″⚠⬆➕■☇◇●▶➔！✉☀✖á★✧ツ†〰\\u200b€¥É©™\\u2028ñシ、（），：‘ú❎☄ô◀ᏢᎡᏟᏞᎬᎪᎢᏌᏚᏆ·♨⚜⃣▼�√«»\\xad⁉α£︎❥♏✈▫⬅ē❓å➺Õ¼☞✽♢○âÜÍᏩᏙᎾᎠᏔç♧◡̈⭕ō⚫ᔕᖇᒪᑎᐯᖴᗩᗯ‑Ⓜ☼⤵↪Ω`⇻◈①②③❀\\u2029⏺\\x7fΚΑθ⋆ғʀᴇʜɪᴘʟᴛᴏᴀᴋɴʏǫᴜᴍᴠʙᴄᴅɢᴡッ¾ℹ◕‿╹⊙︿⏩⏪✝□℃ä✏いなばぁっこんにちはたらラタンワとゃ日本の中古品です。オリジナルケース付きませう傷があり自宅再生機視聴可能しよろくお願ᎷᏴᎻ❁⇝↓⛵【】◑┅♠\\u200eĒ→☻´∀｀・Ñ♻Ô⏰óØᐠᐛᐟ❕⛥¹ᑕᗰ◉ı↖↘↙；ᕼᗷᑌᗪ✓∆ì►⚘ºʕᴥʔà✌ω～✦➾➳⚀✩ꕥ✿ß❃☾☽⚾È▵ÄÇ⚅◆█✯û♛≥≤Ⓡ♤ᴢ◾◼乛Öū⟁➜☡✲゜͡ᵔ͜ʖ☕✂³⚪čï※➰\\x96\\x16ᴊ↔÷ă✪˘¦îê◠✬Β✘語⁄Ìღ✮？＆☐ø⛤☝\\uf8e7ꪹꪵ\\uf81e\\uf823\\uf8eaℓєя⊝◦☃❊⠀ö²―⌚Σ￣\\uf8ff➙⚓Ꮓ↩¿☯☮⚛☪\\ufeff͈ᴗ☒⅜〽ⓡⓔⓓⓑⓛⓐⓒⓚⓦⓗⓘⓣⓢⓤⓝ§Δξェヽノ✕➝∅ⓟⓜⓞⓕ☜↟◄⇒Â═☔❶❷❸❹❺❻،¶Æ˚⛅ﬁ\\x99♪⇢⋅¢༶⛄☠＼／ʘ＄☸⚃「」☹➀➁⛳‡ËŸŠ℅⅛ㅡ⟹❦☁Ûś『』šù✷⊹õã⺣\\u202f⬛İ⏹Ⓢⓨ±⚁￼⅔✄ŕ▿ò➪⁰ā୨୧\\x95∙̀\\u2009♫⛱❔ᑭ➵☘⇨⇦➲\\uf84c△♀℉˝✼さ冊¯ọ✫Ð↕\\uf8ba\\uf8bc\\uf8b8\\uf8bd\\uf8b9\\uf8c0⌛国结刺绣小紫色的心形丝绸挂件Ū\\x14⁴♣⛓〜ゝ∂㎡᙭′どかも森絵ポトビ他╮╯╰╭Φ\\x92➿⏬招猫一\"\"\""
   ]
  },
  {
   "cell_type": "code",
   "execution_count": 14,
   "metadata": {
    "collapsed": true
   },
   "outputs": [],
   "source": [
    "spcl = re_ptbl.sub(r'', ret)\n",
    "re_spcl = re.compile(f'([{spcl}])')"
   ]
  },
  {
   "cell_type": "code",
   "execution_count": 15,
   "metadata": {
    "collapsed": true
   },
   "outputs": [],
   "source": [
    "# Use small portion for text modeling \n",
    "sample = 0.17\n",
    "train_text = train.sample(int(sample*len(train))).reset_index()"
   ]
  },
  {
   "cell_type": "code",
   "execution_count": 16,
   "metadata": {
    "collapsed": true
   },
   "outputs": [],
   "source": [
    "text_val_idx = train_text.sample(int(len(train_text)*0.2)).index\n",
    "(val_text, train_text),  = split_by_idx(text_val_idx, train_text)"
   ]
  },
  {
   "cell_type": "code",
   "execution_count": 46,
   "metadata": {
    "collapsed": true
   },
   "outputs": [],
   "source": [
    "from spacy.symbols import ORTH\n",
    "\n",
    "my_tok = spacy.load('en')\n",
    "\n",
    "# To join multiple columns\n",
    "# my_tok.tokenizer.add_special_case('<SUMM>', [{ORTH: '<SUMM>'}])\n",
    "my_tok.tokenizer.add_special_case('<eos>', [{ORTH: '<eos>'}])\n",
    "my_tok.tokenizer.add_special_case('<category>', [{ORTH: '<category>'}])\n",
    "my_tok.tokenizer.add_special_case('<name>', [{ORTH: '<name>'}])\n",
    "my_tok.tokenizer.add_special_case('<description>', [{ORTH: '<description>'}])\n",
    "my_tok.tokenizer.add_special_case('[rm]', [{ORTH: '[rm]'}])\n",
    "\n",
    "def my_spacy_tok(x):\n",
    "    x = str(x).lower()\n",
    "    # x = re.sub(r'[^\\x00-\\x7f]', r' ', x)\n",
    "    x = re_rm.sub(' [rm] ', x)\n",
    "    x = re_num.sub(r' \\1 ', x)\n",
    "    x = re_spcl.sub(r' \\1 ', x)\n",
    "    x = ' '.join(x.split())\n",
    "    return [tok.text for tok in my_tok.tokenizer(x)]"
   ]
  },
  {
   "cell_type": "code",
   "execution_count": 18,
   "metadata": {},
   "outputs": [
    {
     "data": {
      "text/plain": [
       "(array([   6331.,       0.,     959.,   55911.,  110678.,  172050.,   99688.,  137854.,  121374.,   70650.,\n",
       "          91625.,   52888.,   68154.,   39440.,   50970.,   43445.,   25814.,   34229.,   19631.,   26246.,\n",
       "        ...,     131.,     106.,     189.,     102.,      73.,     110.,      73.,      60.,      49.,\n",
       "             54.,       7.,       2.,       2.,       0.,       1.,       0.,       1.,       1.,       1.,\n",
       "              1.]),\n",
       " array([   1.  ,    3.57,    6.14,    8.71,   11.28,   13.85,   16.42,   18.99,   21.56,   24.13,   26.7 ,\n",
       "          29.27,   31.84,   34.41,   36.98,   39.55,   42.12,   44.69,   47.26,   49.83, ...,  209.17,  211.74,\n",
       "         214.31,  216.88,  219.45,  222.02,  224.59,  227.16,  229.73,  232.3 ,  234.87,  237.44,  240.01,\n",
       "         242.58,  245.15,  247.72,  250.29,  252.86,  255.43,  258.  ]),\n",
       " <a list of 100 Patch objects>)"
      ]
     },
     "execution_count": 18,
     "metadata": {},
     "output_type": "execute_result"
    },
    {
     "data": {
      "image/png": "[encoded data removed]",
      "text/plain": [
       "<matplotlib.figure.Figure at 0x7fb78ac62c50>"
      ]
     },
     "metadata": {},
     "output_type": "display_data"
    }
   ],
   "source": [
    "text_length = train['item_description'].apply(lambda x: len(str(x).split()))\n",
    "plt.hist(text_length, bins=100)"
   ]
  },
  {
   "cell_type": "code",
   "execution_count": 19,
   "metadata": {
    "collapsed": true
   },
   "outputs": [],
   "source": [
    "ITEM_DESCRIPTION = data.Field(lower=True, tokenize=my_spacy_tok)"
   ]
  },
  {
   "cell_type": "markdown",
   "metadata": {},
   "source": [
    "Possible text processings:\n",
    "0. min_freq, bs, bptt \n",
    "1. highlight for a streak of caps\n",
    "2. replace \" -\" word with `<list>`\n",
    "3. plural handling (?)\n",
    "4. handling past/present/future tense\n"
   ]
  },
  {
   "cell_type": "code",
   "execution_count": 20,
   "metadata": {
    "collapsed": true
   },
   "outputs": [],
   "source": [
    "bs,bptt = 128,50\n",
    "min_freq=10"
   ]
  },
  {
   "cell_type": "code",
   "execution_count": 21,
   "metadata": {},
   "outputs": [],
   "source": [
    "# DF takes 12mins on GTX1060\n",
    "idmd = LanguageModelData.from_dataframes(PATH, ITEM_DESCRIPTION, 'item_description', train_text, val_text, val_text, \n",
    "                                       bs=bs, bptt=bptt, min_freq=min_freq)\n",
    "pickle.dump(ITEM_DESCRIPTION, open(f'{PATH}models/ITEM_Yes DESCRIPTION_{min_freq}.pkl','wb'))"
   ]
  },
  {
   "cell_type": "code",
   "execution_count": 22,
   "metadata": {},
   "outputs": [],
   "source": [
    "# This is to test if numericalization is possible with the given text with symbols and all special characters\n",
    "# Since the origibal text can be lengthy \n",
    "def test_text_dataload(df, col):\n",
    "    # fir create Fields\n",
    "    TEXT = data.Field(lower=True, tokenize=my_spacy_tok)\n",
    "    fields = [('text', TEXT)]\n",
    "    text = []\n",
    "    # Tokenize\n",
    "    text += TEXT.preprocess(df[col].str.cat(sep=' <eos> '))\n",
    "    text.append('<eos>')\n",
    "    # create datasets\n",
    "    examples = [torchtext.data.Example.fromlist([text], fields)]\n",
    "    dataset = torchtext.data.Dataset(examples, fields)\n",
    "    # create dataloader from dataset this is one long text \n",
    "    text = sum([o.text for o in dataset], [])\n",
    "    n=100\n",
    "    for i in np.arange(int(len(text)/n)):\n",
    "        itext = [text[i*n:(i+1)*n]]\n",
    "        try: \n",
    "            nums = TEXT.numericalize(itext)\n",
    "        except (RuntimeError):\n",
    "            print(itext)\n",
    "    return \n",
    "\n",
    "#test_numericalize(train_text, 'item_description')"
   ]
  },
  {
   "cell_type": "code",
   "execution_count": 23,
   "metadata": {},
   "outputs": [
    {
     "data": {
      "text/plain": [
       "[(2134, '♥'), (0, '<unk>')]"
      ]
     },
     "execution_count": 23,
     "metadata": {},
     "output_type": "execute_result"
    }
   ],
   "source": [
    "idxs = ITEM_DESCRIPTION.numericalize([['♥', 'xyz']])\n",
    "idxs = idxs.data.cpu().numpy().ravel()\n",
    "#ITEM_DESCRIPTION.vocab.itos[idx.data.cpu().numpy()[0]]\n",
    "#idx.data.cpu().numpy()\n",
    "[(idx,ITEM_DESCRIPTION.vocab.itos[idx]) for idx in idxs]"
   ]
  },
  {
   "cell_type": "markdown",
   "metadata": {},
   "source": [
    "#### Unfderstanding Input/Output"
   ]
  },
  {
   "cell_type": "code",
   "execution_count": 24,
   "metadata": {},
   "outputs": [
    {
     "data": {
      "text/plain": [
       "'<unk> || <pad> || . || , || <category> || <description> || <eos> || <name> || ! || and || 1 || women'"
      ]
     },
     "execution_count": 24,
     "metadata": {},
     "output_type": "execute_result"
    }
   ],
   "source": [
    "' || '.join(ITEM_DESCRIPTION.vocab.itos[:12])"
   ]
  },
  {
   "cell_type": "code",
   "execution_count": 25,
   "metadata": {},
   "outputs": [
    {
     "data": {
      "text/plain": [
       "15691"
      ]
     },
     "execution_count": 25,
     "metadata": {},
     "output_type": "execute_result"
    }
   ],
   "source": [
    "len(ITEM_DESCRIPTION.vocab.itos[:])"
   ]
  },
  {
   "cell_type": "code",
   "execution_count": 65,
   "metadata": {},
   "outputs": [
    {
     "data": {
      "text/plain": [
       "(1767, 15691, 1, 9055696)"
      ]
     },
     "execution_count": 65,
     "metadata": {},
     "output_type": "execute_result"
    }
   ],
   "source": [
    "len(idmd.trn_dl), idmd.nt, len(idmd.trn_ds), len(idmd.trn_ds[0].text)"
   ]
  },
  {
   "cell_type": "code",
   "execution_count": 66,
   "metadata": {},
   "outputs": [
    {
     "data": {
      "text/plain": [
       "'<category>   men   tops   dressshirts   <name>   unisex   dashiki   shirt   african   dress   1   size   <description>   dashiki   men   shirt   african   hippie   vintage   women   top   haute   tribal   blouse   one   size   size   measurements   bust   /   chest   size   :   5   2   to   5   4   inches   around   (   1   3   2   to   1   3   7   cm   )'"
      ]
     },
     "execution_count": 66,
     "metadata": {},
     "output_type": "execute_result"
    }
   ],
   "source": [
    "'   '.join(idmd.trn_ds[0].text[:50])"
   ]
  },
  {
   "cell_type": "code",
   "execution_count": 67,
   "metadata": {
    "scrolled": true
   },
   "outputs": [
    {
     "data": {
      "text/plain": [
       "array([    4,    70,   293,  6394,     7,   976,  6996,   125,  3061,   123,    10,    19,     5,  6996,\n",
       "          70,   125,  3061,  2429,   313,    11,    99, 10963,  2252,   282,    71,    19,    19,   985,\n",
       "        1308,    36,  1416,    19,    30,    25,    14,    21,    25,    26,   319,   408,    41,    10,\n",
       "          24,    14,    21,    10,    24,    58,   620,    38])"
      ]
     },
     "execution_count": 67,
     "metadata": {},
     "output_type": "execute_result"
    }
   ],
   "source": [
    "to_np(ITEM_DESCRIPTION.numericalize([idmd.trn_ds[0].text[:50]])).ravel()"
   ]
  },
  {
   "cell_type": "code",
   "execution_count": 68,
   "metadata": {},
   "outputs": [
    {
     "name": "stdout",
     "output_type": "stream",
     "text": [
      "Xs=Variable containing:\n",
      "     4   1843   3230  ...       2      5   2187\n",
      "    70      6     21  ...       6     37     17\n",
      "   293      4     12  ...       4     17     58\n",
      "        ...            ⋱           ...         \n",
      "   408    273   1599  ...       9    216   3028\n",
      "    41    162   6272  ...     535   1361   3163\n",
      "    10      7   2760  ...      16    215   2473\n",
      "[torch.cuda.LongTensor of size 42x128 (GPU 0)]\n",
      "\n",
      "Ys=Variable containing:\n",
      "    70\n",
      "     6\n",
      "    21\n",
      "  ⋮   \n",
      "   558\n",
      "  9127\n",
      "   109\n",
      "[torch.cuda.LongTensor of size 5376 (GPU 0)]\n",
      "\n"
     ]
    }
   ],
   "source": [
    "batch = next(iter(idmd.trn_dl))\n",
    "xs, y = batch\n",
    "print(\"Xs={}\\nYs={}\".format(xs, y))"
   ]
  },
  {
   "cell_type": "markdown",
   "metadata": {},
   "source": [
    "##### Tune these learning parameters"
   ]
  },
  {
   "cell_type": "code",
   "execution_count": 27,
   "metadata": {
    "collapsed": true
   },
   "outputs": [],
   "source": [
    "em_sz = 100  # size of each embedding vector\n",
    "nh = 200     # number of hidden activations per layer\n",
    "nl = 3       # number of layers\n",
    "opt_fn = partial(optim.Adam, betas=(0.7, 0.99))"
   ]
  },
  {
   "cell_type": "code",
   "execution_count": 28,
   "metadata": {
    "collapsed": true
   },
   "outputs": [],
   "source": [
    "id_learner = idmd.get_model(opt_fn, em_sz, nh, nl,\n",
    "               dropouti=0.05, dropout=0.05, wdrop=0.1, dropoute=0.02, dropouth=0.05)"
   ]
  },
  {
   "cell_type": "code",
   "execution_count": 29,
   "metadata": {
    "collapsed": true
   },
   "outputs": [],
   "source": [
    "id_learner.reg_fn = partial(seq2seq_reg, alpha=2, beta=1)\n",
    "id_learner.clip=0.3"
   ]
  },
  {
   "cell_type": "markdown",
   "metadata": {},
   "source": [
    "#### Unfderstanding Input/Output of the Edcoder-Decoder Model"
   ]
  },
  {
   "cell_type": "code",
   "execution_count": 30,
   "metadata": {},
   "outputs": [
    {
     "data": {
      "text/plain": [
       "1482535"
      ]
     },
     "execution_count": 30,
     "metadata": {},
     "output_type": "execute_result"
    }
   ],
   "source": [
    "ntrn"
   ]
  },
  {
   "cell_type": "code",
   "execution_count": 31,
   "metadata": {},
   "outputs": [
    {
     "data": {
      "text/plain": [
       "SequentialRNN (\n",
       "  (0): RNN_Encoder (\n",
       "    (encoder): Embedding(17009, 100, padding_idx=1)\n",
       "    (encoder_with_dropout): EmbeddingDropout (\n",
       "      (embed): Embedding(17009, 100, padding_idx=1)\n",
       "    )\n",
       "    (rnns): ModuleList (\n",
       "      (0): WeightDrop (\n",
       "        (module): LSTM(100, 200, dropout=0.05)\n",
       "      )\n",
       "      (1): WeightDrop (\n",
       "        (module): LSTM(200, 200, dropout=0.05)\n",
       "      )\n",
       "      (2): WeightDrop (\n",
       "        (module): LSTM(200, 100, dropout=0.05)\n",
       "      )\n",
       "    )\n",
       "    (dropouti): LockedDropout (\n",
       "    )\n",
       "    (dropouths): ModuleList (\n",
       "      (0): LockedDropout (\n",
       "      )\n",
       "      (1): LockedDropout (\n",
       "      )\n",
       "      (2): LockedDropout (\n",
       "      )\n",
       "    )\n",
       "  )\n",
       "  (1): LinearDecoder (\n",
       "    (decoder): Linear (100 -> 17009)\n",
       "    (dropout): LockedDropout (\n",
       "    )\n",
       "  )\n",
       ")"
      ]
     },
     "execution_count": 31,
     "metadata": {},
     "output_type": "execute_result"
    }
   ],
   "source": [
    "lm = id_learner.model\n",
    "lm"
   ]
  },
  {
   "cell_type": "code",
   "execution_count": 69,
   "metadata": {},
   "outputs": [
    {
     "data": {
      "text/plain": [
       "Variable containing:\n",
       "( 0 ,.,.) = \n",
       "  8.7204e-04 -1.3502e-02  8.6249e-03  ...   2.3861e-04  2.0224e-03  2.6932e-02\n",
       " -7.8723e-04 -1.3026e-02  8.2064e-03  ...  -1.8686e-03  2.3229e-03  2.7328e-02\n",
       " -3.9027e-04 -1.2913e-02  8.5906e-03  ...  -2.1412e-03  1.8793e-03  2.6324e-02\n",
       "                 ...                   ⋱                   ...                \n",
       "  1.9075e-04 -1.3671e-02  9.1400e-03  ...  -1.2717e-03  1.5214e-03  2.7535e-02\n",
       "  5.3724e-04 -1.3376e-02  8.8305e-03  ...  -4.0883e-04  2.9127e-03  2.7024e-02\n",
       " -5.2852e-04 -1.1182e-02  9.7146e-03  ...  -1.1102e-03  2.2982e-03  2.7703e-02\n",
       "\n",
       "( 1 ,.,.) = \n",
       "  1.5359e-03 -2.2481e-02  9.5521e-03  ...   5.4989e-03  6.2430e-03  4.7402e-02\n",
       " -1.6594e-03 -2.1621e-02  8.4136e-03  ...   1.5818e-03  6.6574e-03  4.7923e-02\n",
       " -1.1259e-03 -2.1139e-02  9.3862e-03  ...   8.6730e-04  5.2768e-03  4.6220e-02\n",
       "                 ...                   ⋱                   ...                \n",
       " -6.7700e-05 -2.2551e-02  1.0359e-02  ...   2.6714e-03  4.6688e-03  4.8556e-02\n",
       "  8.2711e-04 -2.2098e-02  9.5980e-03  ...   4.4835e-03  8.1805e-03  4.7587e-02\n",
       " -1.1579e-03 -1.7735e-02  1.2300e-02  ...   2.6871e-03  6.4746e-03  4.9311e-02\n",
       "\n",
       "( 2 ,.,.) = \n",
       "  1.9452e-03 -2.9131e-02  9.3048e-03  ...   1.0891e-02  9.5514e-03  6.0555e-02\n",
       " -2.9710e-03 -2.7119e-02  7.2623e-03  ...   5.2723e-03  9.7987e-03  6.0978e-02\n",
       " -2.1123e-03 -2.6237e-02  8.8538e-03  ...   4.9757e-03  8.1373e-03  5.8942e-02\n",
       "                 ...                   ⋱                   ...                \n",
       " -7.9056e-04 -2.8339e-02  9.6319e-03  ...   7.2179e-03  7.3507e-03  6.1936e-02\n",
       "  9.4095e-04 -2.7910e-02  9.0735e-03  ...   9.3514e-03  1.2605e-02  6.0879e-02\n",
       " -1.9933e-03 -2.1852e-02  1.3162e-02  ...   7.2280e-03  9.8074e-03  6.3401e-02\n",
       "... \n",
       "\n",
       "(18 ,.,.) = \n",
       "  3.1059e-03 -4.3892e-02  1.0965e-02  ...   2.3559e-02  1.4832e-02  7.7106e-02\n",
       " -5.4217e-03 -3.7366e-02  6.5800e-03  ...   1.7742e-02  1.4657e-02  7.6040e-02\n",
       " -1.7041e-03 -3.6077e-02  1.1345e-02  ...   1.7541e-02  1.3208e-02  7.3064e-02\n",
       "                 ...                   ⋱                   ...                \n",
       " -2.3369e-03 -4.0206e-02  8.0547e-03  ...   1.9988e-02  1.3313e-02  7.6366e-02\n",
       "  9.8837e-04 -4.0386e-02  8.7592e-03  ...   2.3328e-02  2.1165e-02  7.7011e-02\n",
       " -1.3354e-03 -3.0471e-02  1.8226e-02  ...   2.2241e-02  1.6818e-02  8.2466e-02\n",
       "\n",
       "(19 ,.,.) = \n",
       "  3.7107e-03 -4.3951e-02  1.0876e-02  ...   2.3298e-02  1.4839e-02  7.7008e-02\n",
       " -5.4648e-03 -3.7423e-02  6.5324e-03  ...   1.7736e-02  1.4110e-02  7.6345e-02\n",
       " -1.8349e-03 -3.5906e-02  1.0912e-02  ...   1.7512e-02  1.3491e-02  7.3342e-02\n",
       "                 ...                   ⋱                   ...                \n",
       " -2.6424e-03 -4.0124e-02  7.9289e-03  ...   1.9597e-02  1.3636e-02  7.6225e-02\n",
       "  1.4603e-03 -4.0287e-02  9.1855e-03  ...   2.3590e-02  2.0984e-02  7.7656e-02\n",
       " -1.3008e-03 -3.0361e-02  1.7940e-02  ...   2.2161e-02  1.6521e-02  8.2340e-02\n",
       "\n",
       "(20 ,.,.) = \n",
       "  3.9157e-03 -4.4091e-02  1.0679e-02  ...   2.3360e-02  1.4888e-02  7.6960e-02\n",
       " -5.2672e-03 -3.7703e-02  6.2485e-03  ...   1.7743e-02  1.3907e-02  7.6484e-02\n",
       " -1.9354e-03 -3.5851e-02  1.0907e-02  ...   1.7570e-02  1.3896e-02  7.3766e-02\n",
       "                 ...                   ⋱                   ...                \n",
       " -2.8378e-03 -4.0014e-02  8.0545e-03  ...   1.9135e-02  1.3847e-02  7.6231e-02\n",
       "  1.7696e-03 -4.0303e-02  8.9413e-03  ...   2.3638e-02  2.0927e-02  7.7865e-02\n",
       " -1.5699e-03 -3.0352e-02  1.7614e-02  ...   2.1859e-02  1.6557e-02  8.2302e-02\n",
       "[torch.cuda.FloatTensor of size 21x128x100 (GPU 0)]"
      ]
     },
     "execution_count": 69,
     "metadata": {},
     "output_type": "execute_result"
    }
   ],
   "source": [
    "# Test 1 batch \n",
    "lm.reset()   # Initializes hidden states\n",
    "rnn_enc, lin_dec = lm\n",
    "raw_outputs, outputs = rnn_enc(*[xs])\n",
    "lstm1_op, lstm2_op, lstm3_op = outputs\n",
    "lstm3_op"
   ]
  },
  {
   "cell_type": "code",
   "execution_count": 70,
   "metadata": {},
   "outputs": [
    {
     "data": {
      "text/plain": [
       "Variable containing:\n",
       " 3.5929e-04 -3.1156e-03 -7.1252e-03  ...   5.4986e-03  2.6899e-03 -3.0530e-03\n",
       "-2.9294e-03 -1.4799e-03 -1.0106e-02  ...   7.5332e-03 -1.2731e-03 -1.0727e-04\n",
       " 8.9489e-05 -1.2583e-03 -3.7825e-03  ...   9.1517e-03 -1.1108e-03  2.8472e-03\n",
       "                ...                   ⋱                   ...                \n",
       "-1.2760e-03 -5.5725e-03 -1.4725e-02  ...   7.4324e-03  1.0801e-02  2.7380e-03\n",
       "-2.3049e-02 -1.0120e-02 -1.9807e-02  ...   1.0520e-02 -4.5243e-03 -6.3936e-03\n",
       " 5.0513e-03 -5.3743e-03 -1.3848e-02  ...   1.4562e-02  5.1860e-03  5.4480e-03\n",
       "[torch.cuda.FloatTensor of size 2688x17009 (GPU 0)]"
      ]
     },
     "execution_count": 70,
     "metadata": {},
     "output_type": "execute_result"
    }
   ],
   "source": [
    "word_map, raw_outputs, outputs = lin_dec([raw_outputs, outputs])\n",
    "word_map"
   ]
  },
  {
   "cell_type": "code",
   "execution_count": 71,
   "metadata": {},
   "outputs": [
    {
     "data": {
      "application/vnd.jupyter.widget-view+json": {
       "model_id": "6046b5f1f5e748d0929b2d30120765af",
       "version_major": 2,
       "version_minor": 0
      },
      "text/plain": [
       "A Jupyter Widget"
      ]
     },
     "metadata": {},
     "output_type": "display_data"
    },
    {
     "name": "stdout",
     "output_type": "stream",
     "text": [
      " 97%|█████████▋| 1613/1661 [03:09<00:05,  8.50it/s, loss=18.7]"
     ]
    }
   ],
   "source": [
    "id_learner.lr_find()"
   ]
  },
  {
   "cell_type": "code",
   "execution_count": 72,
   "metadata": {},
   "outputs": [
    {
     "data": {
      "image/png": "[encoded data removed]",
      "text/plain": [
       "<matplotlib.figure.Figure at 0x7f2525f56710>"
      ]
     },
     "metadata": {},
     "output_type": "display_data"
    }
   ],
   "source": [
    "id_learner.sched.plot()"
   ]
  },
  {
   "cell_type": "code",
   "execution_count": 30,
   "metadata": {},
   "outputs": [
    {
     "data": {
      "application/vnd.jupyter.widget-view+json": {
       "model_id": "dd54556f26674234816d3b38015cc4f9",
       "version_major": 2,
       "version_minor": 0
      },
      "text/plain": [
       "A Jupyter Widget"
      ]
     },
     "metadata": {},
     "output_type": "display_data"
    },
    {
     "name": "stdout",
     "output_type": "stream",
     "text": [
      "[ 0.       5.03722  4.95899]                                  \n",
      "[ 1.       4.06012  3.92046]                                  \n",
      "[ 2.       3.85808  3.71094]                                  \n",
      "[ 3.       3.76283  3.64446]                                  \n",
      "\n"
     ]
    }
   ],
   "source": [
    "id_learner.fit(2.0e-2, 2, wds=1e-6, cycle_len=1, cycle_mult=3)"
   ]
  },
  {
   "cell_type": "code",
   "execution_count": 42,
   "metadata": {
    "collapsed": true
   },
   "outputs": [],
   "source": [
    "#del(id_learner)"
   ]
  },
  {
   "cell_type": "code",
   "execution_count": 50,
   "metadata": {
    "collapsed": true
   },
   "outputs": [],
   "source": [
    "id_learner.save_encoder('adam1_enc')"
   ]
  },
  {
   "cell_type": "markdown",
   "metadata": {},
   "source": [
    "### Process DataFrames and Create Data Loaders"
   ]
  },
  {
   "cell_type": "code",
   "execution_count": 35,
   "metadata": {
    "collapsed": true
   },
   "outputs": [],
   "source": [
    "def split_into_columns(x, split_by=\"/\", ncol=4, fillna='NA'):\n",
    "    l = str(x).split(split_by)\n",
    "    return pd.Series((l+fillna*(ncol-len(l)))[:ncol])"
   ]
  },
  {
   "cell_type": "code",
   "execution_count": 90,
   "metadata": {},
   "outputs": [
    {
     "data": {
      "text/html": [
       "<div>\n",
       "<style>\n",
       "    .dataframe thead tr:only-child th {\n",
       "        text-align: right;\n",
       "    }\n",
       "\n",
       "    .dataframe thead th {\n",
       "        text-align: left;\n",
       "    }\n",
       "\n",
       "    .dataframe tbody tr th {\n",
       "        vertical-align: top;\n",
       "    }\n",
       "</style>\n",
       "<table border=\"1\" class=\"dataframe\">\n",
       "  <thead>\n",
       "    <tr style=\"text-align: right;\">\n",
       "      <th></th>\n",
       "      <th>test_id</th>\n",
       "      <th>name</th>\n",
       "      <th>item_condition_id</th>\n",
       "      <th>category_name</th>\n",
       "      <th>brand_name</th>\n",
       "      <th>shipping</th>\n",
       "      <th>item_description</th>\n",
       "    </tr>\n",
       "  </thead>\n",
       "  <tbody>\n",
       "    <tr>\n",
       "      <th>0</th>\n",
       "      <td>0</td>\n",
       "      <td>Breast cancer \"I fight like a girl\" ring</td>\n",
       "      <td>1</td>\n",
       "      <td>Women/Jewelry/Rings</td>\n",
       "      <td>NaN</td>\n",
       "      <td>1</td>\n",
       "      <td>&lt;category&gt; Women Jewelry Rings &lt;name&gt; Breast c...</td>\n",
       "    </tr>\n",
       "    <tr>\n",
       "      <th>1</th>\n",
       "      <td>1</td>\n",
       "      <td>25 pcs NEW 7.5\"x12\" Kraft Bubble Mailers</td>\n",
       "      <td>1</td>\n",
       "      <td>Other/Office supplies/Shipping Supplies</td>\n",
       "      <td>NaN</td>\n",
       "      <td>1</td>\n",
       "      <td>&lt;category&gt; Other Officesupplies ShippingSuppli...</td>\n",
       "    </tr>\n",
       "  </tbody>\n",
       "</table>\n",
       "</div>"
      ],
      "text/plain": [
       "   test_id                                      name  item_condition_id  \\\n",
       "0        0  Breast cancer \"I fight like a girl\" ring                  1   \n",
       "1        1  25 pcs NEW 7.5\"x12\" Kraft Bubble Mailers                  1   \n",
       "\n",
       "                             category_name brand_name  shipping  \\\n",
       "0                      Women/Jewelry/Rings        NaN         1   \n",
       "1  Other/Office supplies/Shipping Supplies        NaN         1   \n",
       "\n",
       "                                    item_description  \n",
       "0  <category> Women Jewelry Rings <name> Breast c...  \n",
       "1  <category> Other Officesupplies ShippingSuppli...  "
      ]
     },
     "execution_count": 90,
     "metadata": {},
     "output_type": "execute_result"
    }
   ],
   "source": [
    "test_df.head(2)"
   ]
  },
  {
   "cell_type": "code",
   "execution_count": 91,
   "metadata": {
    "collapsed": true
   },
   "outputs": [],
   "source": [
    "text_vars = ['item_description']\n",
    "#text_var = []\n",
    "cat_vars = ['item_condition_id', 'category_name', 'brand_name', 'shipping']\n",
    "contin_vars = []\n",
    "dep = 'price'"
   ]
  },
  {
   "cell_type": "code",
   "execution_count": 92,
   "metadata": {
    "collapsed": true
   },
   "outputs": [],
   "source": [
    "train_df2 = train[text_vars+cat_vars+contin_vars+[dep]].copy()\n",
    "test_df[dep] = 0\n",
    "test_df2 = test_df[text_vars+cat_vars+contin_vars+[dep, 'test_id']].copy()"
   ]
  },
  {
   "cell_type": "markdown",
   "metadata": {},
   "source": [
    "Before we call torch text to create DataLoaders we need to convert categorical data to numerical data. "
   ]
  },
  {
   "cell_type": "code",
   "execution_count": 93,
   "metadata": {
    "collapsed": true
   },
   "outputs": [],
   "source": [
    "# make train/test categories\n",
    "for v in cat_vars: train_df2[v] = train_df2[v].astype('category').cat.as_ordered()\n",
    "apply_cats(test_df2, train_df2)"
   ]
  },
  {
   "cell_type": "code",
   "execution_count": 94,
   "metadata": {
    "collapsed": true
   },
   "outputs": [],
   "source": [
    "cat_sz = [(c, len(train_df2[c].cat.categories)+1) for c in cat_vars]\n",
    "cat_emb_szs = [(c, min(50, (c+1)//2)) for _,c in cat_sz]"
   ]
  },
  {
   "cell_type": "code",
   "execution_count": 95,
   "metadata": {
    "collapsed": true
   },
   "outputs": [],
   "source": [
    "# make float continuous variables if any\n",
    "for v in contin_vars:\n",
    "    train_df2[v] = train_df2[v].astype('float32')\n",
    "    test_df2[v] = test_df2[v].astype('float32')"
   ]
  },
  {
   "cell_type": "code",
   "execution_count": 96,
   "metadata": {
    "collapsed": true
   },
   "outputs": [],
   "source": [
    "# numericalize all but the text field then add it back at the end\n",
    "# pd.get_dummies creates expanded 1 hot encoding then collapsed\n",
    "df, y, nas = proc_df(train_df2, dep, skip_flds=text_vars, do_scale=False)\n",
    "df['item_description'] = train_df2['item_description']\n",
    "df[dep] = np.log(y+1)"
   ]
  },
  {
   "cell_type": "code",
   "execution_count": 97,
   "metadata": {
    "collapsed": true
   },
   "outputs": [],
   "source": [
    "df_test, _, nas = proc_df(test_df2, dep, do_scale=False, \n",
    "                          skip_flds=text_vars + ['test_id'], na_dict=nas)\n",
    "df_test['item_description'] = test_df2['item_description']\n",
    "df_test[dep] = 0"
   ]
  },
  {
   "cell_type": "code",
   "execution_count": 98,
   "metadata": {},
   "outputs": [
    {
     "data": {
      "text/html": [
       "<div>\n",
       "<style>\n",
       "    .dataframe thead tr:only-child th {\n",
       "        text-align: right;\n",
       "    }\n",
       "\n",
       "    .dataframe thead th {\n",
       "        text-align: left;\n",
       "    }\n",
       "\n",
       "    .dataframe tbody tr th {\n",
       "        vertical-align: top;\n",
       "    }\n",
       "</style>\n",
       "<table border=\"1\" class=\"dataframe\">\n",
       "  <thead>\n",
       "    <tr style=\"text-align: right;\">\n",
       "      <th></th>\n",
       "      <th>item_condition_id</th>\n",
       "      <th>category_name</th>\n",
       "      <th>brand_name</th>\n",
       "      <th>shipping</th>\n",
       "      <th>item_description</th>\n",
       "      <th>price</th>\n",
       "    </tr>\n",
       "  </thead>\n",
       "  <tbody>\n",
       "    <tr>\n",
       "      <th>0</th>\n",
       "      <td>3</td>\n",
       "      <td>809</td>\n",
       "      <td>0</td>\n",
       "      <td>2</td>\n",
       "      <td>&lt;category&gt; Men Tops T-shirts &lt;name&gt; MLB Cincin...</td>\n",
       "      <td>2.397895</td>\n",
       "    </tr>\n",
       "    <tr>\n",
       "      <th>1</th>\n",
       "      <td>3</td>\n",
       "      <td>87</td>\n",
       "      <td>3558</td>\n",
       "      <td>1</td>\n",
       "      <td>&lt;category&gt; Electronics Computers&amp;Tablets Compo...</td>\n",
       "      <td>3.970292</td>\n",
       "    </tr>\n",
       "  </tbody>\n",
       "</table>\n",
       "</div>"
      ],
      "text/plain": [
       "   item_condition_id  category_name  brand_name  shipping  \\\n",
       "0                  3            809           0         2   \n",
       "1                  3             87        3558         1   \n",
       "\n",
       "                                    item_description     price  \n",
       "0  <category> Men Tops T-shirts <name> MLB Cincin...  2.397895  \n",
       "1  <category> Electronics Computers&Tablets Compo...  3.970292  "
      ]
     },
     "metadata": {},
     "output_type": "display_data"
    },
    {
     "data": {
      "text/html": [
       "<div>\n",
       "<style>\n",
       "    .dataframe thead tr:only-child th {\n",
       "        text-align: right;\n",
       "    }\n",
       "\n",
       "    .dataframe thead th {\n",
       "        text-align: left;\n",
       "    }\n",
       "\n",
       "    .dataframe tbody tr th {\n",
       "        vertical-align: top;\n",
       "    }\n",
       "</style>\n",
       "<table border=\"1\" class=\"dataframe\">\n",
       "  <thead>\n",
       "    <tr style=\"text-align: right;\">\n",
       "      <th></th>\n",
       "      <th>item_condition_id</th>\n",
       "      <th>category_name</th>\n",
       "      <th>brand_name</th>\n",
       "      <th>shipping</th>\n",
       "      <th>item_description</th>\n",
       "      <th>price</th>\n",
       "    </tr>\n",
       "  </thead>\n",
       "  <tbody>\n",
       "    <tr>\n",
       "      <th>0</th>\n",
       "      <td>1</td>\n",
       "      <td>1183</td>\n",
       "      <td>0</td>\n",
       "      <td>2</td>\n",
       "      <td>&lt;category&gt; Women Jewelry Rings &lt;name&gt; Breast c...</td>\n",
       "      <td>0</td>\n",
       "    </tr>\n",
       "    <tr>\n",
       "      <th>1</th>\n",
       "      <td>1</td>\n",
       "      <td>878</td>\n",
       "      <td>0</td>\n",
       "      <td>2</td>\n",
       "      <td>&lt;category&gt; Other Officesupplies ShippingSuppli...</td>\n",
       "      <td>0</td>\n",
       "    </tr>\n",
       "  </tbody>\n",
       "</table>\n",
       "</div>"
      ],
      "text/plain": [
       "   item_condition_id  category_name  brand_name  shipping  \\\n",
       "0                  1           1183           0         2   \n",
       "1                  1            878           0         2   \n",
       "\n",
       "                                    item_description  price  \n",
       "0  <category> Women Jewelry Rings <name> Breast c...      0  \n",
       "1  <category> Other Officesupplies ShippingSuppli...      0  "
      ]
     },
     "execution_count": 98,
     "metadata": {},
     "output_type": "execute_result"
    }
   ],
   "source": [
    "display(df.head(2))\n",
    "df_test.head(2)"
   ]
  },
  {
   "cell_type": "markdown",
   "metadata": {},
   "source": [
    "#### call torch.text to process the text in text field and create data splits"
   ]
  },
  {
   "cell_type": "code",
   "execution_count": 100,
   "metadata": {
    "collapsed": true
   },
   "outputs": [],
   "source": [
    "class MixedTextDataset(torchtext.data.Dataset):\n",
    "    def __init__(self, split_type, text_name, data_fields, dfs, **kwargs):\n",
    "        type(self).text_name = text_name\n",
    "        fields = list(data_fields.items())\n",
    "        cols = [fld[0] for fld in fields]\n",
    "        #cols.remove(text_name)\n",
    "        df = dfs[split_type]\n",
    "        \n",
    "        examples = []\n",
    "        for i,row in df.iterrows():\n",
    "            examples.append(data.Example.fromlist(list(row[cols]), fields))\n",
    "        super().__init__(examples, fields, **kwargs)\n",
    "\n",
    "    @staticmethod\n",
    "    def sort_key(ex): return len(getattr(ex, MixedTextDataset.text_name))\n",
    "    \n",
    "    @classmethod\n",
    "    def splits(cls, data_fields, train, val, test, dfs, **kwargs):\n",
    "        # set path to null ('') as we are dealing with dataframes\n",
    "        return super().splits('', data_fields=data_fields,  \n",
    "                              train=train, validation=val, test=test, dfs=dfs, **kwargs)"
   ]
  },
  {
   "cell_type": "code",
   "execution_count": 101,
   "metadata": {
    "collapsed": true
   },
   "outputs": [],
   "source": [
    "dfs = {'test': df_test}\n",
    "(dfs['val'], dfs['train']),  = split_by_idx(val_idx, df)"
   ]
  },
  {
   "cell_type": "code",
   "execution_count": 102,
   "metadata": {
    "collapsed": true
   },
   "outputs": [],
   "source": [
    "min_freq=10"
   ]
  },
  {
   "cell_type": "code",
   "execution_count": 103,
   "metadata": {
    "collapsed": true
   },
   "outputs": [],
   "source": [
    "ITEM_DESCRIPTION = pickle.load(open(f'{PATH}models/ITEM_DESCRIPTION_{min_freq}.pkl','rb'))"
   ]
  },
  {
   "cell_type": "code",
   "execution_count": 104,
   "metadata": {
    "collapsed": true
   },
   "outputs": [],
   "source": [
    "DATA_FIELDS = {'item_description': ITEM_DESCRIPTION}\n",
    "for v in cat_vars: \n",
    "    DATA_FIELDS[v] = data.Field(sequential=False, use_vocab=False)\n",
    "DATA_FIELDS[dep] = data.Field(sequential=False, tensor_type=torch.FloatTensor, use_vocab=False)"
   ]
  },
  {
   "cell_type": "code",
   "execution_count": null,
   "metadata": {},
   "outputs": [],
   "source": [
    "splits = MixedTextDataset.splits(DATA_FIELDS, text_name='item_description', train='train', \n",
    "                                     val='val', test='test', dfs=dfs)"
   ]
  },
  {
   "cell_type": "code",
   "execution_count": 51,
   "metadata": {},
   "outputs": [
    {
     "data": {
      "text/plain": [
       "(<torchtext.data.field.Field at 0x7fbab53b54e0>, 2.4849066497880004)"
      ]
     },
     "execution_count": 51,
     "metadata": {},
     "output_type": "execute_result"
    }
   ],
   "source": [
    "# Fields contain vocab, examples contain data \n",
    "splits[0].fields['price'], splits[1].examples[0].price"
   ]
  },
  {
   "cell_type": "code",
   "execution_count": null,
   "metadata": {
    "collapsed": true
   },
   "outputs": [],
   "source": [
    "# minor changes to core.py\n",
    "\n",
    "def V_(x, requires_grad=False):\n",
    "    return create_variable(x, False, requires_grad=requires_grad)\n",
    "def V(x, requires_grad=False):\n",
    "    return [V(o, requires_grad) for o in x] if isinstance(x,list) else V_(x, requires_grad)\n",
    "\n",
    "def VV_(x): return create_variable(x, True)\n",
    "def VV(x):  return [VV(o) for o in x] if isinstance(x,list) else VV_(x)"
   ]
  },
  {
   "cell_type": "code",
   "execution_count": 52,
   "metadata": {
    "collapsed": true
   },
   "outputs": [],
   "source": [
    "class MixedTextDataLoader():\n",
    "    def __init__(self, src, x_fld, c_flds, y_fld):\n",
    "        self.src,self.x_fld,self.c_flds, self.y_fld = src,x_fld,c_flds, y_fld\n",
    "\n",
    "    def __len__(self): return len(self.src)-1\n",
    "\n",
    "    def __iter__(self):\n",
    "        it = iter(self.src)\n",
    "        for i in range(len(self)):\n",
    "            b = next(it)\n",
    "            yield getattr(b, self.x_fld), [getattr(b, f) for f in self.c_flds], getattr(b, self.y_fld)\n",
    "\n",
    "\n",
    "class MixedTextModel(BasicModel):\n",
    "    def get_layer_groups(self):\n",
    "        # defines how the differential learning rates would be applied to model groups\n",
    "        m=self.model\n",
    "        m_enc = m.rnn_encoder\n",
    "        return [m_enc.encoder, *zip(m_enc.rnns, m_enc.dropouths), (children(m.lins)+children(m.bns)+[m.outp])]\n",
    "\n",
    "class MixedTextData(ModelData):\n",
    "    def create_td(self, it): return TextDataLoader(it, self.text_fld, self.label_fld)\n",
    "\n",
    "    @classmethod\n",
    "    def from_splits(cls, path, splits, bs, text_name='text', target_name='label', cat_names=['category']):\n",
    "        text_fld = splits[0].fields[text_name]\n",
    "        target_fld = splits[0].fields[target_name]\n",
    "        if hasattr(target_fld, 'build_vocab') and target_fld.build_vocab == True: target_fld.build_vocab(splits[0])\n",
    "        iters = torchtext.data.BucketIterator.splits(splits, batch_size=bs)\n",
    "        trn_iter,val_iter,test_iter = iters[0],iters[1],None\n",
    "        test_dl = None\n",
    "        if len(iters) == 3:\n",
    "            test_iter = iters[2]\n",
    "            test_dl = MixedTextDataLoader(test_iter, text_name, cat_names, target_name)\n",
    "        trn_dl = MixedTextDataLoader(trn_iter, text_name, cat_names, target_name)\n",
    "        val_dl = MixedTextDataLoader(val_iter, text_name, cat_names, target_name)\n",
    "        obj = cls.from_dls(path, trn_dl, val_dl, test_dl)\n",
    "        obj.bs = bs\n",
    "        obj.pad_idx = text_fld.vocab.stoi[text_fld.pad_token]\n",
    "        obj.nt = len(text_fld.vocab)\n",
    "        target_len = (target_fld.vocab if hasattr(target_fld, 'vocab')\n",
    "                        else getattr(splits[0][0], target_name))\n",
    "        try: \n",
    "            obj.c = len(target_len)\n",
    "        except (TypeError):\n",
    "            obj.c = None\n",
    "            \n",
    "        return obj\n",
    "\n",
    "\n",
    "    def get_learner(self, opt_fn, text_emb_sz, enc_n_hid, enc_n_layers, enc_max_sl, enc_bptt, \n",
    "                    cat_emb_szs, cat_emb_drop, fc_layers, fc_drops, out_sz, y_range=None, use_bn=False, \n",
    "                    dropouth=0.3, dropouti=0.5, dropoute=0.1, wdrop=0.5, **kwargs):\n",
    "        \n",
    "        rnn_enc = MultiBatchRNN(enc_max_sl, enc_bptt, self.bs, self.nt, text_emb_sz, enc_n_hid, \n",
    "                                enc_n_layers, pad_token=self.pad_idx, bidir=False, dropouth=dropouth, \n",
    "                                dropouti=dropouti, dropoute=dropoute, wdrop=wdrop)\n",
    "        \n",
    "        m = MixedTextInputModel(cat_emb_szs, 0, cat_emb_drop, out_sz, fc_layers, fc_drops, y_range, use_bn, text_emb_sz,\n",
    "                            rnn_enc)\n",
    "        \n",
    "        model = MixedTextModel(to_gpu(m))\n",
    "        return MixedTextLearner(self, model, opt_fn=opt_fn)"
   ]
  },
  {
   "cell_type": "code",
   "execution_count": 53,
   "metadata": {
    "collapsed": true
   },
   "outputs": [],
   "source": [
    "class MixedTextInputModel(nn.Module):\n",
    "    def __init__(self, emb_szs, n_cont, emb_drop, out_sz, szs, drops,\n",
    "                 y_range=None, use_bn=False, text_emb_sz=0, rnn_encoder=None):\n",
    "        super().__init__()\n",
    "        \n",
    "        self.embs = nn.ModuleList([nn.Embedding(c, s) for c,s in emb_szs])\n",
    "        for emb in self.embs: emb_init(emb)\n",
    "        n_emb = sum(e.embedding_dim for e in self.embs)\n",
    "        self.n_emb, self.n_cont=n_emb, n_cont\n",
    "        \n",
    "        self.text_emb_sz, self.rnn_encoder = text_emb_sz, rnn_encoder\n",
    "            \n",
    "        szs = [n_emb+n_cont+3*text_emb_sz] + szs\n",
    "        self.lins = nn.ModuleList([\n",
    "            nn.Linear(szs[i], szs[i+1]) for i in range(len(szs)-1)])\n",
    "        self.bns = nn.ModuleList([\n",
    "            nn.BatchNorm1d(sz) for sz in szs[1:]])\n",
    "        for o in self.lins: kaiming_normal(o.weight.data)\n",
    "        self.outp = nn.Linear(szs[-1], out_sz)\n",
    "        kaiming_normal(self.outp.weight.data)\n",
    "\n",
    "        self.emb_drop = nn.Dropout(emb_drop)\n",
    "        self.drops = nn.ModuleList([nn.Dropout(drop) for drop in drops])\n",
    "        self.bn = nn.BatchNorm1d(n_cont)\n",
    "        self.use_bn,self.y_range = use_bn,y_range\n",
    "\n",
    "    def pool(self, x, bs, is_max):\n",
    "        f = F.adaptive_max_pool1d if is_max else F.adaptive_avg_pool1d\n",
    "        return f(x.permute(1,2,0), (1,)).view(bs,-1)\n",
    "        \n",
    "    def forward(self, x_text, x_cat, x_cont=None):\n",
    "\n",
    "        if self.n_emb != 0:\n",
    "            x = [e(x_cat[i]) for i,e in enumerate(self.embs)]\n",
    "            x = torch.cat(x, 1)\n",
    "            x = self.emb_drop(x)\n",
    "        if self.n_cont != 0:\n",
    "            x2 = self.bn(x_cont)\n",
    "            x = torch.cat([x, x2], 1) if self.n_emb != 0 else x2\n",
    "        \n",
    "        if self.rnn_encoder:\n",
    "            enc_raw_outputs, enc_outputs = self.rnn_encoder(x_text)\n",
    "            enc_last_layer = enc_outputs[-1]\n",
    "            sl,bs,_ = enc_last_layer.size()\n",
    "            avgpool = self.pool(enc_last_layer, bs, False)\n",
    "            mxpool = self.pool(enc_last_layer, bs, True)\n",
    "            x3 = torch.cat([enc_last_layer[-1], mxpool, avgpool], 1)\n",
    "            x = torch.cat([x, x3], 1)\n",
    "            \n",
    "        for l,d,b in zip(self.lins, self.drops, self.bns):\n",
    "            x = F.relu(l(x))\n",
    "            if self.use_bn: x = b(x)\n",
    "            x = d(x)\n",
    "        x = self.outp(x)\n",
    "        if self.y_range:\n",
    "            x = F.sigmoid(x)\n",
    "            x = x*(self.y_range[1] - self.y_range[0])\n",
    "            x = x+self.y_range[0]\n",
    "        \n",
    "        # encoder outputs are needed by the regularization function\n",
    "        return x, enc_raw_outputs, enc_outputs\n",
    "\n",
    "    def reset(self):\n",
    "        for c in self.children():\n",
    "            if hasattr(c, 'reset'): c.reset()\n",
    "    \n",
    "class StructuredLearner(Learner):\n",
    "    def __init__(self, data, models, **kwargs):\n",
    "        super().__init__(data, models, **kwargs)\n",
    "        self.crit = F.mse_loss\n",
    "        \n",
    "class MixedTextLearner(Learner):\n",
    "    def __init__(self, data, models, **kwargs):\n",
    "        super().__init__(data, models, **kwargs)\n",
    "        self.crit = F.mse_loss\n",
    "        # self.crit = F.cross_entropy\n",
    "\n",
    "    def save_encoder(self, name): save_model(self.model.rnn_encoder, self.get_model_path(name))\n",
    "    def load_encoder(self, name): load_model(self.model.rnn_encoder, self.get_model_path(name))"
   ]
  },
  {
   "cell_type": "code",
   "execution_count": 56,
   "metadata": {
    "collapsed": true
   },
   "outputs": [],
   "source": [
    "bs = 256"
   ]
  },
  {
   "cell_type": "code",
   "execution_count": 57,
   "metadata": {
    "collapsed": true
   },
   "outputs": [],
   "source": [
    "md = MixedTextData.from_splits(PATH, splits, bs, text_name=text_vars[0], target_name=dep, cat_names=cat_vars)"
   ]
  },
  {
   "cell_type": "code",
   "execution_count": 58,
   "metadata": {
    "collapsed": true
   },
   "outputs": [],
   "source": [
    "*xbs, yb = next(iter(md.trn_dl))"
   ]
  },
  {
   "cell_type": "code",
   "execution_count": 62,
   "metadata": {
    "scrolled": true
   },
   "outputs": [
    {
     "data": {
      "text/html": [
       "<div>\n",
       "<style>\n",
       "    .dataframe thead tr:only-child th {\n",
       "        text-align: right;\n",
       "    }\n",
       "\n",
       "    .dataframe thead th {\n",
       "        text-align: left;\n",
       "    }\n",
       "\n",
       "    .dataframe tbody tr th {\n",
       "        vertical-align: top;\n",
       "    }\n",
       "</style>\n",
       "<table border=\"1\" class=\"dataframe\">\n",
       "  <thead>\n",
       "    <tr style=\"text-align: right;\">\n",
       "      <th></th>\n",
       "      <th>0</th>\n",
       "      <th>1</th>\n",
       "      <th>2</th>\n",
       "      <th>3</th>\n",
       "      <th>4</th>\n",
       "      <th>5</th>\n",
       "      <th>6</th>\n",
       "      <th>7</th>\n",
       "      <th>8</th>\n",
       "      <th>9</th>\n",
       "      <th>...</th>\n",
       "      <th>118</th>\n",
       "      <th>119</th>\n",
       "      <th>120</th>\n",
       "      <th>121</th>\n",
       "      <th>122</th>\n",
       "      <th>123</th>\n",
       "      <th>124</th>\n",
       "      <th>125</th>\n",
       "      <th>126</th>\n",
       "      <th>127</th>\n",
       "    </tr>\n",
       "  </thead>\n",
       "  <tbody>\n",
       "    <tr>\n",
       "      <th>0</th>\n",
       "      <td>&lt;name&gt;</td>\n",
       "      <td>&lt;name&gt;</td>\n",
       "      <td>&lt;name&gt;</td>\n",
       "      <td>&lt;name&gt;</td>\n",
       "      <td>&lt;name&gt;</td>\n",
       "      <td>&lt;name&gt;</td>\n",
       "      <td>&lt;name&gt;</td>\n",
       "      <td>&lt;name&gt;</td>\n",
       "      <td>&lt;name&gt;</td>\n",
       "      <td>&lt;name&gt;</td>\n",
       "      <td>...</td>\n",
       "      <td>&lt;name&gt;</td>\n",
       "      <td>&lt;name&gt;</td>\n",
       "      <td>&lt;name&gt;</td>\n",
       "      <td>&lt;name&gt;</td>\n",
       "      <td>&lt;name&gt;</td>\n",
       "      <td>&lt;name&gt;</td>\n",
       "      <td>&lt;name&gt;</td>\n",
       "      <td>&lt;name&gt;</td>\n",
       "      <td>&lt;name&gt;</td>\n",
       "      <td>&lt;name&gt;</td>\n",
       "    </tr>\n",
       "    <tr>\n",
       "      <th>1</th>\n",
       "      <td>hoverboard</td>\n",
       "      <td>lularoe</td>\n",
       "      <td>polo</td>\n",
       "      <td>button</td>\n",
       "      <td>&lt;unk&gt;</td>\n",
       "      <td>skinny</td>\n",
       "      <td>victoria</td>\n",
       "      <td>for</td>\n",
       "      <td>new</td>\n",
       "      <td>mason</td>\n",
       "      <td>...</td>\n",
       "      <td>mini</td>\n",
       "      <td>nwt</td>\n",
       "      <td>2</td>\n",
       "      <td>winter</td>\n",
       "      <td>foundation</td>\n",
       "      <td>milk</td>\n",
       "      <td>dkny</td>\n",
       "      <td>adidas</td>\n",
       "      <td>rainbow</td>\n",
       "      <td>cassie</td>\n",
       "    </tr>\n",
       "    <tr>\n",
       "      <th>2</th>\n",
       "      <td>charger</td>\n",
       "      <td>tc</td>\n",
       "      <td>bear</td>\n",
       "      <td>boots</td>\n",
       "      <td>.</td>\n",
       "      <td>jeans</td>\n",
       "      <td>secret</td>\n",
       "      <td>&lt;unk&gt;</td>\n",
       "      <td>wireless</td>\n",
       "      <td>mug</td>\n",
       "      <td>...</td>\n",
       "      <td>ipad</td>\n",
       "      <td>vineyard</td>\n",
       "      <td>head</td>\n",
       "      <td>duck</td>\n",
       "      <td>bundle</td>\n",
       "      <td>quartz</td>\n",
       "      <td>purse</td>\n",
       "      <td>skate</td>\n",
       "      <td>highlight</td>\n",
       "      <td>skirt</td>\n",
       "    </tr>\n",
       "    <tr>\n",
       "      <th>3</th>\n",
       "      <td>&lt;description&gt;</td>\n",
       "      <td>&lt;description&gt;</td>\n",
       "      <td>shirt</td>\n",
       "      <td>&lt;description&gt;</td>\n",
       "      <td>&lt;description&gt;</td>\n",
       "      <td>&lt;description&gt;</td>\n",
       "      <td>&lt;description&gt;</td>\n",
       "      <td>&lt;description&gt;</td>\n",
       "      <td>beats</td>\n",
       "      <td>&lt;description&gt;</td>\n",
       "      <td>...</td>\n",
       "      <td>case</td>\n",
       "      <td>vines</td>\n",
       "      <td>band</td>\n",
       "      <td>boots</td>\n",
       "      <td>&lt;description&gt;</td>\n",
       "      <td>necklace</td>\n",
       "      <td>&lt;description&gt;</td>\n",
       "      <td>sneakers</td>\n",
       "      <td>&lt;description&gt;</td>\n",
       "      <td>free</td>\n",
       "    </tr>\n",
       "    <tr>\n",
       "      <th>4</th>\n",
       "      <td>ready</td>\n",
       "      <td>made</td>\n",
       "      <td>&lt;description&gt;</td>\n",
       "      <td>women</td>\n",
       "      <td>no</td>\n",
       "      <td>no</td>\n",
       "      <td>good</td>\n",
       "      <td>no</td>\n",
       "      <td>3</td>\n",
       "      <td>no</td>\n",
       "      <td>...</td>\n",
       "      <td>&lt;description&gt;</td>\n",
       "      <td>button</td>\n",
       "      <td>&lt;description&gt;</td>\n",
       "      <td>&lt;description&gt;</td>\n",
       "      <td>nars</td>\n",
       "      <td>&lt;description&gt;</td>\n",
       "      <td>new</td>\n",
       "      <td>&lt;description&gt;</td>\n",
       "      <td>new</td>\n",
       "      <td>shipping</td>\n",
       "    </tr>\n",
       "    <tr>\n",
       "      <th>5</th>\n",
       "      <td>to</td>\n",
       "      <td>in</td>\n",
       "      <td>size</td>\n",
       "      <td>size</td>\n",
       "      <td>description</td>\n",
       "      <td>description</td>\n",
       "      <td>used</td>\n",
       "      <td>description</td>\n",
       "      <td>&lt;description&gt;</td>\n",
       "      <td>description</td>\n",
       "      <td>...</td>\n",
       "      <td>pink</td>\n",
       "      <td>down</td>\n",
       "      <td>black</td>\n",
       "      <td>no</td>\n",
       "      <td>giorgio</td>\n",
       "      <td>milk</td>\n",
       "      <td>condition</td>\n",
       "      <td>no</td>\n",
       "      <td>will</td>\n",
       "      <td>&lt;description&gt;</td>\n",
       "    </tr>\n",
       "    <tr>\n",
       "      <th>6</th>\n",
       "      <td>ship</td>\n",
       "      <td>mexico</td>\n",
       "      <td>xl</td>\n",
       "      <td>8</td>\n",
       "      <td>yet</td>\n",
       "      <td>yet</td>\n",
       "      <td>condition</td>\n",
       "      <td>yet</td>\n",
       "      <td>new</td>\n",
       "      <td>yet</td>\n",
       "      <td>...</td>\n",
       "      <td>iphone</td>\n",
       "      <td>&lt;description&gt;</td>\n",
       "      <td>head</td>\n",
       "      <td>description</td>\n",
       "      <td>marc</td>\n",
       "      <td>quartz</td>\n",
       "      <td>very</td>\n",
       "      <td>description</td>\n",
       "      <td>take</td>\n",
       "      <td>brand</td>\n",
       "    </tr>\n",
       "    <tr>\n",
       "      <th>7</th>\n",
       "      <td>&lt;pad&gt;</td>\n",
       "      <td>&lt;pad&gt;</td>\n",
       "      <td>&lt;pad&gt;</td>\n",
       "      <td>&lt;pad&gt;</td>\n",
       "      <td>&lt;pad&gt;</td>\n",
       "      <td>&lt;pad&gt;</td>\n",
       "      <td>&lt;pad&gt;</td>\n",
       "      <td>&lt;pad&gt;</td>\n",
       "      <td>&lt;pad&gt;</td>\n",
       "      <td>&lt;pad&gt;</td>\n",
       "      <td>...</td>\n",
       "      <td>case</td>\n",
       "      <td>new</td>\n",
       "      <td>band</td>\n",
       "      <td>yet</td>\n",
       "      <td>tarte</td>\n",
       "      <td>necklace</td>\n",
       "      <td>cute</td>\n",
       "      <td>yet</td>\n",
       "      <td>offers</td>\n",
       "      <td>new</td>\n",
       "    </tr>\n",
       "  </tbody>\n",
       "</table>\n",
       "<p>8 rows × 128 columns</p>\n",
       "</div>"
      ],
      "text/plain": [
       "             0              1              2              3              4    \\\n",
       "0         <name>         <name>         <name>         <name>         <name>   \n",
       "1     hoverboard        lularoe           polo         button          <unk>   \n",
       "2        charger             tc           bear          boots              .   \n",
       "3  <description>  <description>          shirt  <description>  <description>   \n",
       "4          ready           made  <description>          women             no   \n",
       "5             to             in           size           size    description   \n",
       "6           ship         mexico             xl              8            yet   \n",
       "7          <pad>          <pad>          <pad>          <pad>          <pad>   \n",
       "\n",
       "             5              6              7              8              9    \\\n",
       "0         <name>         <name>         <name>         <name>         <name>   \n",
       "1         skinny       victoria            for            new          mason   \n",
       "2          jeans         secret          <unk>       wireless            mug   \n",
       "3  <description>  <description>  <description>          beats  <description>   \n",
       "4             no           good             no              3             no   \n",
       "5    description           used    description  <description>    description   \n",
       "6            yet      condition            yet            new            yet   \n",
       "7          <pad>          <pad>          <pad>          <pad>          <pad>   \n",
       "\n",
       "       ...                  118            119            120            121  \\\n",
       "0      ...               <name>         <name>         <name>         <name>   \n",
       "1      ...                 mini            nwt              2         winter   \n",
       "2      ...                 ipad       vineyard           head           duck   \n",
       "3      ...                 case          vines           band          boots   \n",
       "4      ...        <description>         button  <description>  <description>   \n",
       "5      ...                 pink           down          black             no   \n",
       "6      ...               iphone  <description>           head    description   \n",
       "7      ...                 case            new           band            yet   \n",
       "\n",
       "             122            123            124            125            126  \\\n",
       "0         <name>         <name>         <name>         <name>         <name>   \n",
       "1     foundation           milk           dkny         adidas        rainbow   \n",
       "2         bundle         quartz          purse          skate      highlight   \n",
       "3  <description>       necklace  <description>       sneakers  <description>   \n",
       "4           nars  <description>            new  <description>            new   \n",
       "5        giorgio           milk      condition             no           will   \n",
       "6           marc         quartz           very    description           take   \n",
       "7          tarte       necklace           cute            yet         offers   \n",
       "\n",
       "             127  \n",
       "0         <name>  \n",
       "1         cassie  \n",
       "2          skirt  \n",
       "3           free  \n",
       "4       shipping  \n",
       "5  <description>  \n",
       "6          brand  \n",
       "7            new  \n",
       "\n",
       "[8 rows x 128 columns]"
      ]
     },
     "execution_count": 62,
     "metadata": {},
     "output_type": "execute_result"
    }
   ],
   "source": [
    "# same as to_np(xs[0])\n",
    "xdf = pd.DataFrame(xbs[0].data.cpu().numpy())\n",
    "xdf.apply(lambda x: x.apply(lambda x1: ITEM_DESCRIPTION.vocab.itos[x1]))"
   ]
  },
  {
   "cell_type": "code",
   "execution_count": 63,
   "metadata": {
    "collapsed": true
   },
   "outputs": [],
   "source": [
    "bptt, max_sl=50, 200\n",
    "text_emb_sz = 100  # size of each embedding vector\n",
    "enc_n_hid = 200     # number of hidden activations per layer\n",
    "enc_n_layers = 3       # number of layers\n",
    "opt_fn = partial(optim.Adam, betas=(0.7, 0.99))\n",
    "cat_emb_drop=0.04\n",
    "fc_layers=[1000, 500]\n",
    "fc_drops =[0.001, 0.01]"
   ]
  },
  {
   "cell_type": "code",
   "execution_count": 64,
   "metadata": {},
   "outputs": [
    {
     "data": {
      "text/plain": [
       "(0.0, 7.6058900010531216)"
      ]
     },
     "execution_count": 64,
     "metadata": {},
     "output_type": "execute_result"
    }
   ],
   "source": [
    "y_range = (np.min(np.log(y+1)), np.max(np.log(y+1)))\n",
    "y_range"
   ]
  },
  {
   "cell_type": "code",
   "execution_count": 65,
   "metadata": {
    "collapsed": true
   },
   "outputs": [],
   "source": [
    "learner = md.get_learner(opt_fn, text_emb_sz, enc_n_hid, enc_n_layers, max_sl, bptt, \n",
    "                    cat_emb_szs, cat_emb_drop, fc_layers, fc_drops, out_sz=1, y_range=y_range, \n",
    "                    dropouti=0.65, dropoute=0.1, dropouth=0.3, wdrop=0.5)\n",
    "\n",
    "learner.reg_fn = partial(seq2seq_reg, alpha=2, beta=1)\n",
    "learner.clip=3.0"
   ]
  },
  {
   "cell_type": "code",
   "execution_count": 66,
   "metadata": {
    "collapsed": true
   },
   "outputs": [],
   "source": [
    "learner.load_encoder(f'adam1_enc')"
   ]
  },
  {
   "cell_type": "code",
   "execution_count": 67,
   "metadata": {
    "collapsed": true
   },
   "outputs": [],
   "source": [
    "#lrs=np.array([1e-4,1e-3,1e-2])"
   ]
  },
  {
   "cell_type": "markdown",
   "metadata": {},
   "source": [
    "Lets test if the model is correctly defined as data is being correctly processed. "
   ]
  },
  {
   "cell_type": "code",
   "execution_count": 69,
   "metadata": {
    "collapsed": true
   },
   "outputs": [],
   "source": [
    "m = learner.model\n",
    "#m.rnn_encoder(*[xs[0]])\n",
    "m.reset()\n",
    "output = m(*xbs)"
   ]
  },
  {
   "cell_type": "code",
   "execution_count": 70,
   "metadata": {},
   "outputs": [
    {
     "data": {
      "text/plain": [
       "(Variable containing:\n",
       "  3.6181\n",
       "  3.9446\n",
       "  3.7202\n",
       "  3.6678\n",
       "  3.8783\n",
       "  3.7263\n",
       "  3.9661\n",
       "  3.4908\n",
       "  3.8354\n",
       "  3.8559\n",
       "  3.8013\n",
       "  3.3799\n",
       "  3.6042\n",
       "  3.9475\n",
       "  3.8356\n",
       "  3.8966\n",
       "  3.5658\n",
       "  3.7949\n",
       "  3.5020\n",
       "  3.6923\n",
       "  4.2151\n",
       "  3.5769\n",
       "  3.4816\n",
       "  3.8391\n",
       "  3.3249\n",
       "  3.5473\n",
       "  3.7893\n",
       "  3.5662\n",
       "  3.7217\n",
       "  3.8910\n",
       "  3.4415\n",
       "  3.3827\n",
       "  3.2523\n",
       "  3.8972\n",
       "  3.3478\n",
       "  3.7975\n",
       "  3.5294\n",
       "  3.6582\n",
       "  3.6804\n",
       "  3.7621\n",
       "  3.2584\n",
       "  3.8015\n",
       "  3.6557\n",
       "  3.6046\n",
       "  4.1807\n",
       "  3.3565\n",
       "  3.6747\n",
       "  3.7143\n",
       "  3.8558\n",
       "  3.7824\n",
       "  4.4163\n",
       "  3.7560\n",
       "  3.6889\n",
       "  3.6515\n",
       "  3.8735\n",
       "  3.7477\n",
       "  3.8140\n",
       "  3.4001\n",
       "  3.8260\n",
       "  3.5541\n",
       "  3.5676\n",
       "  3.3578\n",
       "  3.5410\n",
       "  3.5185\n",
       "  3.7121\n",
       "  3.7429\n",
       "  3.7495\n",
       "  3.6752\n",
       "  3.9159\n",
       "  3.6501\n",
       "  3.6887\n",
       "  3.4351\n",
       "  3.6867\n",
       "  3.8932\n",
       "  3.5829\n",
       "  3.9509\n",
       "  3.6481\n",
       "  3.6799\n",
       "  3.9697\n",
       "  3.6319\n",
       "  3.3755\n",
       "  3.9984\n",
       "  3.6916\n",
       "  3.8138\n",
       "  3.6280\n",
       "  3.7956\n",
       "  3.7160\n",
       "  3.5720\n",
       "  3.8919\n",
       "  3.8289\n",
       "  3.6233\n",
       "  3.6392\n",
       "  3.6914\n",
       "  3.4172\n",
       "  3.7554\n",
       "  3.5829\n",
       "  3.4342\n",
       "  3.7841\n",
       "  3.4219\n",
       "  3.2321\n",
       "  3.6565\n",
       "  3.8305\n",
       "  3.6280\n",
       "  3.6028\n",
       "  3.5750\n",
       "  3.5899\n",
       "  3.7033\n",
       "  3.4524\n",
       "  3.4607\n",
       "  3.5780\n",
       "  3.6703\n",
       "  3.8597\n",
       "  3.7029\n",
       "  3.7767\n",
       "  3.7452\n",
       "  3.3705\n",
       "  4.0775\n",
       "  3.6431\n",
       "  3.4806\n",
       "  4.1365\n",
       "  3.8264\n",
       "  3.4057\n",
       "  4.1076\n",
       "  3.6877\n",
       "  3.4832\n",
       "  3.5827\n",
       "  3.7626\n",
       "  3.5973\n",
       " [torch.cuda.FloatTensor of size 128x1 (GPU 0)], [Variable containing:\n",
       "  ( 0 ,.,.) = \n",
       "    0.0000 -0.0000 -0.0000  ...   0.0000 -0.0177 -0.7616\n",
       "    0.0000  0.0000 -0.7616  ...   0.7576 -0.0000 -0.0000\n",
       "    0.0111  0.0000 -0.0000  ...   0.0000  0.0000 -0.0000\n",
       "             ...             ⋱             ...          \n",
       "    0.4812  0.0000 -0.0000  ...   0.0000  0.0000 -0.0000\n",
       "    0.5632 -0.0000 -0.0000  ...   0.0000 -0.0000 -0.7615\n",
       "    0.0000 -0.0000 -0.0000  ...   0.0000 -0.0000 -0.0000\n",
       "  \n",
       "  ( 1 ,.,.) = \n",
       "   -0.5568 -0.3279 -0.2384  ...   0.0253 -0.5923 -0.1688\n",
       "   -0.7603 -0.0032 -0.8009  ...   0.3426 -0.0007  0.5008\n",
       "   -0.7573 -0.7267 -0.0052  ...   0.0218 -0.0000  0.0000\n",
       "             ...             ⋱             ...          \n",
       "   -0.6569 -0.0050 -0.0000  ...   0.1607  0.7541  0.0010\n",
       "   -0.0760  0.0075 -0.0179  ...   0.0890 -0.2020 -0.0110\n",
       "   -0.3548 -0.0192 -0.0004  ...   0.9412 -0.0000  0.0357\n",
       "  \n",
       "  ( 2 ,.,.) = \n",
       "    0.4923 -0.0000 -0.9797  ...   0.6217 -0.9507 -0.0015\n",
       "   -0.0753 -0.0009 -0.2130  ...   0.0003 -0.0000  0.7633\n",
       "   -0.1414 -0.2429 -0.0076  ...   0.0543  0.0007  0.0037\n",
       "             ...             ⋱             ...          \n",
       "   -0.0013 -0.0033 -0.1999  ...   0.9612  0.0106  0.2198\n",
       "    0.0000  0.0015 -0.0000  ...   0.2069 -0.1334 -0.0311\n",
       "   -0.0000 -0.0000 -0.0000  ...   0.0015 -0.0000  0.0000\n",
       "  ... \n",
       "  \n",
       "  ( 5 ,.,.) = \n",
       "    0.0000 -0.0000 -0.0655  ...   0.0142  0.0000 -0.0000\n",
       "   -0.0000  0.0000 -0.0000  ...   0.8441  0.0000  0.7595\n",
       "   -0.0108 -0.0000 -0.1654  ...   0.0000  0.0000  0.0000\n",
       "             ...             ⋱             ...          \n",
       "   -0.0000 -0.3816 -0.0000  ...   0.9727  0.0001  0.0000\n",
       "   -0.0003  0.0000 -0.0012  ...   0.0000  0.0000  0.0000\n",
       "   -0.0000  0.0000 -0.0000  ...   0.0000  0.0000 -0.0000\n",
       "  \n",
       "  ( 6 ,.,.) = \n",
       "    0.0000 -0.0000 -0.0000  ...   0.0001  0.7523 -0.7612\n",
       "   -0.0131 -0.1012 -0.5335  ...   0.0084  0.0058  0.0003\n",
       "    0.0000  0.0008 -0.8780  ...   0.0197  0.0000  0.0000\n",
       "             ...             ⋱             ...          \n",
       "   -0.0702 -0.0000 -0.7947  ...   0.6660  0.6914  0.0003\n",
       "   -0.0000  0.0000 -0.1155  ...   0.0001 -0.1601  0.0001\n",
       "   -0.0532  0.0000 -0.0047  ...   0.0000  0.0000 -0.0000\n",
       "  \n",
       "  ( 7 ,.,.) = \n",
       "   -0.0463  0.0106 -0.0523  ...   0.0027 -0.0134 -0.1376\n",
       "   -0.0511 -0.0995 -0.1297  ...   0.1618 -0.0016 -0.0005\n",
       "   -0.1624 -0.0228 -0.0201  ...   0.6115  0.0005 -0.0336\n",
       "             ...             ⋱             ...          \n",
       "   -0.0681 -0.0000 -0.0000  ...   0.3285 -0.0000  0.0021\n",
       "   -0.0000  0.0000 -0.0005  ...   0.0000 -0.0000 -0.5984\n",
       "    0.7560  0.0000 -0.7355  ...   0.0000  0.0000 -0.0000\n",
       "  [torch.cuda.FloatTensor of size 8x128x200 (GPU 0)], Variable containing:\n",
       "  ( 0 ,.,.) = \n",
       "    9.0596e-03 -6.7312e-01 -1.3795e-01  ...   1.2323e-05  1.2485e-02  9.0009e-02\n",
       "    3.8278e-04  4.6654e-01 -2.1768e-02  ...   4.2927e-02  7.3229e-02 -9.4874e-03\n",
       "    3.4970e-04  8.3482e-04 -1.7903e-03  ...   2.4325e-05  1.2728e-03 -1.0315e-01\n",
       "                   ...                   ⋱                   ...                \n",
       "    1.6585e-02  3.4814e-04 -1.0456e-02  ...   1.8476e-05 -3.1359e-03  1.5027e-03\n",
       "    8.6837e-05 -1.3205e-01 -4.1868e-04  ...   4.2654e-04 -3.5682e-02 -2.6249e-01\n",
       "    8.4004e-02 -2.6159e-01 -2.8738e-02  ...   1.0021e-03  1.6987e-03 -7.6152e-03\n",
       "  \n",
       "  ( 1 ,.,.) = \n",
       "    2.4705e-01  3.4098e-02 -1.9541e-01  ...   1.8587e-03  4.7586e-01  1.5871e-02\n",
       "    3.1903e-05  2.5649e-02 -2.9269e-03  ...   2.5935e-03  7.5619e-02 -1.3095e-01\n",
       "    2.4562e-02  2.0081e-02 -1.6415e-02  ...   4.5603e-03  2.8808e-02 -1.7488e-01\n",
       "                   ...                   ⋱                   ...                \n",
       "    4.0991e-03  6.3187e-01 -5.4204e-03  ...  -8.1670e-02 -3.5216e-03 -9.1465e-04\n",
       "    3.1046e-03 -3.5872e-02 -1.9470e-03  ...   1.5089e-01  1.6824e-01 -1.3042e-01\n",
       "    9.6730e-04 -8.5165e-03 -2.1027e-02  ...   5.2616e-02  1.8754e-02 -5.2003e-05\n",
       "  \n",
       "  ( 2 ,.,.) = \n",
       "    2.5331e-01  4.7733e-01 -7.4353e-02  ...   5.4406e-04  9.6656e-02 -5.8636e-04\n",
       "    5.8892e-07  2.4789e-01 -1.3290e-02  ...  -4.5154e-04  4.1519e-04 -7.2881e-04\n",
       "    4.4693e-04  2.4228e-02 -8.4209e-03  ...   4.3451e-03 -4.9653e-02 -1.1336e-02\n",
       "                   ...                   ⋱                   ...                \n",
       "    8.3744e-02  4.1135e-02 -7.3281e-03  ...   1.3587e-05  3.6735e-02 -3.5677e-05\n",
       "    2.9930e-01 -4.6480e-05 -5.7073e-03  ...   3.0367e-02  8.4658e-02 -3.7831e-02\n",
       "    1.7993e-01 -3.8152e-04 -7.5624e-03  ...   1.5524e-02  9.5610e-04 -5.9076e-05\n",
       "  ... \n",
       "  \n",
       "  ( 5 ,.,.) = \n",
       "    7.3473e-05 -7.4496e-03 -8.7873e-04  ...  -4.1593e-02  1.0256e-01 -2.6468e-03\n",
       "    6.9535e-07 -2.9429e-02  7.4244e-03  ...  -9.2623e-03 -6.0543e-02 -7.5369e-04\n",
       "    2.3831e-02 -7.8750e-06  1.8341e-03  ...   1.8223e-02 -3.5864e-02 -2.1292e-03\n",
       "                   ...                   ⋱                   ...                \n",
       "    5.1403e-04  6.5353e-02 -5.6245e-04  ...  -1.0530e-01 -2.0993e-01 -6.1956e-01\n",
       "    2.9349e-03  8.3827e-02 -1.5359e-02  ...   6.3283e-05 -1.7130e-03 -4.5938e-02\n",
       "    1.2211e-04  5.4544e-02 -4.9083e-03  ...   2.5143e-06  4.9949e-02  1.7289e-03\n",
       "  \n",
       "  ( 6 ,.,.) = \n",
       "    1.0268e-03  4.6872e-04 -1.2838e-01  ...  -1.4141e-02 -6.7483e-02  1.2953e-02\n",
       "    2.8066e-04  1.7629e-01  4.3717e-02  ...   2.2607e-01 -1.7002e-02 -1.7634e-02\n",
       "    7.7158e-07  1.0071e-05  3.4434e-03  ...   1.0175e-03  3.2295e-02 -1.3490e-02\n",
       "                   ...                   ⋱                   ...                \n",
       "    3.5333e-02  4.2934e-02 -5.8109e-03  ...  -7.2308e-03 -4.9289e-01 -7.2532e-01\n",
       "    1.3296e-01  8.1521e-04 -2.5245e-03  ...   4.3515e-05 -9.6177e-02 -2.5494e-02\n",
       "    1.6165e-04  4.2392e-03 -4.0959e-03  ...   5.8901e-03  1.7370e-01 -7.6155e-04\n",
       "  \n",
       "  ( 7 ,.,.) = \n",
       "    3.7680e-02  2.5169e-02 -4.4945e-02  ...   1.2704e-01  4.5978e-01 -1.3353e-03\n",
       "    3.4986e-02  1.5681e-02  1.4017e-01  ...   5.3894e-02 -1.0506e-01 -2.2058e-02\n",
       "    7.1977e-02  2.8448e-03  1.0663e-03  ...   7.6421e-06  1.8572e-01 -5.2102e-03\n",
       "                   ...                   ⋱                   ...                \n",
       "    1.6824e-01  2.1301e-01 -2.6611e-03  ...   7.8962e-02 -7.4804e-02 -5.4854e-01\n",
       "    8.2434e-03  3.6744e-03 -4.8984e-03  ...  -1.0277e-02 -1.9699e-01  4.9843e-02\n",
       "    1.1252e-05  8.6444e-02 -6.9673e-03  ...   8.8215e-03  7.7606e-02 -1.9393e-01\n",
       "  [torch.cuda.FloatTensor of size 8x128x200 (GPU 0)], Variable containing:\n",
       "  ( 0 ,.,.) = \n",
       "    8.8134e-02 -4.0148e-02  5.8609e-02  ...  -3.7161e-03  3.4779e-02 -5.0625e-03\n",
       "    4.4086e-02  2.6800e-02  1.0006e-01  ...  -4.0893e-02  1.0573e-01  9.1067e-02\n",
       "    1.3673e-01  1.8714e-02 -2.4977e-02  ...  -4.9482e-02 -1.0078e-01  1.2923e-01\n",
       "                   ...                   ⋱                   ...                \n",
       "    9.8660e-02  3.5424e-02 -3.9791e-02  ...  -1.2770e-01 -3.3016e-02 -2.5412e-02\n",
       "    3.1355e-02 -2.1932e-01 -2.8416e-02  ...   6.0839e-03 -5.8850e-03 -1.9857e-02\n",
       "   -2.9859e-01  2.5505e-01 -4.5102e-04  ...   5.4061e-04 -8.3823e-02  1.9213e-01\n",
       "  \n",
       "  ( 1 ,.,.) = \n",
       "    8.7982e-02  1.6064e-01  7.1564e-03  ...   1.0635e-03 -1.7402e-02  2.2114e-02\n",
       "   -1.3408e-01  2.5485e-01  1.9609e-01  ...  -2.0619e-01 -3.2630e-02  6.1829e-02\n",
       "   -6.9249e-01  6.6024e-02  7.9053e-03  ...  -3.6566e-01 -1.3415e-01  1.8214e-01\n",
       "                   ...                   ⋱                   ...                \n",
       "   -7.1125e-02  1.4264e-01 -5.0909e-02  ...  -5.3738e-01 -4.0242e-02 -2.5475e-02\n",
       "    7.4526e-02 -9.9955e-02  2.7586e-02  ...   9.6451e-02 -1.3311e-02  3.7854e-02\n",
       "   -6.3043e-02  3.6634e-02 -5.4526e-03  ...  -1.8078e-01 -1.4273e-01  1.8454e-01\n",
       "  \n",
       "  ( 2 ,.,.) = \n",
       "    7.4623e-02  9.4467e-02  2.7823e-03  ...   3.3092e-02 -3.1703e-02 -2.0236e-02\n",
       "   -3.2662e-01 -5.0149e-01  2.0347e-01  ...  -1.5209e-01 -3.8860e-02  1.1075e-01\n",
       "   -3.2473e-01  1.9870e-01  1.1742e-02  ...  -2.5985e-01 -1.0985e-02  1.8362e-01\n",
       "                   ...                   ⋱                   ...                \n",
       "   -1.2110e-02  4.8968e-01 -2.5576e-01  ...  -2.7293e-01 -1.7430e-02 -2.2924e-02\n",
       "    5.6174e-02 -1.4153e-01  5.3007e-03  ...   9.5868e-02 -2.0464e-02  2.3635e-02\n",
       "   -7.7271e-02  3.1892e-01 -2.8219e-03  ...  -3.9128e-01 -1.5208e-01  1.6092e-01\n",
       "  ... \n",
       "  \n",
       "  ( 5 ,.,.) = \n",
       "   -9.2603e-02 -1.8796e-01 -1.0183e-03  ...  -1.0694e-02  7.9013e-04 -8.2054e-02\n",
       "   -7.1147e-01 -3.6530e-01  1.5075e-01  ...  -9.2297e-03 -6.0817e-02  5.8502e-02\n",
       "   -7.5419e-02  2.6582e-01 -1.3963e-01  ...  -1.1036e-01  8.5597e-02  1.1299e-01\n",
       "                   ...                   ⋱                   ...                \n",
       "    7.4092e-01 -1.8973e-01 -2.6363e-01  ...  -2.9648e-02 -6.4363e-03 -1.4125e-02\n",
       "   -6.3833e-02 -3.4426e-02 -1.2366e-01  ...   1.4094e-02  4.7101e-03 -2.8205e-02\n",
       "   -9.4567e-02  3.7633e-02 -1.6978e-02  ...  -7.3567e-02  5.9489e-02  5.3096e-02\n",
       "  \n",
       "  ( 6 ,.,.) = \n",
       "    1.7158e-01 -2.9356e-01 -3.8419e-03  ...  -3.2123e-02 -1.5907e-02 -1.2808e-01\n",
       "   -3.7570e-01 -4.9567e-02 -4.9579e-03  ...  -1.0333e-01 -3.6690e-02  5.4178e-02\n",
       "    9.0316e-02  1.5679e-01 -6.4151e-02  ...  -2.2016e-01 -2.6756e-02  1.7722e-01\n",
       "                   ...                   ⋱                   ...                \n",
       "    3.6553e-01 -1.4736e-01 -5.2363e-01  ...   1.0682e-01 -1.2822e-02 -3.0201e-02\n",
       "   -1.4448e-01 -2.4808e-01 -3.8985e-02  ...   3.9001e-02 -3.2172e-03 -1.9342e-02\n",
       "   -1.7752e-02 -5.2802e-02  1.0746e-02  ...  -6.6574e-02  1.0145e-01 -2.6897e-03\n",
       "  \n",
       "  ( 7 ,.,.) = \n",
       "    9.5335e-02 -1.6676e-01 -3.3937e-02  ...  -5.0876e-02 -2.8609e-02 -1.0844e-01\n",
       "   -2.1029e-02 -1.5724e-01 -1.3396e-02  ...  -4.7221e-02 -1.8900e-02  1.4999e-02\n",
       "    3.4546e-01  4.3213e-03 -6.7116e-02  ...  -3.4200e-03 -8.9222e-02  1.2886e-01\n",
       "                   ...                   ⋱                   ...                \n",
       "    2.1597e-01 -2.4946e-01 -1.1626e-01  ...   2.2889e-01 -9.5985e-02  4.9912e-02\n",
       "    3.4922e-02  1.8152e-02 -6.0228e-03  ...   1.4624e-01  7.9868e-04 -5.1063e-02\n",
       "   -2.1625e-02  1.6976e-01  9.1910e-03  ...  -2.5050e-01  9.4934e-02 -2.1109e-02\n",
       "  [torch.cuda.FloatTensor of size 8x128x100 (GPU 0)]], [Variable containing:\n",
       "  ( 0 ,.,.) = \n",
       "    0.0000 -0.0000 -0.0000  ...   0.0000 -0.0000 -1.0880\n",
       "    0.0000  0.0000 -1.0880  ...   0.0000 -0.0000 -0.0000\n",
       "    0.0158  0.0000 -0.0000  ...   0.0000  0.0000 -0.0000\n",
       "             ...             ⋱             ...          \n",
       "    0.6875  0.0000 -0.0000  ...   0.0000  0.0000 -0.0000\n",
       "    0.8046 -0.0000 -0.0000  ...   0.0000 -0.0000 -1.0879\n",
       "    0.0000 -0.0000 -0.0000  ...   0.0000 -0.0000 -0.0000\n",
       "  \n",
       "  ( 1 ,.,.) = \n",
       "   -0.0000 -0.0000 -0.3405  ...   0.0362 -0.0000 -0.2411\n",
       "   -0.0000 -0.0000 -1.1442  ...   0.0000 -0.0000  0.7155\n",
       "   -1.0818 -1.0381 -0.0074  ...   0.0312 -0.0000  0.0000\n",
       "             ...             ⋱             ...          \n",
       "   -0.9385 -0.0071 -0.0000  ...   0.0000  0.0000  0.0014\n",
       "   -0.1086  0.0107 -0.0000  ...   0.0000 -0.2886 -0.0156\n",
       "   -0.0000 -0.0274 -0.0005  ...   1.3446 -0.0000  0.0509\n",
       "  \n",
       "  ( 2 ,.,.) = \n",
       "    0.0000 -0.0000 -1.3995  ...   0.8881 -0.0000 -0.0021\n",
       "   -0.0000 -0.0000 -0.3043  ...   0.0000 -0.0000  1.0905\n",
       "   -0.2021 -0.3470 -0.0109  ...   0.0775  0.0010  0.0052\n",
       "             ...             ⋱             ...          \n",
       "   -0.0019 -0.0048 -0.2856  ...   0.0000  0.0000  0.3140\n",
       "    0.0000  0.0022 -0.0000  ...   0.0000 -0.1905 -0.0444\n",
       "   -0.0000 -0.0000 -0.0000  ...   0.0021 -0.0000  0.0000\n",
       "  ... \n",
       "  \n",
       "  ( 5 ,.,.) = \n",
       "    0.0000 -0.0000 -0.0936  ...   0.0202  0.0000 -0.0000\n",
       "   -0.0000  0.0000 -0.0000  ...   0.0000  0.0000  1.0851\n",
       "   -0.0155 -0.0000 -0.2363  ...   0.0000  0.0000  0.0000\n",
       "             ...             ⋱             ...          \n",
       "   -0.0000 -0.5451 -0.0000  ...   0.0000  0.0000  0.0000\n",
       "   -0.0004  0.0000 -0.0000  ...   0.0000  0.0000  0.0000\n",
       "   -0.0000  0.0000 -0.0000  ...   0.0000  0.0000 -0.0000\n",
       "  \n",
       "  ( 6 ,.,.) = \n",
       "    0.0000 -0.0000 -0.0000  ...   0.0001  0.0000 -1.0874\n",
       "   -0.0000 -0.0000 -0.7622  ...   0.0000  0.0000  0.0005\n",
       "    0.0000  0.0012 -1.2543  ...   0.0282  0.0000  0.0000\n",
       "             ...             ⋱             ...          \n",
       "   -0.1002 -0.0000 -1.1353  ...   0.0000  0.0000  0.0004\n",
       "   -0.0000  0.0000 -0.0000  ...   0.0000 -0.2287  0.0001\n",
       "   -0.0000  0.0000 -0.0068  ...   0.0000  0.0000 -0.0000\n",
       "  \n",
       "  ( 7 ,.,.) = \n",
       "   -0.0000  0.0000 -0.0747  ...   0.0039 -0.0000 -0.1966\n",
       "   -0.0000 -0.0000 -0.1854  ...   0.0000 -0.0000 -0.0007\n",
       "   -0.2320 -0.0325 -0.0287  ...   0.8736  0.0007 -0.0480\n",
       "             ...             ⋱             ...          \n",
       "   -0.0973 -0.0000 -0.0000  ...   0.0000 -0.0000  0.0030\n",
       "   -0.0000  0.0000 -0.0000  ...   0.0000 -0.0000 -0.8549\n",
       "    0.0000  0.0000 -1.0506  ...   0.0000  0.0000 -0.0000\n",
       "  [torch.cuda.FloatTensor of size 8x128x200 (GPU 0)], Variable containing:\n",
       "  ( 0 ,.,.) = \n",
       "    0.0129 -0.9616 -0.1971  ...   0.0000  0.0178  0.1286\n",
       "    0.0005  0.6665 -0.0311  ...   0.0613  0.1046 -0.0136\n",
       "    0.0005  0.0012 -0.0000  ...   0.0000  0.0018 -0.0000\n",
       "             ...             ⋱             ...          \n",
       "    0.0237  0.0005 -0.0149  ...   0.0000 -0.0045  0.0000\n",
       "    0.0001 -0.1886 -0.0006  ...   0.0006 -0.0000 -0.3750\n",
       "    0.1200 -0.0000 -0.0411  ...   0.0014  0.0024 -0.0000\n",
       "  \n",
       "  ( 1 ,.,.) = \n",
       "    0.3529  0.0487 -0.2792  ...   0.0000  0.6798  0.0227\n",
       "    0.0000  0.0366 -0.0042  ...   0.0037  0.1080 -0.1871\n",
       "    0.0351  0.0287 -0.0000  ...   0.0065  0.0412 -0.0000\n",
       "             ...             ⋱             ...          \n",
       "    0.0059  0.9027 -0.0077  ...  -0.1167 -0.0050 -0.0000\n",
       "    0.0044 -0.0512 -0.0028  ...   0.2156  0.0000 -0.1863\n",
       "    0.0014 -0.0000 -0.0300  ...   0.0752  0.0268 -0.0000\n",
       "  \n",
       "  ( 2 ,.,.) = \n",
       "    0.3619  0.6819 -0.1062  ...   0.0000  0.1381 -0.0008\n",
       "    0.0000  0.3541 -0.0190  ...  -0.0006  0.0006 -0.0010\n",
       "    0.0006  0.0346 -0.0000  ...   0.0062 -0.0709 -0.0000\n",
       "             ...             ⋱             ...          \n",
       "    0.1196  0.0588 -0.0105  ...   0.0000  0.0525 -0.0000\n",
       "    0.4276 -0.0001 -0.0082  ...   0.0434  0.0000 -0.0540\n",
       "    0.2570 -0.0000 -0.0108  ...   0.0222  0.0014 -0.0000\n",
       "  ... \n",
       "  \n",
       "  ( 5 ,.,.) = \n",
       "    0.0001 -0.0106 -0.0013  ...  -0.0000  0.1465 -0.0038\n",
       "    0.0000 -0.0420  0.0106  ...  -0.0132 -0.0865 -0.0011\n",
       "    0.0340 -0.0000  0.0000  ...   0.0260 -0.0512 -0.0000\n",
       "             ...             ⋱             ...          \n",
       "    0.0007  0.0934 -0.0008  ...  -0.1504 -0.2999 -0.0000\n",
       "    0.0042  0.1198 -0.0219  ...   0.0001 -0.0000 -0.0656\n",
       "    0.0002  0.0000 -0.0070  ...   0.0000  0.0714  0.0000\n",
       "  \n",
       "  ( 6 ,.,.) = \n",
       "    0.0015  0.0007 -0.1834  ...  -0.0000 -0.0964  0.0185\n",
       "    0.0004  0.2518  0.0625  ...   0.3230 -0.0243 -0.0252\n",
       "    0.0000  0.0000  0.0000  ...   0.0015  0.0461 -0.0000\n",
       "             ...             ⋱             ...          \n",
       "    0.0505  0.0613 -0.0083  ...  -0.0103 -0.7041 -0.0000\n",
       "    0.1899  0.0012 -0.0036  ...   0.0001 -0.0000 -0.0364\n",
       "    0.0002  0.0000 -0.0059  ...   0.0084  0.2481 -0.0000\n",
       "  \n",
       "  ( 7 ,.,.) = \n",
       "    0.0538  0.0360 -0.0642  ...   0.0000  0.6568 -0.0019\n",
       "    0.0500  0.0224  0.2002  ...   0.0770 -0.1501 -0.0315\n",
       "    0.1028  0.0041  0.0000  ...   0.0000  0.2653 -0.0000\n",
       "             ...             ⋱             ...          \n",
       "    0.2403  0.3043 -0.0038  ...   0.1128 -0.1069 -0.0000\n",
       "    0.0118  0.0052 -0.0070  ...  -0.0147 -0.0000  0.0712\n",
       "    0.0000  0.0000 -0.0100  ...   0.0126  0.1109 -0.0000\n",
       "  [torch.cuda.FloatTensor of size 8x128x200 (GPU 0)], Variable containing:\n",
       "  ( 0 ,.,.) = \n",
       "    8.8134e-02 -4.0148e-02  5.8609e-02  ...  -3.7161e-03  3.4779e-02 -5.0625e-03\n",
       "    4.4086e-02  2.6800e-02  1.0006e-01  ...  -4.0893e-02  1.0573e-01  9.1067e-02\n",
       "    1.3673e-01  1.8714e-02 -2.4977e-02  ...  -4.9482e-02 -1.0078e-01  1.2923e-01\n",
       "                   ...                   ⋱                   ...                \n",
       "    9.8660e-02  3.5424e-02 -3.9791e-02  ...  -1.2770e-01 -3.3016e-02 -2.5412e-02\n",
       "    3.1355e-02 -2.1932e-01 -2.8416e-02  ...   6.0839e-03 -5.8850e-03 -1.9857e-02\n",
       "   -2.9859e-01  2.5505e-01 -4.5102e-04  ...   5.4061e-04 -8.3823e-02  1.9213e-01\n",
       "  \n",
       "  ( 1 ,.,.) = \n",
       "    8.7982e-02  1.6064e-01  7.1564e-03  ...   1.0635e-03 -1.7402e-02  2.2114e-02\n",
       "   -1.3408e-01  2.5485e-01  1.9609e-01  ...  -2.0619e-01 -3.2630e-02  6.1829e-02\n",
       "   -6.9249e-01  6.6024e-02  7.9053e-03  ...  -3.6566e-01 -1.3415e-01  1.8214e-01\n",
       "                   ...                   ⋱                   ...                \n",
       "   -7.1125e-02  1.4264e-01 -5.0909e-02  ...  -5.3738e-01 -4.0242e-02 -2.5475e-02\n",
       "    7.4526e-02 -9.9955e-02  2.7586e-02  ...   9.6451e-02 -1.3311e-02  3.7854e-02\n",
       "   -6.3043e-02  3.6634e-02 -5.4526e-03  ...  -1.8078e-01 -1.4273e-01  1.8454e-01\n",
       "  \n",
       "  ( 2 ,.,.) = \n",
       "    7.4623e-02  9.4467e-02  2.7823e-03  ...   3.3092e-02 -3.1703e-02 -2.0236e-02\n",
       "   -3.2662e-01 -5.0149e-01  2.0347e-01  ...  -1.5209e-01 -3.8860e-02  1.1075e-01\n",
       "   -3.2473e-01  1.9870e-01  1.1742e-02  ...  -2.5985e-01 -1.0985e-02  1.8362e-01\n",
       "                   ...                   ⋱                   ...                \n",
       "   -1.2110e-02  4.8968e-01 -2.5576e-01  ...  -2.7293e-01 -1.7430e-02 -2.2924e-02\n",
       "    5.6174e-02 -1.4153e-01  5.3007e-03  ...   9.5868e-02 -2.0464e-02  2.3635e-02\n",
       "   -7.7271e-02  3.1892e-01 -2.8219e-03  ...  -3.9128e-01 -1.5208e-01  1.6092e-01\n",
       "  ... \n",
       "  \n",
       "  ( 5 ,.,.) = \n",
       "   -9.2603e-02 -1.8796e-01 -1.0183e-03  ...  -1.0694e-02  7.9013e-04 -8.2054e-02\n",
       "   -7.1147e-01 -3.6530e-01  1.5075e-01  ...  -9.2297e-03 -6.0817e-02  5.8502e-02\n",
       "   -7.5419e-02  2.6582e-01 -1.3963e-01  ...  -1.1036e-01  8.5597e-02  1.1299e-01\n",
       "                   ...                   ⋱                   ...                \n",
       "    7.4092e-01 -1.8973e-01 -2.6363e-01  ...  -2.9648e-02 -6.4363e-03 -1.4125e-02\n",
       "   -6.3833e-02 -3.4426e-02 -1.2366e-01  ...   1.4094e-02  4.7101e-03 -2.8205e-02\n",
       "   -9.4567e-02  3.7633e-02 -1.6978e-02  ...  -7.3567e-02  5.9489e-02  5.3096e-02\n",
       "  \n",
       "  ( 6 ,.,.) = \n",
       "    1.7158e-01 -2.9356e-01 -3.8419e-03  ...  -3.2123e-02 -1.5907e-02 -1.2808e-01\n",
       "   -3.7570e-01 -4.9567e-02 -4.9579e-03  ...  -1.0333e-01 -3.6690e-02  5.4178e-02\n",
       "    9.0316e-02  1.5679e-01 -6.4151e-02  ...  -2.2016e-01 -2.6756e-02  1.7722e-01\n",
       "                   ...                   ⋱                   ...                \n",
       "    3.6553e-01 -1.4736e-01 -5.2363e-01  ...   1.0682e-01 -1.2822e-02 -3.0201e-02\n",
       "   -1.4448e-01 -2.4808e-01 -3.8985e-02  ...   3.9001e-02 -3.2172e-03 -1.9342e-02\n",
       "   -1.7752e-02 -5.2802e-02  1.0746e-02  ...  -6.6574e-02  1.0145e-01 -2.6897e-03\n",
       "  \n",
       "  ( 7 ,.,.) = \n",
       "    9.5335e-02 -1.6676e-01 -3.3937e-02  ...  -5.0876e-02 -2.8609e-02 -1.0844e-01\n",
       "   -2.1029e-02 -1.5724e-01 -1.3396e-02  ...  -4.7221e-02 -1.8900e-02  1.4999e-02\n",
       "    3.4546e-01  4.3213e-03 -6.7116e-02  ...  -3.4200e-03 -8.9222e-02  1.2886e-01\n",
       "                   ...                   ⋱                   ...                \n",
       "    2.1597e-01 -2.4946e-01 -1.1626e-01  ...   2.2889e-01 -9.5985e-02  4.9912e-02\n",
       "    3.4922e-02  1.8152e-02 -6.0228e-03  ...   1.4624e-01  7.9868e-04 -5.1063e-02\n",
       "   -2.1625e-02  1.6976e-01  9.1910e-03  ...  -2.5050e-01  9.4934e-02 -2.1109e-02\n",
       "  [torch.cuda.FloatTensor of size 8x128x100 (GPU 0)]])"
      ]
     },
     "execution_count": 70,
     "metadata": {},
     "output_type": "execute_result"
    }
   ],
   "source": [
    "output"
   ]
  },
  {
   "cell_type": "code",
   "execution_count": 71,
   "metadata": {},
   "outputs": [
    {
     "data": {
      "application/vnd.jupyter.widget-view+json": {
       "model_id": "563b72b4cd4048898899a6ce00637273",
       "version_major": 2,
       "version_minor": 0
      },
      "text/plain": [
       "A Jupyter Widget"
      ]
     },
     "metadata": {},
     "output_type": "display_data"
    },
    {
     "name": "stdout",
     "output_type": "stream",
     "text": [
      " 65%|██████▍   | 1199/1853 [01:00<00:32, 19.97it/s, loss=1.81] "
     ]
    }
   ],
   "source": [
    "learner.lr_find()"
   ]
  },
  {
   "cell_type": "code",
   "execution_count": 72,
   "metadata": {},
   "outputs": [
    {
     "data": {
      "image/png": "[encoded data removed]",
      "text/plain": [
       "<matplotlib.figure.Figure at 0x7fb9eb514cc0>"
      ]
     },
     "metadata": {},
     "output_type": "display_data"
    }
   ],
   "source": [
    "learner.sched.plot()"
   ]
  },
  {
   "cell_type": "code",
   "execution_count": 73,
   "metadata": {},
   "outputs": [
    {
     "data": {
      "application/vnd.jupyter.widget-view+json": {
       "model_id": "3e4aa03406ac4f88887e1e4e1c32fa71",
       "version_major": 2,
       "version_minor": 0
      },
      "text/plain": [
       "A Jupyter Widget"
      ]
     },
     "metadata": {},
     "output_type": "display_data"
    },
    {
     "name": "stdout",
     "output_type": "stream",
     "text": [
      " 10%|▉         | 183/1853 [00:03<00:29, 55.92it/s, loss=1.06] \n",
      " 10%|█         | 190/1853 [00:03<00:30, 54.58it/s, loss=1.07]"
     ]
    },
    {
     "name": "stderr",
     "output_type": "stream",
     "text": [
      "Exception in thread Thread-9:\n",
      "Traceback (most recent call last):\n",
      "  File \"/home/deb/anaconda3/lib/python3.6/threading.py\", line 916, in _bootstrap_inner\n",
      "    self.run()\n",
      "  File \"/home/deb/anaconda3/lib/python3.6/site-packages/tqdm/_tqdm.py\", line 144, in run\n",
      "    for instance in self.tqdm_cls._instances:\n",
      "  File \"/home/deb/anaconda3/lib/python3.6/_weakrefset.py\", line 60, in __iter__\n",
      "    for itemref in self.data:\n",
      "RuntimeError: Set changed size during iteration\n",
      "\n"
     ]
    },
    {
     "name": "stdout",
     "output_type": "stream",
     "text": [
      "[ 0.       1.03309  0.93178]                                  \n",
      "\n"
     ]
    },
    {
     "data": {
      "application/vnd.jupyter.widget-view+json": {
       "model_id": "a5039d002a104f139a43e0bd9b98919f",
       "version_major": 2,
       "version_minor": 0
      },
      "text/plain": [
       "A Jupyter Widget"
      ]
     },
     "metadata": {},
     "output_type": "display_data"
    },
    {
     "name": "stdout",
     "output_type": "stream",
     "text": [
      "[ 0.       0.48971  0.42335]                                   \n",
      "\n"
     ]
    }
   ],
   "source": [
    "lrs=np.array([1e-4,1e-3,1e-2])\n",
    "learner.freeze_to(-1)\n",
    "learner.fit(lrs/2, 1)\n",
    "learner.unfreeze()\n",
    "learner.fit(lrs, 1, cycle_len=1)"
   ]
  },
  {
   "cell_type": "code",
   "execution_count": 74,
   "metadata": {},
   "outputs": [
    {
     "data": {
      "application/vnd.jupyter.widget-view+json": {
       "model_id": "f0c7a45daf0a4eb297bf0007b7a44cd9",
       "version_major": 2,
       "version_minor": 0
      },
      "text/plain": [
       "A Jupyter Widget"
      ]
     },
     "metadata": {},
     "output_type": "display_data"
    },
    {
     "name": "stdout",
     "output_type": "stream",
     "text": [
      "[ 0.       0.48497  0.40723]                                   \n",
      "[ 1.       0.4582   0.39291]                                   \n",
      "[ 2.       0.46481  0.38959]                                   \n",
      "[ 3.       0.4628   0.37633]                                   \n",
      "[ 4.       0.41846  0.37075]                                   \n",
      "[ 5.       0.4405   0.36309]                                   \n",
      "[ 6.       0.4339   0.36285]                                   \n",
      "\n"
     ]
    }
   ],
   "source": [
    "learner.fit(lrs, 3, cycle_len=1, cycle_mult=2, cycle_save_name='mercari')"
   ]
  },
  {
   "cell_type": "code",
   "execution_count": 187,
   "metadata": {},
   "outputs": [
    {
     "data": {
      "image/png": "[encoded data removed]",
      "text/plain": [
       "<matplotlib.figure.Figure at 0x7f876ff6b358>"
      ]
     },
     "metadata": {},
     "output_type": "display_data"
    }
   ],
   "source": [
    "learner.sched.plot_loss()"
   ]
  },
  {
   "cell_type": "markdown",
   "metadata": {},
   "source": [
    "# Learner and Model"
   ]
  },
  {
   "cell_type": "code",
   "execution_count": 24,
   "metadata": {
    "collapsed": true
   },
   "outputs": [],
   "source": [
    "dep = 'price'\n",
    "test[dep] = 0\n",
    "joined = train[cat_vars+contin_vars+[dep,'name']].copy()\n",
    "joined_test = test[cat_vars+contin_vars+[dep, 'name',  'test_id']].copy()"
   ]
  },
  {
   "cell_type": "code",
   "execution_count": 25,
   "metadata": {},
   "outputs": [
    {
     "data": {
      "text/plain": [
       "['cat1',\n",
       " 'cat2',\n",
       " 'cat3',\n",
       " 'brand_name',\n",
       " 'shipping',\n",
       " 'item_condition_id',\n",
       " 'price',\n",
       " 'name']"
      ]
     },
     "execution_count": 25,
     "metadata": {},
     "output_type": "execute_result"
    }
   ],
   "source": [
    "cat_vars+contin_vars+[dep,'name']"
   ]
  },
  {
   "cell_type": "code",
   "execution_count": 26,
   "metadata": {
    "collapsed": true
   },
   "outputs": [],
   "source": [
    "######## NYI\n",
    "# factors the individual columns (does not make sense for item_description need NLP??)\n",
    "for v in cat_vars: joined[v] = joined[v].astype('category').cat.as_ordered()"
   ]
  },
  {
   "cell_type": "code",
   "execution_count": 27,
   "metadata": {
    "collapsed": true
   },
   "outputs": [],
   "source": [
    "apply_cats(joined_test, joined)"
   ]
  },
  {
   "cell_type": "code",
   "execution_count": 28,
   "metadata": {
    "collapsed": true
   },
   "outputs": [],
   "source": [
    "for v in contin_vars:\n",
    "    joined[v] = joined[v].astype('float32')\n",
    "    joined_test[v] = joined_test[v].astype('float32')"
   ]
  },
  {
   "cell_type": "code",
   "execution_count": 29,
   "metadata": {
    "collapsed": true
   },
   "outputs": [],
   "source": [
    "#joined['item_condition_id'] = joined.item_condition_id.astype(np.int32)\n",
    "#joined['shipping'] = joined.shipping.astype(np.int32)\n",
    "#joined_test['item_condition_id'] = joined_test.item_condition_id.astype(np.int32)\n",
    "#joined_test['shipping'] = joined_test.shipping.astype(np.int32)"
   ]
  },
  {
   "cell_type": "code",
   "execution_count": 30,
   "metadata": {},
   "outputs": [
    {
     "data": {
      "text/plain": [
       "296507"
      ]
     },
     "execution_count": 30,
     "metadata": {},
     "output_type": "execute_result"
    }
   ],
   "source": [
    "n = len(joined)\n",
    "idxs = get_cv_idxs(n, val_pct=0.2)\n",
    "joined_samp = joined.iloc[idxs].set_index(\"name\")\n",
    "samp_size = len(joined_samp); samp_size"
   ]
  },
  {
   "cell_type": "code",
   "execution_count": 31,
   "metadata": {
    "collapsed": true
   },
   "outputs": [],
   "source": [
    "#n = len(joined)\n",
    "#samp_size = n\n",
    "#joined_samp = joined"
   ]
  },
  {
   "cell_type": "code",
   "execution_count": 32,
   "metadata": {},
   "outputs": [
    {
     "data": {
      "text/html": [
       "<div>\n",
       "<style>\n",
       "    .dataframe thead tr:only-child th {\n",
       "        text-align: right;\n",
       "    }\n",
       "\n",
       "    .dataframe thead th {\n",
       "        text-align: left;\n",
       "    }\n",
       "\n",
       "    .dataframe tbody tr th {\n",
       "        vertical-align: top;\n",
       "    }\n",
       "</style>\n",
       "<table border=\"1\" class=\"dataframe\">\n",
       "  <thead>\n",
       "    <tr style=\"text-align: right;\">\n",
       "      <th></th>\n",
       "      <th>cat1</th>\n",
       "      <th>cat2</th>\n",
       "      <th>cat3</th>\n",
       "      <th>brand_name</th>\n",
       "      <th>shipping</th>\n",
       "      <th>item_condition_id</th>\n",
       "      <th>price</th>\n",
       "    </tr>\n",
       "    <tr>\n",
       "      <th>name</th>\n",
       "      <th></th>\n",
       "      <th></th>\n",
       "      <th></th>\n",
       "      <th></th>\n",
       "      <th></th>\n",
       "      <th></th>\n",
       "      <th></th>\n",
       "    </tr>\n",
       "  </thead>\n",
       "  <tbody>\n",
       "    <tr>\n",
       "      <th>F/ship 4 Totoro Washi + 1 pen</th>\n",
       "      <td>Handmade</td>\n",
       "      <td>Paper Goods</td>\n",
       "      <td>Stationery</td>\n",
       "      <td>NaN</td>\n",
       "      <td>1</td>\n",
       "      <td>1.0</td>\n",
       "      <td>12.0</td>\n",
       "    </tr>\n",
       "    <tr>\n",
       "      <th>UCLA Men's Bundle + Shorts</th>\n",
       "      <td>Women</td>\n",
       "      <td>Other</td>\n",
       "      <td>Other</td>\n",
       "      <td>Adidas</td>\n",
       "      <td>1</td>\n",
       "      <td>1.0</td>\n",
       "      <td>76.0</td>\n",
       "    </tr>\n",
       "    <tr>\n",
       "      <th>Listing for lol</th>\n",
       "      <td>Beauty</td>\n",
       "      <td>Makeup</td>\n",
       "      <td>Lips</td>\n",
       "      <td>NaN</td>\n",
       "      <td>1</td>\n",
       "      <td>1.0</td>\n",
       "      <td>12.0</td>\n",
       "    </tr>\n",
       "    <tr>\n",
       "      <th>25 pcs kawaii sticker flakes</th>\n",
       "      <td>Kids</td>\n",
       "      <td>Toys</td>\n",
       "      <td>Arts &amp; Crafts</td>\n",
       "      <td>NaN</td>\n",
       "      <td>1</td>\n",
       "      <td>1.0</td>\n",
       "      <td>3.0</td>\n",
       "    </tr>\n",
       "    <tr>\n",
       "      <th>Chanel Mini Lipgloss Set</th>\n",
       "      <td>Beauty</td>\n",
       "      <td>Makeup</td>\n",
       "      <td>Lips</td>\n",
       "      <td>Chanel</td>\n",
       "      <td>1</td>\n",
       "      <td>2.0</td>\n",
       "      <td>30.0</td>\n",
       "    </tr>\n",
       "  </tbody>\n",
       "</table>\n",
       "</div>"
      ],
      "text/plain": [
       "                                   cat1         cat2           cat3  \\\n",
       "name                                                                  \n",
       "F/ship 4 Totoro Washi + 1 pen  Handmade  Paper Goods     Stationery   \n",
       "UCLA Men's Bundle + Shorts        Women        Other          Other   \n",
       "Listing for lol                  Beauty       Makeup           Lips   \n",
       "25 pcs kawaii sticker flakes       Kids         Toys  Arts & Crafts   \n",
       "Chanel Mini Lipgloss Set         Beauty       Makeup           Lips   \n",
       "\n",
       "                              brand_name shipping  item_condition_id  price  \n",
       "name                                                                         \n",
       "F/ship 4 Totoro Washi + 1 pen        NaN        1                1.0   12.0  \n",
       "UCLA Men's Bundle + Shorts        Adidas        1                1.0   76.0  \n",
       "Listing for lol                      NaN        1                1.0   12.0  \n",
       "25 pcs kawaii sticker flakes         NaN        1                1.0    3.0  \n",
       "Chanel Mini Lipgloss Set          Chanel        1                2.0   30.0  "
      ]
     },
     "execution_count": 32,
     "metadata": {},
     "output_type": "execute_result"
    }
   ],
   "source": [
    "joined_samp.head()"
   ]
  },
  {
   "cell_type": "code",
   "execution_count": 33,
   "metadata": {
    "collapsed": true
   },
   "outputs": [],
   "source": [
    "#??proc_df"
   ]
  },
  {
   "cell_type": "code",
   "execution_count": 34,
   "metadata": {},
   "outputs": [
    {
     "data": {
      "text/plain": [
       "296507"
      ]
     },
     "execution_count": 34,
     "metadata": {},
     "output_type": "execute_result"
    }
   ],
   "source": [
    "len(joined_samp)"
   ]
  },
  {
   "cell_type": "code",
   "execution_count": 35,
   "metadata": {
    "collapsed": true
   },
   "outputs": [],
   "source": [
    "joined_test = joined_test"
   ]
  },
  {
   "cell_type": "code",
   "execution_count": 36,
   "metadata": {
    "collapsed": true
   },
   "outputs": [],
   "source": [
    "joined_test = joined_test.set_index(\"name\")\n",
    "joined = joined.set_index(\"name\")"
   ]
  },
  {
   "cell_type": "code",
   "execution_count": 37,
   "metadata": {
    "collapsed": true
   },
   "outputs": [],
   "source": [
    "df, y, nas, mapper = proc_df(joined, 'price', do_scale=True)\n",
    "yl = np.log(y+1).astype('float32')"
   ]
  },
  {
   "cell_type": "code",
   "execution_count": 38,
   "metadata": {
    "collapsed": true
   },
   "outputs": [],
   "source": [
    "df_test, _, nas, mapper = proc_df(joined_test, 'price', do_scale=True, skip_flds=['test_id'],\n",
    "                                  mapper=mapper, na_dict=nas)\n",
    "#for n,c in joined_samp.items(): print(n), print(c)"
   ]
  },
  {
   "cell_type": "code",
   "execution_count": 39,
   "metadata": {
    "collapsed": true
   },
   "outputs": [],
   "source": [
    "train_ratio = 0.75\n",
    "# train_ratio = 0.9\n",
    "train_size = int(samp_size * train_ratio); train_size\n",
    "val_idx = list(range(train_size, len(df)))"
   ]
  },
  {
   "cell_type": "code",
   "execution_count": 40,
   "metadata": {},
   "outputs": [
    {
     "data": {
      "text/plain": [
       "[222381, 222382, 222383, 222384]"
      ]
     },
     "execution_count": 40,
     "metadata": {},
     "output_type": "execute_result"
    }
   ],
   "source": [
    "val_idx[1:5]"
   ]
  },
  {
   "cell_type": "code",
   "execution_count": 41,
   "metadata": {},
   "outputs": [
    {
     "data": {
      "text/html": [
       "<div>\n",
       "<style>\n",
       "    .dataframe thead tr:only-child th {\n",
       "        text-align: right;\n",
       "    }\n",
       "\n",
       "    .dataframe thead th {\n",
       "        text-align: left;\n",
       "    }\n",
       "\n",
       "    .dataframe tbody tr th {\n",
       "        vertical-align: top;\n",
       "    }\n",
       "</style>\n",
       "<table border=\"1\" class=\"dataframe\">\n",
       "  <thead>\n",
       "    <tr style=\"text-align: right;\">\n",
       "      <th></th>\n",
       "      <th>cat1</th>\n",
       "      <th>cat2</th>\n",
       "      <th>cat3</th>\n",
       "      <th>brand_name</th>\n",
       "      <th>shipping</th>\n",
       "      <th>item_condition_id</th>\n",
       "    </tr>\n",
       "    <tr>\n",
       "      <th>name</th>\n",
       "      <th></th>\n",
       "      <th></th>\n",
       "      <th></th>\n",
       "      <th></th>\n",
       "      <th></th>\n",
       "      <th></th>\n",
       "    </tr>\n",
       "  </thead>\n",
       "  <tbody>\n",
       "    <tr>\n",
       "      <th>MLB Cincinnati Reds T Shirt Size XL</th>\n",
       "      <td>6</td>\n",
       "      <td>104</td>\n",
       "      <td>764</td>\n",
       "      <td>0</td>\n",
       "      <td>2</td>\n",
       "      <td>1.209777</td>\n",
       "    </tr>\n",
       "    <tr>\n",
       "      <th>Razer BlackWidow Chroma Keyboard</th>\n",
       "      <td>2</td>\n",
       "      <td>31</td>\n",
       "      <td>213</td>\n",
       "      <td>3558</td>\n",
       "      <td>1</td>\n",
       "      <td>1.209777</td>\n",
       "    </tr>\n",
       "    <tr>\n",
       "      <th>AVA-VIV Blouse</th>\n",
       "      <td>10</td>\n",
       "      <td>105</td>\n",
       "      <td>95</td>\n",
       "      <td>4181</td>\n",
       "      <td>2</td>\n",
       "      <td>-1.004675</td>\n",
       "    </tr>\n",
       "    <tr>\n",
       "      <th>Leather Horse Statues</th>\n",
       "      <td>4</td>\n",
       "      <td>56</td>\n",
       "      <td>405</td>\n",
       "      <td>0</td>\n",
       "      <td>2</td>\n",
       "      <td>-1.004675</td>\n",
       "    </tr>\n",
       "    <tr>\n",
       "      <th>24K GOLD plated rose</th>\n",
       "      <td>10</td>\n",
       "      <td>59</td>\n",
       "      <td>538</td>\n",
       "      <td>0</td>\n",
       "      <td>1</td>\n",
       "      <td>-1.004675</td>\n",
       "    </tr>\n",
       "  </tbody>\n",
       "</table>\n",
       "</div>"
      ],
      "text/plain": [
       "                                     cat1  cat2  cat3  brand_name  shipping  \\\n",
       "name                                                                          \n",
       "MLB Cincinnati Reds T Shirt Size XL     6   104   764           0         2   \n",
       "Razer BlackWidow Chroma Keyboard        2    31   213        3558         1   \n",
       "AVA-VIV Blouse                         10   105    95        4181         2   \n",
       "Leather Horse Statues                   4    56   405           0         2   \n",
       "24K GOLD plated rose                   10    59   538           0         1   \n",
       "\n",
       "                                     item_condition_id  \n",
       "name                                                    \n",
       "MLB Cincinnati Reds T Shirt Size XL           1.209777  \n",
       "Razer BlackWidow Chroma Keyboard              1.209777  \n",
       "AVA-VIV Blouse                               -1.004675  \n",
       "Leather Horse Statues                        -1.004675  \n",
       "24K GOLD plated rose                         -1.004675  "
      ]
     },
     "execution_count": 41,
     "metadata": {},
     "output_type": "execute_result"
    }
   ],
   "source": [
    "df.head()"
   ]
  },
  {
   "cell_type": "code",
   "execution_count": 42,
   "metadata": {},
   "outputs": [
    {
     "data": {
      "text/plain": [
       "1482535"
      ]
     },
     "execution_count": 42,
     "metadata": {},
     "output_type": "execute_result"
    }
   ],
   "source": [
    "len(joined)"
   ]
  },
  {
   "cell_type": "code",
   "execution_count": 43,
   "metadata": {
    "collapsed": true
   },
   "outputs": [],
   "source": [
    "def exp_rmsle(y_pred, targ):\n",
    "    return math.sqrt(((targ - y_pred)**2).mean())\n",
    "\n",
    "max_log_y = np.max(yl)\n",
    "y_range = (0, max_log_y*1.2)"
   ]
  },
  {
   "cell_type": "code",
   "execution_count": 44,
   "metadata": {
    "collapsed": true
   },
   "outputs": [],
   "source": [
    "md = ColumnarModelData.from_data_frame(PATH, val_idx, df, yl, cat_flds=cat_vars, bs=128, \n",
    "                                       test_df=df_test)"
   ]
  },
  {
   "cell_type": "code",
   "execution_count": 45,
   "metadata": {},
   "outputs": [
    {
     "data": {
      "text/plain": [
       "dtype('float32')"
      ]
     },
     "execution_count": 45,
     "metadata": {},
     "output_type": "execute_result"
    }
   ],
   "source": [
    "yl.dtype"
   ]
  },
  {
   "cell_type": "code",
   "execution_count": 46,
   "metadata": {
    "collapsed": true
   },
   "outputs": [],
   "source": [
    "cat_sz = [(c, len(joined_samp[c].cat.categories)+1) for c in cat_vars]"
   ]
  },
  {
   "cell_type": "code",
   "execution_count": 47,
   "metadata": {},
   "outputs": [
    {
     "data": {
      "text/plain": [
       "[('cat1', 12),\n",
       " ('cat2', 115),\n",
       " ('cat3', 872),\n",
       " ('brand_name', 4810),\n",
       " ('shipping', 3)]"
      ]
     },
     "execution_count": 47,
     "metadata": {},
     "output_type": "execute_result"
    }
   ],
   "source": [
    "cat_sz"
   ]
  },
  {
   "cell_type": "code",
   "execution_count": 48,
   "metadata": {
    "collapsed": true
   },
   "outputs": [],
   "source": [
    "emb_szs = [(c, min(50, (c+1)//2)) for _,c in cat_sz]"
   ]
  },
  {
   "cell_type": "code",
   "execution_count": 49,
   "metadata": {},
   "outputs": [
    {
     "data": {
      "text/plain": [
       "[(12, 6), (115, 50), (872, 50), (4810, 50), (3, 2)]"
      ]
     },
     "execution_count": 49,
     "metadata": {},
     "output_type": "execute_result"
    }
   ],
   "source": [
    "emb_szs"
   ]
  },
  {
   "cell_type": "code",
   "execution_count": 50,
   "metadata": {},
   "outputs": [
    {
     "data": {
      "text/plain": [
       "Index(['cat1', 'cat2', 'cat3', 'brand_name', 'shipping', 'item_condition_id'], dtype='object')"
      ]
     },
     "execution_count": 50,
     "metadata": {},
     "output_type": "execute_result"
    }
   ],
   "source": [
    "df.columns"
   ]
  },
  {
   "cell_type": "code",
   "execution_count": 51,
   "metadata": {},
   "outputs": [
    {
     "data": {
      "text/plain": [
       "['cat1', 'cat2', 'cat3', 'brand_name', 'shipping']"
      ]
     },
     "execution_count": 51,
     "metadata": {},
     "output_type": "execute_result"
    }
   ],
   "source": [
    "cat_vars"
   ]
  },
  {
   "cell_type": "code",
   "execution_count": 52,
   "metadata": {},
   "outputs": [
    {
     "data": {
      "text/plain": [
       "(0, 9.1270677566528313)"
      ]
     },
     "execution_count": 52,
     "metadata": {},
     "output_type": "execute_result"
    }
   ],
   "source": [
    "y_range"
   ]
  },
  {
   "cell_type": "code",
   "execution_count": 53,
   "metadata": {
    "collapsed": true
   },
   "outputs": [],
   "source": [
    "m = md.get_learner(emb_szs, len(df.columns)-len(cat_vars),\n",
    "                   0.04, 1, [1500,1000,500], [0.001,0.01,0.01], y_range=y_range)\n",
    "lr = 1e-3"
   ]
  },
  {
   "cell_type": "code",
   "execution_count": 54,
   "metadata": {},
   "outputs": [
    {
     "data": {
      "application/vnd.jupyter.widget-view+json": {
       "model_id": "29a6d5b95bad46d997bec86a875b66e7",
       "version_major": 2,
       "version_minor": 0
      },
      "text/plain": [
       "A Jupyter Widget"
      ]
     },
     "metadata": {},
     "output_type": "display_data"
    },
    {
     "name": "stdout",
     "output_type": "stream",
     "text": [
      " 61%|██████▏   | 1068/1738 [00:09<00:05, 114.63it/s, loss=1.72] \n",
      "                                                               \r"
     ]
    }
   ],
   "source": [
    "m.lr_find()"
   ]
  },
  {
   "cell_type": "code",
   "execution_count": 55,
   "metadata": {},
   "outputs": [
    {
     "data": {
      "image/png": "[encoded data removed]",
      "text/plain": [
       "<matplotlib.figure.Figure at 0x7efef43e78d0>"
      ]
     },
     "metadata": {},
     "output_type": "display_data"
    }
   ],
   "source": [
    "m.sched.plot()"
   ]
  },
  {
   "cell_type": "code",
   "execution_count": 56,
   "metadata": {},
   "outputs": [
    {
     "data": {
      "application/vnd.jupyter.widget-view+json": {
       "model_id": "f4de2e4727e44cadb717cc7580d80cd9",
       "version_major": 2,
       "version_minor": 0
      },
      "text/plain": [
       "A Jupyter Widget"
      ]
     },
     "metadata": {},
     "output_type": "display_data"
    },
    {
     "name": "stdout",
     "output_type": "stream",
     "text": [
      "[ 0.       0.36065  0.35247  0.59251]                           \n",
      "[ 1.       0.334    0.32686  0.57049]                           \n",
      "[ 2.       0.3201   0.32173  0.56601]                           \n",
      "[ 3.       0.31909  0.32209  0.56627]                           \n",
      "[ 4.       0.31596  0.31786  0.56258]                           \n",
      "[ 5.       0.29835  0.31438  0.55947]                           \n",
      "[ 6.       0.30538  0.31377  0.55894]                           \n",
      "\n"
     ]
    }
   ],
   "source": [
    "lr=5.0e-5\n",
    "m.fit(lr, 3, metrics=[exp_rmsle], cycle_len=1, cycle_mult=2)"
   ]
  },
  {
   "cell_type": "code",
   "execution_count": 48,
   "metadata": {},
   "outputs": [
    {
     "data": {
      "application/vnd.jupyter.widget-view+json": {
       "model_id": "eb1b944b062b4e919416f4d526654d92",
       "version_major": 2,
       "version_minor": 0
      },
      "text/plain": [
       "A Jupyter Widget"
      ]
     },
     "metadata": {},
     "output_type": "display_data"
    },
    {
     "name": "stdout",
     "output_type": "stream",
     "text": [
      "[ 0.       0.32404  0.31878  0.56345]                           \n",
      "[ 1.       0.30513  0.31197  0.55732]                           \n",
      "[ 2.       0.29919  0.31445  0.55954]                           \n",
      "[ 3.       0.28376  0.31089  0.55636]                           \n",
      "[ 4.       0.30098  0.3125   0.55779]                           \n",
      "[ 5.       0.28833  0.31059  0.55608]                           \n",
      "\n"
     ]
    }
   ],
   "source": [
    "lr = 5.0e-4\n",
    "m.fit(lr, 3, metrics=[exp_rmsle], cycle_len=2)"
   ]
  },
  {
   "cell_type": "code",
   "execution_count": 47,
   "metadata": {
    "collapsed": true
   },
   "outputs": [],
   "source": [
    "??md.get_learner"
   ]
  }
 ],
 "metadata": {
  "kernelspec": {
   "display_name": "Python 3",
   "language": "python",
   "name": "python3"
  },
  "language_info": {
   "codemirror_mode": {
    "name": "ipython",
    "version": 3
   },
   "file_extension": ".py",
   "mimetype": "text/x-python",
   "name": "python",
   "nbconvert_exporter": "python",
   "pygments_lexer": "ipython3",
   "version": "3.6.2"
  }
 },
 "nbformat": 4,
 "nbformat_minor": 2
}
