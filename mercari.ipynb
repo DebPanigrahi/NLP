{
 "cells": [
  {
   "cell_type": "markdown",
   "metadata": {},
   "source": [
    "## Mercari Price Suggestion"
   ]
  },
  {
   "cell_type": "markdown",
   "metadata": {},
   "source": [
    "### Import statements"
   ]
  },
  {
   "cell_type": "code",
   "execution_count": 1,
   "metadata": {
    "collapsed": true
   },
   "outputs": [],
   "source": [
    "%matplotlib inline\n",
    "%reload_ext autoreload\n",
    "%autoreload 2"
   ]
  },
  {
   "cell_type": "code",
   "execution_count": 2,
   "metadata": {},
   "outputs": [
    {
     "name": "stdout",
     "output_type": "stream",
     "text": [
      "\n",
      "\u001b[93m    Warning: no model found for 'en'\u001b[0m\n",
      "\n",
      "    Only loading the 'en' tokenizer.\n",
      "\n"
     ]
    }
   ],
   "source": [
    "from fastai.structured import *\n",
    "from fastai.column_data import *\n",
    "np.set_printoptions(threshold=50, edgeitems=20)\n",
    "\n",
    "import torchtext\n",
    "from torchtext import vocab, data\n",
    "from torchtext.datasets import language_modeling\n",
    "\n",
    "from fastai.rnn_reg import *\n",
    "from fastai.rnn_train import *\n",
    "from fastai.nlp import *\n",
    "from fastai.lm_rnn import *\n",
    "\n",
    "import dill as pickle\n",
    "\n",
    "import timeit"
   ]
  },
  {
   "cell_type": "code",
   "execution_count": 3,
   "metadata": {},
   "outputs": [
    {
     "name": "stdout",
     "output_type": "stream",
     "text": [
      "models\tsample_submission.csv  test.tsv  tmp  train.tsv\r\n"
     ]
    }
   ],
   "source": [
    "PATH='data/'\n",
    "!ls {PATH}"
   ]
  },
  {
   "cell_type": "code",
   "execution_count": 4,
   "metadata": {
    "collapsed": true
   },
   "outputs": [],
   "source": [
    "train = pd.read_csv(f'{PATH}/train.tsv', sep='\\t')\n",
    "test_df = pd.read_csv(f'{PATH}/test.tsv', sep='\\t')"
   ]
  },
  {
   "cell_type": "code",
   "execution_count": 5,
   "metadata": {},
   "outputs": [
    {
     "data": {
      "text/html": [
       "<div>\n",
       "<style>\n",
       "    .dataframe thead tr:only-child th {\n",
       "        text-align: right;\n",
       "    }\n",
       "\n",
       "    .dataframe thead th {\n",
       "        text-align: left;\n",
       "    }\n",
       "\n",
       "    .dataframe tbody tr th {\n",
       "        vertical-align: top;\n",
       "    }\n",
       "</style>\n",
       "<table border=\"1\" class=\"dataframe\">\n",
       "  <thead>\n",
       "    <tr style=\"text-align: right;\">\n",
       "      <th></th>\n",
       "      <th>train_id</th>\n",
       "      <th>name</th>\n",
       "      <th>item_condition_id</th>\n",
       "      <th>category_name</th>\n",
       "      <th>brand_name</th>\n",
       "      <th>price</th>\n",
       "      <th>shipping</th>\n",
       "      <th>item_description</th>\n",
       "    </tr>\n",
       "  </thead>\n",
       "  <tbody>\n",
       "    <tr>\n",
       "      <th>0</th>\n",
       "      <td>0</td>\n",
       "      <td>MLB Cincinnati Reds T Shirt Size XL</td>\n",
       "      <td>3</td>\n",
       "      <td>Men/Tops/T-shirts</td>\n",
       "      <td>NaN</td>\n",
       "      <td>10.0</td>\n",
       "      <td>1</td>\n",
       "      <td>No description yet</td>\n",
       "    </tr>\n",
       "    <tr>\n",
       "      <th>1</th>\n",
       "      <td>1</td>\n",
       "      <td>Razer BlackWidow Chroma Keyboard</td>\n",
       "      <td>3</td>\n",
       "      <td>Electronics/Computers &amp; Tablets/Components &amp; P...</td>\n",
       "      <td>Razer</td>\n",
       "      <td>52.0</td>\n",
       "      <td>0</td>\n",
       "      <td>This keyboard is in great condition and works ...</td>\n",
       "    </tr>\n",
       "  </tbody>\n",
       "</table>\n",
       "</div>"
      ],
      "text/plain": [
       "   train_id                                 name  item_condition_id  \\\n",
       "0         0  MLB Cincinnati Reds T Shirt Size XL                  3   \n",
       "1         1     Razer BlackWidow Chroma Keyboard                  3   \n",
       "\n",
       "                                       category_name brand_name  price  \\\n",
       "0                                  Men/Tops/T-shirts        NaN   10.0   \n",
       "1  Electronics/Computers & Tablets/Components & P...      Razer   52.0   \n",
       "\n",
       "   shipping                                   item_description  \n",
       "0         1                                 No description yet  \n",
       "1         0  This keyboard is in great condition and works ...  "
      ]
     },
     "metadata": {},
     "output_type": "display_data"
    },
    {
     "data": {
      "text/html": [
       "<div>\n",
       "<style>\n",
       "    .dataframe thead tr:only-child th {\n",
       "        text-align: right;\n",
       "    }\n",
       "\n",
       "    .dataframe thead th {\n",
       "        text-align: left;\n",
       "    }\n",
       "\n",
       "    .dataframe tbody tr th {\n",
       "        vertical-align: top;\n",
       "    }\n",
       "</style>\n",
       "<table border=\"1\" class=\"dataframe\">\n",
       "  <thead>\n",
       "    <tr style=\"text-align: right;\">\n",
       "      <th></th>\n",
       "      <th>test_id</th>\n",
       "      <th>name</th>\n",
       "      <th>item_condition_id</th>\n",
       "      <th>category_name</th>\n",
       "      <th>brand_name</th>\n",
       "      <th>shipping</th>\n",
       "      <th>item_description</th>\n",
       "    </tr>\n",
       "  </thead>\n",
       "  <tbody>\n",
       "    <tr>\n",
       "      <th>0</th>\n",
       "      <td>0</td>\n",
       "      <td>Breast cancer \"I fight like a girl\" ring</td>\n",
       "      <td>1</td>\n",
       "      <td>Women/Jewelry/Rings</td>\n",
       "      <td>NaN</td>\n",
       "      <td>1</td>\n",
       "      <td>Size 7</td>\n",
       "    </tr>\n",
       "    <tr>\n",
       "      <th>1</th>\n",
       "      <td>1</td>\n",
       "      <td>25 pcs NEW 7.5\"x12\" Kraft Bubble Mailers</td>\n",
       "      <td>1</td>\n",
       "      <td>Other/Office supplies/Shipping Supplies</td>\n",
       "      <td>NaN</td>\n",
       "      <td>1</td>\n",
       "      <td>25 pcs NEW 7.5\"x12\" Kraft Bubble Mailers Lined...</td>\n",
       "    </tr>\n",
       "  </tbody>\n",
       "</table>\n",
       "</div>"
      ],
      "text/plain": [
       "   test_id                                      name  item_condition_id  \\\n",
       "0        0  Breast cancer \"I fight like a girl\" ring                  1   \n",
       "1        1  25 pcs NEW 7.5\"x12\" Kraft Bubble Mailers                  1   \n",
       "\n",
       "                             category_name brand_name  shipping  \\\n",
       "0                      Women/Jewelry/Rings        NaN         1   \n",
       "1  Other/Office supplies/Shipping Supplies        NaN         1   \n",
       "\n",
       "                                    item_description  \n",
       "0                                             Size 7  \n",
       "1  25 pcs NEW 7.5\"x12\" Kraft Bubble Mailers Lined...  "
      ]
     },
     "metadata": {},
     "output_type": "display_data"
    }
   ],
   "source": [
    "display(train.head(2))\n",
    "display(test_df.head(2))"
   ]
  },
  {
   "cell_type": "code",
   "execution_count": 6,
   "metadata": {
    "collapsed": true
   },
   "outputs": [],
   "source": [
    "def join_columns(df):\n",
    "    # casting into string converts NaN to nan\n",
    "    ret = '<category> ' + df.category_name.astype(str).str.replace(r'[\\s*]','').str.replace(r'/',' ') \n",
    "    ret += ' <name> ' + df.name.astype(str) + ' <description> ' + df.item_description.astype(str)\n",
    "    return ret\n",
    "\n",
    "train['item_description'] = join_columns(train)\n",
    "test_df['item_description'] = join_columns(test_df)"
   ]
  },
  {
   "cell_type": "code",
   "execution_count": 7,
   "metadata": {},
   "outputs": [
    {
     "data": {
      "text/plain": [
       "'<category> Men Tops T-shirts <name> MLB Cincinnati Reds T Shirt Size XL <description> No description yet'"
      ]
     },
     "execution_count": 7,
     "metadata": {},
     "output_type": "execute_result"
    }
   ],
   "source": [
    "train['item_description'].iloc[0]"
   ]
  },
  {
   "cell_type": "code",
   "execution_count": 8,
   "metadata": {},
   "outputs": [
    {
     "data": {
      "text/plain": [
       "1482535"
      ]
     },
     "execution_count": 8,
     "metadata": {},
     "output_type": "execute_result"
    }
   ],
   "source": [
    "ntrn = len(train)\n",
    "ntrn"
   ]
  },
  {
   "cell_type": "code",
   "execution_count": 9,
   "metadata": {
    "collapsed": true
   },
   "outputs": [],
   "source": [
    "# since test size is 500K pick a comparable val size\n",
    "val_idx = train.sample(int(ntrn*0.35)).index\n",
    "(val_df, train_df),  = split_by_idx(val_idx, train)"
   ]
  },
  {
   "cell_type": "code",
   "execution_count": 10,
   "metadata": {},
   "outputs": [
    {
     "data": {
      "text/plain": [
       "0.3499998313699171"
      ]
     },
     "execution_count": 10,
     "metadata": {},
     "output_type": "execute_result"
    }
   ],
   "source": [
    "len(val_df)/ntrn"
   ]
  },
  {
   "cell_type": "code",
   "execution_count": 11,
   "metadata": {
    "collapsed": true
   },
   "outputs": [],
   "source": [
    "import time\n",
    "\n",
    "class time_check:\n",
    "    def __init__(self):\n",
    "        type(self).current = time.time()\n",
    "        type(self).last = None\n",
    "    \n",
    "    @staticmethod\n",
    "    def showtime(str1):\n",
    "        time_check.last = time_check.current\n",
    "        time_check.current = time.time()\n",
    "        print(str1, time_check.current-time_check.last)\n",
    "        sys.stdout.flush()\n",
    "        return "
   ]
  },
  {
   "cell_type": "markdown",
   "metadata": {},
   "source": [
    "## Tokenization"
   ]
  },
  {
   "cell_type": "code",
   "execution_count": 12,
   "metadata": {
    "collapsed": true
   },
   "outputs": [],
   "source": [
    "re_tok = re.compile(f'([{string.punctuation}“”¨«»®´·º½¾¿¡§£₤‘’])')\n",
    "re_ptbl = re.compile(f'([{string.printable}])')\n",
    "re_rm = re.compile(r'\\s*\\[\\s*rm\\s*\\]\\s*')\n",
    "re_num = re.compile(r'([0-9])')"
   ]
  },
  {
   "cell_type": "code",
   "execution_count": 13,
   "metadata": {},
   "outputs": [
    {
     "data": {
      "text/plain": [
       "\"Women/Othr Sps&udAalGiVgCcbDByMkFKPEJUwTf(4+)NHé0-2,v'LZ5Rqxz1Y7IQ\""
      ]
     },
     "execution_count": 13,
     "metadata": {},
     "output_type": "execute_result"
    }
   ],
   "source": [
    "import collections\n",
    "all_des = val_df['category_name'].str.cat(sep=' ')\n",
    "chars = list(all_des)\n",
    "counter=collections.Counter(chars)\n",
    "ret = str('')\n",
    "for x in counter: ret += x[0]\n",
    "ret"
   ]
  },
  {
   "cell_type": "code",
   "execution_count": 14,
   "metadata": {
    "scrolled": true
   },
   "outputs": [
    {
     "data": {
      "text/plain": [
       "'<category> WmnOhBudlisqfRpb,CkwzAL.S&GNPTVDIvH9\"MFx0251[]K:\\'’E-%U6JX3j*48!#Y/(+)é\\xa0Q~@7⋅☆?Z;➡♡❌•❤️❗☺✨⬆⭐=⬅|‼▪⚡¼$…®è·✔⃣\\\\×Ó‘✖\\u200b{}➕\\u2028ô●\\u3000［］＊❣©™–☀”Ⓜ_✳✅¤♦♥°⚠☘“■çÁá✴√ＦＡＱ^É¡℉★◆Σ￣□˘³\\u2029⏺—ë：✭☃❎⚫➖。・✘✂》℃≥í，▶）⬛✉❇❄�÷ñ✧ツ†！ᖴᗩᑕᗪᔕᒪᑭᗯᖇ⛔⭕″、（《◾½☄✈⁄◀☞☜¾⬇☑♨ó⚜\\xad♠ē〰☻⁉α£Ē‑➰¥€✽♢❁▫\\x97ً➔ÍᏚᎢᎬᎡᏞᏩᏙᏌᎾᎠᏔᏢ↪↩`✓\\x7f◕‿╹◡⊙︿û＼／❀à⋆ғᴇʟʀᴛᴏᴀᴋɴʏǫᴜɪᴍʜᴠᴘʙᴄᴅɢᴡッ◼◇¿ōÑᑎᐯ︎❥ꕥΩ❓【】ξ»ᴢ⤵✕►⠀☐⇻◈ú☇Û❊͈ᴗ☒⚘Ü↗«ℹø✮∆Π⚪⏩⏪☹화양연⛅❕➽äいなばぁっこんにちはたらラタンワとゃ日本の中古品ですオリジナルケース付きませう傷があり自宅再生機視聴可能しよろくお願↘ö♻̈ᎪᎷᏴᎻ☯☮⚛☪¯˜☾↓¢✩⛱îİÈ⚽✌ā┅✿⏬\\u200eü≤✦¹⛄→²ᐠᐛᐟ♧♪♬ᗰ№◦ı↖↙◑ØÄÇ◉✏；▼ì⚀\\ufeffÔ〽º☠⛳☝ÀÌ☼⏳⚅↔✯✄ʕᴥʔ☁≫♤￼Δ✗３⛵⇢⇠⇝⇜⇨⇦Ꮯ➵ķ\\u2006±➺＝＄\\x16☕ʼ대한민국\\x96♀゜※✪❃☽♍☂⅞Õ⤴○\\uf8ff➜✬вєуσυℓѕâ♣\\uf04a⅛ūï\\x92ღ？⚃✼℅〃⛤\\x03\\u2002я⊝ᴊ\\uf8b8\\uf81e\\uf8bc\\uf821\\uf820\\uf824\\uf8e7ꪹꪵ\\uf823\\uf8ea☡אודםхｗｉｌｄｆｏｘ˚ω∙～͜͡ʖêᴖθ♛ᏃᏆ◻═⛥₂⚂͟カネボウソアイシャドⅠ✚\\x94̑⏰\\u202f➝➳け玉剣拳❈←ÂÒę᙭ᕼÎ⇾Æ⌚―ビトフォマサヒパダ´\\x99ãļ∅ⓟⓔⓣⓢⓜⓞⓚⓕⓡź♏⏹Ë⅔−༶﹏мιтнĸЅΙ⚾ᑌꂦノヮ♫⌊⌉⚓¨å↟‡≧▽≦ăßŸŠㅡćù⇉⇇✺❦．ᕕᕗĹ✱⁰\\x1aﬂﬁŁšś↠↕✷⊹\\u2009õᵔª△⚁\\u200fò➪➣⇒▵방탄션단앵무새죽이기우리들의행복시간정가원묶음으로구입하면송비를절약실수있습니다彡✍⊗ꍏ┌ಠ┘Úϟ소년＋刚化玻璃片č◯⚄⇣ч\\uf84c˝ᗷ✫⌛\\x14❉◔ⓛⓦ⛓Ū〜ゝ∂ł㎡⬘☙⚝ổ╮╯╰╭ミ⁃\\u202dΦ➲☔♐ď'"
      ]
     },
     "execution_count": 14,
     "metadata": {},
     "output_type": "execute_result"
    }
   ],
   "source": [
    "import collections\n",
    "all_des = val_df['item_description'].str.cat(sep=' ')\n",
    "chars = list(all_des)\n",
    "counter=collections.Counter(chars)\n",
    "ret = str('')\n",
    "for x in counter: ret += x[0]\n",
    "ret"
   ]
  },
  {
   "cell_type": "code",
   "execution_count": 15,
   "metadata": {
    "collapsed": true
   },
   "outputs": [],
   "source": [
    "# to skip computation\n",
    "ret = \"\"\"HmDéAnsLhSudipNw.Rlf[]bTqkFJW24KGOC&7Yz/x!)B-~:v✨“”,1MEVX50\\'6PI3U8%(+9\"\\xa0Q@*#;Z➡♡j•❤️\\u3000?［］＊–è’|$⚡▪❄…®✴{}\\\\❇=☑Ó‼☆♥_⬇❗⛔♦°⭐¡^üë❣✭íÁ½✳×✅❌—☺✔➖《》¤″⚠⬆➕■☇◇●▶➔！✉☀✖á★✧ツ†〰\\u200b€¥É©™\\u2028ñシ、（），：‘ú❎☄ô◀ᏢᎡᏟᏞᎬᎪᎢᏌᏚᏆ·♨⚜⃣▼�√«»\\xad⁉α£︎❥♏✈▫⬅ē❓å➺Õ¼☞✽♢○âÜÍᏩᏙᎾᎠᏔç♧◡̈⭕ō⚫ᔕᖇᒪᑎᐯᖴᗩᗯ‑Ⓜ☼⤵↪Ω`⇻◈①②③❀\\u2029⏺\\x7fΚΑθ⋆ғʀᴇʜɪᴘʟᴛᴏᴀᴋɴʏǫᴜᴍᴠʙᴄᴅɢᴡッ¾ℹ◕‿╹⊙︿⏩⏪✝□℃ä✏いなばぁっこんにちはたらラタンワとゃ日本の中古品です。オリジナルケース付きませう傷があり自宅再生機視聴可能しよろくお願ᎷᏴᎻ❁⇝↓⛵【】◑┅♠\\u200eĒ→☻´∀｀・Ñ♻Ô⏰óØᐠᐛᐟ❕⛥¹ᑕᗰ◉ı↖↘↙；ᕼᗷᑌᗪ✓∆ì►⚘ºʕᴥʔà✌ω～✦➾➳⚀✩ꕥ✿ß❃☾☽⚾È▵ÄÇ⚅◆█✯û♛≥≤Ⓡ♤ᴢ◾◼乛Öū⟁➜☡✲゜͡ᵔ͜ʖ☕✂³⚪čï※➰\\x96\\x16ᴊ↔÷ă✪˘¦îê◠✬Β✘語⁄Ìღ✮？＆☐ø⛤☝\\uf8e7ꪹꪵ\\uf81e\\uf823\\uf8eaℓєя⊝◦☃❊⠀ö²―⌚Σ￣\\uf8ff➙⚓Ꮓ↩¿☯☮⚛☪\\ufeff͈ᴗ☒⅜〽ⓡⓔⓓⓑⓛⓐⓒⓚⓦⓗⓘⓣⓢⓤⓝ§Δξェヽノ✕➝∅ⓟⓜⓞⓕ☜↟◄⇒Â═☔❶❷❸❹❺❻،¶Æ˚⛅ﬁ\\x99♪⇢⋅¢༶⛄☠＼／ʘ＄☸⚃「」☹➀➁⛳‡ËŸŠ℅⅛ㅡ⟹❦☁Ûś『』šù✷⊹õã⺣\\u202f⬛İ⏹Ⓢⓨ±⚁￼⅔✄ŕ▿ò➪⁰ā୨୧\\x95∙̀\\u2009♫⛱❔ᑭ➵☘⇨⇦➲\\uf84c△♀℉˝✼さ冊¯ọ✫Ð↕\\uf8ba\\uf8bc\\uf8b8\\uf8bd\\uf8b9\\uf8c0⌛国结刺绣小紫色的心形丝绸挂件Ū\\x14⁴♣⛓〜ゝ∂㎡᙭′どかも森絵ポトビ他╮╯╰╭Φ\\x92➿⏬招猫一\"\"\""
   ]
  },
  {
   "cell_type": "code",
   "execution_count": 16,
   "metadata": {
    "collapsed": true
   },
   "outputs": [],
   "source": [
    "spcl = re_ptbl.sub(r'', ret)\n",
    "re_spcl = re.compile(f'([{spcl}0-9])')"
   ]
  },
  {
   "cell_type": "code",
   "execution_count": 17,
   "metadata": {},
   "outputs": [
    {
     "name": "stdout",
     "output_type": "stream",
     "text": [
      "\n",
      "\u001b[93m    Warning: no model found for 'en'\u001b[0m\n",
      "\n",
      "    Only loading the 'en' tokenizer.\n",
      "\n"
     ]
    }
   ],
   "source": [
    "from spacy.symbols import ORTH\n",
    "\n",
    "my_tok = spacy.load('en')\n",
    "\n",
    "# To join multiple columns\n",
    "# my_tok.tokenizer.add_special_case('<SUMM>', [{ORTH: '<SUMM>'}])\n",
    "my_tok.tokenizer.add_special_case('<eos>', [{ORTH: '<eos>'}])\n",
    "my_tok.tokenizer.add_special_case('<category>', [{ORTH: '<category>'}])\n",
    "my_tok.tokenizer.add_special_case('<name>', [{ORTH: '<name>'}])\n",
    "my_tok.tokenizer.add_special_case('<description>', [{ORTH: '<description>'}])\n",
    "my_tok.tokenizer.add_special_case('[rm]', [{ORTH: '[rm]'}])\n",
    "\n",
    "def my_spacy_tok(x):\n",
    "    x = str(x).lower()\n",
    "    # x = re.sub(r'[^\\x00-\\x7f]', r' ', x)\n",
    "    x = re_rm.sub(' [rm] ', x)\n",
    "    #x = re_num.sub(r' \\1 ', x)\n",
    "    x = re_spcl.sub(r' \\1 ', x)\n",
    "    x = ' '.join(x.split())\n",
    "    return [tok.text for tok in my_tok.tokenizer(x)]"
   ]
  },
  {
   "cell_type": "code",
   "execution_count": 18,
   "metadata": {},
   "outputs": [
    {
     "data": {
      "text/plain": [
       "['a', '1', '2', '3', '.', '【', '】', '♥']"
      ]
     },
     "execution_count": 18,
     "metadata": {},
     "output_type": "execute_result"
    }
   ],
   "source": [
    "my_spacy_tok(\"a123.【】 ♥\")"
   ]
  },
  {
   "cell_type": "markdown",
   "metadata": {},
   "source": [
    "## Language Model for category, name and item_description "
   ]
  },
  {
   "cell_type": "code",
   "execution_count": 32,
   "metadata": {
    "collapsed": true
   },
   "outputs": [],
   "source": [
    "# Use small portion for text modeling \n",
    "sample = 0.2\n",
    "train_text = train_df.sample(int(sample*len(train_df))).reset_index()\n",
    "val_text = val_df.sample(int(sample*len(val_df))).reset_index()"
   ]
  },
  {
   "cell_type": "code",
   "execution_count": 33,
   "metadata": {},
   "outputs": [
    {
     "data": {
      "text/plain": [
       "(array([   1135.,   56803.,  111234.,  172722.,  100045.,  138350.,   83271.,  109401.,   63493.,   81542.,\n",
       "          46619.,   61350.,   35199.,   45828.,   27106.,   36000.,   21148.,   27510.,   16214.,   21298.,\n",
       "        ...,     162.,      88.,     200.,      82.,      47.,      96.,     101.,      32.,      79.,\n",
       "             24.,       8.,       1.,       2.,       0.,       1.,       0.,       1.,       1.,       1.,\n",
       "              1.]),\n",
       " array([   6.  ,    8.52,   11.04,   13.56,   16.08,   18.6 ,   21.12,   23.64,   26.16,   28.68,   31.2 ,\n",
       "          33.72,   36.24,   38.76,   41.28,   43.8 ,   46.32,   48.84,   51.36,   53.88, ...,  210.12,  212.64,\n",
       "         215.16,  217.68,  220.2 ,  222.72,  225.24,  227.76,  230.28,  232.8 ,  235.32,  237.84,  240.36,\n",
       "         242.88,  245.4 ,  247.92,  250.44,  252.96,  255.48,  258.  ]),\n",
       " <a list of 100 Patch objects>)"
      ]
     },
     "execution_count": 33,
     "metadata": {},
     "output_type": "execute_result"
    },
    {
     "data": {
      "image/png": "[encoded data removed]",
      "text/plain": [
       "<matplotlib.figure.Figure at 0x7fdd407736d8>"
      ]
     },
     "metadata": {},
     "output_type": "display_data"
    }
   ],
   "source": [
    "text_length = train['item_description'].apply(lambda x: len(str(x).split()))\n",
    "plt.hist(text_length, bins=100)"
   ]
  },
  {
   "cell_type": "code",
   "execution_count": 34,
   "metadata": {
    "collapsed": true,
    "scrolled": true
   },
   "outputs": [],
   "source": [
    "# This is to test if numericalization is possible with the given text with symbols and all special characters\n",
    "# Since the origibal text can be lengthy \n",
    "\n",
    "t = time_check()\n",
    "def test_text_dataload(field, df, col):\n",
    "    # fir create Fields\n",
    "    fields = [('text', field)]\n",
    "    text = []\n",
    "    \n",
    "    # Tokenize\n",
    "    text += field.preprocess(df[col].str.cat(sep=' <eos> '))\n",
    "    text.append('<eos>')\n",
    "    # create datasets\n",
    "    examples = [torchtext.data.Example.fromlist([text], fields)]\n",
    "    dataset = torchtext.data.Dataset(examples, fields)\n",
    "    \n",
    "    field.build_vocab(dataset)\n",
    "    \n",
    "    t.showtime(\"build examples and vocab:\")\n",
    "    flush\n",
    "    # create dataloader from dataset this is one long text \n",
    "    text = sum([o.text for o in dataset], [])\n",
    "    n=100\n",
    "    for i in np.arange(int(len(text)/n)):\n",
    "        if (i%10000 == 0):\n",
    "            t.showtime(str(i)+\" numericalize :\")\n",
    "            flush\n",
    "        itext = [text[i*n:(i+1)*n]]\n",
    "        try: \n",
    "            nums = field.numericalize(itext)\n",
    "        except (RuntimeError):\n",
    "            print(itext)\n",
    "    return \n",
    "\n",
    "#TEXT = data.Field(lower=True, tokenize=my_spacy_tok)\n",
    "#test_text_dataload(TEXT, train_text, 'item_description')"
   ]
  },
  {
   "cell_type": "code",
   "execution_count": 35,
   "metadata": {
    "collapsed": true
   },
   "outputs": [],
   "source": [
    "ITEM_DESCRIPTION = data.Field(lower=True, tokenize=my_spacy_tok)"
   ]
  },
  {
   "cell_type": "markdown",
   "metadata": {},
   "source": [
    "Possible text processings:\n",
    "0. min_freq, bs, bptt \n",
    "1. highlight for a streak of caps\n",
    "2. replace \" -\" word with `<list>`\n",
    "3. plural handling (?)\n",
    "4. handling past/present/future tense\n"
   ]
  },
  {
   "cell_type": "code",
   "execution_count": 36,
   "metadata": {
    "collapsed": true
   },
   "outputs": [],
   "source": [
    "bs,bptt = 128,50\n",
    "min_freq=10\n",
    "tag=\"match_trn_val\""
   ]
  },
  {
   "cell_type": "code",
   "execution_count": 37,
   "metadata": {
    "collapsed": true
   },
   "outputs": [],
   "source": [
    "# DF takes 12mins on GTX1060\n",
    "idmd = LanguageModelData.from_dataframes(PATH, ITEM_DESCRIPTION, 'item_description', train_text, val_text, val_text, \n",
    "                                       bs=bs, bptt=bptt, min_freq=min_freq)\n",
    "pickle.dump(ITEM_DESCRIPTION, open(f'{PATH}models/ITEM_DESCRIPTION_{tag}.pkl','wb'))"
   ]
  },
  {
   "cell_type": "code",
   "execution_count": 38,
   "metadata": {},
   "outputs": [
    {
     "data": {
      "text/plain": [
       "[(1798, '♥'), (0, '<unk>')]"
      ]
     },
     "execution_count": 38,
     "metadata": {},
     "output_type": "execute_result"
    }
   ],
   "source": [
    "idxs = ITEM_DESCRIPTION.numericalize([['♥', 'xyz']])\n",
    "idxs = idxs.data.cpu().numpy().ravel()\n",
    "#ITEM_DESCRIPTION.vocab.itos[idx.data.cpu().numpy()[0]]\n",
    "#idx.data.cpu().numpy()\n",
    "[(idx,ITEM_DESCRIPTION.vocab.itos[idx]) for idx in idxs]"
   ]
  },
  {
   "cell_type": "markdown",
   "metadata": {},
   "source": [
    "#### Unfderstanding Input/Output"
   ]
  },
  {
   "cell_type": "code",
   "execution_count": 39,
   "metadata": {},
   "outputs": [
    {
     "data": {
      "text/plain": [
       "'<unk> || <pad> || . || , || <category> || <description> || <eos> || <name> || ! || and || 1 || women'"
      ]
     },
     "execution_count": 39,
     "metadata": {},
     "output_type": "execute_result"
    }
   ],
   "source": [
    "' || '.join(ITEM_DESCRIPTION.vocab.itos[:12])"
   ]
  },
  {
   "cell_type": "code",
   "execution_count": 40,
   "metadata": {},
   "outputs": [
    {
     "data": {
      "text/plain": [
       "15409"
      ]
     },
     "execution_count": 40,
     "metadata": {},
     "output_type": "execute_result"
    }
   ],
   "source": [
    "len(ITEM_DESCRIPTION.vocab.itos[:])"
   ]
  },
  {
   "cell_type": "code",
   "execution_count": 41,
   "metadata": {},
   "outputs": [
    {
     "data": {
      "text/plain": [
       "(1359, 15409, 1, 8709958)"
      ]
     },
     "execution_count": 41,
     "metadata": {},
     "output_type": "execute_result"
    }
   ],
   "source": [
    "len(idmd.trn_dl), idmd.nt, len(idmd.trn_ds), len(idmd.trn_ds[0].text)"
   ]
  },
  {
   "cell_type": "code",
   "execution_count": 42,
   "metadata": {},
   "outputs": [
    {
     "data": {
      "text/plain": [
       "'<category>   other   daily&travelitems   personalcare   <name>   poise   pad   and   liner   bundle   <description>   1   package   of   poise   ultra   thin   pads   (   3   0   in   package   )   1   package   of   poise   pads   (   2   0   in   package   )   1   package   of   poise   ultra   thin   pads   (   2   4   in   package   )   2   packages'"
      ]
     },
     "execution_count": 42,
     "metadata": {},
     "output_type": "execute_result"
    }
   ],
   "source": [
    "'   '.join(idmd.trn_ds[0].text[:50])"
   ]
  },
  {
   "cell_type": "code",
   "execution_count": 43,
   "metadata": {
    "scrolled": true
   },
   "outputs": [
    {
     "data": {
      "text/plain": [
       "array([   4,   52,  683, 1222,    7, 7566, 1634,    9,  813,   50,    5,   10,  298,   28, 7566,  718, 1104,\n",
       "       1733,   41,   24,   18,   19,  298,   38,   10,  298,   28, 7566, 1733,   41,   13,   18,   19,  298,\n",
       "         38,   10,  298,   28, 7566,  718, 1104, 1733,   41,   13,   26,   19,  298,   38,   13, 2164])"
      ]
     },
     "execution_count": 43,
     "metadata": {},
     "output_type": "execute_result"
    }
   ],
   "source": [
    "to_np(ITEM_DESCRIPTION.numericalize([idmd.trn_ds[0].text[:50]])).ravel()"
   ]
  },
  {
   "cell_type": "code",
   "execution_count": 44,
   "metadata": {},
   "outputs": [
    {
     "name": "stdout",
     "output_type": "stream",
     "text": [
      "Xs=Variable containing:\n",
      "     4     14    520  ...    2647      7     17\n",
      "    52    106    181  ...      46     11    764\n",
      "   683      7      6  ...    3566     40    717\n",
      "        ...            ⋱           ...         \n",
      "    28      8    102  ...      13   1633   1389\n",
      "  7566      5      8  ...      45     75    282\n",
      "   718    592     90  ...    5124     12    375\n",
      "[torch.cuda.LongTensor of size 40x128 (GPU 0)]\n",
      "\n",
      "Ys=Variable containing:\n",
      "    52\n",
      "   106\n",
      "   181\n",
      "  ⋮   \n",
      "    30\n",
      "   110\n",
      "  1194\n",
      "[torch.cuda.LongTensor of size 5120 (GPU 0)]\n",
      "\n"
     ]
    }
   ],
   "source": [
    "batch = next(iter(idmd.trn_dl))\n",
    "xs, y = batch\n",
    "print(\"Xs={}\\nYs={}\".format(xs, y))"
   ]
  },
  {
   "cell_type": "markdown",
   "metadata": {},
   "source": [
    "### TEXT Model Learner\n",
    "##### Tune these learning parameters"
   ]
  },
  {
   "cell_type": "code",
   "execution_count": 45,
   "metadata": {
    "collapsed": true
   },
   "outputs": [],
   "source": [
    "em_sz = 100  # size of each embedding vector\n",
    "nh = 200     # number of hidden activations per layer\n",
    "nl = 3       # number of layers\n",
    "opt_fn = partial(optim.Adam, betas=(0.7, 0.99))"
   ]
  },
  {
   "cell_type": "code",
   "execution_count": 46,
   "metadata": {
    "collapsed": true
   },
   "outputs": [],
   "source": [
    "id_learner = idmd.get_model(opt_fn, em_sz, nh, nl,\n",
    "               dropouti=0.05, dropout=0.05, wdrop=0.1, dropoute=0.02, dropouth=0.05)"
   ]
  },
  {
   "cell_type": "code",
   "execution_count": 47,
   "metadata": {
    "collapsed": true
   },
   "outputs": [],
   "source": [
    "id_learner.reg_fn = partial(seq2seq_reg, alpha=2, beta=1)\n",
    "id_learner.clip=0.3"
   ]
  },
  {
   "cell_type": "markdown",
   "metadata": {},
   "source": [
    "#### Unfderstanding Input/Output of the Edcoder-Decoder Model"
   ]
  },
  {
   "cell_type": "code",
   "execution_count": 48,
   "metadata": {},
   "outputs": [
    {
     "data": {
      "text/plain": [
       "1482535"
      ]
     },
     "execution_count": 48,
     "metadata": {},
     "output_type": "execute_result"
    }
   ],
   "source": [
    "ntrn"
   ]
  },
  {
   "cell_type": "code",
   "execution_count": 49,
   "metadata": {},
   "outputs": [
    {
     "data": {
      "text/plain": [
       "SequentialRNN (\n",
       "  (0): RNN_Encoder (\n",
       "    (encoder): Embedding(15409, 100, padding_idx=1)\n",
       "    (encoder_with_dropout): EmbeddingDropout (\n",
       "      (embed): Embedding(15409, 100, padding_idx=1)\n",
       "    )\n",
       "    (rnns): ModuleList (\n",
       "      (0): WeightDrop (\n",
       "        (module): LSTM(100, 200, dropout=0.05)\n",
       "      )\n",
       "      (1): WeightDrop (\n",
       "        (module): LSTM(200, 200, dropout=0.05)\n",
       "      )\n",
       "      (2): WeightDrop (\n",
       "        (module): LSTM(200, 100, dropout=0.05)\n",
       "      )\n",
       "    )\n",
       "    (dropouti): LockedDropout (\n",
       "    )\n",
       "    (dropouths): ModuleList (\n",
       "      (0): LockedDropout (\n",
       "      )\n",
       "      (1): LockedDropout (\n",
       "      )\n",
       "      (2): LockedDropout (\n",
       "      )\n",
       "    )\n",
       "  )\n",
       "  (1): LinearDecoder (\n",
       "    (decoder): Linear (100 -> 15409)\n",
       "    (dropout): LockedDropout (\n",
       "    )\n",
       "  )\n",
       ")"
      ]
     },
     "execution_count": 49,
     "metadata": {},
     "output_type": "execute_result"
    }
   ],
   "source": [
    "lm = id_learner.model\n",
    "lm"
   ]
  },
  {
   "cell_type": "code",
   "execution_count": 50,
   "metadata": {
    "scrolled": true
   },
   "outputs": [
    {
     "data": {
      "text/plain": [
       "Variable containing:\n",
       "( 0 ,.,.) = \n",
       " -2.3180e-02  3.9550e-02  2.0632e-03  ...  -1.3312e-02 -1.6764e-03  2.7053e-02\n",
       " -2.2680e-02  4.0351e-02  1.7074e-03  ...  -1.2690e-02 -1.2048e-03  2.6871e-02\n",
       " -2.2865e-02  3.8233e-02  1.3004e-03  ...  -1.3929e-02 -1.1827e-03  2.7019e-02\n",
       "                 ...                   ⋱                   ...                \n",
       " -2.3369e-02  3.9131e-02  2.9392e-04  ...  -1.1670e-02 -2.0653e-03  2.8419e-02\n",
       " -2.3191e-02  3.9002e-02  1.6864e-03  ...  -1.2416e-02 -1.5603e-03  2.6953e-02\n",
       " -2.3545e-02  4.0419e-02  1.2251e-03  ...  -1.2555e-02 -1.8640e-03  2.7584e-02\n",
       "\n",
       "( 1 ,.,.) = \n",
       " -3.5821e-02  5.6788e-02  8.6494e-03  ...  -2.0020e-02 -7.9288e-03  4.4182e-02\n",
       " -3.4371e-02  5.8676e-02  8.0206e-03  ...  -1.8359e-02 -6.7088e-03  4.3738e-02\n",
       " -3.5223e-02  5.4350e-02  6.3751e-03  ...  -2.1100e-02 -6.8126e-03  4.3951e-02\n",
       "                 ...                   ⋱                   ...                \n",
       " -3.5723e-02  5.6040e-02  4.6582e-03  ...  -1.7145e-02 -9.0552e-03  4.7174e-02\n",
       " -3.5663e-02  5.5315e-02  8.0796e-03  ...  -1.7906e-02 -7.5462e-03  4.3619e-02\n",
       " -3.5929e-02  5.8631e-02  6.7442e-03  ...  -1.8425e-02 -7.9955e-03  4.5343e-02\n",
       "\n",
       "( 2 ,.,.) = \n",
       " -4.2269e-02  6.5587e-02  1.5756e-02  ...  -2.2316e-02 -1.3197e-02  5.6151e-02\n",
       " -3.9628e-02  6.7743e-02  1.4322e-02  ...  -2.0309e-02 -1.1580e-02  5.4993e-02\n",
       " -4.1480e-02  6.2529e-02  1.1689e-02  ...  -2.4029e-02 -1.1379e-02  5.5336e-02\n",
       "                 ...                   ⋱                   ...                \n",
       " -4.2024e-02  6.4519e-02  9.7766e-03  ...  -1.9163e-02 -1.5296e-02  6.0187e-02\n",
       " -4.2327e-02  6.3204e-02  1.4705e-02  ...  -1.9231e-02 -1.2551e-02  5.4817e-02\n",
       " -4.2022e-02  6.7810e-02  1.2687e-02  ...  -2.0341e-02 -1.3290e-02  5.7447e-02\n",
       "... \n",
       "\n",
       "(37 ,.,.) = \n",
       " -4.8842e-02  7.7781e-02  3.1147e-02  ...  -1.8916e-02 -1.9435e-02  7.5761e-02\n",
       " -4.6650e-02  8.2278e-02  2.8233e-02  ...  -1.8111e-02 -1.7422e-02  7.3225e-02\n",
       " -4.9928e-02  7.6301e-02  2.4322e-02  ...  -2.1038e-02 -1.8261e-02  7.5204e-02\n",
       "                 ...                   ⋱                   ...                \n",
       " -4.7644e-02  7.7809e-02  2.2390e-02  ...  -1.5547e-02 -2.2214e-02  7.8944e-02\n",
       " -4.8003e-02  7.6576e-02  3.1368e-02  ...  -1.2865e-02 -1.7528e-02  7.5430e-02\n",
       " -4.8901e-02  8.2042e-02  2.7209e-02  ...  -1.6166e-02 -1.9536e-02  7.6391e-02\n",
       "\n",
       "(38 ,.,.) = \n",
       " -4.9193e-02  7.8031e-02  3.1086e-02  ...  -1.9098e-02 -1.9399e-02  7.5989e-02\n",
       " -4.6999e-02  8.2262e-02  2.8001e-02  ...  -1.7857e-02 -1.7306e-02  7.3199e-02\n",
       " -5.0074e-02  7.6439e-02  2.4797e-02  ...  -2.1028e-02 -1.8269e-02  7.5638e-02\n",
       "                 ...                   ⋱                   ...                \n",
       " -4.7267e-02  7.7999e-02  2.2568e-02  ...  -1.5431e-02 -2.2425e-02  7.9003e-02\n",
       " -4.8011e-02  7.7083e-02  3.1438e-02  ...  -1.2801e-02 -1.7680e-02  7.5772e-02\n",
       " -4.9332e-02  8.1896e-02  2.6953e-02  ...  -1.6326e-02 -1.9591e-02  7.6572e-02\n",
       "\n",
       "(39 ,.,.) = \n",
       " -4.9665e-02  7.8253e-02  3.0953e-02  ...  -1.9249e-02 -1.9580e-02  7.6297e-02\n",
       " -4.6868e-02  8.2108e-02  2.7816e-02  ...  -1.7563e-02 -1.7270e-02  7.2670e-02\n",
       " -4.9883e-02  7.6362e-02  2.5123e-02  ...  -2.0613e-02 -1.8166e-02  7.6209e-02\n",
       "                 ...                   ⋱                   ...                \n",
       " -4.7079e-02  7.8074e-02  2.2550e-02  ...  -1.5309e-02 -2.2747e-02  7.9430e-02\n",
       " -4.8137e-02  7.7404e-02  3.1510e-02  ...  -1.2580e-02 -1.7811e-02  7.6061e-02\n",
       " -4.9561e-02  8.1892e-02  2.6967e-02  ...  -1.6116e-02 -1.9551e-02  7.6499e-02\n",
       "[torch.cuda.FloatTensor of size 40x128x100 (GPU 0)]"
      ]
     },
     "execution_count": 50,
     "metadata": {},
     "output_type": "execute_result"
    }
   ],
   "source": [
    "# Test 1 batch \n",
    "lm.reset()   # Initializes hidden states\n",
    "rnn_enc, lin_dec = lm\n",
    "raw_outputs, outputs = rnn_enc(*[xs])\n",
    "lstm1_op, lstm2_op, lstm3_op = outputs\n",
    "lstm3_op"
   ]
  },
  {
   "cell_type": "code",
   "execution_count": 51,
   "metadata": {},
   "outputs": [
    {
     "data": {
      "text/plain": [
       "Variable containing:\n",
       " 1.8694e-02 -8.4916e-03 -3.1079e-03  ...  -3.6578e-03  1.2885e-02 -5.4808e-03\n",
       " 2.1087e-02  2.6046e-03 -9.2136e-03  ...  -1.2139e-02  1.2100e-02  1.7903e-04\n",
       " 1.9688e-02  5.4143e-03 -2.6020e-03  ...  -1.3158e-02  5.3661e-03 -2.4968e-03\n",
       "                ...                   ⋱                   ...                \n",
       " 3.2870e-02 -7.7127e-03 -2.1492e-02  ...  -3.3082e-02  5.5194e-02 -1.4270e-02\n",
       " 3.6670e-02  1.9845e-03 -8.2107e-03  ...  -4.1606e-02  4.7547e-02 -1.1430e-02\n",
       " 4.4235e-02  1.6159e-03 -1.0673e-02  ...  -4.7626e-02  4.5054e-02 -1.3147e-02\n",
       "[torch.cuda.FloatTensor of size 5120x15409 (GPU 0)]"
      ]
     },
     "execution_count": 51,
     "metadata": {},
     "output_type": "execute_result"
    }
   ],
   "source": [
    "word_map, raw_outputs, outputs = lin_dec([raw_outputs, outputs])\n",
    "word_map"
   ]
  },
  {
   "cell_type": "code",
   "execution_count": 37,
   "metadata": {},
   "outputs": [
    {
     "data": {
      "application/vnd.jupyter.widget-view+json": {
       "model_id": "6a877b6446744a328dab1111a9514f34",
       "version_major": 2,
       "version_minor": 0
      },
      "text/plain": [
       "A Jupyter Widget"
      ]
     },
     "metadata": {},
     "output_type": "display_data"
    },
    {
     "name": "stdout",
     "output_type": "stream",
     "text": [
      " 92%|█████████▏| 1376/1496 [01:31<00:08, 14.97it/s, loss=19.1]"
     ]
    }
   ],
   "source": [
    "id_learner.lr_find()"
   ]
  },
  {
   "cell_type": "code",
   "execution_count": 38,
   "metadata": {},
   "outputs": [
    {
     "data": {
      "image/png": "[encoded data removed]",
      "text/plain": [
       "<matplotlib.figure.Figure at 0x7fb5116fca58>"
      ]
     },
     "metadata": {},
     "output_type": "display_data"
    }
   ],
   "source": [
    "id_learner.sched.plot()"
   ]
  },
  {
   "cell_type": "code",
   "execution_count": 52,
   "metadata": {},
   "outputs": [
    {
     "data": {
      "application/vnd.jupyter.widget-view+json": {
       "model_id": "59d8c5f475034544ad0c83b2998c5f12",
       "version_major": 2,
       "version_minor": 0
      },
      "text/plain": [
       "A Jupyter Widget"
      ]
     },
     "metadata": {},
     "output_type": "display_data"
    },
    {
     "name": "stdout",
     "output_type": "stream",
     "text": [
      "epoch      trn_loss   val_loss                                \n",
      "    0      4.246058   4.116016  \n",
      "    1      3.982165   3.830805                                \n",
      "    2      3.818219   3.66974                                 \n",
      "    3      3.724189   3.609464                                \n",
      "\n"
     ]
    },
    {
     "data": {
      "text/plain": [
       "[3.6094642]"
      ]
     },
     "execution_count": 52,
     "metadata": {},
     "output_type": "execute_result"
    }
   ],
   "source": [
    "id_learner.fit(2.0e-2, 2, wds=1e-6, cycle_len=1, cycle_mult=3)"
   ]
  },
  {
   "cell_type": "code",
   "execution_count": 40,
   "metadata": {
    "collapsed": true
   },
   "outputs": [],
   "source": [
    "#del(id_learner)"
   ]
  },
  {
   "cell_type": "code",
   "execution_count": 86,
   "metadata": {
    "collapsed": true
   },
   "outputs": [],
   "source": [
    "id_learner.save_encoder(f'adam1_enc_{tag}')"
   ]
  },
  {
   "cell_type": "markdown",
   "metadata": {},
   "source": [
    "# Process DataFrames and Create Data Loaders"
   ]
  },
  {
   "cell_type": "code",
   "execution_count": 257,
   "metadata": {
    "collapsed": true
   },
   "outputs": [],
   "source": [
    "def split_into_columns(x, split_by=\"/\", ncol=4, fillna='NA'):\n",
    "    l = str(x).split(split_by)\n",
    "    return pd.Series((l+fillna*(ncol-len(l)))[:ncol])"
   ]
  },
  {
   "cell_type": "code",
   "execution_count": 258,
   "metadata": {},
   "outputs": [
    {
     "data": {
      "text/html": [
       "<div>\n",
       "<style>\n",
       "    .dataframe thead tr:only-child th {\n",
       "        text-align: right;\n",
       "    }\n",
       "\n",
       "    .dataframe thead th {\n",
       "        text-align: left;\n",
       "    }\n",
       "\n",
       "    .dataframe tbody tr th {\n",
       "        vertical-align: top;\n",
       "    }\n",
       "</style>\n",
       "<table border=\"1\" class=\"dataframe\">\n",
       "  <thead>\n",
       "    <tr style=\"text-align: right;\">\n",
       "      <th></th>\n",
       "      <th>test_id</th>\n",
       "      <th>name</th>\n",
       "      <th>item_condition_id</th>\n",
       "      <th>category_name</th>\n",
       "      <th>brand_name</th>\n",
       "      <th>shipping</th>\n",
       "      <th>item_description</th>\n",
       "      <th>price</th>\n",
       "    </tr>\n",
       "  </thead>\n",
       "  <tbody>\n",
       "    <tr>\n",
       "      <th>0</th>\n",
       "      <td>0</td>\n",
       "      <td>Breast cancer \"I fight like a girl\" ring</td>\n",
       "      <td>1</td>\n",
       "      <td>Women/Jewelry/Rings</td>\n",
       "      <td>NaN</td>\n",
       "      <td>1</td>\n",
       "      <td>&lt;category&gt; Women Jewelry Rings &lt;name&gt; Breast c...</td>\n",
       "      <td>0</td>\n",
       "    </tr>\n",
       "    <tr>\n",
       "      <th>1</th>\n",
       "      <td>1</td>\n",
       "      <td>25 pcs NEW 7.5\"x12\" Kraft Bubble Mailers</td>\n",
       "      <td>1</td>\n",
       "      <td>Other/Office supplies/Shipping Supplies</td>\n",
       "      <td>NaN</td>\n",
       "      <td>1</td>\n",
       "      <td>&lt;category&gt; Other Officesupplies ShippingSuppli...</td>\n",
       "      <td>0</td>\n",
       "    </tr>\n",
       "  </tbody>\n",
       "</table>\n",
       "</div>"
      ],
      "text/plain": [
       "   test_id                                      name  item_condition_id  \\\n",
       "0        0  Breast cancer \"I fight like a girl\" ring                  1   \n",
       "1        1  25 pcs NEW 7.5\"x12\" Kraft Bubble Mailers                  1   \n",
       "\n",
       "                             category_name brand_name  shipping  \\\n",
       "0                      Women/Jewelry/Rings        NaN         1   \n",
       "1  Other/Office supplies/Shipping Supplies        NaN         1   \n",
       "\n",
       "                                    item_description  price  \n",
       "0  <category> Women Jewelry Rings <name> Breast c...      0  \n",
       "1  <category> Other Officesupplies ShippingSuppli...      0  "
      ]
     },
     "execution_count": 258,
     "metadata": {},
     "output_type": "execute_result"
    }
   ],
   "source": [
    "test_df.head(2)"
   ]
  },
  {
   "cell_type": "code",
   "execution_count": 259,
   "metadata": {
    "collapsed": true
   },
   "outputs": [],
   "source": [
    "text_name = 'item_description'\n",
    "text_vars = [text_name]\n",
    "cat_vars = ['item_condition_id', 'category_name', 'brand_name', 'shipping']\n",
    "contin_vars = []\n",
    "dep = 'price'\n",
    "cols = text_vars+cat_vars+contin_vars+[dep]"
   ]
  },
  {
   "cell_type": "code",
   "execution_count": 260,
   "metadata": {
    "collapsed": true
   },
   "outputs": [],
   "source": [
    "train_df2 = train[text_vars+cat_vars+contin_vars+[dep]].copy()\n",
    "test_df[dep] = 0.0\n",
    "test_df2 = test_df[text_vars+cat_vars+contin_vars+[dep, 'test_id']].copy()"
   ]
  },
  {
   "cell_type": "markdown",
   "metadata": {},
   "source": [
    "Before we call torch text to create DataLoaders we need to convert categorical data to numerical data. "
   ]
  },
  {
   "cell_type": "code",
   "execution_count": 262,
   "metadata": {
    "collapsed": true
   },
   "outputs": [],
   "source": [
    "# make train/test categories\n",
    "for v in cat_vars: train_df2[v] = train_df2[v].astype('category').cat.as_ordered()\n",
    "apply_cats(test_df2, train_df2)"
   ]
  },
  {
   "cell_type": "code",
   "execution_count": 263,
   "metadata": {
    "collapsed": true
   },
   "outputs": [],
   "source": [
    "cat_sz = [(c, len(train_df2[c].cat.categories)+1) for c in cat_vars]\n",
    "cat_emb_szs = [(c, min(50, (c+1)//2)) for _,c in cat_sz]"
   ]
  },
  {
   "cell_type": "code",
   "execution_count": 264,
   "metadata": {
    "collapsed": true
   },
   "outputs": [],
   "source": [
    "# make float continuous variables if any\n",
    "for v in contin_vars+[dep]:\n",
    "    train_df2[v] = train_df2[v].astype('float32')\n",
    "    test_df2[v] = test_df2[v].astype('float32')"
   ]
  },
  {
   "cell_type": "code",
   "execution_count": 272,
   "metadata": {
    "collapsed": true
   },
   "outputs": [],
   "source": [
    "# numericalize all but the text field then add it back at the end\n",
    "# pd.get_dummies creates expanded 1 hot encoding then collapsed\n",
    "df, y, nas = proc_df(train_df2, dep, skip_flds=text_vars, do_scale=False)\n",
    "df[text_vars] = train_df2[text_vars].astype(str)\n",
    "df[dep] = np.log(y+1)"
   ]
  },
  {
   "cell_type": "code",
   "execution_count": 273,
   "metadata": {},
   "outputs": [
    {
     "data": {
      "text/plain": [
       "item_condition_id       int8\n",
       "category_name          int16\n",
       "brand_name             int16\n",
       "shipping                int8\n",
       "item_description      object\n",
       "price                float32\n",
       "dtype: object"
      ]
     },
     "execution_count": 273,
     "metadata": {},
     "output_type": "execute_result"
    }
   ],
   "source": [
    "df.dtypes"
   ]
  },
  {
   "cell_type": "code",
   "execution_count": 266,
   "metadata": {
    "collapsed": true
   },
   "outputs": [],
   "source": [
    "df_test, _, nas = proc_df(test_df2, dep, do_scale=False, \n",
    "                          skip_flds=text_vars + ['test_id'], na_dict=nas)\n",
    "df_test[text_vars] = test_df2[text_vars].astype(str)\n",
    "df_test[dep] = 0.0"
   ]
  },
  {
   "cell_type": "code",
   "execution_count": 267,
   "metadata": {},
   "outputs": [
    {
     "data": {
      "text/html": [
       "<div>\n",
       "<style>\n",
       "    .dataframe thead tr:only-child th {\n",
       "        text-align: right;\n",
       "    }\n",
       "\n",
       "    .dataframe thead th {\n",
       "        text-align: left;\n",
       "    }\n",
       "\n",
       "    .dataframe tbody tr th {\n",
       "        vertical-align: top;\n",
       "    }\n",
       "</style>\n",
       "<table border=\"1\" class=\"dataframe\">\n",
       "  <thead>\n",
       "    <tr style=\"text-align: right;\">\n",
       "      <th></th>\n",
       "      <th>item_condition_id</th>\n",
       "      <th>category_name</th>\n",
       "      <th>brand_name</th>\n",
       "      <th>shipping</th>\n",
       "      <th>item_description</th>\n",
       "      <th>price</th>\n",
       "    </tr>\n",
       "  </thead>\n",
       "  <tbody>\n",
       "    <tr>\n",
       "      <th>0</th>\n",
       "      <td>3</td>\n",
       "      <td>809</td>\n",
       "      <td>0</td>\n",
       "      <td>2</td>\n",
       "      <td>&lt;category&gt; Men Tops T-shirts &lt;name&gt; MLB Cincin...</td>\n",
       "      <td>2.397895</td>\n",
       "    </tr>\n",
       "    <tr>\n",
       "      <th>1</th>\n",
       "      <td>3</td>\n",
       "      <td>87</td>\n",
       "      <td>3558</td>\n",
       "      <td>1</td>\n",
       "      <td>&lt;category&gt; Electronics Computers&amp;Tablets Compo...</td>\n",
       "      <td>3.970292</td>\n",
       "    </tr>\n",
       "  </tbody>\n",
       "</table>\n",
       "</div>"
      ],
      "text/plain": [
       "   item_condition_id  category_name  brand_name  shipping  \\\n",
       "0                  3            809           0         2   \n",
       "1                  3             87        3558         1   \n",
       "\n",
       "                                    item_description     price  \n",
       "0  <category> Men Tops T-shirts <name> MLB Cincin...  2.397895  \n",
       "1  <category> Electronics Computers&Tablets Compo...  3.970292  "
      ]
     },
     "metadata": {},
     "output_type": "display_data"
    },
    {
     "data": {
      "text/html": [
       "<div>\n",
       "<style>\n",
       "    .dataframe thead tr:only-child th {\n",
       "        text-align: right;\n",
       "    }\n",
       "\n",
       "    .dataframe thead th {\n",
       "        text-align: left;\n",
       "    }\n",
       "\n",
       "    .dataframe tbody tr th {\n",
       "        vertical-align: top;\n",
       "    }\n",
       "</style>\n",
       "<table border=\"1\" class=\"dataframe\">\n",
       "  <thead>\n",
       "    <tr style=\"text-align: right;\">\n",
       "      <th></th>\n",
       "      <th>item_condition_id</th>\n",
       "      <th>category_name</th>\n",
       "      <th>brand_name</th>\n",
       "      <th>shipping</th>\n",
       "      <th>item_description</th>\n",
       "      <th>price</th>\n",
       "    </tr>\n",
       "  </thead>\n",
       "  <tbody>\n",
       "    <tr>\n",
       "      <th>0</th>\n",
       "      <td>1</td>\n",
       "      <td>1183</td>\n",
       "      <td>0</td>\n",
       "      <td>2</td>\n",
       "      <td>&lt;category&gt; Women Jewelry Rings &lt;name&gt; Breast c...</td>\n",
       "      <td>0.0</td>\n",
       "    </tr>\n",
       "    <tr>\n",
       "      <th>1</th>\n",
       "      <td>1</td>\n",
       "      <td>878</td>\n",
       "      <td>0</td>\n",
       "      <td>2</td>\n",
       "      <td>&lt;category&gt; Other Officesupplies ShippingSuppli...</td>\n",
       "      <td>0.0</td>\n",
       "    </tr>\n",
       "  </tbody>\n",
       "</table>\n",
       "</div>"
      ],
      "text/plain": [
       "   item_condition_id  category_name  brand_name  shipping  \\\n",
       "0                  1           1183           0         2   \n",
       "1                  1            878           0         2   \n",
       "\n",
       "                                    item_description  price  \n",
       "0  <category> Women Jewelry Rings <name> Breast c...    0.0  \n",
       "1  <category> Other Officesupplies ShippingSuppli...    0.0  "
      ]
     },
     "execution_count": 267,
     "metadata": {},
     "output_type": "execute_result"
    }
   ],
   "source": [
    "display(df.head(2))\n",
    "df_test.head(2)"
   ]
  },
  {
   "cell_type": "markdown",
   "metadata": {},
   "source": [
    "#### call torch.text to process the text in text field and create data splits"
   ]
  },
  {
   "cell_type": "code",
   "execution_count": 268,
   "metadata": {},
   "outputs": [
    {
     "data": {
      "text/plain": [
       "['<category>',\n",
       " 'men',\n",
       " 'tops',\n",
       " 't',\n",
       " '-',\n",
       " 'shirts',\n",
       " '<name>',\n",
       " 'mlb',\n",
       " 'cincinnati',\n",
       " 'reds',\n",
       " 't',\n",
       " 'shirt',\n",
       " 'size',\n",
       " 'xl',\n",
       " '<description>',\n",
       " 'no',\n",
       " 'description',\n",
       " 'yet']"
      ]
     },
     "execution_count": 268,
     "metadata": {},
     "output_type": "execute_result"
    }
   ],
   "source": [
    "ITEM_DESCRIPTION = pickle.load(open(f'{PATH}models/ITEM_DESCRIPTION_{tag}.pkl','rb'))\n",
    "# test my_spacy_token\n",
    "my_spacy_tok(df['item_description'].iloc[0])"
   ]
  },
  {
   "cell_type": "code",
   "execution_count": 269,
   "metadata": {
    "collapsed": true
   },
   "outputs": [],
   "source": [
    "DATA_FIELDS = {'item_description': ITEM_DESCRIPTION}\n",
    "for v in cat_vars: \n",
    "    DATA_FIELDS[v] = data.Field(sequential=False, use_vocab=False)\n",
    "DATA_FIELDS[dep] = data.Field(sequential=False, tensor_type=torch.FloatTensor, use_vocab=False)"
   ]
  },
  {
   "cell_type": "code",
   "execution_count": 270,
   "metadata": {},
   "outputs": [
    {
     "data": {
      "text/plain": [
       "20"
      ]
     },
     "execution_count": 270,
     "metadata": {},
     "output_type": "execute_result"
    }
   ],
   "source": [
    "n=20\n",
    "dfs = {'test': df_test.iloc[:min(n, len(df_test))]}\n",
    "(dfs['val'], dfs['train']),  = split_by_idx(val_idx, df)\n",
    "dfs['val'] = dfs['val'].iloc[:min(n, len(dfs['val']))]\n",
    "dfs['train'] = dfs['train'].iloc[:min(n, len(dfs['train']))]\n",
    "\n",
    "len(dfs['train'])"
   ]
  },
  {
   "cell_type": "code",
   "execution_count": 251,
   "metadata": {
    "collapsed": true
   },
   "outputs": [],
   "source": [
    "min_freq=10"
   ]
  },
  {
   "cell_type": "code",
   "execution_count": 279,
   "metadata": {},
   "outputs": [
    {
     "name": "stdout",
     "output_type": "stream",
     "text": [
      "train tokenize : 3.5278050899505615\n",
      "val tokenize : 3.3371670246124268\n",
      "test tokenize : 3.3247170448303223\n"
     ]
    },
    {
     "name": "stderr",
     "output_type": "stream",
     "text": [
      "/home/paperspace/anaconda3/lib/python3.6/site-packages/pandas/core/indexing.py:517: SettingWithCopyWarning: \n",
      "A value is trying to be set on a copy of a slice from a DataFrame.\n",
      "Try using .loc[row_indexer,col_indexer] = value instead\n",
      "\n",
      "See the caveats in the documentation: http://pandas.pydata.org/pandas-docs/stable/indexing.html#indexing-view-versus-copy\n",
      "  self.obj[item] = s\n"
     ]
    }
   ],
   "source": [
    "# tokenize and cast to object type prior to creating examples to save time\n",
    "dtypes = {}\n",
    "for split_type in ['train', 'val', 'test']:\n",
    "    t = time_check()\n",
    "    tbl = dfs[split_type]\n",
    "    tbl.loc[:,text_name] = tbl[text_name].apply(DATA_FIELDS[text_name].tokenize)\n",
    "    t.showtime(split_type+\" tokenize :\")"
   ]
  },
  {
   "cell_type": "code",
   "execution_count": 285,
   "metadata": {},
   "outputs": [
    {
     "data": {
      "text/plain": [
       "['<category>',\n",
       " 'men',\n",
       " 'tops',\n",
       " 't',\n",
       " '-',\n",
       " 'shirts',\n",
       " '<name>',\n",
       " 'mlb',\n",
       " 'cincinnati',\n",
       " 'reds',\n",
       " 't',\n",
       " 'shirt',\n",
       " 'size',\n",
       " 'xl',\n",
       " '<description>',\n",
       " 'no',\n",
       " 'description',\n",
       " 'yet']"
      ]
     },
     "execution_count": 285,
     "metadata": {},
     "output_type": "execute_result"
    }
   ],
   "source": [
    "dfs['train']['item_description'].iloc[0]"
   ]
  },
  {
   "cell_type": "code",
   "execution_count": 281,
   "metadata": {},
   "outputs": [],
   "source": [
    "class MixedTextDataset(torchtext.data.Dataset):\n",
    "    def __init__(self, split_type, text_name, data_fields, dfs, **kwargs):\n",
    "        #type(self).text_name = text_name\n",
    "        fields = list(data_fields.items())\n",
    "        cols = [fld[0] for fld in fields]\n",
    "        #cols.remove(text_name)\n",
    "        df = dfs[split_type]\n",
    "        \n",
    "        t = time_check()\n",
    "        # populating examples using fromList is slow \n",
    "        #examples = list(df.apply(lambda x: data.Example.fromlist(list(x[cols]), fields), axis=1))\n",
    "        n = len(df) \n",
    "        examples = [data.Example]*n\n",
    "        for i in range(n):\n",
    "            for col in cols:\n",
    "                setattr(examples[i], col, df[col].iloc[i])\n",
    "                #print(col, type(getattr(examples[i], col)))\n",
    "        \n",
    "        t.showtime(split_type+\" creation of examples \"+str(n)+\" :\")\n",
    "        super().__init__(examples, fields, **kwargs)\n",
    "        t.showtime(split_type+\" dataset done \"+str(n)+\" :\")\n",
    "\n",
    "    @staticmethod\n",
    "    def sort_key(ex): return len(ex.item_description)\n",
    "    \n",
    "    @classmethod\n",
    "    def splits(cls, data_fields, train, val, test, dfs, **kwargs):\n",
    "        # set path to null ('') as we are dealing with dataframes\n",
    "        return super().splits('', data_fields=data_fields,  \n",
    "                              train=train, validation=val, test=test, dfs=dfs, **kwargs)"
   ]
  },
  {
   "cell_type": "code",
   "execution_count": 282,
   "metadata": {},
   "outputs": [
    {
     "name": "stdout",
     "output_type": "stream",
     "text": [
      "train creation of examples 20 : 0.0019614696502685547\n",
      "train dataset done 20 : 0.0014934539794921875\n",
      "val creation of examples 20 : 0.0026693344116210938\n",
      "val dataset done 20 : 0.0010285377502441406\n",
      "test creation of examples 20 : 0.0019066333770751953\n",
      "test dataset done 20 : 0.0008294582366943359\n"
     ]
    }
   ],
   "source": [
    "# No GPU, so optimize\n",
    "splits = MixedTextDataset.splits(DATA_FIELDS, text_name='item_description', train='train', \n",
    "                                     val='val', test='test', dfs=dfs)"
   ]
  },
  {
   "cell_type": "code",
   "execution_count": 287,
   "metadata": {},
   "outputs": [
    {
     "name": "stdout",
     "output_type": "stream",
     "text": [
      "item_condition_id  :  <class 'numpy.int8'>  :  1\n",
      "category_name  :  <class 'numpy.int16'>  :  1182\n",
      "brand_name  :  <class 'numpy.int16'>  :  0\n",
      "shipping  :  <class 'numpy.int8'>  :  2\n",
      "item_description  :  <class 'list'>  :  ['<category>', 'women', 'jewelry', 'necklaces', '<name>', 'elephant', 'choker', '<description>', '\\uf84c', 'brand', 'new', '\\uf84c', '○', 'price', 'firm', '○', '△', 'free', 'shipping', '△']\n",
      "price  :  <class 'numpy.float64'>  :  0.0\n"
     ]
    }
   ],
   "source": [
    "# Fields contain vocab, examples contain data \n",
    "for var in df.columns:\n",
    "    val = getattr(splits[0].examples[5], var)\n",
    "    print(var, \" : \", type(val), \" : \", val)"
   ]
  },
  {
   "cell_type": "code",
   "execution_count": 210,
   "metadata": {},
   "outputs": [],
   "source": [
    "class MixedTextDataLoader():\n",
    "    def __init__(self, src, x_fld, c_flds, y_fld):\n",
    "        self.src,self.x_fld,self.c_flds, self.y_fld = src,x_fld,c_flds, y_fld\n",
    "\n",
    "    def __len__(self): return len(self.src)-1\n",
    "\n",
    "    def __iter__(self):\n",
    "        it = iter(self.src)\n",
    "        for i in range(len(self)):\n",
    "            b = next(it)\n",
    "            # work-around: core.py does not handle list of lists for V and VV\n",
    "            ys = getattr(b, self.y_fld)\n",
    "            bs_it = len(ys)\n",
    "            cat_batch = torch.cat([getattr(b, f).view(bs_it, 1) for f in self.c_flds], 1)\n",
    "            yield getattr(b, self.x_fld), cat_batch, ys\n",
    "\n",
    "\n",
    "class MixedTextModel(BasicModel):\n",
    "    def get_layer_groups(self):\n",
    "        # defines how the differential learning rates would be applied to model groups\n",
    "        m=self.model\n",
    "        m_enc = m.rnn_encoder\n",
    "        return [m_enc.encoder, *zip(m_enc.rnns, m_enc.dropouths), (children(m.lins)+children(m.bns)+[m.outp])]\n",
    "\n",
    "class MixedTextData(ModelData):\n",
    "    def create_td(self, it): return TextDataLoader(it, self.text_fld, self.label_fld)\n",
    "\n",
    "    @classmethod\n",
    "    def from_splits(cls, path, splits, bs, text_name='text', target_name='label', cat_names=['category']):\n",
    "        text_fld = splits[0].fields[text_name]\n",
    "        target_fld = splits[0].fields[target_name]\n",
    "        if hasattr(target_fld, 'build_vocab') and target_fld.build_vocab == True: target_fld.build_vocab(splits[0])\n",
    "        iters = torchtext.data.BucketIterator.splits(splits, batch_size=bs)\n",
    "        trn_iter,val_iter,test_iter = iters[0],iters[1],None\n",
    "        test_dl = None\n",
    "        if len(iters) == 3:\n",
    "            test_iter = iters[2]\n",
    "            test_dl = MixedTextDataLoader(test_iter, text_name, cat_names, target_name)\n",
    "        trn_dl = MixedTextDataLoader(trn_iter, text_name, cat_names, target_name)\n",
    "        val_dl = MixedTextDataLoader(val_iter, text_name, cat_names, target_name)\n",
    "        obj = cls.from_dls(path, trn_dl, val_dl, test_dl)\n",
    "        obj.bs = bs\n",
    "        obj.pad_idx = text_fld.vocab.stoi[text_fld.pad_token]\n",
    "        obj.nt = len(text_fld.vocab)\n",
    "        target_len = (target_fld.vocab if hasattr(target_fld, 'vocab')\n",
    "                        else getattr(splits[0][0], target_name))\n",
    "        try: \n",
    "            obj.c = len(target_len)\n",
    "        except (TypeError):\n",
    "            obj.c = None\n",
    "            \n",
    "        return obj\n",
    "\n",
    "\n",
    "    def get_learner(self, opt_fn, text_emb_sz, enc_n_hid, enc_n_layers, enc_max_sl, enc_bptt, \n",
    "                    cat_emb_szs, cat_emb_drop, fc_layers, fc_drops, out_sz, y_range=None, use_bn=False, \n",
    "                    dropouth=0.3, dropouti=0.5, dropoute=0.1, wdrop=0.5, **kwargs):\n",
    "        \n",
    "        rnn_enc = MultiBatchRNN(enc_bptt, enc_max_sl, self.nt, text_emb_sz, enc_n_hid, \n",
    "                                enc_n_layers, pad_token=self.pad_idx, bidir=False, dropouth=dropouth, \n",
    "                                dropouti=dropouti, dropoute=dropoute, wdrop=wdrop)\n",
    "        \n",
    "        m = MixedTextInputModel(cat_emb_szs, 0, cat_emb_drop, out_sz, fc_layers, fc_drops, y_range, use_bn, text_emb_sz,\n",
    "                            rnn_enc)\n",
    "        \n",
    "        model = MixedTextModel(to_gpu(m))\n",
    "        return MixedTextLearner(self, model, opt_fn=opt_fn)"
   ]
  },
  {
   "cell_type": "code",
   "execution_count": 211,
   "metadata": {
    "collapsed": true
   },
   "outputs": [],
   "source": [
    "class MixedTextInputModel(nn.Module):\n",
    "    def __init__(self, emb_szs, n_cont, emb_drop, out_sz, szs, drops,\n",
    "                 y_range=None, use_bn=False, text_emb_sz=0, rnn_encoder=None):\n",
    "        super().__init__()\n",
    "        \n",
    "        self.embs = nn.ModuleList([nn.Embedding(c, s) for c,s in emb_szs])\n",
    "        for emb in self.embs: emb_init(emb)\n",
    "        n_emb = sum(e.embedding_dim for e in self.embs)\n",
    "        self.n_emb, self.n_cont=n_emb, n_cont\n",
    "        \n",
    "        self.text_emb_sz, self.rnn_encoder = text_emb_sz, rnn_encoder\n",
    "            \n",
    "        szs = [n_emb+n_cont+3*text_emb_sz] + szs\n",
    "        self.lins = nn.ModuleList([\n",
    "            nn.Linear(szs[i], szs[i+1]) for i in range(len(szs)-1)])\n",
    "        self.bns = nn.ModuleList([\n",
    "            nn.BatchNorm1d(sz) for sz in szs[1:]])\n",
    "        for o in self.lins: kaiming_normal(o.weight.data)\n",
    "        self.outp = nn.Linear(szs[-1], out_sz)\n",
    "        kaiming_normal(self.outp.weight.data)\n",
    "\n",
    "        self.emb_drop = nn.Dropout(emb_drop)\n",
    "        self.drops = nn.ModuleList([nn.Dropout(drop) for drop in drops])\n",
    "        self.bn = nn.BatchNorm1d(n_cont)\n",
    "        self.use_bn,self.y_range = use_bn,y_range\n",
    "\n",
    "    def pool(self, x, bs, is_max):\n",
    "        f = F.adaptive_max_pool1d if is_max else F.adaptive_avg_pool1d\n",
    "        return f(x.permute(1,2,0), (1,)).view(bs,-1)\n",
    "        \n",
    "    def forward(self, x_text, x_cat, x_cont=None):\n",
    "\n",
    "        if self.n_emb != 0:\n",
    "            x = [e(x_cat[:,i]) for i,e in enumerate(self.embs)]\n",
    "            x = torch.cat(x, 1)\n",
    "            x = self.emb_drop(x)\n",
    "        if self.n_cont != 0:\n",
    "            x2 = self.bn(x_cont)\n",
    "            x = torch.cat([x, x2], 1) if self.n_emb != 0 else x2\n",
    "        \n",
    "        if self.rnn_encoder:\n",
    "            enc_raw_outputs, enc_outputs = self.rnn_encoder(x_text)\n",
    "            enc_last_layer = enc_outputs[-1]\n",
    "            sl,bs,_ = enc_last_layer.size()\n",
    "            avgpool = self.pool(enc_last_layer, bs, False)\n",
    "            mxpool = self.pool(enc_last_layer, bs, True)\n",
    "            x3 = torch.cat([enc_last_layer[-1], mxpool, avgpool], 1)\n",
    "            x = torch.cat([x, x3], 1)\n",
    "            \n",
    "        for l,d,b in zip(self.lins, self.drops, self.bns):\n",
    "            x = F.relu(l(x))\n",
    "            if self.use_bn: x = b(x)\n",
    "            x = d(x)\n",
    "        x = self.outp(x)\n",
    "        if self.y_range:\n",
    "            x = F.sigmoid(x)\n",
    "            x = x*(self.y_range[1] - self.y_range[0])\n",
    "            x = x+self.y_range[0]\n",
    "        \n",
    "        # encoder outputs are needed by the regularization function\n",
    "        return x, enc_raw_outputs, enc_outputs\n",
    "\n",
    "    def reset(self):\n",
    "        for c in self.children():\n",
    "            if hasattr(c, 'reset'): c.reset()\n",
    "    \n",
    "class StructuredLearner(Learner):\n",
    "    def __init__(self, data, models, **kwargs):\n",
    "        super().__init__(data, models, **kwargs)\n",
    "        self.crit = F.mse_loss\n",
    "        \n",
    "class MixedTextLearner(Learner):\n",
    "    def __init__(self, data, models, **kwargs):\n",
    "        super().__init__(data, models, **kwargs)\n",
    "        self.crit = F.mse_loss\n",
    "        # self.crit = F.cross_entropy\n",
    "\n",
    "    def save_encoder(self, name): save_model(self.model.rnn_encoder, self.get_model_path(name))\n",
    "    def load_encoder(self, name): load_model(self.model.rnn_encoder, self.get_model_path(name))"
   ]
  },
  {
   "cell_type": "code",
   "execution_count": 212,
   "metadata": {
    "collapsed": true
   },
   "outputs": [],
   "source": [
    "bs = 2048"
   ]
  },
  {
   "cell_type": "code",
   "execution_count": 213,
   "metadata": {},
   "outputs": [],
   "source": [
    "md = MixedTextData.from_splits(PATH, splits, bs, text_name=text_vars[0], target_name=dep, cat_names=cat_vars)"
   ]
  },
  {
   "cell_type": "code",
   "execution_count": 214,
   "metadata": {},
   "outputs": [],
   "source": [
    "*xbs, yb = next(iter(md.trn_dl))"
   ]
  },
  {
   "cell_type": "code",
   "execution_count": 215,
   "metadata": {
    "scrolled": true
   },
   "outputs": [
    {
     "data": {
      "text/html": [
       "<div>\n",
       "<style>\n",
       "    .dataframe thead tr:only-child th {\n",
       "        text-align: right;\n",
       "    }\n",
       "\n",
       "    .dataframe thead th {\n",
       "        text-align: left;\n",
       "    }\n",
       "\n",
       "    .dataframe tbody tr th {\n",
       "        vertical-align: top;\n",
       "    }\n",
       "</style>\n",
       "<table border=\"1\" class=\"dataframe\">\n",
       "  <thead>\n",
       "    <tr style=\"text-align: right;\">\n",
       "      <th></th>\n",
       "      <th>0</th>\n",
       "      <th>1</th>\n",
       "      <th>2</th>\n",
       "      <th>3</th>\n",
       "      <th>4</th>\n",
       "      <th>5</th>\n",
       "      <th>6</th>\n",
       "      <th>7</th>\n",
       "      <th>8</th>\n",
       "      <th>9</th>\n",
       "      <th>...</th>\n",
       "      <th>2038</th>\n",
       "      <th>2039</th>\n",
       "      <th>2040</th>\n",
       "      <th>2041</th>\n",
       "      <th>2042</th>\n",
       "      <th>2043</th>\n",
       "      <th>2044</th>\n",
       "      <th>2045</th>\n",
       "      <th>2046</th>\n",
       "      <th>2047</th>\n",
       "    </tr>\n",
       "  </thead>\n",
       "  <tbody>\n",
       "    <tr>\n",
       "      <th>0</th>\n",
       "      <td>&lt;category&gt;</td>\n",
       "      <td>&lt;category&gt;</td>\n",
       "      <td>&lt;category&gt;</td>\n",
       "      <td>&lt;category&gt;</td>\n",
       "      <td>&lt;category&gt;</td>\n",
       "      <td>&lt;category&gt;</td>\n",
       "      <td>&lt;category&gt;</td>\n",
       "      <td>&lt;category&gt;</td>\n",
       "      <td>&lt;category&gt;</td>\n",
       "      <td>&lt;category&gt;</td>\n",
       "      <td>...</td>\n",
       "      <td>&lt;category&gt;</td>\n",
       "      <td>&lt;category&gt;</td>\n",
       "      <td>&lt;category&gt;</td>\n",
       "      <td>&lt;category&gt;</td>\n",
       "      <td>&lt;category&gt;</td>\n",
       "      <td>&lt;category&gt;</td>\n",
       "      <td>&lt;category&gt;</td>\n",
       "      <td>&lt;category&gt;</td>\n",
       "      <td>&lt;category&gt;</td>\n",
       "      <td>&lt;category&gt;</td>\n",
       "    </tr>\n",
       "    <tr>\n",
       "      <th>1</th>\n",
       "      <td>women</td>\n",
       "      <td>women</td>\n",
       "      <td>women</td>\n",
       "      <td>women</td>\n",
       "      <td>women</td>\n",
       "      <td>women</td>\n",
       "      <td>women</td>\n",
       "      <td>women</td>\n",
       "      <td>women</td>\n",
       "      <td>women</td>\n",
       "      <td>...</td>\n",
       "      <td>women</td>\n",
       "      <td>women</td>\n",
       "      <td>women</td>\n",
       "      <td>women</td>\n",
       "      <td>women</td>\n",
       "      <td>women</td>\n",
       "      <td>women</td>\n",
       "      <td>women</td>\n",
       "      <td>women</td>\n",
       "      <td>women</td>\n",
       "    </tr>\n",
       "    <tr>\n",
       "      <th>2</th>\n",
       "      <td>tops&amp;blouses</td>\n",
       "      <td>tops&amp;blouses</td>\n",
       "      <td>tops&amp;blouses</td>\n",
       "      <td>tops&amp;blouses</td>\n",
       "      <td>tops&amp;blouses</td>\n",
       "      <td>tops&amp;blouses</td>\n",
       "      <td>tops&amp;blouses</td>\n",
       "      <td>tops&amp;blouses</td>\n",
       "      <td>tops&amp;blouses</td>\n",
       "      <td>tops&amp;blouses</td>\n",
       "      <td>...</td>\n",
       "      <td>tops&amp;blouses</td>\n",
       "      <td>tops&amp;blouses</td>\n",
       "      <td>tops&amp;blouses</td>\n",
       "      <td>tops&amp;blouses</td>\n",
       "      <td>tops&amp;blouses</td>\n",
       "      <td>tops&amp;blouses</td>\n",
       "      <td>tops&amp;blouses</td>\n",
       "      <td>tops&amp;blouses</td>\n",
       "      <td>tops&amp;blouses</td>\n",
       "      <td>tops&amp;blouses</td>\n",
       "    </tr>\n",
       "    <tr>\n",
       "      <th>3</th>\n",
       "      <td>t</td>\n",
       "      <td>t</td>\n",
       "      <td>t</td>\n",
       "      <td>t</td>\n",
       "      <td>t</td>\n",
       "      <td>t</td>\n",
       "      <td>t</td>\n",
       "      <td>t</td>\n",
       "      <td>t</td>\n",
       "      <td>t</td>\n",
       "      <td>...</td>\n",
       "      <td>t</td>\n",
       "      <td>t</td>\n",
       "      <td>t</td>\n",
       "      <td>t</td>\n",
       "      <td>t</td>\n",
       "      <td>t</td>\n",
       "      <td>t</td>\n",
       "      <td>t</td>\n",
       "      <td>t</td>\n",
       "      <td>t</td>\n",
       "    </tr>\n",
       "    <tr>\n",
       "      <th>4</th>\n",
       "      <td>-</td>\n",
       "      <td>-</td>\n",
       "      <td>-</td>\n",
       "      <td>-</td>\n",
       "      <td>-</td>\n",
       "      <td>-</td>\n",
       "      <td>-</td>\n",
       "      <td>-</td>\n",
       "      <td>-</td>\n",
       "      <td>-</td>\n",
       "      <td>...</td>\n",
       "      <td>-</td>\n",
       "      <td>-</td>\n",
       "      <td>-</td>\n",
       "      <td>-</td>\n",
       "      <td>-</td>\n",
       "      <td>-</td>\n",
       "      <td>-</td>\n",
       "      <td>-</td>\n",
       "      <td>-</td>\n",
       "      <td>-</td>\n",
       "    </tr>\n",
       "    <tr>\n",
       "      <th>5</th>\n",
       "      <td>shirts</td>\n",
       "      <td>shirts</td>\n",
       "      <td>shirts</td>\n",
       "      <td>shirts</td>\n",
       "      <td>shirts</td>\n",
       "      <td>shirts</td>\n",
       "      <td>shirts</td>\n",
       "      <td>shirts</td>\n",
       "      <td>shirts</td>\n",
       "      <td>shirts</td>\n",
       "      <td>...</td>\n",
       "      <td>shirts</td>\n",
       "      <td>shirts</td>\n",
       "      <td>shirts</td>\n",
       "      <td>shirts</td>\n",
       "      <td>shirts</td>\n",
       "      <td>shirts</td>\n",
       "      <td>shirts</td>\n",
       "      <td>shirts</td>\n",
       "      <td>shirts</td>\n",
       "      <td>shirts</td>\n",
       "    </tr>\n",
       "    <tr>\n",
       "      <th>6</th>\n",
       "      <td>&lt;name&gt;</td>\n",
       "      <td>&lt;name&gt;</td>\n",
       "      <td>&lt;name&gt;</td>\n",
       "      <td>&lt;name&gt;</td>\n",
       "      <td>&lt;name&gt;</td>\n",
       "      <td>&lt;name&gt;</td>\n",
       "      <td>&lt;name&gt;</td>\n",
       "      <td>&lt;name&gt;</td>\n",
       "      <td>&lt;name&gt;</td>\n",
       "      <td>&lt;name&gt;</td>\n",
       "      <td>...</td>\n",
       "      <td>&lt;name&gt;</td>\n",
       "      <td>&lt;name&gt;</td>\n",
       "      <td>&lt;name&gt;</td>\n",
       "      <td>&lt;name&gt;</td>\n",
       "      <td>&lt;name&gt;</td>\n",
       "      <td>&lt;name&gt;</td>\n",
       "      <td>&lt;name&gt;</td>\n",
       "      <td>&lt;name&gt;</td>\n",
       "      <td>&lt;name&gt;</td>\n",
       "      <td>&lt;name&gt;</td>\n",
       "    </tr>\n",
       "    <tr>\n",
       "      <th>7</th>\n",
       "      <td>freeship</td>\n",
       "      <td>freeship</td>\n",
       "      <td>freeship</td>\n",
       "      <td>freeship</td>\n",
       "      <td>freeship</td>\n",
       "      <td>freeship</td>\n",
       "      <td>freeship</td>\n",
       "      <td>freeship</td>\n",
       "      <td>freeship</td>\n",
       "      <td>freeship</td>\n",
       "      <td>...</td>\n",
       "      <td>freeship</td>\n",
       "      <td>freeship</td>\n",
       "      <td>freeship</td>\n",
       "      <td>freeship</td>\n",
       "      <td>freeship</td>\n",
       "      <td>freeship</td>\n",
       "      <td>freeship</td>\n",
       "      <td>freeship</td>\n",
       "      <td>freeship</td>\n",
       "      <td>freeship</td>\n",
       "    </tr>\n",
       "    <tr>\n",
       "      <th>8</th>\n",
       "      <td>2</td>\n",
       "      <td>2</td>\n",
       "      <td>2</td>\n",
       "      <td>2</td>\n",
       "      <td>2</td>\n",
       "      <td>2</td>\n",
       "      <td>2</td>\n",
       "      <td>2</td>\n",
       "      <td>2</td>\n",
       "      <td>2</td>\n",
       "      <td>...</td>\n",
       "      <td>2</td>\n",
       "      <td>2</td>\n",
       "      <td>2</td>\n",
       "      <td>2</td>\n",
       "      <td>2</td>\n",
       "      <td>2</td>\n",
       "      <td>2</td>\n",
       "      <td>2</td>\n",
       "      <td>2</td>\n",
       "      <td>2</td>\n",
       "    </tr>\n",
       "    <tr>\n",
       "      <th>9</th>\n",
       "      <td>floral</td>\n",
       "      <td>floral</td>\n",
       "      <td>floral</td>\n",
       "      <td>floral</td>\n",
       "      <td>floral</td>\n",
       "      <td>floral</td>\n",
       "      <td>floral</td>\n",
       "      <td>floral</td>\n",
       "      <td>floral</td>\n",
       "      <td>floral</td>\n",
       "      <td>...</td>\n",
       "      <td>floral</td>\n",
       "      <td>floral</td>\n",
       "      <td>floral</td>\n",
       "      <td>floral</td>\n",
       "      <td>floral</td>\n",
       "      <td>floral</td>\n",
       "      <td>floral</td>\n",
       "      <td>floral</td>\n",
       "      <td>floral</td>\n",
       "      <td>floral</td>\n",
       "    </tr>\n",
       "    <tr>\n",
       "      <th>10</th>\n",
       "      <td>scrub</td>\n",
       "      <td>scrub</td>\n",
       "      <td>scrub</td>\n",
       "      <td>scrub</td>\n",
       "      <td>scrub</td>\n",
       "      <td>scrub</td>\n",
       "      <td>scrub</td>\n",
       "      <td>scrub</td>\n",
       "      <td>scrub</td>\n",
       "      <td>scrub</td>\n",
       "      <td>...</td>\n",
       "      <td>scrub</td>\n",
       "      <td>scrub</td>\n",
       "      <td>scrub</td>\n",
       "      <td>scrub</td>\n",
       "      <td>scrub</td>\n",
       "      <td>scrub</td>\n",
       "      <td>scrub</td>\n",
       "      <td>scrub</td>\n",
       "      <td>scrub</td>\n",
       "      <td>scrub</td>\n",
       "    </tr>\n",
       "    <tr>\n",
       "      <th>11</th>\n",
       "      <td>tops</td>\n",
       "      <td>tops</td>\n",
       "      <td>tops</td>\n",
       "      <td>tops</td>\n",
       "      <td>tops</td>\n",
       "      <td>tops</td>\n",
       "      <td>tops</td>\n",
       "      <td>tops</td>\n",
       "      <td>tops</td>\n",
       "      <td>tops</td>\n",
       "      <td>...</td>\n",
       "      <td>tops</td>\n",
       "      <td>tops</td>\n",
       "      <td>tops</td>\n",
       "      <td>tops</td>\n",
       "      <td>tops</td>\n",
       "      <td>tops</td>\n",
       "      <td>tops</td>\n",
       "      <td>tops</td>\n",
       "      <td>tops</td>\n",
       "      <td>tops</td>\n",
       "    </tr>\n",
       "    <tr>\n",
       "      <th>12</th>\n",
       "      <td>,</td>\n",
       "      <td>,</td>\n",
       "      <td>,</td>\n",
       "      <td>,</td>\n",
       "      <td>,</td>\n",
       "      <td>,</td>\n",
       "      <td>,</td>\n",
       "      <td>,</td>\n",
       "      <td>,</td>\n",
       "      <td>,</td>\n",
       "      <td>...</td>\n",
       "      <td>,</td>\n",
       "      <td>,</td>\n",
       "      <td>,</td>\n",
       "      <td>,</td>\n",
       "      <td>,</td>\n",
       "      <td>,</td>\n",
       "      <td>,</td>\n",
       "      <td>,</td>\n",
       "      <td>,</td>\n",
       "      <td>,</td>\n",
       "    </tr>\n",
       "    <tr>\n",
       "      <th>13</th>\n",
       "      <td>medium</td>\n",
       "      <td>medium</td>\n",
       "      <td>medium</td>\n",
       "      <td>medium</td>\n",
       "      <td>medium</td>\n",
       "      <td>medium</td>\n",
       "      <td>medium</td>\n",
       "      <td>medium</td>\n",
       "      <td>medium</td>\n",
       "      <td>medium</td>\n",
       "      <td>...</td>\n",
       "      <td>medium</td>\n",
       "      <td>medium</td>\n",
       "      <td>medium</td>\n",
       "      <td>medium</td>\n",
       "      <td>medium</td>\n",
       "      <td>medium</td>\n",
       "      <td>medium</td>\n",
       "      <td>medium</td>\n",
       "      <td>medium</td>\n",
       "      <td>medium</td>\n",
       "    </tr>\n",
       "    <tr>\n",
       "      <th>14</th>\n",
       "      <td>.</td>\n",
       "      <td>.</td>\n",
       "      <td>.</td>\n",
       "      <td>.</td>\n",
       "      <td>.</td>\n",
       "      <td>.</td>\n",
       "      <td>.</td>\n",
       "      <td>.</td>\n",
       "      <td>.</td>\n",
       "      <td>.</td>\n",
       "      <td>...</td>\n",
       "      <td>.</td>\n",
       "      <td>.</td>\n",
       "      <td>.</td>\n",
       "      <td>.</td>\n",
       "      <td>.</td>\n",
       "      <td>.</td>\n",
       "      <td>.</td>\n",
       "      <td>.</td>\n",
       "      <td>.</td>\n",
       "      <td>.</td>\n",
       "    </tr>\n",
       "    <tr>\n",
       "      <th>15</th>\n",
       "      <td>&lt;description&gt;</td>\n",
       "      <td>&lt;description&gt;</td>\n",
       "      <td>&lt;description&gt;</td>\n",
       "      <td>&lt;description&gt;</td>\n",
       "      <td>&lt;description&gt;</td>\n",
       "      <td>&lt;description&gt;</td>\n",
       "      <td>&lt;description&gt;</td>\n",
       "      <td>&lt;description&gt;</td>\n",
       "      <td>&lt;description&gt;</td>\n",
       "      <td>&lt;description&gt;</td>\n",
       "      <td>...</td>\n",
       "      <td>&lt;description&gt;</td>\n",
       "      <td>&lt;description&gt;</td>\n",
       "      <td>&lt;description&gt;</td>\n",
       "      <td>&lt;description&gt;</td>\n",
       "      <td>&lt;description&gt;</td>\n",
       "      <td>&lt;description&gt;</td>\n",
       "      <td>&lt;description&gt;</td>\n",
       "      <td>&lt;description&gt;</td>\n",
       "      <td>&lt;description&gt;</td>\n",
       "      <td>&lt;description&gt;</td>\n",
       "    </tr>\n",
       "    <tr>\n",
       "      <th>16</th>\n",
       "      <td>2</td>\n",
       "      <td>2</td>\n",
       "      <td>2</td>\n",
       "      <td>2</td>\n",
       "      <td>2</td>\n",
       "      <td>2</td>\n",
       "      <td>2</td>\n",
       "      <td>2</td>\n",
       "      <td>2</td>\n",
       "      <td>2</td>\n",
       "      <td>...</td>\n",
       "      <td>2</td>\n",
       "      <td>2</td>\n",
       "      <td>2</td>\n",
       "      <td>2</td>\n",
       "      <td>2</td>\n",
       "      <td>2</td>\n",
       "      <td>2</td>\n",
       "      <td>2</td>\n",
       "      <td>2</td>\n",
       "      <td>2</td>\n",
       "    </tr>\n",
       "    <tr>\n",
       "      <th>17</th>\n",
       "      <td>floral</td>\n",
       "      <td>floral</td>\n",
       "      <td>floral</td>\n",
       "      <td>floral</td>\n",
       "      <td>floral</td>\n",
       "      <td>floral</td>\n",
       "      <td>floral</td>\n",
       "      <td>floral</td>\n",
       "      <td>floral</td>\n",
       "      <td>floral</td>\n",
       "      <td>...</td>\n",
       "      <td>floral</td>\n",
       "      <td>floral</td>\n",
       "      <td>floral</td>\n",
       "      <td>floral</td>\n",
       "      <td>floral</td>\n",
       "      <td>floral</td>\n",
       "      <td>floral</td>\n",
       "      <td>floral</td>\n",
       "      <td>floral</td>\n",
       "      <td>floral</td>\n",
       "    </tr>\n",
       "    <tr>\n",
       "      <th>18</th>\n",
       "      <td>scrub</td>\n",
       "      <td>scrub</td>\n",
       "      <td>scrub</td>\n",
       "      <td>scrub</td>\n",
       "      <td>scrub</td>\n",
       "      <td>scrub</td>\n",
       "      <td>scrub</td>\n",
       "      <td>scrub</td>\n",
       "      <td>scrub</td>\n",
       "      <td>scrub</td>\n",
       "      <td>...</td>\n",
       "      <td>scrub</td>\n",
       "      <td>scrub</td>\n",
       "      <td>scrub</td>\n",
       "      <td>scrub</td>\n",
       "      <td>scrub</td>\n",
       "      <td>scrub</td>\n",
       "      <td>scrub</td>\n",
       "      <td>scrub</td>\n",
       "      <td>scrub</td>\n",
       "      <td>scrub</td>\n",
       "    </tr>\n",
       "    <tr>\n",
       "      <th>19</th>\n",
       "      <td>tops</td>\n",
       "      <td>tops</td>\n",
       "      <td>tops</td>\n",
       "      <td>tops</td>\n",
       "      <td>tops</td>\n",
       "      <td>tops</td>\n",
       "      <td>tops</td>\n",
       "      <td>tops</td>\n",
       "      <td>tops</td>\n",
       "      <td>tops</td>\n",
       "      <td>...</td>\n",
       "      <td>tops</td>\n",
       "      <td>tops</td>\n",
       "      <td>tops</td>\n",
       "      <td>tops</td>\n",
       "      <td>tops</td>\n",
       "      <td>tops</td>\n",
       "      <td>tops</td>\n",
       "      <td>tops</td>\n",
       "      <td>tops</td>\n",
       "      <td>tops</td>\n",
       "    </tr>\n",
       "    <tr>\n",
       "      <th>20</th>\n",
       "      <td>.</td>\n",
       "      <td>.</td>\n",
       "      <td>.</td>\n",
       "      <td>.</td>\n",
       "      <td>.</td>\n",
       "      <td>.</td>\n",
       "      <td>.</td>\n",
       "      <td>.</td>\n",
       "      <td>.</td>\n",
       "      <td>.</td>\n",
       "      <td>...</td>\n",
       "      <td>.</td>\n",
       "      <td>.</td>\n",
       "      <td>.</td>\n",
       "      <td>.</td>\n",
       "      <td>.</td>\n",
       "      <td>.</td>\n",
       "      <td>.</td>\n",
       "      <td>.</td>\n",
       "      <td>.</td>\n",
       "      <td>.</td>\n",
       "    </tr>\n",
       "    <tr>\n",
       "      <th>21</th>\n",
       "      <td>worn</td>\n",
       "      <td>worn</td>\n",
       "      <td>worn</td>\n",
       "      <td>worn</td>\n",
       "      <td>worn</td>\n",
       "      <td>worn</td>\n",
       "      <td>worn</td>\n",
       "      <td>worn</td>\n",
       "      <td>worn</td>\n",
       "      <td>worn</td>\n",
       "      <td>...</td>\n",
       "      <td>worn</td>\n",
       "      <td>worn</td>\n",
       "      <td>worn</td>\n",
       "      <td>worn</td>\n",
       "      <td>worn</td>\n",
       "      <td>worn</td>\n",
       "      <td>worn</td>\n",
       "      <td>worn</td>\n",
       "      <td>worn</td>\n",
       "      <td>worn</td>\n",
       "    </tr>\n",
       "    <tr>\n",
       "      <th>22</th>\n",
       "      <td>less</td>\n",
       "      <td>less</td>\n",
       "      <td>less</td>\n",
       "      <td>less</td>\n",
       "      <td>less</td>\n",
       "      <td>less</td>\n",
       "      <td>less</td>\n",
       "      <td>less</td>\n",
       "      <td>less</td>\n",
       "      <td>less</td>\n",
       "      <td>...</td>\n",
       "      <td>less</td>\n",
       "      <td>less</td>\n",
       "      <td>less</td>\n",
       "      <td>less</td>\n",
       "      <td>less</td>\n",
       "      <td>less</td>\n",
       "      <td>less</td>\n",
       "      <td>less</td>\n",
       "      <td>less</td>\n",
       "      <td>less</td>\n",
       "    </tr>\n",
       "    <tr>\n",
       "      <th>23</th>\n",
       "      <td>than</td>\n",
       "      <td>than</td>\n",
       "      <td>than</td>\n",
       "      <td>than</td>\n",
       "      <td>than</td>\n",
       "      <td>than</td>\n",
       "      <td>than</td>\n",
       "      <td>than</td>\n",
       "      <td>than</td>\n",
       "      <td>than</td>\n",
       "      <td>...</td>\n",
       "      <td>than</td>\n",
       "      <td>than</td>\n",
       "      <td>than</td>\n",
       "      <td>than</td>\n",
       "      <td>than</td>\n",
       "      <td>than</td>\n",
       "      <td>than</td>\n",
       "      <td>than</td>\n",
       "      <td>than</td>\n",
       "      <td>than</td>\n",
       "    </tr>\n",
       "    <tr>\n",
       "      <th>24</th>\n",
       "      <td>5</td>\n",
       "      <td>5</td>\n",
       "      <td>5</td>\n",
       "      <td>5</td>\n",
       "      <td>5</td>\n",
       "      <td>5</td>\n",
       "      <td>5</td>\n",
       "      <td>5</td>\n",
       "      <td>5</td>\n",
       "      <td>5</td>\n",
       "      <td>...</td>\n",
       "      <td>5</td>\n",
       "      <td>5</td>\n",
       "      <td>5</td>\n",
       "      <td>5</td>\n",
       "      <td>5</td>\n",
       "      <td>5</td>\n",
       "      <td>5</td>\n",
       "      <td>5</td>\n",
       "      <td>5</td>\n",
       "      <td>5</td>\n",
       "    </tr>\n",
       "    <tr>\n",
       "      <th>25</th>\n",
       "      <td>times</td>\n",
       "      <td>times</td>\n",
       "      <td>times</td>\n",
       "      <td>times</td>\n",
       "      <td>times</td>\n",
       "      <td>times</td>\n",
       "      <td>times</td>\n",
       "      <td>times</td>\n",
       "      <td>times</td>\n",
       "      <td>times</td>\n",
       "      <td>...</td>\n",
       "      <td>times</td>\n",
       "      <td>times</td>\n",
       "      <td>times</td>\n",
       "      <td>times</td>\n",
       "      <td>times</td>\n",
       "      <td>times</td>\n",
       "      <td>times</td>\n",
       "      <td>times</td>\n",
       "      <td>times</td>\n",
       "      <td>times</td>\n",
       "    </tr>\n",
       "    <tr>\n",
       "      <th>26</th>\n",
       "      <td>each</td>\n",
       "      <td>each</td>\n",
       "      <td>each</td>\n",
       "      <td>each</td>\n",
       "      <td>each</td>\n",
       "      <td>each</td>\n",
       "      <td>each</td>\n",
       "      <td>each</td>\n",
       "      <td>each</td>\n",
       "      <td>each</td>\n",
       "      <td>...</td>\n",
       "      <td>each</td>\n",
       "      <td>each</td>\n",
       "      <td>each</td>\n",
       "      <td>each</td>\n",
       "      <td>each</td>\n",
       "      <td>each</td>\n",
       "      <td>each</td>\n",
       "      <td>each</td>\n",
       "      <td>each</td>\n",
       "      <td>each</td>\n",
       "    </tr>\n",
       "    <tr>\n",
       "      <th>27</th>\n",
       "      <td>.</td>\n",
       "      <td>.</td>\n",
       "      <td>.</td>\n",
       "      <td>.</td>\n",
       "      <td>.</td>\n",
       "      <td>.</td>\n",
       "      <td>.</td>\n",
       "      <td>.</td>\n",
       "      <td>.</td>\n",
       "      <td>.</td>\n",
       "      <td>...</td>\n",
       "      <td>.</td>\n",
       "      <td>.</td>\n",
       "      <td>.</td>\n",
       "      <td>.</td>\n",
       "      <td>.</td>\n",
       "      <td>.</td>\n",
       "      <td>.</td>\n",
       "      <td>.</td>\n",
       "      <td>.</td>\n",
       "      <td>.</td>\n",
       "    </tr>\n",
       "    <tr>\n",
       "      <th>28</th>\n",
       "      <td>brown</td>\n",
       "      <td>brown</td>\n",
       "      <td>brown</td>\n",
       "      <td>brown</td>\n",
       "      <td>brown</td>\n",
       "      <td>brown</td>\n",
       "      <td>brown</td>\n",
       "      <td>brown</td>\n",
       "      <td>brown</td>\n",
       "      <td>brown</td>\n",
       "      <td>...</td>\n",
       "      <td>brown</td>\n",
       "      <td>brown</td>\n",
       "      <td>brown</td>\n",
       "      <td>brown</td>\n",
       "      <td>brown</td>\n",
       "      <td>brown</td>\n",
       "      <td>brown</td>\n",
       "      <td>brown</td>\n",
       "      <td>brown</td>\n",
       "      <td>brown</td>\n",
       "    </tr>\n",
       "    <tr>\n",
       "      <th>29</th>\n",
       "      <td>has</td>\n",
       "      <td>has</td>\n",
       "      <td>has</td>\n",
       "      <td>has</td>\n",
       "      <td>has</td>\n",
       "      <td>has</td>\n",
       "      <td>has</td>\n",
       "      <td>has</td>\n",
       "      <td>has</td>\n",
       "      <td>has</td>\n",
       "      <td>...</td>\n",
       "      <td>has</td>\n",
       "      <td>has</td>\n",
       "      <td>has</td>\n",
       "      <td>has</td>\n",
       "      <td>has</td>\n",
       "      <td>has</td>\n",
       "      <td>has</td>\n",
       "      <td>has</td>\n",
       "      <td>has</td>\n",
       "      <td>has</td>\n",
       "    </tr>\n",
       "    <tr>\n",
       "      <th>30</th>\n",
       "      <td>a</td>\n",
       "      <td>a</td>\n",
       "      <td>a</td>\n",
       "      <td>a</td>\n",
       "      <td>a</td>\n",
       "      <td>a</td>\n",
       "      <td>a</td>\n",
       "      <td>a</td>\n",
       "      <td>a</td>\n",
       "      <td>a</td>\n",
       "      <td>...</td>\n",
       "      <td>a</td>\n",
       "      <td>a</td>\n",
       "      <td>a</td>\n",
       "      <td>a</td>\n",
       "      <td>a</td>\n",
       "      <td>a</td>\n",
       "      <td>a</td>\n",
       "      <td>a</td>\n",
       "      <td>a</td>\n",
       "      <td>a</td>\n",
       "    </tr>\n",
       "    <tr>\n",
       "      <th>31</th>\n",
       "      <td>belt</td>\n",
       "      <td>belt</td>\n",
       "      <td>belt</td>\n",
       "      <td>belt</td>\n",
       "      <td>belt</td>\n",
       "      <td>belt</td>\n",
       "      <td>belt</td>\n",
       "      <td>belt</td>\n",
       "      <td>belt</td>\n",
       "      <td>belt</td>\n",
       "      <td>...</td>\n",
       "      <td>belt</td>\n",
       "      <td>belt</td>\n",
       "      <td>belt</td>\n",
       "      <td>belt</td>\n",
       "      <td>belt</td>\n",
       "      <td>belt</td>\n",
       "      <td>belt</td>\n",
       "      <td>belt</td>\n",
       "      <td>belt</td>\n",
       "      <td>belt</td>\n",
       "    </tr>\n",
       "    <tr>\n",
       "      <th>32</th>\n",
       "      <td>tie</td>\n",
       "      <td>tie</td>\n",
       "      <td>tie</td>\n",
       "      <td>tie</td>\n",
       "      <td>tie</td>\n",
       "      <td>tie</td>\n",
       "      <td>tie</td>\n",
       "      <td>tie</td>\n",
       "      <td>tie</td>\n",
       "      <td>tie</td>\n",
       "      <td>...</td>\n",
       "      <td>tie</td>\n",
       "      <td>tie</td>\n",
       "      <td>tie</td>\n",
       "      <td>tie</td>\n",
       "      <td>tie</td>\n",
       "      <td>tie</td>\n",
       "      <td>tie</td>\n",
       "      <td>tie</td>\n",
       "      <td>tie</td>\n",
       "      <td>tie</td>\n",
       "    </tr>\n",
       "    <tr>\n",
       "      <th>33</th>\n",
       "      <td>.</td>\n",
       "      <td>.</td>\n",
       "      <td>.</td>\n",
       "      <td>.</td>\n",
       "      <td>.</td>\n",
       "      <td>.</td>\n",
       "      <td>.</td>\n",
       "      <td>.</td>\n",
       "      <td>.</td>\n",
       "      <td>.</td>\n",
       "      <td>...</td>\n",
       "      <td>.</td>\n",
       "      <td>.</td>\n",
       "      <td>.</td>\n",
       "      <td>.</td>\n",
       "      <td>.</td>\n",
       "      <td>.</td>\n",
       "      <td>.</td>\n",
       "      <td>.</td>\n",
       "      <td>.</td>\n",
       "      <td>.</td>\n",
       "    </tr>\n",
       "  </tbody>\n",
       "</table>\n",
       "<p>34 rows × 2048 columns</p>\n",
       "</div>"
      ],
      "text/plain": [
       "             0              1              2              3              4     \\\n",
       "0      <category>     <category>     <category>     <category>     <category>   \n",
       "1           women          women          women          women          women   \n",
       "2    tops&blouses   tops&blouses   tops&blouses   tops&blouses   tops&blouses   \n",
       "3               t              t              t              t              t   \n",
       "4               -              -              -              -              -   \n",
       "5          shirts         shirts         shirts         shirts         shirts   \n",
       "6          <name>         <name>         <name>         <name>         <name>   \n",
       "7        freeship       freeship       freeship       freeship       freeship   \n",
       "8               2              2              2              2              2   \n",
       "9          floral         floral         floral         floral         floral   \n",
       "10          scrub          scrub          scrub          scrub          scrub   \n",
       "11           tops           tops           tops           tops           tops   \n",
       "12              ,              ,              ,              ,              ,   \n",
       "13         medium         medium         medium         medium         medium   \n",
       "14              .              .              .              .              .   \n",
       "15  <description>  <description>  <description>  <description>  <description>   \n",
       "16              2              2              2              2              2   \n",
       "17         floral         floral         floral         floral         floral   \n",
       "18          scrub          scrub          scrub          scrub          scrub   \n",
       "19           tops           tops           tops           tops           tops   \n",
       "20              .              .              .              .              .   \n",
       "21           worn           worn           worn           worn           worn   \n",
       "22           less           less           less           less           less   \n",
       "23           than           than           than           than           than   \n",
       "24              5              5              5              5              5   \n",
       "25          times          times          times          times          times   \n",
       "26           each           each           each           each           each   \n",
       "27              .              .              .              .              .   \n",
       "28          brown          brown          brown          brown          brown   \n",
       "29            has            has            has            has            has   \n",
       "30              a              a              a              a              a   \n",
       "31           belt           belt           belt           belt           belt   \n",
       "32            tie            tie            tie            tie            tie   \n",
       "33              .              .              .              .              .   \n",
       "\n",
       "             5              6              7              8              9     \\\n",
       "0      <category>     <category>     <category>     <category>     <category>   \n",
       "1           women          women          women          women          women   \n",
       "2    tops&blouses   tops&blouses   tops&blouses   tops&blouses   tops&blouses   \n",
       "3               t              t              t              t              t   \n",
       "4               -              -              -              -              -   \n",
       "5          shirts         shirts         shirts         shirts         shirts   \n",
       "6          <name>         <name>         <name>         <name>         <name>   \n",
       "7        freeship       freeship       freeship       freeship       freeship   \n",
       "8               2              2              2              2              2   \n",
       "9          floral         floral         floral         floral         floral   \n",
       "10          scrub          scrub          scrub          scrub          scrub   \n",
       "11           tops           tops           tops           tops           tops   \n",
       "12              ,              ,              ,              ,              ,   \n",
       "13         medium         medium         medium         medium         medium   \n",
       "14              .              .              .              .              .   \n",
       "15  <description>  <description>  <description>  <description>  <description>   \n",
       "16              2              2              2              2              2   \n",
       "17         floral         floral         floral         floral         floral   \n",
       "18          scrub          scrub          scrub          scrub          scrub   \n",
       "19           tops           tops           tops           tops           tops   \n",
       "20              .              .              .              .              .   \n",
       "21           worn           worn           worn           worn           worn   \n",
       "22           less           less           less           less           less   \n",
       "23           than           than           than           than           than   \n",
       "24              5              5              5              5              5   \n",
       "25          times          times          times          times          times   \n",
       "26           each           each           each           each           each   \n",
       "27              .              .              .              .              .   \n",
       "28          brown          brown          brown          brown          brown   \n",
       "29            has            has            has            has            has   \n",
       "30              a              a              a              a              a   \n",
       "31           belt           belt           belt           belt           belt   \n",
       "32            tie            tie            tie            tie            tie   \n",
       "33              .              .              .              .              .   \n",
       "\n",
       "        ...                 2038           2039           2040           2041  \\\n",
       "0       ...           <category>     <category>     <category>     <category>   \n",
       "1       ...                women          women          women          women   \n",
       "2       ...         tops&blouses   tops&blouses   tops&blouses   tops&blouses   \n",
       "3       ...                    t              t              t              t   \n",
       "4       ...                    -              -              -              -   \n",
       "5       ...               shirts         shirts         shirts         shirts   \n",
       "6       ...               <name>         <name>         <name>         <name>   \n",
       "7       ...             freeship       freeship       freeship       freeship   \n",
       "8       ...                    2              2              2              2   \n",
       "9       ...               floral         floral         floral         floral   \n",
       "10      ...                scrub          scrub          scrub          scrub   \n",
       "11      ...                 tops           tops           tops           tops   \n",
       "12      ...                    ,              ,              ,              ,   \n",
       "13      ...               medium         medium         medium         medium   \n",
       "14      ...                    .              .              .              .   \n",
       "15      ...        <description>  <description>  <description>  <description>   \n",
       "16      ...                    2              2              2              2   \n",
       "17      ...               floral         floral         floral         floral   \n",
       "18      ...                scrub          scrub          scrub          scrub   \n",
       "19      ...                 tops           tops           tops           tops   \n",
       "20      ...                    .              .              .              .   \n",
       "21      ...                 worn           worn           worn           worn   \n",
       "22      ...                 less           less           less           less   \n",
       "23      ...                 than           than           than           than   \n",
       "24      ...                    5              5              5              5   \n",
       "25      ...                times          times          times          times   \n",
       "26      ...                 each           each           each           each   \n",
       "27      ...                    .              .              .              .   \n",
       "28      ...                brown          brown          brown          brown   \n",
       "29      ...                  has            has            has            has   \n",
       "30      ...                    a              a              a              a   \n",
       "31      ...                 belt           belt           belt           belt   \n",
       "32      ...                  tie            tie            tie            tie   \n",
       "33      ...                    .              .              .              .   \n",
       "\n",
       "             2042           2043           2044           2045           2046  \\\n",
       "0      <category>     <category>     <category>     <category>     <category>   \n",
       "1           women          women          women          women          women   \n",
       "2    tops&blouses   tops&blouses   tops&blouses   tops&blouses   tops&blouses   \n",
       "3               t              t              t              t              t   \n",
       "4               -              -              -              -              -   \n",
       "5          shirts         shirts         shirts         shirts         shirts   \n",
       "6          <name>         <name>         <name>         <name>         <name>   \n",
       "7        freeship       freeship       freeship       freeship       freeship   \n",
       "8               2              2              2              2              2   \n",
       "9          floral         floral         floral         floral         floral   \n",
       "10          scrub          scrub          scrub          scrub          scrub   \n",
       "11           tops           tops           tops           tops           tops   \n",
       "12              ,              ,              ,              ,              ,   \n",
       "13         medium         medium         medium         medium         medium   \n",
       "14              .              .              .              .              .   \n",
       "15  <description>  <description>  <description>  <description>  <description>   \n",
       "16              2              2              2              2              2   \n",
       "17         floral         floral         floral         floral         floral   \n",
       "18          scrub          scrub          scrub          scrub          scrub   \n",
       "19           tops           tops           tops           tops           tops   \n",
       "20              .              .              .              .              .   \n",
       "21           worn           worn           worn           worn           worn   \n",
       "22           less           less           less           less           less   \n",
       "23           than           than           than           than           than   \n",
       "24              5              5              5              5              5   \n",
       "25          times          times          times          times          times   \n",
       "26           each           each           each           each           each   \n",
       "27              .              .              .              .              .   \n",
       "28          brown          brown          brown          brown          brown   \n",
       "29            has            has            has            has            has   \n",
       "30              a              a              a              a              a   \n",
       "31           belt           belt           belt           belt           belt   \n",
       "32            tie            tie            tie            tie            tie   \n",
       "33              .              .              .              .              .   \n",
       "\n",
       "             2047  \n",
       "0      <category>  \n",
       "1           women  \n",
       "2    tops&blouses  \n",
       "3               t  \n",
       "4               -  \n",
       "5          shirts  \n",
       "6          <name>  \n",
       "7        freeship  \n",
       "8               2  \n",
       "9          floral  \n",
       "10          scrub  \n",
       "11           tops  \n",
       "12              ,  \n",
       "13         medium  \n",
       "14              .  \n",
       "15  <description>  \n",
       "16              2  \n",
       "17         floral  \n",
       "18          scrub  \n",
       "19           tops  \n",
       "20              .  \n",
       "21           worn  \n",
       "22           less  \n",
       "23           than  \n",
       "24              5  \n",
       "25          times  \n",
       "26           each  \n",
       "27              .  \n",
       "28          brown  \n",
       "29            has  \n",
       "30              a  \n",
       "31           belt  \n",
       "32            tie  \n",
       "33              .  \n",
       "\n",
       "[34 rows x 2048 columns]"
      ]
     },
     "execution_count": 215,
     "metadata": {},
     "output_type": "execute_result"
    }
   ],
   "source": [
    "# same as to_np(xs[0])\n",
    "xdf = pd.DataFrame(xbs[0].data.cpu().numpy())\n",
    "xdf.apply(lambda x: x.apply(lambda x1: ITEM_DESCRIPTION.vocab.itos[x1]))"
   ]
  },
  {
   "cell_type": "code",
   "execution_count": 216,
   "metadata": {},
   "outputs": [
    {
     "data": {
      "text/plain": [
       "Variable containing:\n",
       "    2  1261     0     2\n",
       "    2  1261     0     2\n",
       "    2  1261     0     2\n",
       "           ⋮            \n",
       "    2  1261     0     2\n",
       "    2  1261     0     2\n",
       "    2  1261     0     2\n",
       "[torch.cuda.LongTensor of size 2048x4 (GPU 0)]"
      ]
     },
     "execution_count": 216,
     "metadata": {},
     "output_type": "execute_result"
    }
   ],
   "source": [
    "xbs[1]"
   ]
  },
  {
   "cell_type": "code",
   "execution_count": 217,
   "metadata": {},
   "outputs": [
    {
     "data": {
      "text/plain": [
       "Variable containing:\n",
       " 0\n",
       " 0\n",
       " 0\n",
       "⋮ \n",
       " 0\n",
       " 0\n",
       " 0\n",
       "[torch.cuda.FloatTensor of size 2048 (GPU 0)]"
      ]
     },
     "execution_count": 217,
     "metadata": {},
     "output_type": "execute_result"
    }
   ],
   "source": [
    "yb"
   ]
  },
  {
   "cell_type": "code",
   "execution_count": 79,
   "metadata": {
    "collapsed": true
   },
   "outputs": [],
   "source": [
    "bptt, max_sl=50, 200\n",
    "text_emb_sz = 100  # size of each embedding vector\n",
    "enc_n_hid = 200     # number of hidden activations per layer\n",
    "enc_n_layers = 3       # number of layers\n",
    "opt_fn = partial(optim.Adam, betas=(0.7, 0.99))\n",
    "cat_emb_drop=0.04\n",
    "fc_layers=[1000, 500]\n",
    "fc_drops =[0.001, 0.01]"
   ]
  },
  {
   "cell_type": "code",
   "execution_count": 80,
   "metadata": {},
   "outputs": [
    {
     "data": {
      "text/plain": [
       "(0.0, 7.6058900010531216)"
      ]
     },
     "execution_count": 80,
     "metadata": {},
     "output_type": "execute_result"
    }
   ],
   "source": [
    "y_range = (np.min(np.log(y+1)), np.max(np.log(y+1)))\n",
    "y_range"
   ]
  },
  {
   "cell_type": "code",
   "execution_count": 95,
   "metadata": {
    "collapsed": true
   },
   "outputs": [],
   "source": [
    "learner = md.get_learner(opt_fn, text_emb_sz, enc_n_hid, enc_n_layers, max_sl, bptt, \n",
    "                    cat_emb_szs, cat_emb_drop, fc_layers, fc_drops, out_sz=1, y_range=y_range, \n",
    "                    dropouti=0.65, dropoute=0.1, dropouth=0.3, wdrop=0.5)\n",
    "\n",
    "learner.reg_fn = partial(seq2seq_reg, alpha=2, beta=1)\n",
    "learner.clip=3.0"
   ]
  },
  {
   "cell_type": "code",
   "execution_count": 96,
   "metadata": {},
   "outputs": [],
   "source": [
    "learner.load_encoder(f'adam1_enc_{tag}')"
   ]
  },
  {
   "cell_type": "code",
   "execution_count": 97,
   "metadata": {
    "collapsed": true
   },
   "outputs": [],
   "source": [
    "#lrs=np.array([1e-4,1e-3,1e-2])"
   ]
  },
  {
   "cell_type": "code",
   "execution_count": 98,
   "metadata": {},
   "outputs": [
    {
     "data": {
      "text/html": [
       "<div>\n",
       "<style>\n",
       "    .dataframe thead tr:only-child th {\n",
       "        text-align: right;\n",
       "    }\n",
       "\n",
       "    .dataframe thead th {\n",
       "        text-align: left;\n",
       "    }\n",
       "\n",
       "    .dataframe tbody tr th {\n",
       "        vertical-align: top;\n",
       "    }\n",
       "</style>\n",
       "<table border=\"1\" class=\"dataframe\">\n",
       "  <thead>\n",
       "    <tr style=\"text-align: right;\">\n",
       "      <th></th>\n",
       "      <th>item_condition_id</th>\n",
       "      <th>category_name</th>\n",
       "      <th>brand_name</th>\n",
       "      <th>shipping</th>\n",
       "      <th>item_description</th>\n",
       "      <th>price</th>\n",
       "    </tr>\n",
       "  </thead>\n",
       "  <tbody>\n",
       "    <tr>\n",
       "      <th>5</th>\n",
       "      <td>3</td>\n",
       "      <td>1194</td>\n",
       "      <td>0</td>\n",
       "      <td>1</td>\n",
       "      <td>[&lt;category&gt;, women, other, other, &lt;name&gt;, bund...</td>\n",
       "      <td>4.094345</td>\n",
       "    </tr>\n",
       "    <tr>\n",
       "      <th>8</th>\n",
       "      <td>3</td>\n",
       "      <td>887</td>\n",
       "      <td>3058</td>\n",
       "      <td>1</td>\n",
       "      <td>[&lt;category&gt;, sports&amp;outdoors, apparel, girls, ...</td>\n",
       "      <td>2.995732</td>\n",
       "    </tr>\n",
       "  </tbody>\n",
       "</table>\n",
       "</div>"
      ],
      "text/plain": [
       "   item_condition_id  category_name  brand_name  shipping  \\\n",
       "5                  3           1194           0         1   \n",
       "8                  3            887        3058         1   \n",
       "\n",
       "                                    item_description     price  \n",
       "5  [<category>, women, other, other, <name>, bund...  4.094345  \n",
       "8  [<category>, sports&outdoors, apparel, girls, ...  2.995732  "
      ]
     },
     "execution_count": 98,
     "metadata": {},
     "output_type": "execute_result"
    }
   ],
   "source": [
    "dfs['val'].head(2)"
   ]
  },
  {
   "cell_type": "markdown",
   "metadata": {},
   "source": [
    "Lets test if the model is correctly defined as data is being correctly processed. "
   ]
  },
  {
   "cell_type": "code",
   "execution_count": 99,
   "metadata": {
    "collapsed": true
   },
   "outputs": [],
   "source": [
    "m = learner.model\n",
    "#m.rnn_encoder(*[xs[0]])\n",
    "m.reset()\n",
    "output = m(*xbs)"
   ]
  },
  {
   "cell_type": "code",
   "execution_count": 100,
   "metadata": {},
   "outputs": [
    {
     "data": {
      "text/plain": [
       "(Variable containing:\n",
       "  3.4876\n",
       "  3.8899\n",
       "  3.3041\n",
       "    ⋮    \n",
       "  3.1682\n",
       "  3.7655\n",
       "  3.2263\n",
       " [torch.cuda.FloatTensor of size 2048x1 (GPU 0)], [Variable containing:\n",
       "  ( 0  ,.,.) = \n",
       "   -0.0084  0.0000  0.7325  ...  -0.7615 -0.6332 -0.7550\n",
       "    0.7382 -0.0000 -0.0000  ...  -0.0000 -0.0051 -0.0000\n",
       "    0.7611 -0.0000 -0.0000  ...   0.0000 -0.7616 -0.0000\n",
       "             ...             ⋱             ...          \n",
       "    0.0000 -0.0000  0.0000  ...   0.0000 -0.7616 -0.0107\n",
       "    0.0000 -0.0000 -0.5311  ...  -0.0000 -0.0000 -0.0000\n",
       "    0.0000 -0.0000 -0.0007  ...   0.0000 -0.7528 -0.3902\n",
       "  \n",
       "  ( 1  ,.,.) = \n",
       "    0.0000  0.0000 -0.0033  ...  -0.0000 -0.5054 -0.6467\n",
       "    0.0000 -0.0000 -0.7254  ...  -0.0020 -0.7367 -0.7566\n",
       "    0.0000 -0.0007 -0.0000  ...  -0.0429 -0.7603 -0.0006\n",
       "             ...             ⋱             ...          \n",
       "    0.0000 -0.8663 -0.0000  ...  -0.0000 -0.7572 -0.0629\n",
       "    0.0000 -0.5279  0.0000  ...  -0.0000 -0.0318 -0.1032\n",
       "    0.0000 -0.0001 -0.5526  ...  -0.1108  0.0062 -0.2169\n",
       "  \n",
       "  ( 2  ,.,.) = \n",
       "    0.5525 -0.0004 -0.0200  ...  -0.0166  0.3866 -0.0002\n",
       "    0.0324 -0.0000 -0.9580  ...  -0.0003  0.0000 -0.0000\n",
       "    0.7609 -0.0000 -0.9864  ...  -0.0000 -0.0000 -0.7489\n",
       "             ...             ⋱             ...          \n",
       "    0.0000 -0.0041 -0.7226  ...  -0.0000 -0.0000 -0.0067\n",
       "    0.9501 -0.0000 -0.7303  ...  -0.0773  0.0000 -0.0022\n",
       "    0.0000 -0.0000 -0.4859  ...  -0.0000  0.0384 -0.1259\n",
       "   ... \n",
       "  \n",
       "  ( 31 ,.,.) = \n",
       "    0.3913 -0.0255 -0.8087  ...   0.0002  0.0000 -0.0000\n",
       "    0.6734 -0.0000 -0.9932  ...   0.0000  0.0000 -0.0000\n",
       "    0.1023 -0.0000 -0.9158  ...   0.0000  0.0057 -0.0000\n",
       "             ...             ⋱             ...          \n",
       "    0.0279 -0.0000 -0.6526  ...   0.0038  0.0682 -0.0000\n",
       "    0.0002 -0.0000 -0.8705  ...   0.0019 -0.0000 -0.0000\n",
       "    0.7599 -0.0000 -0.9979  ...  -0.0000  0.0000 -0.0000\n",
       "  \n",
       "  ( 32 ,.,.) = \n",
       "    0.6511 -0.0262 -0.0000  ...   0.0001  0.0000  0.2582\n",
       "    0.6986 -0.0084 -0.0000  ...  -0.0000  0.0001  0.6544\n",
       "    0.7466 -0.0138 -0.0000  ...   0.0229  0.0000  0.3809\n",
       "             ...             ⋱             ...          \n",
       "    0.7680 -0.0281 -0.0029  ...   0.0000  0.4380 -0.0245\n",
       "    0.7610 -0.0179 -0.0000  ...   0.0000 -0.0000 -0.1236\n",
       "    0.7654 -0.0121 -0.0000  ...   0.0000  0.0000  0.0000\n",
       "  \n",
       "  ( 33 ,.,.) = \n",
       "    0.0000 -0.0000 -0.0000  ...   0.0000  0.5227 -0.0001\n",
       "    0.0000 -0.0000  0.0000  ...  -0.0000  0.0000 -0.0263\n",
       "   -0.0000 -0.0000 -0.0000  ...   0.0000  0.0001 -0.1385\n",
       "             ...             ⋱             ...          \n",
       "    0.7616 -0.0000  0.0000  ...  -0.0010  0.0000 -0.7616\n",
       "    0.0058 -0.0000 -0.0000  ...   0.0000 -0.0000 -0.7614\n",
       "    0.0012 -0.0000 -0.0000  ...   0.0000  0.0004 -0.0344\n",
       "  [torch.cuda.FloatTensor of size 34x2048x200 (GPU 0)], Variable containing:\n",
       "  ( 0  ,.,.) = \n",
       "    3.5318e-03  6.1220e-03 -4.2106e-02  ...  -1.3756e-03 -4.6753e-02 -1.6211e-02\n",
       "   -3.8492e-02  9.6898e-03  3.4978e-04  ...  -3.3667e-03  1.4443e-02 -1.8739e-02\n",
       "   -7.9690e-04  6.3574e-02 -7.5850e-03  ...  -5.3020e-03 -1.0262e-03  9.6382e-02\n",
       "                   ...                   ⋱                   ...                \n",
       "   -1.6111e-02  4.7368e-01 -6.2012e-02  ...  -3.5948e-05 -1.1330e-02  1.8373e-02\n",
       "    5.4820e-03  1.4269e-03 -4.7828e-05  ...  -9.2140e-05  5.2380e-02 -1.0874e-01\n",
       "   -1.8888e-03  3.2814e-01  4.3578e-01  ...  -2.2087e-05 -2.6482e-02  8.3559e-02\n",
       "  \n",
       "  ( 1  ,.,.) = \n",
       "    4.0597e-03  5.7851e-02  1.9833e-02  ...  -8.2396e-06 -1.1845e-01  6.5244e-02\n",
       "   -3.2253e-02  1.8888e-01  4.4060e-05  ...  -2.1429e-09  8.2275e-02  8.0612e-02\n",
       "   -6.3371e-04  2.5553e-01 -6.1132e-05  ...  -8.7606e-06  6.4871e-02  1.4769e-01\n",
       "                   ...                   ⋱                   ...                \n",
       "   -1.9138e-02  7.2737e-03 -3.4896e-06  ...  -1.1577e-09 -2.1794e-03  1.4458e-02\n",
       "   -3.4124e-05  7.1612e-01 -5.9260e-02  ...  -6.8484e-04 -5.1790e-02  3.4705e-02\n",
       "   -7.1843e-03  4.6872e-03  2.9907e-04  ...  -1.7454e-04 -2.3171e-02  1.6914e-01\n",
       "  \n",
       "  ( 2  ,.,.) = \n",
       "   -6.6234e-02  4.3962e-04  3.4738e-04  ...  -1.3288e-06 -1.7000e-01  1.6730e-01\n",
       "   -9.2156e-02  1.0146e-03 -1.8368e-02  ...  -1.1405e-03  7.6065e-02  6.4312e-02\n",
       "   -5.2190e-03  1.4188e-02 -2.5047e-03  ...  -3.2981e-04  6.0559e-02  8.9575e-02\n",
       "                   ...                   ⋱                   ...                \n",
       "   -2.9716e-02  2.1653e-01  1.8441e-02  ...  -1.3072e-05 -2.2490e-02  7.0482e-02\n",
       "    1.5011e-01  1.5192e-04 -6.5991e-04  ...  -1.6801e-04 -1.2012e-02  5.4927e-02\n",
       "   -5.5649e-02  5.8115e-01  2.5661e-03  ...  -1.0933e-04 -9.0869e-03  1.9420e-01\n",
       "   ... \n",
       "  \n",
       "  ( 31 ,.,.) = \n",
       "   -5.2164e-02  6.0289e-06  7.1352e-04  ...  -1.6905e-05 -8.0244e-02  1.7657e-01\n",
       "    3.5119e-03  2.7244e-04  4.7621e-04  ...  -4.7091e-09  2.6802e-02  4.4760e-01\n",
       "   -4.5489e-03  1.7486e-06  8.7554e-05  ...  -6.2544e-10 -8.4268e-02 -4.1297e-01\n",
       "                   ...                   ⋱                   ...                \n",
       "    3.2065e-03  4.0476e-06  1.8005e-04  ...  -8.4431e-06  5.6427e-02 -6.0244e-02\n",
       "    5.8517e-03  6.3817e-04 -4.5342e-04  ...  -2.4797e-08 -4.1349e-02  9.2005e-02\n",
       "   -8.9892e-02  2.3633e-05  7.9286e-05  ...  -3.1230e-06 -5.8296e-02 -2.9390e-01\n",
       "  \n",
       "  ( 32 ,.,.) = \n",
       "   -6.1895e-02  6.9743e-08  3.7244e-03  ...  -1.7097e-05 -1.4872e-01  3.3661e-03\n",
       "    1.5127e-02  8.7283e-07  5.7362e-07  ...  -7.7112e-07 -6.3779e-02  1.1070e-01\n",
       "   -3.3015e-02  8.1130e-08  1.1366e-03  ...  -5.3808e-08 -6.8275e-02 -2.4282e-01\n",
       "                   ...                   ⋱                   ...                \n",
       "    2.4570e-03  5.4893e-07  1.6221e-03  ...  -1.4133e-05  2.0666e-02 -9.4062e-02\n",
       "    6.4148e-03  1.7698e-07 -4.1013e-03  ...  -3.4533e-09 -1.9265e-01  2.1416e-02\n",
       "   -3.0685e-02  6.1100e-05  7.8356e-04  ...  -1.0546e-05 -8.8798e-02 -2.2561e-01\n",
       "  \n",
       "  ( 33 ,.,.) = \n",
       "   -7.0883e-02  6.5964e-04  9.0597e-02  ...  -8.1485e-01 -4.0358e-02  6.4403e-02\n",
       "    2.1950e-03  6.5352e-03 -4.2315e-04  ...  -2.8677e-01 -7.6068e-02  2.7380e-01\n",
       "   -2.2249e-02  3.1635e-02  2.8531e-03  ...  -5.6878e-02 -6.9196e-02 -2.7291e-02\n",
       "                   ...                   ⋱                   ...                \n",
       "   -2.2034e-03  3.3671e-05  6.3343e-04  ...  -1.4634e-03  4.9320e-02 -2.5587e-02\n",
       "    6.8717e-03  9.5235e-03 -3.6547e-05  ...  -8.3718e-04 -7.6502e-02  1.1382e-01\n",
       "   -7.4136e-02  5.9021e-03  2.2212e-03  ...  -1.1761e-03 -1.0840e-01 -1.4759e-01\n",
       "  [torch.cuda.FloatTensor of size 34x2048x200 (GPU 0)], Variable containing:\n",
       "  ( 0  ,.,.) = \n",
       "   -1.0415e-03 -8.7174e-05 -5.5898e-02  ...  -5.0513e-01 -8.0758e-02 -6.0302e-04\n",
       "   -4.1692e-03  2.2199e-02  8.2457e-02  ...  -3.7664e-01 -4.6596e-03  1.4646e-02\n",
       "   -2.8670e-02  9.5385e-03  3.2312e-03  ...  -5.6602e-02 -2.1658e-02 -7.6648e-03\n",
       "                   ...                   ⋱                   ...                \n",
       "   -8.8817e-03  1.5481e-01 -3.0938e-03  ...  -6.6226e-02 -4.7029e-03  2.3845e-03\n",
       "   -2.3259e-02  1.4490e-01 -1.8632e-01  ...   3.5689e-01 -1.0221e-01 -7.5539e-03\n",
       "   -2.4769e-01  2.6118e-02  1.7967e-02  ...  -2.7393e-02 -2.0929e-01 -1.0435e-01\n",
       "  \n",
       "  ( 1  ,.,.) = \n",
       "    1.0810e-03 -1.3600e-02 -2.2025e-02  ...  -2.1249e-01 -9.7288e-02 -1.1897e-02\n",
       "    8.7768e-03  4.3650e-02  3.0600e-02  ...  -1.0584e-01 -8.7342e-02  2.2098e-03\n",
       "   -8.2220e-03  1.6196e-02 -2.8143e-03  ...  -1.2198e-01 -1.9085e-02 -4.9822e-03\n",
       "                   ...                   ⋱                   ...                \n",
       "    5.5141e-03 -6.6916e-02 -9.7601e-04  ...  -1.3536e-01 -1.7153e-02 -3.2313e-04\n",
       "   -2.4268e-01  3.9667e-02 -1.6269e-01  ...   7.3818e-02 -1.1512e-01 -2.5674e-02\n",
       "    6.1683e-02  8.0420e-03 -6.6244e-02  ...  -1.7434e-01 -1.8232e-01 -4.1792e-02\n",
       "  \n",
       "  ( 2  ,.,.) = \n",
       "   -3.3633e-02 -1.5516e-01 -1.1996e-02  ...  -3.8401e-02 -2.1023e-02 -1.0106e-01\n",
       "    2.7102e-03  1.9500e-01  6.1422e-02  ...  -4.6849e-03 -3.2601e-02  4.9386e-03\n",
       "   -8.4765e-04  8.5512e-04  1.1998e-02  ...  -2.1521e-02 -2.1803e-02 -1.2376e-02\n",
       "                   ...                   ⋱                   ...                \n",
       "   -2.4431e-02 -2.2166e-01  1.9154e-03  ...  -3.9832e-03 -8.4530e-03 -2.8681e-04\n",
       "   -5.5463e-02  6.7830e-02 -1.7462e-01  ...  -7.1224e-02 -9.4521e-02 -5.6476e-03\n",
       "    7.9495e-02  5.4083e-02 -4.5037e-02  ...  -8.9632e-02 -1.1780e-01 -6.8546e-02\n",
       "   ... \n",
       "  \n",
       "  ( 31 ,.,.) = \n",
       "   -3.5140e-02 -4.0197e-02 -1.9241e-01  ...  -3.7830e-01 -1.4608e-01 -1.9605e-01\n",
       "    7.5471e-02 -1.8519e-03  1.3107e-01  ...   2.1810e-01 -1.6233e-01 -1.3673e-01\n",
       "   -2.8891e-02 -3.4158e-02 -2.2491e-01  ...  -1.7242e-02  1.9078e-01 -3.8561e-02\n",
       "                   ...                   ⋱                   ...                \n",
       "    3.2626e-04 -4.4063e-02  7.1102e-02  ...  -1.6562e-01 -6.5444e-02 -3.6248e-02\n",
       "   -7.0751e-02 -5.6548e-01 -6.6233e-01  ...  -7.1363e-02  2.9488e-01 -8.5942e-02\n",
       "   -4.8315e-02 -3.6084e-03  5.4099e-02  ...   2.1037e-02  1.7081e-01 -1.4584e-01\n",
       "  \n",
       "  ( 32 ,.,.) = \n",
       "   -8.9298e-04 -7.5463e-02 -1.4585e-01  ...   9.8322e-03 -1.1671e-01 -1.7941e-01\n",
       "   -1.6637e-02  2.3179e-03  1.5128e-01  ...   1.1768e-01 -1.4308e-01 -1.8448e-01\n",
       "    1.0734e-01 -9.6615e-02 -3.4859e-01  ...   3.0000e-02  1.5538e-01 -3.5916e-02\n",
       "                   ...                   ⋱                   ...                \n",
       "    3.9616e-04 -6.3634e-02  4.4993e-02  ...  -1.7196e-01 -3.8109e-02 -3.7981e-02\n",
       "    5.9858e-03 -1.1497e-01 -4.7337e-01  ...  -7.1588e-02  2.8135e-01 -5.7274e-02\n",
       "    4.6830e-02 -3.0194e-02  2.2440e-02  ...   5.3716e-02  2.3015e-01 -1.6884e-01\n",
       "  \n",
       "  ( 33 ,.,.) = \n",
       "   -1.0917e-02 -9.2707e-02 -1.3556e-01  ...   6.1829e-03 -9.4185e-02 -2.0449e-01\n",
       "   -7.9602e-04  2.0951e-01  1.6870e-01  ...   1.6166e-01 -1.1069e-01 -1.8063e-01\n",
       "    3.9731e-02  1.1336e-01 -2.4084e-01  ...   1.5356e-01  1.8874e-01 -4.8691e-02\n",
       "                   ...                   ⋱                   ...                \n",
       "    1.1822e-03 -1.1395e-02  7.1622e-02  ...   4.6620e-02 -5.7695e-02 -3.9547e-02\n",
       "   -1.1137e-01 -3.2067e-01 -4.0176e-01  ...  -1.2794e-02  2.9610e-01 -9.6397e-02\n",
       "   -6.9393e-02  2.5983e-02  3.2995e-02  ...   2.1007e-02  2.6790e-01 -1.7233e-01\n",
       "  [torch.cuda.FloatTensor of size 34x2048x100 (GPU 0)]], [Variable containing:\n",
       "  ( 0  ,.,.) = \n",
       "   -0.0120  0.0000  0.0000  ...  -0.0000 -0.9045 -1.0785\n",
       "    1.0546 -0.0000 -0.0000  ...  -0.0000 -0.0072 -0.0000\n",
       "    1.0873 -0.0000 -0.0000  ...   0.0000 -0.0000 -0.0000\n",
       "             ...             ⋱             ...          \n",
       "    0.0000 -0.0000  0.0000  ...   0.0000 -1.0880 -0.0000\n",
       "    0.0000 -0.0000 -0.0000  ...  -0.0000 -0.0000 -0.0000\n",
       "    0.0000 -0.0000 -0.0010  ...   0.0000 -0.0000 -0.5575\n",
       "  \n",
       "  ( 1  ,.,.) = \n",
       "    0.0000  0.0000 -0.0000  ...  -0.0000 -0.7221 -0.9238\n",
       "    0.0000 -0.0000 -1.0363  ...  -0.0028 -1.0525 -1.0809\n",
       "    0.0000 -0.0009 -0.0000  ...  -0.0613 -0.0000 -0.0008\n",
       "             ...             ⋱             ...          \n",
       "    0.0000 -1.2375 -0.0000  ...  -0.0000 -1.0818 -0.0000\n",
       "    0.0000 -0.0000  0.0000  ...  -0.0000 -0.0455 -0.1475\n",
       "    0.0000 -0.0002 -0.7895  ...  -0.1583  0.0000 -0.3099\n",
       "  \n",
       "  ( 2  ,.,.) = \n",
       "    0.7893 -0.0000 -0.0000  ...  -0.0000  0.5523 -0.0003\n",
       "    0.0462 -0.0000 -1.3686  ...  -0.0004  0.0000 -0.0000\n",
       "    1.0870 -0.0000 -1.4091  ...  -0.0000 -0.0000 -1.0698\n",
       "             ...             ⋱             ...          \n",
       "    0.0000 -0.0058 -1.0323  ...  -0.0000 -0.0000 -0.0000\n",
       "    0.0000 -0.0000 -0.0000  ...  -0.1105  0.0000 -0.0032\n",
       "    0.0000 -0.0000 -0.6941  ...  -0.0000  0.0000 -0.1799\n",
       "   ... \n",
       "  \n",
       "  ( 31 ,.,.) = \n",
       "    0.5590 -0.0000 -0.0000  ...   0.0000  0.0000 -0.0000\n",
       "    0.9620 -0.0000 -1.4189  ...   0.0000  0.0000 -0.0000\n",
       "    0.1461 -0.0000 -1.3082  ...   0.0000  0.0000 -0.0000\n",
       "             ...             ⋱             ...          \n",
       "    0.0000 -0.0000 -0.9322  ...   0.0055  0.0975 -0.0000\n",
       "    0.0000 -0.0000 -0.0000  ...   0.0027 -0.0000 -0.0000\n",
       "    0.0000 -0.0000 -1.4256  ...  -0.0000  0.0000 -0.0000\n",
       "  \n",
       "  ( 32 ,.,.) = \n",
       "    0.9302 -0.0000 -0.0000  ...   0.0000  0.0000  0.3688\n",
       "    0.9980 -0.0121 -0.0000  ...  -0.0000  0.0001  0.9348\n",
       "    1.0666 -0.0198 -0.0000  ...   0.0327  0.0000  0.5442\n",
       "             ...             ⋱             ...          \n",
       "    0.0000 -0.0402 -0.0041  ...   0.0001  0.6257 -0.0000\n",
       "    0.0000 -0.0000 -0.0000  ...   0.0000 -0.0000 -0.1766\n",
       "    0.0000 -0.0173 -0.0000  ...   0.0000  0.0000  0.0000\n",
       "  \n",
       "  ( 33 ,.,.) = \n",
       "    0.0000 -0.0000 -0.0000  ...   0.0000  0.7468 -0.0001\n",
       "    0.0000 -0.0000  0.0000  ...  -0.0000  0.0001 -0.0376\n",
       "   -0.0000 -0.0000 -0.0000  ...   0.0000  0.0000 -0.1979\n",
       "             ...             ⋱             ...          \n",
       "    0.0000 -0.0000  0.0000  ...  -0.0015  0.0000 -0.0000\n",
       "    0.0000 -0.0000 -0.0000  ...   0.0000 -0.0000 -1.0877\n",
       "    0.0000 -0.0000 -0.0000  ...   0.0000  0.0000 -0.0491\n",
       "  [torch.cuda.FloatTensor of size 34x2048x200 (GPU 0)], Variable containing:\n",
       "  ( 0  ,.,.) = \n",
       "    0.0050  0.0087 -0.0602  ...  -0.0020 -0.0668 -0.0232\n",
       "   -0.0000  0.0138  0.0005  ...  -0.0048  0.0000 -0.0268\n",
       "   -0.0011  0.0908 -0.0108  ...  -0.0000 -0.0015  0.1377\n",
       "             ...             ⋱             ...          \n",
       "   -0.0230  0.6767 -0.0886  ...  -0.0001 -0.0162  0.0262\n",
       "    0.0000  0.0020 -0.0001  ...  -0.0001  0.0748 -0.0000\n",
       "   -0.0027  0.4688  0.6225  ...  -0.0000 -0.0000  0.1194\n",
       "  \n",
       "  ( 1  ,.,.) = \n",
       "    0.0058  0.0826  0.0283  ...  -0.0000 -0.1692  0.0932\n",
       "   -0.0000  0.2698  0.0001  ...  -0.0000  0.0000  0.1152\n",
       "   -0.0009  0.3650 -0.0001  ...  -0.0000  0.0927  0.2110\n",
       "             ...             ⋱             ...          \n",
       "   -0.0273  0.0104 -0.0000  ...  -0.0000 -0.0031  0.0207\n",
       "   -0.0000  1.0230 -0.0847  ...  -0.0010 -0.0740  0.0000\n",
       "   -0.0103  0.0067  0.0004  ...  -0.0000 -0.0000  0.2416\n",
       "  \n",
       "  ( 2  ,.,.) = \n",
       "   -0.0946  0.0006  0.0005  ...  -0.0000 -0.2429  0.2390\n",
       "   -0.0000  0.0014 -0.0262  ...  -0.0016  0.0000  0.0919\n",
       "   -0.0075  0.0203 -0.0036  ...  -0.0000  0.0865  0.1280\n",
       "             ...             ⋱             ...          \n",
       "   -0.0425  0.3093  0.0263  ...  -0.0000 -0.0321  0.1007\n",
       "    0.0000  0.0002 -0.0009  ...  -0.0002 -0.0172  0.0000\n",
       "   -0.0795  0.8302  0.0037  ...  -0.0000 -0.0000  0.2774\n",
       "   ... \n",
       "  \n",
       "  ( 31 ,.,.) = \n",
       "   -0.0745  0.0000  0.0010  ...  -0.0000 -0.1146  0.2522\n",
       "    0.0000  0.0004  0.0007  ...  -0.0000  0.0000  0.6394\n",
       "   -0.0065  0.0000  0.0001  ...  -0.0000 -0.1204 -0.5900\n",
       "             ...             ⋱             ...          \n",
       "    0.0046  0.0000  0.0003  ...  -0.0000  0.0806 -0.0861\n",
       "    0.0000  0.0009 -0.0006  ...  -0.0000 -0.0591  0.0000\n",
       "   -0.1284  0.0000  0.0001  ...  -0.0000 -0.0000 -0.4199\n",
       "  \n",
       "  ( 32 ,.,.) = \n",
       "   -0.0884  0.0000  0.0053  ...  -0.0000 -0.2125  0.0048\n",
       "    0.0000  0.0000  0.0000  ...  -0.0000 -0.0000  0.1581\n",
       "   -0.0472  0.0000  0.0016  ...  -0.0000 -0.0975 -0.3469\n",
       "             ...             ⋱             ...          \n",
       "    0.0035  0.0000  0.0023  ...  -0.0000  0.0295 -0.1344\n",
       "    0.0000  0.0000 -0.0059  ...  -0.0000 -0.2752  0.0000\n",
       "   -0.0438  0.0001  0.0011  ...  -0.0000 -0.0000 -0.3223\n",
       "  \n",
       "  ( 33 ,.,.) = \n",
       "   -0.1013  0.0009  0.1294  ...  -1.1641 -0.0577  0.0920\n",
       "    0.0000  0.0093 -0.0006  ...  -0.4097 -0.0000  0.3911\n",
       "   -0.0318  0.0452  0.0041  ...  -0.0000 -0.0989 -0.0390\n",
       "             ...             ⋱             ...          \n",
       "   -0.0031  0.0000  0.0009  ...  -0.0021  0.0705 -0.0366\n",
       "    0.0000  0.0136 -0.0001  ...  -0.0012 -0.1093  0.0000\n",
       "   -0.1059  0.0084  0.0032  ...  -0.0000 -0.0000 -0.2108\n",
       "  [torch.cuda.FloatTensor of size 34x2048x200 (GPU 0)], Variable containing:\n",
       "  ( 0  ,.,.) = \n",
       "   -1.0415e-03 -8.7174e-05 -5.5898e-02  ...  -5.0513e-01 -8.0758e-02 -6.0302e-04\n",
       "   -4.1692e-03  2.2199e-02  8.2457e-02  ...  -3.7664e-01 -4.6596e-03  1.4646e-02\n",
       "   -2.8670e-02  9.5385e-03  3.2312e-03  ...  -5.6602e-02 -2.1658e-02 -7.6648e-03\n",
       "                   ...                   ⋱                   ...                \n",
       "   -8.8817e-03  1.5481e-01 -3.0938e-03  ...  -6.6226e-02 -4.7029e-03  2.3845e-03\n",
       "   -2.3259e-02  1.4490e-01 -1.8632e-01  ...   3.5689e-01 -1.0221e-01 -7.5539e-03\n",
       "   -2.4769e-01  2.6118e-02  1.7967e-02  ...  -2.7393e-02 -2.0929e-01 -1.0435e-01\n",
       "  \n",
       "  ( 1  ,.,.) = \n",
       "    1.0810e-03 -1.3600e-02 -2.2025e-02  ...  -2.1249e-01 -9.7288e-02 -1.1897e-02\n",
       "    8.7768e-03  4.3650e-02  3.0600e-02  ...  -1.0584e-01 -8.7342e-02  2.2098e-03\n",
       "   -8.2220e-03  1.6196e-02 -2.8143e-03  ...  -1.2198e-01 -1.9085e-02 -4.9822e-03\n",
       "                   ...                   ⋱                   ...                \n",
       "    5.5141e-03 -6.6916e-02 -9.7601e-04  ...  -1.3536e-01 -1.7153e-02 -3.2313e-04\n",
       "   -2.4268e-01  3.9667e-02 -1.6269e-01  ...   7.3818e-02 -1.1512e-01 -2.5674e-02\n",
       "    6.1683e-02  8.0420e-03 -6.6244e-02  ...  -1.7434e-01 -1.8232e-01 -4.1792e-02\n",
       "  \n",
       "  ( 2  ,.,.) = \n",
       "   -3.3633e-02 -1.5516e-01 -1.1996e-02  ...  -3.8401e-02 -2.1023e-02 -1.0106e-01\n",
       "    2.7102e-03  1.9500e-01  6.1422e-02  ...  -4.6849e-03 -3.2601e-02  4.9386e-03\n",
       "   -8.4765e-04  8.5512e-04  1.1998e-02  ...  -2.1521e-02 -2.1803e-02 -1.2376e-02\n",
       "                   ...                   ⋱                   ...                \n",
       "   -2.4431e-02 -2.2166e-01  1.9154e-03  ...  -3.9832e-03 -8.4530e-03 -2.8681e-04\n",
       "   -5.5463e-02  6.7830e-02 -1.7462e-01  ...  -7.1224e-02 -9.4521e-02 -5.6476e-03\n",
       "    7.9495e-02  5.4083e-02 -4.5037e-02  ...  -8.9632e-02 -1.1780e-01 -6.8546e-02\n",
       "   ... \n",
       "  \n",
       "  ( 31 ,.,.) = \n",
       "   -3.5140e-02 -4.0197e-02 -1.9241e-01  ...  -3.7830e-01 -1.4608e-01 -1.9605e-01\n",
       "    7.5471e-02 -1.8519e-03  1.3107e-01  ...   2.1810e-01 -1.6233e-01 -1.3673e-01\n",
       "   -2.8891e-02 -3.4158e-02 -2.2491e-01  ...  -1.7242e-02  1.9078e-01 -3.8561e-02\n",
       "                   ...                   ⋱                   ...                \n",
       "    3.2626e-04 -4.4063e-02  7.1102e-02  ...  -1.6562e-01 -6.5444e-02 -3.6248e-02\n",
       "   -7.0751e-02 -5.6548e-01 -6.6233e-01  ...  -7.1363e-02  2.9488e-01 -8.5942e-02\n",
       "   -4.8315e-02 -3.6084e-03  5.4099e-02  ...   2.1037e-02  1.7081e-01 -1.4584e-01\n",
       "  \n",
       "  ( 32 ,.,.) = \n",
       "   -8.9298e-04 -7.5463e-02 -1.4585e-01  ...   9.8322e-03 -1.1671e-01 -1.7941e-01\n",
       "   -1.6637e-02  2.3179e-03  1.5128e-01  ...   1.1768e-01 -1.4308e-01 -1.8448e-01\n",
       "    1.0734e-01 -9.6615e-02 -3.4859e-01  ...   3.0000e-02  1.5538e-01 -3.5916e-02\n",
       "                   ...                   ⋱                   ...                \n",
       "    3.9616e-04 -6.3634e-02  4.4993e-02  ...  -1.7196e-01 -3.8109e-02 -3.7981e-02\n",
       "    5.9858e-03 -1.1497e-01 -4.7337e-01  ...  -7.1588e-02  2.8135e-01 -5.7274e-02\n",
       "    4.6830e-02 -3.0194e-02  2.2440e-02  ...   5.3716e-02  2.3015e-01 -1.6884e-01\n",
       "  \n",
       "  ( 33 ,.,.) = \n",
       "   -1.0917e-02 -9.2707e-02 -1.3556e-01  ...   6.1829e-03 -9.4185e-02 -2.0449e-01\n",
       "   -7.9602e-04  2.0951e-01  1.6870e-01  ...   1.6166e-01 -1.1069e-01 -1.8063e-01\n",
       "    3.9731e-02  1.1336e-01 -2.4084e-01  ...   1.5356e-01  1.8874e-01 -4.8691e-02\n",
       "                   ...                   ⋱                   ...                \n",
       "    1.1822e-03 -1.1395e-02  7.1622e-02  ...   4.6620e-02 -5.7695e-02 -3.9547e-02\n",
       "   -1.1137e-01 -3.2067e-01 -4.0176e-01  ...  -1.2794e-02  2.9610e-01 -9.6397e-02\n",
       "   -6.9393e-02  2.5983e-02  3.2995e-02  ...   2.1007e-02  2.6790e-01 -1.7233e-01\n",
       "  [torch.cuda.FloatTensor of size 34x2048x100 (GPU 0)]])"
      ]
     },
     "execution_count": 100,
     "metadata": {},
     "output_type": "execute_result"
    }
   ],
   "source": [
    "output"
   ]
  },
  {
   "cell_type": "code",
   "execution_count": 101,
   "metadata": {},
   "outputs": [
    {
     "data": {
      "application/vnd.jupyter.widget-view+json": {
       "model_id": "2b8da21da99f4cd1a97d1a066328bedc",
       "version_major": 2,
       "version_minor": 0
      },
      "text/plain": [
       "A Jupyter Widget"
      ]
     },
     "metadata": {},
     "output_type": "display_data"
    },
    {
     "name": "stdout",
     "output_type": "stream",
     "text": [
      "epoch      trn_loss   val_loss                                  \n",
      "    0      0.000606   0.0       \n",
      "\n"
     ]
    }
   ],
   "source": [
    "learner.lr_find()"
   ]
  },
  {
   "cell_type": "code",
   "execution_count": 102,
   "metadata": {
    "scrolled": true
   },
   "outputs": [
    {
     "data": {
      "image/png": "[encoded data removed]",
      "text/plain": [
       "<matplotlib.figure.Figure at 0x7fdba206b8d0>"
      ]
     },
     "metadata": {},
     "output_type": "display_data"
    }
   ],
   "source": [
    "learner.sched.plot()"
   ]
  },
  {
   "cell_type": "code",
   "execution_count": 93,
   "metadata": {
    "collapsed": true
   },
   "outputs": [],
   "source": [
    "??learner.crit"
   ]
  },
  {
   "cell_type": "code",
   "execution_count": 94,
   "metadata": {},
   "outputs": [
    {
     "data": {
      "application/vnd.jupyter.widget-view+json": {
       "model_id": "cfff9ca79a0b4a1c9f362971d5e9da4a",
       "version_major": 2,
       "version_minor": 0
      },
      "text/plain": [
       "A Jupyter Widget"
      ]
     },
     "metadata": {},
     "output_type": "display_data"
    },
    {
     "name": "stdout",
     "output_type": "stream",
     "text": [
      "epoch      trn_loss   val_loss                              \n",
      "    0      16.431645  14.061416 \n",
      "\n"
     ]
    },
    {
     "data": {
      "application/vnd.jupyter.widget-view+json": {
       "model_id": "bb88082d899c4bffae46f120100b3722",
       "version_major": 2,
       "version_minor": 0
      },
      "text/plain": [
       "A Jupyter Widget"
      ]
     },
     "metadata": {},
     "output_type": "display_data"
    },
    {
     "name": "stdout",
     "output_type": "stream",
     "text": [
      "epoch      trn_loss   val_loss                               \n",
      "    0      0.65052    0.062206  \n",
      "\n"
     ]
    },
    {
     "data": {
      "text/plain": [
       "[0.062205672]"
      ]
     },
     "execution_count": 94,
     "metadata": {},
     "output_type": "execute_result"
    }
   ],
   "source": [
    "lrs=np.array([1.0e-4,1.0e-3,1.0e-2])\n",
    "learner.freeze_to(-2)\n",
    "learner.fit(lrs/2, 1)\n",
    "learner.unfreeze()\n",
    "learner.fit(lrs, 1, cycle_len=1)"
   ]
  },
  {
   "cell_type": "code",
   "execution_count": 84,
   "metadata": {},
   "outputs": [
    {
     "data": {
      "application/vnd.jupyter.widget-view+json": {
       "model_id": "6bcd61c58c404d12b056ff9e02b4563a",
       "version_major": 2,
       "version_minor": 0
      },
      "text/plain": [
       "A Jupyter Widget"
      ]
     },
     "metadata": {},
     "output_type": "display_data"
    },
    {
     "name": "stdout",
     "output_type": "stream",
     "text": [
      "epoch      trn_loss   val_loss                               \n",
      "    0      0.143078   0.030417  \n",
      "    1      0.141826   0.031732                               \n",
      "    2      0.13973    0.031122                               \n",
      "    3      0.141468   0.033243                               \n",
      "    4      0.13998    0.031004                               \n",
      "    5      0.139549   0.029887                               \n",
      "    6      0.140449   0.029943                               \n",
      "\n"
     ]
    },
    {
     "data": {
      "text/plain": [
       "[0.029943017]"
      ]
     },
     "execution_count": 84,
     "metadata": {},
     "output_type": "execute_result"
    }
   ],
   "source": [
    "learner.fit(lrs, 3, cycle_len=1, cycle_mult=2, cycle_save_name='mercari')"
   ]
  },
  {
   "cell_type": "code",
   "execution_count": 85,
   "metadata": {},
   "outputs": [
    {
     "data": {
      "image/png": "[encoded data removed]",
      "text/plain": [
       "<matplotlib.figure.Figure at 0x7f4f3e33c9b0>"
      ]
     },
     "metadata": {},
     "output_type": "display_data"
    }
   ],
   "source": [
    "learner.sched.plot_loss()"
   ]
  },
  {
   "cell_type": "markdown",
   "metadata": {},
   "source": [
    "# Learner and Model"
   ]
  },
  {
   "cell_type": "code",
   "execution_count": 24,
   "metadata": {
    "collapsed": true
   },
   "outputs": [],
   "source": [
    "dep = 'price'\n",
    "test[dep] = 0\n",
    "joined = train[cat_vars+contin_vars+[dep,'name']].copy()\n",
    "joined_test = test[cat_vars+contin_vars+[dep, 'name',  'test_id']].copy()"
   ]
  },
  {
   "cell_type": "code",
   "execution_count": 25,
   "metadata": {},
   "outputs": [
    {
     "data": {
      "text/plain": [
       "['cat1',\n",
       " 'cat2',\n",
       " 'cat3',\n",
       " 'brand_name',\n",
       " 'shipping',\n",
       " 'item_condition_id',\n",
       " 'price',\n",
       " 'name']"
      ]
     },
     "execution_count": 25,
     "metadata": {},
     "output_type": "execute_result"
    }
   ],
   "source": [
    "cat_vars+contin_vars+[dep,'name']"
   ]
  },
  {
   "cell_type": "code",
   "execution_count": 26,
   "metadata": {
    "collapsed": true
   },
   "outputs": [],
   "source": [
    "######## NYI\n",
    "# factors the individual columns (does not make sense for item_description need NLP??)\n",
    "for v in cat_vars: joined[v] = joined[v].astype('category').cat.as_ordered()"
   ]
  },
  {
   "cell_type": "code",
   "execution_count": 27,
   "metadata": {
    "collapsed": true
   },
   "outputs": [],
   "source": [
    "apply_cats(joined_test, joined)"
   ]
  },
  {
   "cell_type": "code",
   "execution_count": 28,
   "metadata": {
    "collapsed": true
   },
   "outputs": [],
   "source": [
    "for v in contin_vars:\n",
    "    joined[v] = joined[v].astype('float32')\n",
    "    joined_test[v] = joined_test[v].astype('float32')"
   ]
  },
  {
   "cell_type": "code",
   "execution_count": 29,
   "metadata": {
    "collapsed": true
   },
   "outputs": [],
   "source": [
    "#joined['item_condition_id'] = joined.item_condition_id.astype(np.int32)\n",
    "#joined['shipping'] = joined.shipping.astype(np.int32)\n",
    "#joined_test['item_condition_id'] = joined_test.item_condition_id.astype(np.int32)\n",
    "#joined_test['shipping'] = joined_test.shipping.astype(np.int32)"
   ]
  },
  {
   "cell_type": "code",
   "execution_count": 30,
   "metadata": {},
   "outputs": [
    {
     "data": {
      "text/plain": [
       "296507"
      ]
     },
     "execution_count": 30,
     "metadata": {},
     "output_type": "execute_result"
    }
   ],
   "source": [
    "n = len(joined)\n",
    "idxs = get_cv_idxs(n, val_pct=0.2)\n",
    "joined_samp = joined.iloc[idxs].set_index(\"name\")\n",
    "samp_size = len(joined_samp); samp_size"
   ]
  },
  {
   "cell_type": "code",
   "execution_count": 31,
   "metadata": {
    "collapsed": true
   },
   "outputs": [],
   "source": [
    "#n = len(joined)\n",
    "#samp_size = n\n",
    "#joined_samp = joined"
   ]
  },
  {
   "cell_type": "code",
   "execution_count": 32,
   "metadata": {},
   "outputs": [
    {
     "data": {
      "text/html": [
       "<div>\n",
       "<style>\n",
       "    .dataframe thead tr:only-child th {\n",
       "        text-align: right;\n",
       "    }\n",
       "\n",
       "    .dataframe thead th {\n",
       "        text-align: left;\n",
       "    }\n",
       "\n",
       "    .dataframe tbody tr th {\n",
       "        vertical-align: top;\n",
       "    }\n",
       "</style>\n",
       "<table border=\"1\" class=\"dataframe\">\n",
       "  <thead>\n",
       "    <tr style=\"text-align: right;\">\n",
       "      <th></th>\n",
       "      <th>cat1</th>\n",
       "      <th>cat2</th>\n",
       "      <th>cat3</th>\n",
       "      <th>brand_name</th>\n",
       "      <th>shipping</th>\n",
       "      <th>item_condition_id</th>\n",
       "      <th>price</th>\n",
       "    </tr>\n",
       "    <tr>\n",
       "      <th>name</th>\n",
       "      <th></th>\n",
       "      <th></th>\n",
       "      <th></th>\n",
       "      <th></th>\n",
       "      <th></th>\n",
       "      <th></th>\n",
       "      <th></th>\n",
       "    </tr>\n",
       "  </thead>\n",
       "  <tbody>\n",
       "    <tr>\n",
       "      <th>F/ship 4 Totoro Washi + 1 pen</th>\n",
       "      <td>Handmade</td>\n",
       "      <td>Paper Goods</td>\n",
       "      <td>Stationery</td>\n",
       "      <td>NaN</td>\n",
       "      <td>1</td>\n",
       "      <td>1.0</td>\n",
       "      <td>12.0</td>\n",
       "    </tr>\n",
       "    <tr>\n",
       "      <th>UCLA Men's Bundle + Shorts</th>\n",
       "      <td>Women</td>\n",
       "      <td>Other</td>\n",
       "      <td>Other</td>\n",
       "      <td>Adidas</td>\n",
       "      <td>1</td>\n",
       "      <td>1.0</td>\n",
       "      <td>76.0</td>\n",
       "    </tr>\n",
       "    <tr>\n",
       "      <th>Listing for lol</th>\n",
       "      <td>Beauty</td>\n",
       "      <td>Makeup</td>\n",
       "      <td>Lips</td>\n",
       "      <td>NaN</td>\n",
       "      <td>1</td>\n",
       "      <td>1.0</td>\n",
       "      <td>12.0</td>\n",
       "    </tr>\n",
       "    <tr>\n",
       "      <th>25 pcs kawaii sticker flakes</th>\n",
       "      <td>Kids</td>\n",
       "      <td>Toys</td>\n",
       "      <td>Arts &amp; Crafts</td>\n",
       "      <td>NaN</td>\n",
       "      <td>1</td>\n",
       "      <td>1.0</td>\n",
       "      <td>3.0</td>\n",
       "    </tr>\n",
       "    <tr>\n",
       "      <th>Chanel Mini Lipgloss Set</th>\n",
       "      <td>Beauty</td>\n",
       "      <td>Makeup</td>\n",
       "      <td>Lips</td>\n",
       "      <td>Chanel</td>\n",
       "      <td>1</td>\n",
       "      <td>2.0</td>\n",
       "      <td>30.0</td>\n",
       "    </tr>\n",
       "  </tbody>\n",
       "</table>\n",
       "</div>"
      ],
      "text/plain": [
       "                                   cat1         cat2           cat3  \\\n",
       "name                                                                  \n",
       "F/ship 4 Totoro Washi + 1 pen  Handmade  Paper Goods     Stationery   \n",
       "UCLA Men's Bundle + Shorts        Women        Other          Other   \n",
       "Listing for lol                  Beauty       Makeup           Lips   \n",
       "25 pcs kawaii sticker flakes       Kids         Toys  Arts & Crafts   \n",
       "Chanel Mini Lipgloss Set         Beauty       Makeup           Lips   \n",
       "\n",
       "                              brand_name shipping  item_condition_id  price  \n",
       "name                                                                         \n",
       "F/ship 4 Totoro Washi + 1 pen        NaN        1                1.0   12.0  \n",
       "UCLA Men's Bundle + Shorts        Adidas        1                1.0   76.0  \n",
       "Listing for lol                      NaN        1                1.0   12.0  \n",
       "25 pcs kawaii sticker flakes         NaN        1                1.0    3.0  \n",
       "Chanel Mini Lipgloss Set          Chanel        1                2.0   30.0  "
      ]
     },
     "execution_count": 32,
     "metadata": {},
     "output_type": "execute_result"
    }
   ],
   "source": [
    "joined_samp.head()"
   ]
  },
  {
   "cell_type": "code",
   "execution_count": 33,
   "metadata": {
    "collapsed": true
   },
   "outputs": [],
   "source": [
    "#??proc_df"
   ]
  },
  {
   "cell_type": "code",
   "execution_count": 34,
   "metadata": {},
   "outputs": [
    {
     "data": {
      "text/plain": [
       "296507"
      ]
     },
     "execution_count": 34,
     "metadata": {},
     "output_type": "execute_result"
    }
   ],
   "source": [
    "len(joined_samp)"
   ]
  },
  {
   "cell_type": "code",
   "execution_count": 35,
   "metadata": {
    "collapsed": true
   },
   "outputs": [],
   "source": [
    "joined_test = joined_test"
   ]
  },
  {
   "cell_type": "code",
   "execution_count": 36,
   "metadata": {
    "collapsed": true
   },
   "outputs": [],
   "source": [
    "joined_test = joined_test.set_index(\"name\")\n",
    "joined = joined.set_index(\"name\")"
   ]
  },
  {
   "cell_type": "code",
   "execution_count": 37,
   "metadata": {
    "collapsed": true
   },
   "outputs": [],
   "source": [
    "df, y, nas, mapper = proc_df(joined, 'price', do_scale=True)\n",
    "yl = np.log(y+1).astype('float32')"
   ]
  },
  {
   "cell_type": "code",
   "execution_count": 38,
   "metadata": {
    "collapsed": true
   },
   "outputs": [],
   "source": [
    "df_test, _, nas, mapper = proc_df(joined_test, 'price', do_scale=True, skip_flds=['test_id'],\n",
    "                                  mapper=mapper, na_dict=nas)\n",
    "#for n,c in joined_samp.items(): print(n), print(c)"
   ]
  },
  {
   "cell_type": "code",
   "execution_count": 39,
   "metadata": {
    "collapsed": true
   },
   "outputs": [],
   "source": [
    "train_ratio = 0.75\n",
    "# train_ratio = 0.9\n",
    "train_size = int(samp_size * train_ratio); train_size\n",
    "val_idx = list(range(train_size, len(df)))"
   ]
  },
  {
   "cell_type": "code",
   "execution_count": 40,
   "metadata": {},
   "outputs": [
    {
     "data": {
      "text/plain": [
       "[222381, 222382, 222383, 222384]"
      ]
     },
     "execution_count": 40,
     "metadata": {},
     "output_type": "execute_result"
    }
   ],
   "source": [
    "val_idx[1:5]"
   ]
  },
  {
   "cell_type": "code",
   "execution_count": 41,
   "metadata": {},
   "outputs": [
    {
     "data": {
      "text/html": [
       "<div>\n",
       "<style>\n",
       "    .dataframe thead tr:only-child th {\n",
       "        text-align: right;\n",
       "    }\n",
       "\n",
       "    .dataframe thead th {\n",
       "        text-align: left;\n",
       "    }\n",
       "\n",
       "    .dataframe tbody tr th {\n",
       "        vertical-align: top;\n",
       "    }\n",
       "</style>\n",
       "<table border=\"1\" class=\"dataframe\">\n",
       "  <thead>\n",
       "    <tr style=\"text-align: right;\">\n",
       "      <th></th>\n",
       "      <th>cat1</th>\n",
       "      <th>cat2</th>\n",
       "      <th>cat3</th>\n",
       "      <th>brand_name</th>\n",
       "      <th>shipping</th>\n",
       "      <th>item_condition_id</th>\n",
       "    </tr>\n",
       "    <tr>\n",
       "      <th>name</th>\n",
       "      <th></th>\n",
       "      <th></th>\n",
       "      <th></th>\n",
       "      <th></th>\n",
       "      <th></th>\n",
       "      <th></th>\n",
       "    </tr>\n",
       "  </thead>\n",
       "  <tbody>\n",
       "    <tr>\n",
       "      <th>MLB Cincinnati Reds T Shirt Size XL</th>\n",
       "      <td>6</td>\n",
       "      <td>104</td>\n",
       "      <td>764</td>\n",
       "      <td>0</td>\n",
       "      <td>2</td>\n",
       "      <td>1.209777</td>\n",
       "    </tr>\n",
       "    <tr>\n",
       "      <th>Razer BlackWidow Chroma Keyboard</th>\n",
       "      <td>2</td>\n",
       "      <td>31</td>\n",
       "      <td>213</td>\n",
       "      <td>3558</td>\n",
       "      <td>1</td>\n",
       "      <td>1.209777</td>\n",
       "    </tr>\n",
       "    <tr>\n",
       "      <th>AVA-VIV Blouse</th>\n",
       "      <td>10</td>\n",
       "      <td>105</td>\n",
       "      <td>95</td>\n",
       "      <td>4181</td>\n",
       "      <td>2</td>\n",
       "      <td>-1.004675</td>\n",
       "    </tr>\n",
       "    <tr>\n",
       "      <th>Leather Horse Statues</th>\n",
       "      <td>4</td>\n",
       "      <td>56</td>\n",
       "      <td>405</td>\n",
       "      <td>0</td>\n",
       "      <td>2</td>\n",
       "      <td>-1.004675</td>\n",
       "    </tr>\n",
       "    <tr>\n",
       "      <th>24K GOLD plated rose</th>\n",
       "      <td>10</td>\n",
       "      <td>59</td>\n",
       "      <td>538</td>\n",
       "      <td>0</td>\n",
       "      <td>1</td>\n",
       "      <td>-1.004675</td>\n",
       "    </tr>\n",
       "  </tbody>\n",
       "</table>\n",
       "</div>"
      ],
      "text/plain": [
       "                                     cat1  cat2  cat3  brand_name  shipping  \\\n",
       "name                                                                          \n",
       "MLB Cincinnati Reds T Shirt Size XL     6   104   764           0         2   \n",
       "Razer BlackWidow Chroma Keyboard        2    31   213        3558         1   \n",
       "AVA-VIV Blouse                         10   105    95        4181         2   \n",
       "Leather Horse Statues                   4    56   405           0         2   \n",
       "24K GOLD plated rose                   10    59   538           0         1   \n",
       "\n",
       "                                     item_condition_id  \n",
       "name                                                    \n",
       "MLB Cincinnati Reds T Shirt Size XL           1.209777  \n",
       "Razer BlackWidow Chroma Keyboard              1.209777  \n",
       "AVA-VIV Blouse                               -1.004675  \n",
       "Leather Horse Statues                        -1.004675  \n",
       "24K GOLD plated rose                         -1.004675  "
      ]
     },
     "execution_count": 41,
     "metadata": {},
     "output_type": "execute_result"
    }
   ],
   "source": [
    "df.head()"
   ]
  },
  {
   "cell_type": "code",
   "execution_count": 42,
   "metadata": {},
   "outputs": [
    {
     "data": {
      "text/plain": [
       "1482535"
      ]
     },
     "execution_count": 42,
     "metadata": {},
     "output_type": "execute_result"
    }
   ],
   "source": [
    "len(joined)"
   ]
  },
  {
   "cell_type": "code",
   "execution_count": 43,
   "metadata": {
    "collapsed": true
   },
   "outputs": [],
   "source": [
    "def exp_rmsle(y_pred, targ):\n",
    "    return math.sqrt(((targ - y_pred)**2).mean())\n",
    "\n",
    "max_log_y = np.max(yl)\n",
    "y_range = (0, max_log_y*1.2)"
   ]
  },
  {
   "cell_type": "code",
   "execution_count": 44,
   "metadata": {
    "collapsed": true
   },
   "outputs": [],
   "source": [
    "md = ColumnarModelData.from_data_frame(PATH, val_idx, df, yl, cat_flds=cat_vars, bs=128, \n",
    "                                       test_df=df_test)"
   ]
  },
  {
   "cell_type": "code",
   "execution_count": 45,
   "metadata": {},
   "outputs": [
    {
     "data": {
      "text/plain": [
       "dtype('float32')"
      ]
     },
     "execution_count": 45,
     "metadata": {},
     "output_type": "execute_result"
    }
   ],
   "source": [
    "yl.dtype"
   ]
  },
  {
   "cell_type": "code",
   "execution_count": 46,
   "metadata": {
    "collapsed": true
   },
   "outputs": [],
   "source": [
    "cat_sz = [(c, len(joined_samp[c].cat.categories)+1) for c in cat_vars]"
   ]
  },
  {
   "cell_type": "code",
   "execution_count": 47,
   "metadata": {},
   "outputs": [
    {
     "data": {
      "text/plain": [
       "[('cat1', 12),\n",
       " ('cat2', 115),\n",
       " ('cat3', 872),\n",
       " ('brand_name', 4810),\n",
       " ('shipping', 3)]"
      ]
     },
     "execution_count": 47,
     "metadata": {},
     "output_type": "execute_result"
    }
   ],
   "source": [
    "cat_sz"
   ]
  },
  {
   "cell_type": "code",
   "execution_count": 48,
   "metadata": {
    "collapsed": true
   },
   "outputs": [],
   "source": [
    "emb_szs = [(c, min(50, (c+1)//2)) for _,c in cat_sz]"
   ]
  },
  {
   "cell_type": "code",
   "execution_count": 49,
   "metadata": {},
   "outputs": [
    {
     "data": {
      "text/plain": [
       "[(12, 6), (115, 50), (872, 50), (4810, 50), (3, 2)]"
      ]
     },
     "execution_count": 49,
     "metadata": {},
     "output_type": "execute_result"
    }
   ],
   "source": [
    "emb_szs"
   ]
  },
  {
   "cell_type": "code",
   "execution_count": 50,
   "metadata": {},
   "outputs": [
    {
     "data": {
      "text/plain": [
       "Index(['cat1', 'cat2', 'cat3', 'brand_name', 'shipping', 'item_condition_id'], dtype='object')"
      ]
     },
     "execution_count": 50,
     "metadata": {},
     "output_type": "execute_result"
    }
   ],
   "source": [
    "df.columns"
   ]
  },
  {
   "cell_type": "code",
   "execution_count": 51,
   "metadata": {},
   "outputs": [
    {
     "data": {
      "text/plain": [
       "['cat1', 'cat2', 'cat3', 'brand_name', 'shipping']"
      ]
     },
     "execution_count": 51,
     "metadata": {},
     "output_type": "execute_result"
    }
   ],
   "source": [
    "cat_vars"
   ]
  },
  {
   "cell_type": "code",
   "execution_count": 52,
   "metadata": {},
   "outputs": [
    {
     "data": {
      "text/plain": [
       "(0, 9.1270677566528313)"
      ]
     },
     "execution_count": 52,
     "metadata": {},
     "output_type": "execute_result"
    }
   ],
   "source": [
    "y_range"
   ]
  },
  {
   "cell_type": "code",
   "execution_count": 53,
   "metadata": {
    "collapsed": true
   },
   "outputs": [],
   "source": [
    "m = md.get_learner(emb_szs, len(df.columns)-len(cat_vars),\n",
    "                   0.04, 1, [1500,1000,500], [0.001,0.01,0.01], y_range=y_range)\n",
    "lr = 1e-3"
   ]
  },
  {
   "cell_type": "code",
   "execution_count": 54,
   "metadata": {},
   "outputs": [
    {
     "data": {
      "application/vnd.jupyter.widget-view+json": {
       "model_id": "29a6d5b95bad46d997bec86a875b66e7",
       "version_major": 2,
       "version_minor": 0
      },
      "text/plain": [
       "A Jupyter Widget"
      ]
     },
     "metadata": {},
     "output_type": "display_data"
    },
    {
     "name": "stdout",
     "output_type": "stream",
     "text": [
      " 61%|██████▏   | 1068/1738 [00:09<00:05, 114.63it/s, loss=1.72] \n",
      "                                                               \r"
     ]
    }
   ],
   "source": [
    "m.lr_find()"
   ]
  },
  {
   "cell_type": "code",
   "execution_count": 55,
   "metadata": {},
   "outputs": [
    {
     "data": {
      "image/png": "[encoded data removed]",
      "text/plain": [
       "<matplotlib.figure.Figure at 0x7efef43e78d0>"
      ]
     },
     "metadata": {},
     "output_type": "display_data"
    }
   ],
   "source": [
    "m.sched.plot()"
   ]
  },
  {
   "cell_type": "code",
   "execution_count": 56,
   "metadata": {},
   "outputs": [
    {
     "data": {
      "application/vnd.jupyter.widget-view+json": {
       "model_id": "f4de2e4727e44cadb717cc7580d80cd9",
       "version_major": 2,
       "version_minor": 0
      },
      "text/plain": [
       "A Jupyter Widget"
      ]
     },
     "metadata": {},
     "output_type": "display_data"
    },
    {
     "name": "stdout",
     "output_type": "stream",
     "text": [
      "[ 0.       0.36065  0.35247  0.59251]                           \n",
      "[ 1.       0.334    0.32686  0.57049]                           \n",
      "[ 2.       0.3201   0.32173  0.56601]                           \n",
      "[ 3.       0.31909  0.32209  0.56627]                           \n",
      "[ 4.       0.31596  0.31786  0.56258]                           \n",
      "[ 5.       0.29835  0.31438  0.55947]                           \n",
      "[ 6.       0.30538  0.31377  0.55894]                           \n",
      "\n"
     ]
    }
   ],
   "source": [
    "lr=5.0e-5\n",
    "m.fit(lr, 3, metrics=[exp_rmsle], cycle_len=1, cycle_mult=2)"
   ]
  },
  {
   "cell_type": "code",
   "execution_count": 48,
   "metadata": {},
   "outputs": [
    {
     "data": {
      "application/vnd.jupyter.widget-view+json": {
       "model_id": "eb1b944b062b4e919416f4d526654d92",
       "version_major": 2,
       "version_minor": 0
      },
      "text/plain": [
       "A Jupyter Widget"
      ]
     },
     "metadata": {},
     "output_type": "display_data"
    },
    {
     "name": "stdout",
     "output_type": "stream",
     "text": [
      "[ 0.       0.32404  0.31878  0.56345]                           \n",
      "[ 1.       0.30513  0.31197  0.55732]                           \n",
      "[ 2.       0.29919  0.31445  0.55954]                           \n",
      "[ 3.       0.28376  0.31089  0.55636]                           \n",
      "[ 4.       0.30098  0.3125   0.55779]                           \n",
      "[ 5.       0.28833  0.31059  0.55608]                           \n",
      "\n"
     ]
    }
   ],
   "source": [
    "lr = 5.0e-4\n",
    "m.fit(lr, 3, metrics=[exp_rmsle], cycle_len=2)"
   ]
  },
  {
   "cell_type": "code",
   "execution_count": 47,
   "metadata": {
    "collapsed": true
   },
   "outputs": [],
   "source": [
    "??md.get_learner"
   ]
  }
 ],
 "metadata": {
  "kernelspec": {
   "display_name": "Python 3",
   "language": "python",
   "name": "python3"
  },
  "language_info": {
   "codemirror_mode": {
    "name": "ipython",
    "version": 3
   },
   "file_extension": ".py",
   "mimetype": "text/x-python",
   "name": "python",
   "nbconvert_exporter": "python",
   "pygments_lexer": "ipython3",
   "version": "3.6.2"
  }
 },
 "nbformat": 4,
 "nbformat_minor": 2
}
