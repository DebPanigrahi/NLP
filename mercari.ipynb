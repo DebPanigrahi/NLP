{
 "cells": [
  {
   "cell_type": "markdown",
   "metadata": {},
   "source": [
    "## Mercari Price Suggestion"
   ]
  },
  {
   "cell_type": "markdown",
   "metadata": {},
   "source": [
    "### Import statements"
   ]
  },
  {
   "cell_type": "code",
   "execution_count": 1,
   "metadata": {
    "collapsed": true
   },
   "outputs": [],
   "source": [
    "%matplotlib inline\n",
    "%reload_ext autoreload\n",
    "%autoreload 2"
   ]
  },
  {
   "cell_type": "code",
   "execution_count": 2,
   "metadata": {
    "collapsed": true
   },
   "outputs": [],
   "source": [
    "from fastai.structured import *\n",
    "from fastai.column_data import *\n",
    "np.set_printoptions(threshold=50, edgeitems=20)\n",
    "\n",
    "import torchtext\n",
    "from torchtext import vocab, data\n",
    "from torchtext.datasets import language_modeling\n",
    "\n",
    "from fastai.rnn_reg import *\n",
    "from fastai.rnn_train import *\n",
    "from fastai.nlp import *\n",
    "from fastai.lm_rnn import *\n",
    "\n",
    "import dill as pickle\n",
    "\n",
    "import timeit"
   ]
  },
  {
   "cell_type": "code",
   "execution_count": 3,
   "metadata": {},
   "outputs": [
    {
     "name": "stdout",
     "output_type": "stream",
     "text": [
      "models\tsample_submission.csv  test.tsv  tmp  train.tsv\r\n"
     ]
    }
   ],
   "source": [
    "PATH='data/'\n",
    "!ls {PATH}"
   ]
  },
  {
   "cell_type": "code",
   "execution_count": 4,
   "metadata": {
    "collapsed": true
   },
   "outputs": [],
   "source": [
    "train = pd.read_csv(f'{PATH}/train.tsv', sep='\\t')\n",
    "test_df = pd.read_csv(f'{PATH}/test.tsv', sep='\\t')"
   ]
  },
  {
   "cell_type": "code",
   "execution_count": 5,
   "metadata": {},
   "outputs": [
    {
     "data": {
      "text/html": [
       "<div>\n",
       "<style>\n",
       "    .dataframe thead tr:only-child th {\n",
       "        text-align: right;\n",
       "    }\n",
       "\n",
       "    .dataframe thead th {\n",
       "        text-align: left;\n",
       "    }\n",
       "\n",
       "    .dataframe tbody tr th {\n",
       "        vertical-align: top;\n",
       "    }\n",
       "</style>\n",
       "<table border=\"1\" class=\"dataframe\">\n",
       "  <thead>\n",
       "    <tr style=\"text-align: right;\">\n",
       "      <th></th>\n",
       "      <th>train_id</th>\n",
       "      <th>name</th>\n",
       "      <th>item_condition_id</th>\n",
       "      <th>category_name</th>\n",
       "      <th>brand_name</th>\n",
       "      <th>price</th>\n",
       "      <th>shipping</th>\n",
       "      <th>item_description</th>\n",
       "    </tr>\n",
       "  </thead>\n",
       "  <tbody>\n",
       "    <tr>\n",
       "      <th>0</th>\n",
       "      <td>0</td>\n",
       "      <td>MLB Cincinnati Reds T Shirt Size XL</td>\n",
       "      <td>3</td>\n",
       "      <td>Men/Tops/T-shirts</td>\n",
       "      <td>NaN</td>\n",
       "      <td>10.0</td>\n",
       "      <td>1</td>\n",
       "      <td>No description yet</td>\n",
       "    </tr>\n",
       "    <tr>\n",
       "      <th>1</th>\n",
       "      <td>1</td>\n",
       "      <td>Razer BlackWidow Chroma Keyboard</td>\n",
       "      <td>3</td>\n",
       "      <td>Electronics/Computers &amp; Tablets/Components &amp; P...</td>\n",
       "      <td>Razer</td>\n",
       "      <td>52.0</td>\n",
       "      <td>0</td>\n",
       "      <td>This keyboard is in great condition and works ...</td>\n",
       "    </tr>\n",
       "  </tbody>\n",
       "</table>\n",
       "</div>"
      ],
      "text/plain": [
       "   train_id                                 name  item_condition_id  \\\n",
       "0         0  MLB Cincinnati Reds T Shirt Size XL                  3   \n",
       "1         1     Razer BlackWidow Chroma Keyboard                  3   \n",
       "\n",
       "                                       category_name brand_name  price  \\\n",
       "0                                  Men/Tops/T-shirts        NaN   10.0   \n",
       "1  Electronics/Computers & Tablets/Components & P...      Razer   52.0   \n",
       "\n",
       "   shipping                                   item_description  \n",
       "0         1                                 No description yet  \n",
       "1         0  This keyboard is in great condition and works ...  "
      ]
     },
     "metadata": {},
     "output_type": "display_data"
    },
    {
     "data": {
      "text/html": [
       "<div>\n",
       "<style>\n",
       "    .dataframe thead tr:only-child th {\n",
       "        text-align: right;\n",
       "    }\n",
       "\n",
       "    .dataframe thead th {\n",
       "        text-align: left;\n",
       "    }\n",
       "\n",
       "    .dataframe tbody tr th {\n",
       "        vertical-align: top;\n",
       "    }\n",
       "</style>\n",
       "<table border=\"1\" class=\"dataframe\">\n",
       "  <thead>\n",
       "    <tr style=\"text-align: right;\">\n",
       "      <th></th>\n",
       "      <th>test_id</th>\n",
       "      <th>name</th>\n",
       "      <th>item_condition_id</th>\n",
       "      <th>category_name</th>\n",
       "      <th>brand_name</th>\n",
       "      <th>shipping</th>\n",
       "      <th>item_description</th>\n",
       "    </tr>\n",
       "  </thead>\n",
       "  <tbody>\n",
       "    <tr>\n",
       "      <th>0</th>\n",
       "      <td>0</td>\n",
       "      <td>Breast cancer \"I fight like a girl\" ring</td>\n",
       "      <td>1</td>\n",
       "      <td>Women/Jewelry/Rings</td>\n",
       "      <td>NaN</td>\n",
       "      <td>1</td>\n",
       "      <td>Size 7</td>\n",
       "    </tr>\n",
       "    <tr>\n",
       "      <th>1</th>\n",
       "      <td>1</td>\n",
       "      <td>25 pcs NEW 7.5\"x12\" Kraft Bubble Mailers</td>\n",
       "      <td>1</td>\n",
       "      <td>Other/Office supplies/Shipping Supplies</td>\n",
       "      <td>NaN</td>\n",
       "      <td>1</td>\n",
       "      <td>25 pcs NEW 7.5\"x12\" Kraft Bubble Mailers Lined...</td>\n",
       "    </tr>\n",
       "  </tbody>\n",
       "</table>\n",
       "</div>"
      ],
      "text/plain": [
       "   test_id                                      name  item_condition_id  \\\n",
       "0        0  Breast cancer \"I fight like a girl\" ring                  1   \n",
       "1        1  25 pcs NEW 7.5\"x12\" Kraft Bubble Mailers                  1   \n",
       "\n",
       "                             category_name brand_name  shipping  \\\n",
       "0                      Women/Jewelry/Rings        NaN         1   \n",
       "1  Other/Office supplies/Shipping Supplies        NaN         1   \n",
       "\n",
       "                                    item_description  \n",
       "0                                             Size 7  \n",
       "1  25 pcs NEW 7.5\"x12\" Kraft Bubble Mailers Lined...  "
      ]
     },
     "metadata": {},
     "output_type": "display_data"
    }
   ],
   "source": [
    "display(train.head(2))\n",
    "display(test_df.head(2))"
   ]
  },
  {
   "cell_type": "code",
   "execution_count": 6,
   "metadata": {},
   "outputs": [],
   "source": [
    "def join_columns(df):\n",
    "    # casting into string converts NaN to nan\n",
    "    ret = '<category> ' + df.category_name.astype(str).str.replace(r'[\\s*]','').str.replace(r'/',' ') \n",
    "    ret += ' <name> ' + df.name.astype(str) + ' <description> ' + df.item_description.astype(str)\n",
    "    return ret\n",
    "\n",
    "train['item_description'] = join_columns(train)\n",
    "test_df['item_description'] = join_columns(test_df)"
   ]
  },
  {
   "cell_type": "code",
   "execution_count": 7,
   "metadata": {},
   "outputs": [
    {
     "data": {
      "text/plain": [
       "'<category> Men Tops T-shirts <name> MLB Cincinnati Reds T Shirt Size XL <description> No description yet'"
      ]
     },
     "execution_count": 7,
     "metadata": {},
     "output_type": "execute_result"
    }
   ],
   "source": [
    "train['item_description'].iloc[0]"
   ]
  },
  {
   "cell_type": "code",
   "execution_count": 8,
   "metadata": {},
   "outputs": [
    {
     "data": {
      "text/plain": [
       "1482535"
      ]
     },
     "execution_count": 8,
     "metadata": {},
     "output_type": "execute_result"
    }
   ],
   "source": [
    "ntrn = len(train)\n",
    "ntrn"
   ]
  },
  {
   "cell_type": "code",
   "execution_count": 9,
   "metadata": {
    "collapsed": true
   },
   "outputs": [],
   "source": [
    "val_idx = train.sample(int(ntrn*0.2)).index\n",
    "(val_df, train_df),  = split_by_idx(val_idx, train)"
   ]
  },
  {
   "cell_type": "code",
   "execution_count": 10,
   "metadata": {},
   "outputs": [
    {
     "data": {
      "text/plain": [
       "0.2"
      ]
     },
     "execution_count": 10,
     "metadata": {},
     "output_type": "execute_result"
    }
   ],
   "source": [
    "len(val_df)/ntrn"
   ]
  },
  {
   "cell_type": "markdown",
   "metadata": {},
   "source": [
    "## Tokenization"
   ]
  },
  {
   "cell_type": "code",
   "execution_count": 11,
   "metadata": {
    "collapsed": true
   },
   "outputs": [],
   "source": [
    "re_tok = re.compile(f'([{string.punctuation}“”¨«»®´·º½¾¿¡§£₤‘’])')\n",
    "re_ptbl = re.compile(f'([{string.printable}])')\n",
    "re_rm = re.compile(r'\\s*\\[\\s*rm\\s*\\]\\s*')\n",
    "re_num = re.compile(r'([0-9])')"
   ]
  },
  {
   "cell_type": "code",
   "execution_count": 12,
   "metadata": {
    "scrolled": true
   },
   "outputs": [
    {
     "data": {
      "text/plain": [
       "'<category> HmDéAnsLhSudipNw.Rlf[]bTqkFJW24KGOC&7Yz/x!)B-~:v✨“”,1MEVX50\\'6PI3U8%(+9\"\\xa0Q@*#;Z➡♡j•❤️\\u3000?［］＊–è’|$⚡▪❄…®✴{}\\\\❇=☑Ó‼☆♥_⬇❗⛔♦°⭐¡^üë❣✭íÁ½✳×✅❌—☺✔➖《》¤″⚠⬆➕■☇◇●▶➔！✉☀✖á★✧ツ†〰\\u200b€¥É©™\\u2028ñシ、（），：‘ú❎☄ô◀ᏢᎡᏟᏞᎬᎪᎢᏌᏚᏆ·♨⚜⃣▼�√«»\\xad⁉α£︎❥♏✈▫⬅ē❓å➺Õ¼☞✽♢○âÜÍᏩᏙᎾᎠᏔç♧◡̈⭕ō⚫ᔕᖇᒪᑎᐯᖴᗩᗯ‑Ⓜ☼⤵↪Ω`⇻◈①②③❀\\u2029⏺\\x7fΚΑθ⋆ғʀᴇʜɪᴘʟᴛᴏᴀᴋɴʏǫᴜᴍᴠʙᴄᴅɢᴡッ¾ℹ◕‿╹⊙︿⏩⏪✝□℃ä✏いなばぁっこんにちはたらラタンワとゃ日本の中古品です。オリジナルケース付きませう傷があり自宅再生機視聴可能しよろくお願ᎷᏴᎻ❁⇝↓⛵【】◑┅♠\\u200eĒ→☻´∀｀・Ñ♻Ô⏰óØᐠᐛᐟ❕⛥¹ᑕᗰ◉ı↖↘↙；ᕼᗷᑌᗪ✓∆ì►⚘ºʕᴥʔà✌ω～✦➾➳⚀✩ꕥ✿ß❃☾☽⚾È▵ÄÇ⚅◆█✯û♛≥≤Ⓡ♤ᴢ◾◼乛Öū⟁➜☡✲゜͡ᵔ͜ʖ☕✂³⚪čï※➰\\x96\\x16ᴊ↔÷ă✪˘¦îê◠✬Β✘語⁄Ìღ✮？＆☐ø⛤☝\\uf8e7ꪹꪵ\\uf81e\\uf823\\uf8eaℓєя⊝◦☃❊⠀ö²―⌚Σ￣\\uf8ff➙⚓Ꮓ↩¿☯☮⚛☪\\ufeff͈ᴗ☒⅜〽ⓡⓔⓓⓑⓛⓐⓒⓚⓦⓗⓘⓣⓢⓤⓝ§Δξェヽノ✕➝∅ⓟⓜⓞⓕ☜↟◄⇒Â═☔❶❷❸❹❺❻،¶Æ˚⛅ﬁ\\x99♪⇢⋅¢༶⛄☠＼／ʘ＄☸⚃「」☹➀➁⛳‡ËŸŠ℅⅛ㅡ⟹❦☁Ûś『』šù✷⊹õã⺣\\u202f⬛İ⏹Ⓢⓨ±⚁￼⅔✄ŕ▿ò➪⁰ā୨୧\\x95∙̀\\u2009♫⛱❔ᑭ➵☘⇨⇦➲\\uf84c△♀℉˝✼さ冊¯ọ✫Ð↕\\uf8ba\\uf8bc\\uf8b8\\uf8bd\\uf8b9\\uf8c0⌛国结刺绣小紫色的心形丝绸挂件Ū\\x14⁴♣⛓〜ゝ∂㎡᙭′どかも森絵ポトビ他╮╯╰╭Φ\\x92➿⏬招猫一'"
      ]
     },
     "execution_count": 12,
     "metadata": {},
     "output_type": "execute_result"
    }
   ],
   "source": [
    "import collections\n",
    "all_des = val_df['item_description'].str.cat(sep=' ')\n",
    "chars = list(all_des)\n",
    "counter=collections.Counter(chars)\n",
    "ret = str('')\n",
    "for x in counter: ret += x[0]\n",
    "ret"
   ]
  },
  {
   "cell_type": "code",
   "execution_count": 13,
   "metadata": {
    "collapsed": true
   },
   "outputs": [],
   "source": [
    "# to skip computation\n",
    "ret = \"\"\"HmDéAnsLhSudipNw.Rlf[]bTqkFJW24KGOC&7Yz/x!)B-~:v✨“”,1MEVX50\\'6PI3U8%(+9\"\\xa0Q@*#;Z➡♡j•❤️\\u3000?［］＊–è’|$⚡▪❄…®✴{}\\\\❇=☑Ó‼☆♥_⬇❗⛔♦°⭐¡^üë❣✭íÁ½✳×✅❌—☺✔➖《》¤″⚠⬆➕■☇◇●▶➔！✉☀✖á★✧ツ†〰\\u200b€¥É©™\\u2028ñシ、（），：‘ú❎☄ô◀ᏢᎡᏟᏞᎬᎪᎢᏌᏚᏆ·♨⚜⃣▼�√«»\\xad⁉α£︎❥♏✈▫⬅ē❓å➺Õ¼☞✽♢○âÜÍᏩᏙᎾᎠᏔç♧◡̈⭕ō⚫ᔕᖇᒪᑎᐯᖴᗩᗯ‑Ⓜ☼⤵↪Ω`⇻◈①②③❀\\u2029⏺\\x7fΚΑθ⋆ғʀᴇʜɪᴘʟᴛᴏᴀᴋɴʏǫᴜᴍᴠʙᴄᴅɢᴡッ¾ℹ◕‿╹⊙︿⏩⏪✝□℃ä✏いなばぁっこんにちはたらラタンワとゃ日本の中古品です。オリジナルケース付きませう傷があり自宅再生機視聴可能しよろくお願ᎷᏴᎻ❁⇝↓⛵【】◑┅♠\\u200eĒ→☻´∀｀・Ñ♻Ô⏰óØᐠᐛᐟ❕⛥¹ᑕᗰ◉ı↖↘↙；ᕼᗷᑌᗪ✓∆ì►⚘ºʕᴥʔà✌ω～✦➾➳⚀✩ꕥ✿ß❃☾☽⚾È▵ÄÇ⚅◆█✯û♛≥≤Ⓡ♤ᴢ◾◼乛Öū⟁➜☡✲゜͡ᵔ͜ʖ☕✂³⚪čï※➰\\x96\\x16ᴊ↔÷ă✪˘¦îê◠✬Β✘語⁄Ìღ✮？＆☐ø⛤☝\\uf8e7ꪹꪵ\\uf81e\\uf823\\uf8eaℓєя⊝◦☃❊⠀ö²―⌚Σ￣\\uf8ff➙⚓Ꮓ↩¿☯☮⚛☪\\ufeff͈ᴗ☒⅜〽ⓡⓔⓓⓑⓛⓐⓒⓚⓦⓗⓘⓣⓢⓤⓝ§Δξェヽノ✕➝∅ⓟⓜⓞⓕ☜↟◄⇒Â═☔❶❷❸❹❺❻،¶Æ˚⛅ﬁ\\x99♪⇢⋅¢༶⛄☠＼／ʘ＄☸⚃「」☹➀➁⛳‡ËŸŠ℅⅛ㅡ⟹❦☁Ûś『』šù✷⊹õã⺣\\u202f⬛İ⏹Ⓢⓨ±⚁￼⅔✄ŕ▿ò➪⁰ā୨୧\\x95∙̀\\u2009♫⛱❔ᑭ➵☘⇨⇦➲\\uf84c△♀℉˝✼さ冊¯ọ✫Ð↕\\uf8ba\\uf8bc\\uf8b8\\uf8bd\\uf8b9\\uf8c0⌛国结刺绣小紫色的心形丝绸挂件Ū\\x14⁴♣⛓〜ゝ∂㎡᙭′どかも森絵ポトビ他╮╯╰╭Φ\\x92➿⏬招猫一\"\"\""
   ]
  },
  {
   "cell_type": "code",
   "execution_count": 14,
   "metadata": {
    "collapsed": true
   },
   "outputs": [],
   "source": [
    "spcl = re_ptbl.sub(r'', ret)\n",
    "re_spcl = re.compile(f'([{spcl}])')"
   ]
  },
  {
   "cell_type": "code",
   "execution_count": 15,
   "metadata": {
    "collapsed": true
   },
   "outputs": [],
   "source": [
    "from spacy.symbols import ORTH\n",
    "\n",
    "my_tok = spacy.load('en')\n",
    "\n",
    "# To join multiple columns\n",
    "# my_tok.tokenizer.add_special_case('<SUMM>', [{ORTH: '<SUMM>'}])\n",
    "my_tok.tokenizer.add_special_case('<eos>', [{ORTH: '<eos>'}])\n",
    "my_tok.tokenizer.add_special_case('<category>', [{ORTH: '<category>'}])\n",
    "my_tok.tokenizer.add_special_case('<name>', [{ORTH: '<name>'}])\n",
    "my_tok.tokenizer.add_special_case('<description>', [{ORTH: '<description>'}])\n",
    "my_tok.tokenizer.add_special_case('[rm]', [{ORTH: '[rm]'}])\n",
    "\n",
    "def my_spacy_tok(x):\n",
    "    x = str(x).lower()\n",
    "    # x = re.sub(r'[^\\x00-\\x7f]', r' ', x)\n",
    "    x = re_rm.sub(' [rm] ', x)\n",
    "    x = re_num.sub(r' \\1 ', x)\n",
    "    x = re_spcl.sub(r' \\1 ', x)\n",
    "    x = ' '.join(x.split())\n",
    "    return [tok.text for tok in my_tok.tokenizer(x)]"
   ]
  },
  {
   "cell_type": "markdown",
   "metadata": {},
   "source": [
    "## Language Model for category, name and item_description "
   ]
  },
  {
   "cell_type": "code",
   "execution_count": 16,
   "metadata": {
    "collapsed": true
   },
   "outputs": [],
   "source": [
    "# Use small portion for text modeling \n",
    "sample = 0.2\n",
    "train_text = train.sample(int(sample*len(train))).reset_index()"
   ]
  },
  {
   "cell_type": "code",
   "execution_count": 17,
   "metadata": {
    "collapsed": true
   },
   "outputs": [],
   "source": [
    "text_val_idx = train_text.sample(int(len(train_text)*0.2)).index\n",
    "(val_text, train_text),  = split_by_idx(text_val_idx, train_text)"
   ]
  },
  {
   "cell_type": "code",
   "execution_count": 18,
   "metadata": {},
   "outputs": [
    {
     "data": {
      "text/plain": [
       "(array([   1135.,   56803.,  111234.,  172722.,  100045.,  138350.,   83271.,  109401.,   63493.,   81542.,\n",
       "          46619.,   61350.,   35199.,   45828.,   27106.,   36000.,   21148.,   27510.,   16214.,   21298.,\n",
       "        ...,     162.,      88.,     200.,      82.,      47.,      96.,     101.,      32.,      79.,\n",
       "             24.,       8.,       1.,       2.,       0.,       1.,       0.,       1.,       1.,       1.,\n",
       "              1.]),\n",
       " array([   6.  ,    8.52,   11.04,   13.56,   16.08,   18.6 ,   21.12,   23.64,   26.16,   28.68,   31.2 ,\n",
       "          33.72,   36.24,   38.76,   41.28,   43.8 ,   46.32,   48.84,   51.36,   53.88, ...,  210.12,  212.64,\n",
       "         215.16,  217.68,  220.2 ,  222.72,  225.24,  227.76,  230.28,  232.8 ,  235.32,  237.84,  240.36,\n",
       "         242.88,  245.4 ,  247.92,  250.44,  252.96,  255.48,  258.  ]),\n",
       " <a list of 100 Patch objects>)"
      ]
     },
     "execution_count": 18,
     "metadata": {},
     "output_type": "execute_result"
    },
    {
     "data": {
      "image/png": "[encoded data removed]",
      "text/plain": [
       "<matplotlib.figure.Figure at 0x7f30f2f93438>"
      ]
     },
     "metadata": {},
     "output_type": "display_data"
    }
   ],
   "source": [
    "text_length = train['item_description'].apply(lambda x: len(str(x).split()))\n",
    "plt.hist(text_length, bins=100)"
   ]
  },
  {
   "cell_type": "code",
   "execution_count": 19,
   "metadata": {
    "collapsed": true
   },
   "outputs": [],
   "source": [
    "ITEM_DESCRIPTION = data.Field(lower=True, tokenize=my_spacy_tok)"
   ]
  },
  {
   "cell_type": "markdown",
   "metadata": {},
   "source": [
    "Possible text processings:\n",
    "0. min_freq, bs, bptt \n",
    "1. highlight for a streak of caps\n",
    "2. replace \" -\" word with `<list>`\n",
    "3. plural handling (?)\n",
    "4. handling past/present/future tense\n"
   ]
  },
  {
   "cell_type": "code",
   "execution_count": 20,
   "metadata": {
    "collapsed": true
   },
   "outputs": [],
   "source": [
    "bs,bptt = 128,50\n",
    "min_freq=10"
   ]
  },
  {
   "cell_type": "code",
   "execution_count": 21,
   "metadata": {},
   "outputs": [],
   "source": [
    "# DF takes 12mins on GTX1060\n",
    "idmd = LanguageModelData.from_dataframes(PATH, ITEM_DESCRIPTION, 'item_description', train_text, val_text, val_text, \n",
    "                                       bs=bs, bptt=bptt, min_freq=min_freq)\n",
    "pickle.dump(ITEM_DESCRIPTION, open(f'{PATH}models/ITEM_DESCRIPTION_{min_freq}.pkl','wb'))"
   ]
  },
  {
   "cell_type": "code",
   "execution_count": 22,
   "metadata": {},
   "outputs": [],
   "source": [
    "# This is to test if numericalization is possible with the given text with symbols and all special characters\n",
    "# Since the origibal text can be lengthy \n",
    "def test_text_dataload(df, col):\n",
    "    # fir create Fields\n",
    "    TEXT = data.Field(lower=True, tokenize=my_spacy_tok)\n",
    "    fields = [('text', TEXT)]\n",
    "    text = []\n",
    "    # Tokenize\n",
    "    text += TEXT.preprocess(df[col].str.cat(sep=' <eos> '))\n",
    "    text.append('<eos>')\n",
    "    # create datasets\n",
    "    examples = [torchtext.data.Example.fromlist([text], fields)]\n",
    "    dataset = torchtext.data.Dataset(examples, fields)\n",
    "    # create dataloader from dataset this is one long text \n",
    "    text = sum([o.text for o in dataset], [])\n",
    "    n=100\n",
    "    for i in np.arange(int(len(text)/n)):\n",
    "        itext = [text[i*n:(i+1)*n]]\n",
    "        try: \n",
    "            nums = TEXT.numericalize(itext)\n",
    "        except (RuntimeError):\n",
    "            print(itext)\n",
    "    return \n",
    "\n",
    "#test_numericalize(train_text, 'item_description')"
   ]
  },
  {
   "cell_type": "code",
   "execution_count": 23,
   "metadata": {},
   "outputs": [
    {
     "data": {
      "text/plain": [
       "[(2027, '♥'), (0, '<unk>')]"
      ]
     },
     "execution_count": 23,
     "metadata": {},
     "output_type": "execute_result"
    }
   ],
   "source": [
    "idxs = ITEM_DESCRIPTION.numericalize([['♥', 'xyz']])\n",
    "idxs = idxs.data.cpu().numpy().ravel()\n",
    "#ITEM_DESCRIPTION.vocab.itos[idx.data.cpu().numpy()[0]]\n",
    "#idx.data.cpu().numpy()\n",
    "[(idx,ITEM_DESCRIPTION.vocab.itos[idx]) for idx in idxs]"
   ]
  },
  {
   "cell_type": "markdown",
   "metadata": {},
   "source": [
    "#### Unfderstanding Input/Output"
   ]
  },
  {
   "cell_type": "code",
   "execution_count": 24,
   "metadata": {},
   "outputs": [
    {
     "data": {
      "text/plain": [
       "'<unk> || <pad> || . || , || <category> || <description> || <eos> || <name> || ! || and || 1 || women'"
      ]
     },
     "execution_count": 24,
     "metadata": {},
     "output_type": "execute_result"
    }
   ],
   "source": [
    "' || '.join(ITEM_DESCRIPTION.vocab.itos[:12])"
   ]
  },
  {
   "cell_type": "code",
   "execution_count": 25,
   "metadata": {},
   "outputs": [
    {
     "data": {
      "text/plain": [
       "17013"
      ]
     },
     "execution_count": 25,
     "metadata": {},
     "output_type": "execute_result"
    }
   ],
   "source": [
    "len(ITEM_DESCRIPTION.vocab.itos[:])"
   ]
  },
  {
   "cell_type": "code",
   "execution_count": 26,
   "metadata": {},
   "outputs": [
    {
     "data": {
      "text/plain": [
       "(1667, 17013, 1, 10678786)"
      ]
     },
     "execution_count": 26,
     "metadata": {},
     "output_type": "execute_result"
    }
   ],
   "source": [
    "len(idmd.trn_dl), idmd.nt, len(idmd.trn_ds), len(idmd.trn_ds[0].text)"
   ]
  },
  {
   "cell_type": "code",
   "execution_count": 27,
   "metadata": {},
   "outputs": [
    {
     "data": {
      "text/plain": [
       "'<category>   women   athleticapparel   sportsbras   <name>   lululemon   free   to   be   zen   bra   <description>   size   6   .   only   worn   once   ,   i   just   prefer   the   free   to   be   wild   bra   .   <eos>   <category>   handmade   clothing   costume   <name>   infant   6   -   9   mickey   mouse   costume   <description>   excellent   condition   6   -   9   m   .'"
      ]
     },
     "execution_count": 27,
     "metadata": {},
     "output_type": "execute_result"
    }
   ],
   "source": [
    "'   '.join(idmd.trn_ds[0].text[:50])"
   ]
  },
  {
   "cell_type": "code",
   "execution_count": 28,
   "metadata": {
    "scrolled": true
   },
   "outputs": [
    {
     "data": {
      "text/plain": [
       "array([   4,   11,   78,  823,    7,  355,   32,   21,   87, 6639,  201,    5,   19,   33,    2,   84,   56,\n",
       "        142,    3,   29,  129, 2983,   12,   32,   21,   87, 1387,  201,    2,    6,    4,  217,  543,  746,\n",
       "          7, 1488,   33,   13,   76, 1328, 1026,  746,    5,  194,   42,   33,   13,   76,  175,    2])"
      ]
     },
     "execution_count": 28,
     "metadata": {},
     "output_type": "execute_result"
    }
   ],
   "source": [
    "to_np(ITEM_DESCRIPTION.numericalize([idmd.trn_ds[0].text[:50]])).ravel()"
   ]
  },
  {
   "cell_type": "code",
   "execution_count": 29,
   "metadata": {},
   "outputs": [
    {
     "name": "stdout",
     "output_type": "stream",
     "text": [
      "Xs=Variable containing:\n",
      "     4    395   1610  ...     146  13716   2577\n",
      "    11    505      7  ...       3    847    257\n",
      "    78     59   2318  ...      64      5      6\n",
      "        ...            ⋱           ...         \n",
      "     3      8     82  ...       3     12     13\n",
      "   802      6    178  ...      79    242   1253\n",
      "   715      4    226  ...      13      2      2\n",
      "[torch.cuda.LongTensor of size 58x128 (GPU 0)]\n",
      "\n",
      "Ys=Variable containing:\n",
      "    11\n",
      "   505\n",
      "     7\n",
      "  ⋮   \n",
      "    43\n",
      "    89\n",
      "    31\n",
      "[torch.cuda.LongTensor of size 7424 (GPU 0)]\n",
      "\n"
     ]
    }
   ],
   "source": [
    "batch = next(iter(idmd.trn_dl))\n",
    "xs, y = batch\n",
    "print(\"Xs={}\\nYs={}\".format(xs, y))"
   ]
  },
  {
   "cell_type": "markdown",
   "metadata": {},
   "source": [
    "### TEXT Model Learner\n",
    "##### Tune these learning parameters"
   ]
  },
  {
   "cell_type": "code",
   "execution_count": 30,
   "metadata": {
    "collapsed": true
   },
   "outputs": [],
   "source": [
    "em_sz = 100  # size of each embedding vector\n",
    "nh = 200     # number of hidden activations per layer\n",
    "nl = 3       # number of layers\n",
    "opt_fn = partial(optim.Adam, betas=(0.7, 0.99))"
   ]
  },
  {
   "cell_type": "code",
   "execution_count": 31,
   "metadata": {
    "collapsed": true
   },
   "outputs": [],
   "source": [
    "id_learner = idmd.get_model(opt_fn, em_sz, nh, nl,\n",
    "               dropouti=0.05, dropout=0.05, wdrop=0.1, dropoute=0.02, dropouth=0.05)"
   ]
  },
  {
   "cell_type": "code",
   "execution_count": 32,
   "metadata": {
    "collapsed": true
   },
   "outputs": [],
   "source": [
    "id_learner.reg_fn = partial(seq2seq_reg, alpha=2, beta=1)\n",
    "id_learner.clip=0.3"
   ]
  },
  {
   "cell_type": "markdown",
   "metadata": {},
   "source": [
    "#### Unfderstanding Input/Output of the Edcoder-Decoder Model"
   ]
  },
  {
   "cell_type": "code",
   "execution_count": 33,
   "metadata": {},
   "outputs": [
    {
     "data": {
      "text/plain": [
       "1482535"
      ]
     },
     "execution_count": 33,
     "metadata": {},
     "output_type": "execute_result"
    }
   ],
   "source": [
    "ntrn"
   ]
  },
  {
   "cell_type": "code",
   "execution_count": 34,
   "metadata": {},
   "outputs": [
    {
     "data": {
      "text/plain": [
       "SequentialRNN (\n",
       "  (0): RNN_Encoder (\n",
       "    (encoder): Embedding(17013, 100, padding_idx=1)\n",
       "    (encoder_with_dropout): EmbeddingDropout (\n",
       "      (embed): Embedding(17013, 100, padding_idx=1)\n",
       "    )\n",
       "    (rnns): ModuleList (\n",
       "      (0): WeightDrop (\n",
       "        (module): LSTM(100, 200, dropout=0.05)\n",
       "      )\n",
       "      (1): WeightDrop (\n",
       "        (module): LSTM(200, 200, dropout=0.05)\n",
       "      )\n",
       "      (2): WeightDrop (\n",
       "        (module): LSTM(200, 100, dropout=0.05)\n",
       "      )\n",
       "    )\n",
       "    (dropouti): LockedDropout (\n",
       "    )\n",
       "    (dropouths): ModuleList (\n",
       "      (0): LockedDropout (\n",
       "      )\n",
       "      (1): LockedDropout (\n",
       "      )\n",
       "      (2): LockedDropout (\n",
       "      )\n",
       "    )\n",
       "  )\n",
       "  (1): LinearDecoder (\n",
       "    (decoder): Linear (100 -> 17013)\n",
       "    (dropout): LockedDropout (\n",
       "    )\n",
       "  )\n",
       ")"
      ]
     },
     "execution_count": 34,
     "metadata": {},
     "output_type": "execute_result"
    }
   ],
   "source": [
    "lm = id_learner.model\n",
    "lm"
   ]
  },
  {
   "cell_type": "code",
   "execution_count": 35,
   "metadata": {
    "scrolled": true
   },
   "outputs": [
    {
     "data": {
      "text/plain": [
       "Variable containing:\n",
       "( 0 ,.,.) = \n",
       " -1.5731e-02  6.1205e-03  6.8307e-03  ...  -2.5047e-02  1.5227e-02 -1.6441e-02\n",
       " -1.5582e-02  5.7542e-03  5.9558e-03  ...  -2.6035e-02  1.4345e-02 -1.4349e-02\n",
       " -1.5142e-02  5.7881e-03  7.3966e-03  ...  -2.5737e-02  1.6483e-02 -1.4129e-02\n",
       "                 ...                   ⋱                   ...                \n",
       " -1.4011e-02  6.4452e-03  5.2109e-03  ...  -2.4353e-02  1.5408e-02 -1.4372e-02\n",
       " -1.5183e-02  5.7371e-03  6.2190e-03  ...  -2.5805e-02  1.3605e-02 -1.3258e-02\n",
       " -1.4426e-02  5.7051e-03  7.3843e-03  ...  -2.5623e-02  1.5316e-02 -1.4506e-02\n",
       "\n",
       "( 1 ,.,.) = \n",
       " -2.0027e-02  8.4865e-03  1.3964e-02  ...  -3.3552e-02  2.5763e-02 -2.0988e-02\n",
       " -1.9349e-02  8.2408e-03  1.2837e-02  ...  -3.5701e-02  2.3877e-02 -1.7047e-02\n",
       " -1.8665e-02  8.0221e-03  1.5260e-02  ...  -3.5434e-02  2.7358e-02 -1.6225e-02\n",
       "                 ...                   ⋱                   ...                \n",
       " -1.6201e-02  9.0498e-03  1.0756e-02  ...  -3.2406e-02  2.6096e-02 -1.7379e-02\n",
       " -1.9179e-02  7.4070e-03  1.2681e-02  ...  -3.5433e-02  2.2289e-02 -1.5221e-02\n",
       " -1.7484e-02  7.6357e-03  1.5149e-02  ...  -3.4610e-02  2.5591e-02 -1.6881e-02\n",
       "\n",
       "( 2 ,.,.) = \n",
       " -2.0913e-02  9.0609e-03  2.0639e-02  ...  -3.5777e-02  3.3292e-02 -2.2394e-02\n",
       " -1.9810e-02  8.8980e-03  1.9662e-02  ...  -3.8796e-02  3.0413e-02 -1.6901e-02\n",
       " -1.9412e-02  8.7818e-03  2.2733e-02  ...  -3.8419e-02  3.4790e-02 -1.5519e-02\n",
       "                 ...                   ⋱                   ...                \n",
       " -1.5451e-02  9.4248e-03  1.6496e-02  ...  -3.3350e-02  3.3767e-02 -1.7629e-02\n",
       " -2.0356e-02  7.4229e-03  1.8717e-02  ...  -3.8245e-02  2.8634e-02 -1.4584e-02\n",
       " -1.7716e-02  7.7174e-03  2.2574e-02  ...  -3.6579e-02  3.2914e-02 -1.6329e-02\n",
       "... \n",
       "\n",
       "(55 ,.,.) = \n",
       " -2.1666e-02  5.3996e-03  3.9928e-02  ...  -3.4057e-02  4.6674e-02 -2.6010e-02\n",
       " -2.1232e-02  5.0430e-03  3.8094e-02  ...  -3.6582e-02  4.2275e-02 -1.7731e-02\n",
       " -2.0856e-02  5.0195e-03  4.5417e-02  ...  -3.3975e-02  4.8058e-02 -1.7906e-02\n",
       "                 ...                   ⋱                   ...                \n",
       " -1.3103e-02  5.9836e-03  3.6141e-02  ...  -2.9999e-02  4.7803e-02 -1.7216e-02\n",
       " -2.4061e-02  4.2620e-03  3.6009e-02  ...  -3.3967e-02  4.2273e-02 -1.2941e-02\n",
       " -1.9502e-02  2.6183e-03  4.3735e-02  ...  -3.2038e-02  4.6220e-02 -1.4217e-02\n",
       "\n",
       "(56 ,.,.) = \n",
       " -2.1465e-02  4.9689e-03  3.9803e-02  ...  -3.3881e-02  4.6941e-02 -2.6043e-02\n",
       " -2.1147e-02  4.8687e-03  3.8133e-02  ...  -3.6399e-02  4.2899e-02 -1.7739e-02\n",
       " -2.1236e-02  5.2351e-03  4.5555e-02  ...  -3.4459e-02  4.8007e-02 -1.7617e-02\n",
       "                 ...                   ⋱                   ...                \n",
       " -1.3389e-02  5.5245e-03  3.6179e-02  ...  -2.9757e-02  4.8245e-02 -1.7235e-02\n",
       " -2.3985e-02  4.0476e-03  3.5665e-02  ...  -3.3434e-02  4.2208e-02 -1.3062e-02\n",
       " -1.9519e-02  2.8924e-03  4.4054e-02  ...  -3.2015e-02  4.6410e-02 -1.4149e-02\n",
       "\n",
       "(57 ,.,.) = \n",
       " -2.1310e-02  5.1051e-03  3.9686e-02  ...  -3.3814e-02  4.7076e-02 -2.5765e-02\n",
       " -2.1365e-02  4.6970e-03  3.8252e-02  ...  -3.5739e-02  4.3363e-02 -1.8074e-02\n",
       " -2.1657e-02  5.6235e-03  4.5457e-02  ...  -3.5324e-02  4.8253e-02 -1.7347e-02\n",
       "                 ...                   ⋱                   ...                \n",
       " -1.3308e-02  5.1115e-03  3.6313e-02  ...  -2.9348e-02  4.8694e-02 -1.7182e-02\n",
       " -2.4245e-02  3.7480e-03  3.5876e-02  ...  -3.3429e-02  4.1998e-02 -1.3291e-02\n",
       " -1.9657e-02  2.8664e-03  4.4541e-02  ...  -3.1805e-02  4.6388e-02 -1.4651e-02\n",
       "[torch.cuda.FloatTensor of size 58x128x100 (GPU 0)]"
      ]
     },
     "execution_count": 35,
     "metadata": {},
     "output_type": "execute_result"
    }
   ],
   "source": [
    "# Test 1 batch \n",
    "lm.reset()   # Initializes hidden states\n",
    "rnn_enc, lin_dec = lm\n",
    "raw_outputs, outputs = rnn_enc(*[xs])\n",
    "lstm1_op, lstm2_op, lstm3_op = outputs\n",
    "lstm3_op"
   ]
  },
  {
   "cell_type": "code",
   "execution_count": 36,
   "metadata": {},
   "outputs": [
    {
     "data": {
      "text/plain": [
       "Variable containing:\n",
       "-2.7989e-03  7.9356e-03  1.6825e-02  ...  -1.7554e-02  2.7044e-03 -2.3861e-02\n",
       " 2.7849e-03  5.3270e-03  1.0889e-02  ...  -2.2364e-02  3.1328e-03 -2.9525e-02\n",
       "-8.1814e-04  7.7873e-03  1.9272e-02  ...  -2.6617e-02  4.8403e-03 -3.0144e-02\n",
       "                ...                   ⋱                   ...                \n",
       " 1.7116e-02  2.3958e-02  3.8657e-02  ...  -3.9218e-02  9.6431e-03 -6.4329e-02\n",
       " 2.8861e-02  1.9358e-02  4.6731e-02  ...  -4.6802e-02  1.2958e-02 -6.3426e-02\n",
       " 1.2194e-02  2.2644e-02  5.1147e-02  ...  -4.8008e-02  1.5047e-02 -6.9422e-02\n",
       "[torch.cuda.FloatTensor of size 7424x17013 (GPU 0)]"
      ]
     },
     "execution_count": 36,
     "metadata": {},
     "output_type": "execute_result"
    }
   ],
   "source": [
    "word_map, raw_outputs, outputs = lin_dec([raw_outputs, outputs])\n",
    "word_map"
   ]
  },
  {
   "cell_type": "code",
   "execution_count": 71,
   "metadata": {},
   "outputs": [
    {
     "data": {
      "application/vnd.jupyter.widget-view+json": {
       "model_id": "6046b5f1f5e748d0929b2d30120765af",
       "version_major": 2,
       "version_minor": 0
      },
      "text/plain": [
       "A Jupyter Widget"
      ]
     },
     "metadata": {},
     "output_type": "display_data"
    },
    {
     "name": "stdout",
     "output_type": "stream",
     "text": [
      " 97%|█████████▋| 1613/1661 [03:09<00:05,  8.50it/s, loss=18.7]"
     ]
    }
   ],
   "source": [
    "id_learner.lr_find()"
   ]
  },
  {
   "cell_type": "code",
   "execution_count": 72,
   "metadata": {},
   "outputs": [
    {
     "data": {
      "image/png": "[encoded data removed]",
      "text/plain": [
       "<matplotlib.figure.Figure at 0x7f2525f56710>"
      ]
     },
     "metadata": {},
     "output_type": "display_data"
    }
   ],
   "source": [
    "id_learner.sched.plot()"
   ]
  },
  {
   "cell_type": "code",
   "execution_count": 37,
   "metadata": {},
   "outputs": [
    {
     "data": {
      "application/vnd.jupyter.widget-view+json": {
       "model_id": "522e2c15c3534a8b8a0fd4baf5c0f0d3",
       "version_major": 2,
       "version_minor": 0
      },
      "text/plain": [
       "A Jupyter Widget"
      ]
     },
     "metadata": {},
     "output_type": "display_data"
    },
    {
     "name": "stdout",
     "output_type": "stream",
     "text": [
      "                                                              \r"
     ]
    },
    {
     "ename": "RuntimeError",
     "evalue": "cuda runtime error (2) : out of memory at /opt/conda/conda-bld/pytorch_1511320797808/work/torch/lib/THC/generic/THCStorage.cu:66",
     "output_type": "error",
     "traceback": [
      "\u001b[0;31m---------------------------------------------------------------------------\u001b[0m",
      "\u001b[0;31mRuntimeError\u001b[0m                              Traceback (most recent call last)",
      "\u001b[0;32m<ipython-input-37-fe81ee0a0e8f>\u001b[0m in \u001b[0;36m<module>\u001b[0;34m()\u001b[0m\n\u001b[0;32m----> 1\u001b[0;31m \u001b[0mid_learner\u001b[0m\u001b[0;34m.\u001b[0m\u001b[0mfit\u001b[0m\u001b[0;34m(\u001b[0m\u001b[0;36m2.0e-2\u001b[0m\u001b[0;34m,\u001b[0m \u001b[0;36m2\u001b[0m\u001b[0;34m,\u001b[0m \u001b[0mwds\u001b[0m\u001b[0;34m=\u001b[0m\u001b[0;36m1e-6\u001b[0m\u001b[0;34m,\u001b[0m \u001b[0mcycle_len\u001b[0m\u001b[0;34m=\u001b[0m\u001b[0;36m1\u001b[0m\u001b[0;34m,\u001b[0m \u001b[0mcycle_mult\u001b[0m\u001b[0;34m=\u001b[0m\u001b[0;36m3\u001b[0m\u001b[0;34m)\u001b[0m\u001b[0;34m\u001b[0m\u001b[0m\n\u001b[0m",
      "\u001b[0;32m~/mercari/fastai/learner.py\u001b[0m in \u001b[0;36mfit\u001b[0;34m(self, lrs, n_cycle, wds, **kwargs)\u001b[0m\n\u001b[1;32m    211\u001b[0m         \u001b[0mself\u001b[0m\u001b[0;34m.\u001b[0m\u001b[0msched\u001b[0m \u001b[0;34m=\u001b[0m \u001b[0;32mNone\u001b[0m\u001b[0;34m\u001b[0m\u001b[0m\n\u001b[1;32m    212\u001b[0m         \u001b[0mlayer_opt\u001b[0m \u001b[0;34m=\u001b[0m \u001b[0mself\u001b[0m\u001b[0;34m.\u001b[0m\u001b[0mget_layer_opt\u001b[0m\u001b[0;34m(\u001b[0m\u001b[0mlrs\u001b[0m\u001b[0;34m,\u001b[0m \u001b[0mwds\u001b[0m\u001b[0;34m)\u001b[0m\u001b[0;34m\u001b[0m\u001b[0m\n\u001b[0;32m--> 213\u001b[0;31m         \u001b[0mself\u001b[0m\u001b[0;34m.\u001b[0m\u001b[0mfit_gen\u001b[0m\u001b[0;34m(\u001b[0m\u001b[0mself\u001b[0m\u001b[0;34m.\u001b[0m\u001b[0mmodel\u001b[0m\u001b[0;34m,\u001b[0m \u001b[0mself\u001b[0m\u001b[0;34m.\u001b[0m\u001b[0mdata\u001b[0m\u001b[0;34m,\u001b[0m \u001b[0mlayer_opt\u001b[0m\u001b[0;34m,\u001b[0m \u001b[0mn_cycle\u001b[0m\u001b[0;34m,\u001b[0m \u001b[0;34m**\u001b[0m\u001b[0mkwargs\u001b[0m\u001b[0;34m)\u001b[0m\u001b[0;34m\u001b[0m\u001b[0m\n\u001b[0m\u001b[1;32m    214\u001b[0m \u001b[0;34m\u001b[0m\u001b[0m\n\u001b[1;32m    215\u001b[0m     \u001b[0;32mdef\u001b[0m \u001b[0mwarm_up\u001b[0m\u001b[0;34m(\u001b[0m\u001b[0mself\u001b[0m\u001b[0;34m,\u001b[0m \u001b[0mstart_lr\u001b[0m\u001b[0;34m=\u001b[0m\u001b[0;36m1e-5\u001b[0m\u001b[0;34m,\u001b[0m \u001b[0mend_lr\u001b[0m\u001b[0;34m=\u001b[0m\u001b[0;36m10\u001b[0m\u001b[0;34m,\u001b[0m \u001b[0mwds\u001b[0m\u001b[0;34m=\u001b[0m\u001b[0;32mNone\u001b[0m\u001b[0;34m)\u001b[0m\u001b[0;34m:\u001b[0m\u001b[0;34m\u001b[0m\u001b[0m\n",
      "\u001b[0;32m~/mercari/fastai/learner.py\u001b[0m in \u001b[0;36mfit_gen\u001b[0;34m(self, model, data, layer_opt, n_cycle, cycle_len, cycle_mult, cycle_save_name, metrics, callbacks, use_wd_sched, norm_wds, wds_sched_mult, **kwargs)\u001b[0m\n\u001b[1;32m    158\u001b[0m         \u001b[0mn_epoch\u001b[0m \u001b[0;34m=\u001b[0m \u001b[0msum_geom\u001b[0m\u001b[0;34m(\u001b[0m\u001b[0mcycle_len\u001b[0m \u001b[0;32mif\u001b[0m \u001b[0mcycle_len\u001b[0m \u001b[0;32melse\u001b[0m \u001b[0;36m1\u001b[0m\u001b[0;34m,\u001b[0m \u001b[0mcycle_mult\u001b[0m\u001b[0;34m,\u001b[0m \u001b[0mn_cycle\u001b[0m\u001b[0;34m)\u001b[0m\u001b[0;34m\u001b[0m\u001b[0m\n\u001b[1;32m    159\u001b[0m         fit(model, data, n_epoch, layer_opt.opt, self.crit,\n\u001b[0;32m--> 160\u001b[0;31m             metrics=metrics, callbacks=callbacks, reg_fn=self.reg_fn, clip=self.clip, **kwargs)\n\u001b[0m\u001b[1;32m    161\u001b[0m \u001b[0;34m\u001b[0m\u001b[0m\n\u001b[1;32m    162\u001b[0m     \u001b[0;32mdef\u001b[0m \u001b[0mget_layer_groups\u001b[0m\u001b[0;34m(\u001b[0m\u001b[0mself\u001b[0m\u001b[0;34m)\u001b[0m\u001b[0;34m:\u001b[0m \u001b[0;32mreturn\u001b[0m \u001b[0mself\u001b[0m\u001b[0;34m.\u001b[0m\u001b[0mmodels\u001b[0m\u001b[0;34m.\u001b[0m\u001b[0mget_layer_groups\u001b[0m\u001b[0;34m(\u001b[0m\u001b[0;34m)\u001b[0m\u001b[0;34m\u001b[0m\u001b[0m\n",
      "\u001b[0;32m~/mercari/fastai/model.py\u001b[0m in \u001b[0;36mfit\u001b[0;34m(model, data, epochs, opt, crit, metrics, callbacks, **kwargs)\u001b[0m\n\u001b[1;32m     97\u001b[0m             \u001b[0;32mif\u001b[0m \u001b[0mstop\u001b[0m\u001b[0;34m:\u001b[0m \u001b[0;32mreturn\u001b[0m\u001b[0;34m\u001b[0m\u001b[0m\n\u001b[1;32m     98\u001b[0m \u001b[0;34m\u001b[0m\u001b[0m\n\u001b[0;32m---> 99\u001b[0;31m         \u001b[0mvals\u001b[0m \u001b[0;34m=\u001b[0m \u001b[0mvalidate\u001b[0m\u001b[0;34m(\u001b[0m\u001b[0mstepper\u001b[0m\u001b[0;34m,\u001b[0m \u001b[0mdata\u001b[0m\u001b[0;34m.\u001b[0m\u001b[0mval_dl\u001b[0m\u001b[0;34m,\u001b[0m \u001b[0mmetrics\u001b[0m\u001b[0;34m)\u001b[0m\u001b[0;34m\u001b[0m\u001b[0m\n\u001b[0m\u001b[1;32m    100\u001b[0m         \u001b[0mprint\u001b[0m\u001b[0;34m(\u001b[0m\u001b[0mnp\u001b[0m\u001b[0;34m.\u001b[0m\u001b[0mround\u001b[0m\u001b[0;34m(\u001b[0m\u001b[0;34m[\u001b[0m\u001b[0mepoch\u001b[0m\u001b[0;34m,\u001b[0m \u001b[0mdebias_loss\u001b[0m\u001b[0;34m]\u001b[0m \u001b[0;34m+\u001b[0m \u001b[0mvals\u001b[0m\u001b[0;34m,\u001b[0m \u001b[0;36m6\u001b[0m\u001b[0;34m)\u001b[0m\u001b[0;34m)\u001b[0m\u001b[0;34m\u001b[0m\u001b[0m\n\u001b[1;32m    101\u001b[0m         \u001b[0mstop\u001b[0m\u001b[0;34m=\u001b[0m\u001b[0;32mFalse\u001b[0m\u001b[0;34m\u001b[0m\u001b[0m\n",
      "\u001b[0;32m~/mercari/fastai/model.py\u001b[0m in \u001b[0;36mvalidate\u001b[0;34m(stepper, dl, metrics)\u001b[0m\n\u001b[1;32m    110\u001b[0m     \u001b[0mstepper\u001b[0m\u001b[0;34m.\u001b[0m\u001b[0mreset\u001b[0m\u001b[0;34m(\u001b[0m\u001b[0;32mFalse\u001b[0m\u001b[0;34m)\u001b[0m\u001b[0;34m\u001b[0m\u001b[0m\n\u001b[1;32m    111\u001b[0m     \u001b[0;32mfor\u001b[0m \u001b[0;34m(\u001b[0m\u001b[0;34m*\u001b[0m\u001b[0mx\u001b[0m\u001b[0;34m,\u001b[0m\u001b[0my\u001b[0m\u001b[0;34m)\u001b[0m \u001b[0;32min\u001b[0m \u001b[0miter\u001b[0m\u001b[0;34m(\u001b[0m\u001b[0mdl\u001b[0m\u001b[0;34m)\u001b[0m\u001b[0;34m:\u001b[0m\u001b[0;34m\u001b[0m\u001b[0m\n\u001b[0;32m--> 112\u001b[0;31m         \u001b[0mpreds\u001b[0m\u001b[0;34m,\u001b[0m\u001b[0ml\u001b[0m \u001b[0;34m=\u001b[0m \u001b[0mstepper\u001b[0m\u001b[0;34m.\u001b[0m\u001b[0mevaluate\u001b[0m\u001b[0;34m(\u001b[0m\u001b[0mVV\u001b[0m\u001b[0;34m(\u001b[0m\u001b[0mx\u001b[0m\u001b[0;34m)\u001b[0m\u001b[0;34m,\u001b[0m \u001b[0mVV\u001b[0m\u001b[0;34m(\u001b[0m\u001b[0my\u001b[0m\u001b[0;34m)\u001b[0m\u001b[0;34m)\u001b[0m\u001b[0;34m\u001b[0m\u001b[0m\n\u001b[0m\u001b[1;32m    113\u001b[0m         \u001b[0mloss\u001b[0m\u001b[0;34m.\u001b[0m\u001b[0mappend\u001b[0m\u001b[0;34m(\u001b[0m\u001b[0mto_np\u001b[0m\u001b[0;34m(\u001b[0m\u001b[0ml\u001b[0m\u001b[0;34m)\u001b[0m\u001b[0;34m)\u001b[0m\u001b[0;34m\u001b[0m\u001b[0m\n\u001b[1;32m    114\u001b[0m         \u001b[0mres\u001b[0m\u001b[0;34m.\u001b[0m\u001b[0mappend\u001b[0m\u001b[0;34m(\u001b[0m\u001b[0;34m[\u001b[0m\u001b[0mf\u001b[0m\u001b[0;34m(\u001b[0m\u001b[0mto_np\u001b[0m\u001b[0;34m(\u001b[0m\u001b[0mpreds\u001b[0m\u001b[0;34m)\u001b[0m\u001b[0;34m,\u001b[0m\u001b[0mto_np\u001b[0m\u001b[0;34m(\u001b[0m\u001b[0my\u001b[0m\u001b[0;34m)\u001b[0m\u001b[0;34m)\u001b[0m \u001b[0;32mfor\u001b[0m \u001b[0mf\u001b[0m \u001b[0;32min\u001b[0m \u001b[0mmetrics\u001b[0m\u001b[0;34m]\u001b[0m\u001b[0;34m)\u001b[0m\u001b[0;34m\u001b[0m\u001b[0m\n",
      "\u001b[0;32m~/mercari/fastai/model.py\u001b[0m in \u001b[0;36mevaluate\u001b[0;34m(self, xs, y)\u001b[0m\n\u001b[1;32m     52\u001b[0m         \u001b[0mpreds\u001b[0m \u001b[0;34m=\u001b[0m \u001b[0mself\u001b[0m\u001b[0;34m.\u001b[0m\u001b[0mm\u001b[0m\u001b[0;34m(\u001b[0m\u001b[0;34m*\u001b[0m\u001b[0mxs\u001b[0m\u001b[0;34m)\u001b[0m\u001b[0;34m\u001b[0m\u001b[0m\n\u001b[1;32m     53\u001b[0m         \u001b[0;32mif\u001b[0m \u001b[0misinstance\u001b[0m\u001b[0;34m(\u001b[0m\u001b[0mpreds\u001b[0m\u001b[0;34m,\u001b[0m\u001b[0;34m(\u001b[0m\u001b[0mtuple\u001b[0m\u001b[0;34m,\u001b[0m\u001b[0mlist\u001b[0m\u001b[0;34m)\u001b[0m\u001b[0;34m)\u001b[0m\u001b[0;34m:\u001b[0m \u001b[0mpreds\u001b[0m\u001b[0;34m=\u001b[0m\u001b[0mpreds\u001b[0m\u001b[0;34m[\u001b[0m\u001b[0;36m0\u001b[0m\u001b[0;34m]\u001b[0m\u001b[0;34m\u001b[0m\u001b[0m\n\u001b[0;32m---> 54\u001b[0;31m         \u001b[0;32mreturn\u001b[0m \u001b[0mpreds\u001b[0m\u001b[0;34m,\u001b[0m \u001b[0mself\u001b[0m\u001b[0;34m.\u001b[0m\u001b[0mcrit\u001b[0m\u001b[0;34m(\u001b[0m\u001b[0mpreds\u001b[0m\u001b[0;34m,\u001b[0m \u001b[0my\u001b[0m\u001b[0;34m)\u001b[0m\u001b[0;34m\u001b[0m\u001b[0m\n\u001b[0m\u001b[1;32m     55\u001b[0m \u001b[0;34m\u001b[0m\u001b[0m\n\u001b[1;32m     56\u001b[0m \u001b[0;32mfrom\u001b[0m \u001b[0;34m.\u001b[0m \u001b[0;32mimport\u001b[0m \u001b[0mlm_rnn\u001b[0m\u001b[0;34m\u001b[0m\u001b[0m\n",
      "\u001b[0;32m~/anaconda3/lib/python3.6/site-packages/torch/nn/functional.py\u001b[0m in \u001b[0;36mcross_entropy\u001b[0;34m(input, target, weight, size_average, ignore_index)\u001b[0m\n\u001b[1;32m    744\u001b[0m                 \u001b[0;32mTrue\u001b[0m\u001b[0;34m,\u001b[0m \u001b[0mthe\u001b[0m \u001b[0mloss\u001b[0m \u001b[0;32mis\u001b[0m \u001b[0maveraged\u001b[0m \u001b[0mover\u001b[0m \u001b[0mnon\u001b[0m\u001b[0;34m-\u001b[0m\u001b[0mignored\u001b[0m \u001b[0mtargets\u001b[0m\u001b[0;34m.\u001b[0m\u001b[0;34m\u001b[0m\u001b[0m\n\u001b[1;32m    745\u001b[0m     \"\"\"\n\u001b[0;32m--> 746\u001b[0;31m     \u001b[0;32mreturn\u001b[0m \u001b[0mnll_loss\u001b[0m\u001b[0;34m(\u001b[0m\u001b[0mlog_softmax\u001b[0m\u001b[0;34m(\u001b[0m\u001b[0minput\u001b[0m\u001b[0;34m)\u001b[0m\u001b[0;34m,\u001b[0m \u001b[0mtarget\u001b[0m\u001b[0;34m,\u001b[0m \u001b[0mweight\u001b[0m\u001b[0;34m,\u001b[0m \u001b[0msize_average\u001b[0m\u001b[0;34m,\u001b[0m \u001b[0mignore_index\u001b[0m\u001b[0;34m)\u001b[0m\u001b[0;34m\u001b[0m\u001b[0m\n\u001b[0m\u001b[1;32m    747\u001b[0m \u001b[0;34m\u001b[0m\u001b[0m\n\u001b[1;32m    748\u001b[0m \u001b[0;34m\u001b[0m\u001b[0m\n",
      "\u001b[0;32m~/anaconda3/lib/python3.6/site-packages/torch/nn/functional.py\u001b[0m in \u001b[0;36mlog_softmax\u001b[0;34m(input)\u001b[0m\n\u001b[1;32m    535\u001b[0m \u001b[0;34m\u001b[0m\u001b[0m\n\u001b[1;32m    536\u001b[0m \u001b[0;32mdef\u001b[0m \u001b[0mlog_softmax\u001b[0m\u001b[0;34m(\u001b[0m\u001b[0minput\u001b[0m\u001b[0;34m)\u001b[0m\u001b[0;34m:\u001b[0m\u001b[0;34m\u001b[0m\u001b[0m\n\u001b[0;32m--> 537\u001b[0;31m     \u001b[0;32mreturn\u001b[0m \u001b[0m_functions\u001b[0m\u001b[0;34m.\u001b[0m\u001b[0mthnn\u001b[0m\u001b[0;34m.\u001b[0m\u001b[0mLogSoftmax\u001b[0m\u001b[0;34m.\u001b[0m\u001b[0mapply\u001b[0m\u001b[0;34m(\u001b[0m\u001b[0minput\u001b[0m\u001b[0;34m)\u001b[0m\u001b[0;34m\u001b[0m\u001b[0m\n\u001b[0m\u001b[1;32m    538\u001b[0m \u001b[0;34m\u001b[0m\u001b[0m\n\u001b[1;32m    539\u001b[0m \u001b[0;34m\u001b[0m\u001b[0m\n",
      "\u001b[0;32m~/anaconda3/lib/python3.6/site-packages/torch/nn/_functions/thnn/auto.py\u001b[0m in \u001b[0;36mforward\u001b[0;34m(ctx, input, *params)\u001b[0m\n\u001b[1;32m    172\u001b[0m             \u001b[0;32mdel\u001b[0m \u001b[0mctx\u001b[0m\u001b[0;34m.\u001b[0m\u001b[0mbuffers\u001b[0m\u001b[0;34m\u001b[0m\u001b[0m\n\u001b[1;32m    173\u001b[0m \u001b[0;34m\u001b[0m\u001b[0m\n\u001b[0;32m--> 174\u001b[0;31m         \u001b[0mgetattr\u001b[0m\u001b[0;34m(\u001b[0m\u001b[0mctx\u001b[0m\u001b[0;34m.\u001b[0m\u001b[0m_backend\u001b[0m\u001b[0;34m,\u001b[0m \u001b[0mupdate_output\u001b[0m\u001b[0;34m.\u001b[0m\u001b[0mname\u001b[0m\u001b[0;34m)\u001b[0m\u001b[0;34m(\u001b[0m\u001b[0mctx\u001b[0m\u001b[0;34m.\u001b[0m\u001b[0m_backend\u001b[0m\u001b[0;34m.\u001b[0m\u001b[0mlibrary_state\u001b[0m\u001b[0;34m,\u001b[0m \u001b[0minput\u001b[0m\u001b[0;34m,\u001b[0m \u001b[0moutput\u001b[0m\u001b[0;34m,\u001b[0m \u001b[0;34m*\u001b[0m\u001b[0margs\u001b[0m\u001b[0;34m)\u001b[0m\u001b[0;34m\u001b[0m\u001b[0m\n\u001b[0m\u001b[1;32m    175\u001b[0m         \u001b[0;32mreturn\u001b[0m \u001b[0moutput\u001b[0m\u001b[0;34m\u001b[0m\u001b[0m\n\u001b[1;32m    176\u001b[0m \u001b[0;34m\u001b[0m\u001b[0m\n",
      "\u001b[0;31mRuntimeError\u001b[0m: cuda runtime error (2) : out of memory at /opt/conda/conda-bld/pytorch_1511320797808/work/torch/lib/THC/generic/THCStorage.cu:66"
     ]
    }
   ],
   "source": [
    "id_learner.fit(2.0e-2, 2, wds=1e-6, cycle_len=1, cycle_mult=3)"
   ]
  },
  {
   "cell_type": "code",
   "execution_count": 42,
   "metadata": {
    "collapsed": true
   },
   "outputs": [],
   "source": [
    "#del(id_learner)"
   ]
  },
  {
   "cell_type": "code",
   "execution_count": null,
   "metadata": {
    "collapsed": true
   },
   "outputs": [],
   "source": [
    "id_learner.save_encoder('adam1_enc')"
   ]
  },
  {
   "cell_type": "markdown",
   "metadata": {},
   "source": [
    "# Process DataFrames and Create Data Loaders"
   ]
  },
  {
   "cell_type": "code",
   "execution_count": 15,
   "metadata": {
    "collapsed": true
   },
   "outputs": [],
   "source": [
    "def split_into_columns(x, split_by=\"/\", ncol=4, fillna='NA'):\n",
    "    l = str(x).split(split_by)\n",
    "    return pd.Series((l+fillna*(ncol-len(l)))[:ncol])"
   ]
  },
  {
   "cell_type": "code",
   "execution_count": 16,
   "metadata": {},
   "outputs": [
    {
     "data": {
      "text/html": [
       "<div>\n",
       "<style>\n",
       "    .dataframe thead tr:only-child th {\n",
       "        text-align: right;\n",
       "    }\n",
       "\n",
       "    .dataframe thead th {\n",
       "        text-align: left;\n",
       "    }\n",
       "\n",
       "    .dataframe tbody tr th {\n",
       "        vertical-align: top;\n",
       "    }\n",
       "</style>\n",
       "<table border=\"1\" class=\"dataframe\">\n",
       "  <thead>\n",
       "    <tr style=\"text-align: right;\">\n",
       "      <th></th>\n",
       "      <th>test_id</th>\n",
       "      <th>name</th>\n",
       "      <th>item_condition_id</th>\n",
       "      <th>category_name</th>\n",
       "      <th>brand_name</th>\n",
       "      <th>shipping</th>\n",
       "      <th>item_description</th>\n",
       "    </tr>\n",
       "  </thead>\n",
       "  <tbody>\n",
       "    <tr>\n",
       "      <th>0</th>\n",
       "      <td>0</td>\n",
       "      <td>Breast cancer \"I fight like a girl\" ring</td>\n",
       "      <td>1</td>\n",
       "      <td>Women/Jewelry/Rings</td>\n",
       "      <td>NaN</td>\n",
       "      <td>1</td>\n",
       "      <td>&lt;category&gt; Women Jewelry Rings &lt;name&gt; Breast c...</td>\n",
       "    </tr>\n",
       "    <tr>\n",
       "      <th>1</th>\n",
       "      <td>1</td>\n",
       "      <td>25 pcs NEW 7.5\"x12\" Kraft Bubble Mailers</td>\n",
       "      <td>1</td>\n",
       "      <td>Other/Office supplies/Shipping Supplies</td>\n",
       "      <td>NaN</td>\n",
       "      <td>1</td>\n",
       "      <td>&lt;category&gt; Other Officesupplies ShippingSuppli...</td>\n",
       "    </tr>\n",
       "  </tbody>\n",
       "</table>\n",
       "</div>"
      ],
      "text/plain": [
       "   test_id                                      name  item_condition_id  \\\n",
       "0        0  Breast cancer \"I fight like a girl\" ring                  1   \n",
       "1        1  25 pcs NEW 7.5\"x12\" Kraft Bubble Mailers                  1   \n",
       "\n",
       "                             category_name brand_name  shipping  \\\n",
       "0                      Women/Jewelry/Rings        NaN         1   \n",
       "1  Other/Office supplies/Shipping Supplies        NaN         1   \n",
       "\n",
       "                                    item_description  \n",
       "0  <category> Women Jewelry Rings <name> Breast c...  \n",
       "1  <category> Other Officesupplies ShippingSuppli...  "
      ]
     },
     "execution_count": 16,
     "metadata": {},
     "output_type": "execute_result"
    }
   ],
   "source": [
    "test_df.head(2)"
   ]
  },
  {
   "cell_type": "code",
   "execution_count": 17,
   "metadata": {
    "collapsed": true
   },
   "outputs": [],
   "source": [
    "text_vars = ['item_description']\n",
    "#text_var = []\n",
    "cat_vars = ['item_condition_id', 'category_name', 'brand_name', 'shipping']\n",
    "contin_vars = []\n",
    "dep = 'price'"
   ]
  },
  {
   "cell_type": "code",
   "execution_count": 18,
   "metadata": {
    "collapsed": true
   },
   "outputs": [],
   "source": [
    "train_df2 = train[text_vars+cat_vars+contin_vars+[dep]].copy()\n",
    "test_df[dep] = 0\n",
    "test_df2 = test_df[text_vars+cat_vars+contin_vars+[dep, 'test_id']].copy()"
   ]
  },
  {
   "cell_type": "markdown",
   "metadata": {},
   "source": [
    "Before we call torch text to create DataLoaders we need to convert categorical data to numerical data. "
   ]
  },
  {
   "cell_type": "code",
   "execution_count": 19,
   "metadata": {
    "collapsed": true
   },
   "outputs": [],
   "source": [
    "# make train/test categories\n",
    "for v in cat_vars: train_df2[v] = train_df2[v].astype('category').cat.as_ordered()\n",
    "apply_cats(test_df2, train_df2)"
   ]
  },
  {
   "cell_type": "code",
   "execution_count": 20,
   "metadata": {
    "collapsed": true
   },
   "outputs": [],
   "source": [
    "cat_sz = [(c, len(train_df2[c].cat.categories)+1) for c in cat_vars]\n",
    "cat_emb_szs = [(c, min(50, (c+1)//2)) for _,c in cat_sz]"
   ]
  },
  {
   "cell_type": "code",
   "execution_count": 21,
   "metadata": {
    "collapsed": true
   },
   "outputs": [],
   "source": [
    "# make float continuous variables if any\n",
    "for v in contin_vars:\n",
    "    train_df2[v] = train_df2[v].astype('float32')\n",
    "    test_df2[v] = test_df2[v].astype('float32')"
   ]
  },
  {
   "cell_type": "code",
   "execution_count": 22,
   "metadata": {
    "collapsed": true
   },
   "outputs": [],
   "source": [
    "# numericalize all but the text field then add it back at the end\n",
    "# pd.get_dummies creates expanded 1 hot encoding then collapsed\n",
    "df, y, nas = proc_df(train_df2, dep, skip_flds=text_vars, do_scale=False)\n",
    "df['item_description'] = train_df2['item_description']\n",
    "df[dep] = np.log(y+1)"
   ]
  },
  {
   "cell_type": "code",
   "execution_count": 23,
   "metadata": {
    "collapsed": true
   },
   "outputs": [],
   "source": [
    "df_test, _, nas = proc_df(test_df2, dep, do_scale=False, \n",
    "                          skip_flds=text_vars + ['test_id'], na_dict=nas)\n",
    "df_test['item_description'] = test_df2['item_description']\n",
    "df_test[dep] = 0"
   ]
  },
  {
   "cell_type": "code",
   "execution_count": 24,
   "metadata": {},
   "outputs": [
    {
     "data": {
      "text/html": [
       "<div>\n",
       "<style>\n",
       "    .dataframe thead tr:only-child th {\n",
       "        text-align: right;\n",
       "    }\n",
       "\n",
       "    .dataframe thead th {\n",
       "        text-align: left;\n",
       "    }\n",
       "\n",
       "    .dataframe tbody tr th {\n",
       "        vertical-align: top;\n",
       "    }\n",
       "</style>\n",
       "<table border=\"1\" class=\"dataframe\">\n",
       "  <thead>\n",
       "    <tr style=\"text-align: right;\">\n",
       "      <th></th>\n",
       "      <th>item_condition_id</th>\n",
       "      <th>category_name</th>\n",
       "      <th>brand_name</th>\n",
       "      <th>shipping</th>\n",
       "      <th>item_description</th>\n",
       "      <th>price</th>\n",
       "    </tr>\n",
       "  </thead>\n",
       "  <tbody>\n",
       "    <tr>\n",
       "      <th>0</th>\n",
       "      <td>3</td>\n",
       "      <td>809</td>\n",
       "      <td>0</td>\n",
       "      <td>2</td>\n",
       "      <td>&lt;category&gt; Men Tops T-shirts &lt;name&gt; MLB Cincin...</td>\n",
       "      <td>2.397895</td>\n",
       "    </tr>\n",
       "    <tr>\n",
       "      <th>1</th>\n",
       "      <td>3</td>\n",
       "      <td>87</td>\n",
       "      <td>3558</td>\n",
       "      <td>1</td>\n",
       "      <td>&lt;category&gt; Electronics Computers&amp;Tablets Compo...</td>\n",
       "      <td>3.970292</td>\n",
       "    </tr>\n",
       "  </tbody>\n",
       "</table>\n",
       "</div>"
      ],
      "text/plain": [
       "   item_condition_id  category_name  brand_name  shipping  \\\n",
       "0                  3            809           0         2   \n",
       "1                  3             87        3558         1   \n",
       "\n",
       "                                    item_description     price  \n",
       "0  <category> Men Tops T-shirts <name> MLB Cincin...  2.397895  \n",
       "1  <category> Electronics Computers&Tablets Compo...  3.970292  "
      ]
     },
     "metadata": {},
     "output_type": "display_data"
    },
    {
     "data": {
      "text/html": [
       "<div>\n",
       "<style>\n",
       "    .dataframe thead tr:only-child th {\n",
       "        text-align: right;\n",
       "    }\n",
       "\n",
       "    .dataframe thead th {\n",
       "        text-align: left;\n",
       "    }\n",
       "\n",
       "    .dataframe tbody tr th {\n",
       "        vertical-align: top;\n",
       "    }\n",
       "</style>\n",
       "<table border=\"1\" class=\"dataframe\">\n",
       "  <thead>\n",
       "    <tr style=\"text-align: right;\">\n",
       "      <th></th>\n",
       "      <th>item_condition_id</th>\n",
       "      <th>category_name</th>\n",
       "      <th>brand_name</th>\n",
       "      <th>shipping</th>\n",
       "      <th>item_description</th>\n",
       "      <th>price</th>\n",
       "    </tr>\n",
       "  </thead>\n",
       "  <tbody>\n",
       "    <tr>\n",
       "      <th>0</th>\n",
       "      <td>1</td>\n",
       "      <td>1183</td>\n",
       "      <td>0</td>\n",
       "      <td>2</td>\n",
       "      <td>&lt;category&gt; Women Jewelry Rings &lt;name&gt; Breast c...</td>\n",
       "      <td>0</td>\n",
       "    </tr>\n",
       "    <tr>\n",
       "      <th>1</th>\n",
       "      <td>1</td>\n",
       "      <td>878</td>\n",
       "      <td>0</td>\n",
       "      <td>2</td>\n",
       "      <td>&lt;category&gt; Other Officesupplies ShippingSuppli...</td>\n",
       "      <td>0</td>\n",
       "    </tr>\n",
       "  </tbody>\n",
       "</table>\n",
       "</div>"
      ],
      "text/plain": [
       "   item_condition_id  category_name  brand_name  shipping  \\\n",
       "0                  1           1183           0         2   \n",
       "1                  1            878           0         2   \n",
       "\n",
       "                                    item_description  price  \n",
       "0  <category> Women Jewelry Rings <name> Breast c...      0  \n",
       "1  <category> Other Officesupplies ShippingSuppli...      0  "
      ]
     },
     "execution_count": 24,
     "metadata": {},
     "output_type": "execute_result"
    }
   ],
   "source": [
    "display(df.head(2))\n",
    "df_test.head(2)"
   ]
  },
  {
   "cell_type": "markdown",
   "metadata": {},
   "source": [
    "#### call torch.text to process the text in text field and create data splits"
   ]
  },
  {
   "cell_type": "code",
   "execution_count": 25,
   "metadata": {
    "collapsed": true
   },
   "outputs": [],
   "source": [
    "class MixedTextDataset(torchtext.data.Dataset):\n",
    "    def __init__(self, split_type, text_name, data_fields, dfs, **kwargs):\n",
    "        type(self).text_name = text_name\n",
    "        fields = list(data_fields.items())\n",
    "        cols = [fld[0] for fld in fields]\n",
    "        #cols.remove(text_name)\n",
    "        df = dfs[split_type]\n",
    "        \n",
    "        examples = []\n",
    "        for i,row in df.iterrows():\n",
    "            examples.append(data.Example.fromlist(list(row[cols]), fields))\n",
    "        super().__init__(examples, fields, **kwargs)\n",
    "\n",
    "    @staticmethod\n",
    "    def sort_key(ex): return len(getattr(ex, MixedTextDataset.text_name))\n",
    "    \n",
    "    @classmethod\n",
    "    def splits(cls, data_fields, train, val, test, dfs, **kwargs):\n",
    "        # set path to null ('') as we are dealing with dataframes\n",
    "        return super().splits('', data_fields=data_fields,  \n",
    "                              train=train, validation=val, test=test, dfs=dfs, **kwargs)"
   ]
  },
  {
   "cell_type": "code",
   "execution_count": 26,
   "metadata": {
    "collapsed": true
   },
   "outputs": [],
   "source": [
    "dfs = {'test': df_test}\n",
    "(dfs['val'], dfs['train']),  = split_by_idx(val_idx, df)"
   ]
  },
  {
   "cell_type": "code",
   "execution_count": 27,
   "metadata": {
    "collapsed": true
   },
   "outputs": [],
   "source": [
    "min_freq=10"
   ]
  },
  {
   "cell_type": "code",
   "execution_count": 28,
   "metadata": {},
   "outputs": [
    {
     "data": {
      "text/plain": [
       "['<category>',\n",
       " 'men',\n",
       " 'tops',\n",
       " 't',\n",
       " '-',\n",
       " 'shirts',\n",
       " '<name>',\n",
       " 'mlb',\n",
       " 'cincinnati',\n",
       " 'reds',\n",
       " 't',\n",
       " 'shirt',\n",
       " 'size',\n",
       " 'xl',\n",
       " '<description>',\n",
       " 'no',\n",
       " 'description',\n",
       " 'yet']"
      ]
     },
     "execution_count": 28,
     "metadata": {},
     "output_type": "execute_result"
    }
   ],
   "source": [
    "ITEM_DESCRIPTION = pickle.load(open(f'{PATH}models/ITEM_DESCRIPTION_{min_freq}.pkl','rb'))\n",
    "# test my_spacy_token\n",
    "my_spacy_tok(df['item_description'].iloc[0])"
   ]
  },
  {
   "cell_type": "code",
   "execution_count": 29,
   "metadata": {
    "collapsed": true
   },
   "outputs": [],
   "source": [
    "DATA_FIELDS = {'item_description': ITEM_DESCRIPTION}\n",
    "for v in cat_vars: \n",
    "    DATA_FIELDS[v] = data.Field(sequential=False, use_vocab=False)\n",
    "DATA_FIELDS[dep] = data.Field(sequential=False, tensor_type=torch.FloatTensor, use_vocab=False)"
   ]
  },
  {
   "cell_type": "code",
   "execution_count": 30,
   "metadata": {},
   "outputs": [],
   "source": [
    "# full set takes 25mins on 1060\n",
    "splits = MixedTextDataset.splits(DATA_FIELDS, text_name='item_description', train='train', \n",
    "                                     val='val', test='test', dfs=dfs)"
   ]
  },
  {
   "cell_type": "code",
   "execution_count": 31,
   "metadata": {},
   "outputs": [
    {
     "data": {
      "text/plain": [
       "(<torchtext.data.field.Field at 0x7f8700dc4208>,\n",
       " ['<category>',\n",
       "  'men',\n",
       "  'tops',\n",
       "  't',\n",
       "  '-',\n",
       "  'shirts',\n",
       "  '<name>',\n",
       "  'mlb',\n",
       "  'cincinnati',\n",
       "  'reds',\n",
       "  't',\n",
       "  'shirt',\n",
       "  'size',\n",
       "  'xl',\n",
       "  '<description>',\n",
       "  'no',\n",
       "  'description',\n",
       "  'yet'])"
      ]
     },
     "execution_count": 31,
     "metadata": {},
     "output_type": "execute_result"
    }
   ],
   "source": [
    "# Fields contain vocab, examples contain data \n",
    "splits[0].fields['price'], splits[0].examples[0].item_description"
   ]
  },
  {
   "cell_type": "code",
   "execution_count": 32,
   "metadata": {
    "collapsed": true
   },
   "outputs": [],
   "source": [
    "# minor changes to core.py to take list of lists \n",
    "def V_(x, requires_grad=False):\n",
    "    return create_variable(x, False, requires_grad=requires_grad)\n",
    "def V(x, requires_grad=False):\n",
    "    return [V(o, requires_grad) for o in x] if isinstance(x,list) else V_(x, requires_grad)\n",
    "\n",
    "def VV_(x): return create_variable(x, True)\n",
    "def VV(x):  return [VV(o) for o in x] if isinstance(x,list) else VV_(x)"
   ]
  },
  {
   "cell_type": "code",
   "execution_count": 33,
   "metadata": {
    "collapsed": true
   },
   "outputs": [],
   "source": [
    "class MixedTextDataLoader():\n",
    "    def __init__(self, src, x_fld, c_flds, y_fld):\n",
    "        self.src,self.x_fld,self.c_flds, self.y_fld = src,x_fld,c_flds, y_fld\n",
    "\n",
    "    def __len__(self): return len(self.src)-1\n",
    "\n",
    "    def __iter__(self):\n",
    "        it = iter(self.src)\n",
    "        for i in range(len(self)):\n",
    "            b = next(it)\n",
    "            yield getattr(b, self.x_fld), [getattr(b, f) for f in self.c_flds], getattr(b, self.y_fld)\n",
    "\n",
    "\n",
    "class MixedTextModel(BasicModel):\n",
    "    def get_layer_groups(self):\n",
    "        # defines how the differential learning rates would be applied to model groups\n",
    "        m=self.model\n",
    "        m_enc = m.rnn_encoder\n",
    "        return [m_enc.encoder, *zip(m_enc.rnns, m_enc.dropouths), (children(m.lins)+children(m.bns)+[m.outp])]\n",
    "\n",
    "class MixedTextData(ModelData):\n",
    "    def create_td(self, it): return TextDataLoader(it, self.text_fld, self.label_fld)\n",
    "\n",
    "    @classmethod\n",
    "    def from_splits(cls, path, splits, bs, text_name='text', target_name='label', cat_names=['category']):\n",
    "        text_fld = splits[0].fields[text_name]\n",
    "        target_fld = splits[0].fields[target_name]\n",
    "        if hasattr(target_fld, 'build_vocab') and target_fld.build_vocab == True: target_fld.build_vocab(splits[0])\n",
    "        iters = torchtext.data.BucketIterator.splits(splits, batch_size=bs)\n",
    "        trn_iter,val_iter,test_iter = iters[0],iters[1],None\n",
    "        test_dl = None\n",
    "        if len(iters) == 3:\n",
    "            test_iter = iters[2]\n",
    "            test_dl = MixedTextDataLoader(test_iter, text_name, cat_names, target_name)\n",
    "        trn_dl = MixedTextDataLoader(trn_iter, text_name, cat_names, target_name)\n",
    "        val_dl = MixedTextDataLoader(val_iter, text_name, cat_names, target_name)\n",
    "        obj = cls.from_dls(path, trn_dl, val_dl, test_dl)\n",
    "        obj.bs = bs\n",
    "        obj.pad_idx = text_fld.vocab.stoi[text_fld.pad_token]\n",
    "        obj.nt = len(text_fld.vocab)\n",
    "        target_len = (target_fld.vocab if hasattr(target_fld, 'vocab')\n",
    "                        else getattr(splits[0][0], target_name))\n",
    "        try: \n",
    "            obj.c = len(target_len)\n",
    "        except (TypeError):\n",
    "            obj.c = None\n",
    "            \n",
    "        return obj\n",
    "\n",
    "\n",
    "    def get_learner(self, opt_fn, text_emb_sz, enc_n_hid, enc_n_layers, enc_max_sl, enc_bptt, \n",
    "                    cat_emb_szs, cat_emb_drop, fc_layers, fc_drops, out_sz, y_range=None, use_bn=False, \n",
    "                    dropouth=0.3, dropouti=0.5, dropoute=0.1, wdrop=0.5, **kwargs):\n",
    "        \n",
    "        rnn_enc = MultiBatchRNN(enc_max_sl, enc_bptt, self.bs, self.nt, text_emb_sz, enc_n_hid, \n",
    "                                enc_n_layers, pad_token=self.pad_idx, bidir=False, dropouth=dropouth, \n",
    "                                dropouti=dropouti, dropoute=dropoute, wdrop=wdrop)\n",
    "        \n",
    "        m = MixedTextInputModel(cat_emb_szs, 0, cat_emb_drop, out_sz, fc_layers, fc_drops, y_range, use_bn, text_emb_sz,\n",
    "                            rnn_enc)\n",
    "        \n",
    "        model = MixedTextModel(to_gpu(m))\n",
    "        return MixedTextLearner(self, model, opt_fn=opt_fn)"
   ]
  },
  {
   "cell_type": "code",
   "execution_count": 34,
   "metadata": {
    "collapsed": true
   },
   "outputs": [],
   "source": [
    "class MixedTextInputModel(nn.Module):\n",
    "    def __init__(self, emb_szs, n_cont, emb_drop, out_sz, szs, drops,\n",
    "                 y_range=None, use_bn=False, text_emb_sz=0, rnn_encoder=None):\n",
    "        super().__init__()\n",
    "        \n",
    "        self.embs = nn.ModuleList([nn.Embedding(c, s) for c,s in emb_szs])\n",
    "        for emb in self.embs: emb_init(emb)\n",
    "        n_emb = sum(e.embedding_dim for e in self.embs)\n",
    "        self.n_emb, self.n_cont=n_emb, n_cont\n",
    "        \n",
    "        self.text_emb_sz, self.rnn_encoder = text_emb_sz, rnn_encoder\n",
    "            \n",
    "        szs = [n_emb+n_cont+3*text_emb_sz] + szs\n",
    "        self.lins = nn.ModuleList([\n",
    "            nn.Linear(szs[i], szs[i+1]) for i in range(len(szs)-1)])\n",
    "        self.bns = nn.ModuleList([\n",
    "            nn.BatchNorm1d(sz) for sz in szs[1:]])\n",
    "        for o in self.lins: kaiming_normal(o.weight.data)\n",
    "        self.outp = nn.Linear(szs[-1], out_sz)\n",
    "        kaiming_normal(self.outp.weight.data)\n",
    "\n",
    "        self.emb_drop = nn.Dropout(emb_drop)\n",
    "        self.drops = nn.ModuleList([nn.Dropout(drop) for drop in drops])\n",
    "        self.bn = nn.BatchNorm1d(n_cont)\n",
    "        self.use_bn,self.y_range = use_bn,y_range\n",
    "\n",
    "    def pool(self, x, bs, is_max):\n",
    "        f = F.adaptive_max_pool1d if is_max else F.adaptive_avg_pool1d\n",
    "        return f(x.permute(1,2,0), (1,)).view(bs,-1)\n",
    "        \n",
    "    def forward(self, x_text, x_cat, x_cont=None):\n",
    "\n",
    "        if self.n_emb != 0:\n",
    "            x = [e(x_cat[i]) for i,e in enumerate(self.embs)]\n",
    "            x = torch.cat(x, 1)\n",
    "            x = self.emb_drop(x)\n",
    "        if self.n_cont != 0:\n",
    "            x2 = self.bn(x_cont)\n",
    "            x = torch.cat([x, x2], 1) if self.n_emb != 0 else x2\n",
    "        \n",
    "        if self.rnn_encoder:\n",
    "            enc_raw_outputs, enc_outputs = self.rnn_encoder(x_text)\n",
    "            enc_last_layer = enc_outputs[-1]\n",
    "            sl,bs,_ = enc_last_layer.size()\n",
    "            avgpool = self.pool(enc_last_layer, bs, False)\n",
    "            mxpool = self.pool(enc_last_layer, bs, True)\n",
    "            x3 = torch.cat([enc_last_layer[-1], mxpool, avgpool], 1)\n",
    "            x = torch.cat([x, x3], 1)\n",
    "            \n",
    "        for l,d,b in zip(self.lins, self.drops, self.bns):\n",
    "            x = F.relu(l(x))\n",
    "            if self.use_bn: x = b(x)\n",
    "            x = d(x)\n",
    "        x = self.outp(x)\n",
    "        if self.y_range:\n",
    "            x = F.sigmoid(x)\n",
    "            x = x*(self.y_range[1] - self.y_range[0])\n",
    "            x = x+self.y_range[0]\n",
    "        \n",
    "        # encoder outputs are needed by the regularization function\n",
    "        return x, enc_raw_outputs, enc_outputs\n",
    "\n",
    "    def reset(self):\n",
    "        for c in self.children():\n",
    "            if hasattr(c, 'reset'): c.reset()\n",
    "    \n",
    "class StructuredLearner(Learner):\n",
    "    def __init__(self, data, models, **kwargs):\n",
    "        super().__init__(data, models, **kwargs)\n",
    "        self.crit = F.mse_loss\n",
    "        \n",
    "class MixedTextLearner(Learner):\n",
    "    def __init__(self, data, models, **kwargs):\n",
    "        super().__init__(data, models, **kwargs)\n",
    "        self.crit = F.mse_loss\n",
    "        # self.crit = F.cross_entropy\n",
    "\n",
    "    def save_encoder(self, name): save_model(self.model.rnn_encoder, self.get_model_path(name))\n",
    "    def load_encoder(self, name): load_model(self.model.rnn_encoder, self.get_model_path(name))"
   ]
  },
  {
   "cell_type": "code",
   "execution_count": 43,
   "metadata": {
    "collapsed": true
   },
   "outputs": [],
   "source": [
    "bs = 128"
   ]
  },
  {
   "cell_type": "code",
   "execution_count": 44,
   "metadata": {
    "collapsed": true
   },
   "outputs": [],
   "source": [
    "md = MixedTextData.from_splits(PATH, splits, bs, text_name=text_vars[0], target_name=dep, cat_names=cat_vars)"
   ]
  },
  {
   "cell_type": "code",
   "execution_count": 45,
   "metadata": {
    "collapsed": true
   },
   "outputs": [],
   "source": [
    "*xbs, yb = next(iter(md.trn_dl))"
   ]
  },
  {
   "cell_type": "code",
   "execution_count": 46,
   "metadata": {
    "scrolled": true
   },
   "outputs": [
    {
     "data": {
      "text/html": [
       "<div>\n",
       "<style>\n",
       "    .dataframe thead tr:only-child th {\n",
       "        text-align: right;\n",
       "    }\n",
       "\n",
       "    .dataframe thead th {\n",
       "        text-align: left;\n",
       "    }\n",
       "\n",
       "    .dataframe tbody tr th {\n",
       "        vertical-align: top;\n",
       "    }\n",
       "</style>\n",
       "<table border=\"1\" class=\"dataframe\">\n",
       "  <thead>\n",
       "    <tr style=\"text-align: right;\">\n",
       "      <th></th>\n",
       "      <th>0</th>\n",
       "      <th>1</th>\n",
       "      <th>2</th>\n",
       "      <th>3</th>\n",
       "      <th>4</th>\n",
       "      <th>5</th>\n",
       "      <th>6</th>\n",
       "      <th>7</th>\n",
       "      <th>8</th>\n",
       "      <th>9</th>\n",
       "      <th>...</th>\n",
       "      <th>118</th>\n",
       "      <th>119</th>\n",
       "      <th>120</th>\n",
       "      <th>121</th>\n",
       "      <th>122</th>\n",
       "      <th>123</th>\n",
       "      <th>124</th>\n",
       "      <th>125</th>\n",
       "      <th>126</th>\n",
       "      <th>127</th>\n",
       "    </tr>\n",
       "  </thead>\n",
       "  <tbody>\n",
       "    <tr>\n",
       "      <th>0</th>\n",
       "      <td>&lt;unk&gt;</td>\n",
       "      <td>&lt;unk&gt;</td>\n",
       "      <td>&lt;unk&gt;</td>\n",
       "      <td>&lt;unk&gt;</td>\n",
       "      <td>&lt;unk&gt;</td>\n",
       "      <td>&lt;unk&gt;</td>\n",
       "      <td>&lt;unk&gt;</td>\n",
       "      <td>&lt;unk&gt;</td>\n",
       "      <td>&lt;unk&gt;</td>\n",
       "      <td>&lt;unk&gt;</td>\n",
       "      <td>...</td>\n",
       "      <td>&lt;unk&gt;</td>\n",
       "      <td>&lt;unk&gt;</td>\n",
       "      <td>&lt;unk&gt;</td>\n",
       "      <td>&lt;unk&gt;</td>\n",
       "      <td>&lt;unk&gt;</td>\n",
       "      <td>&lt;unk&gt;</td>\n",
       "      <td>&lt;unk&gt;</td>\n",
       "      <td>&lt;unk&gt;</td>\n",
       "      <td>&lt;unk&gt;</td>\n",
       "      <td>&lt;unk&gt;</td>\n",
       "    </tr>\n",
       "    <tr>\n",
       "      <th>1</th>\n",
       "      <td>women</td>\n",
       "      <td>electronics</td>\n",
       "      <td>women</td>\n",
       "      <td>women</td>\n",
       "      <td>handmade</td>\n",
       "      <td>kids</td>\n",
       "      <td>beauty</td>\n",
       "      <td>home</td>\n",
       "      <td>kids</td>\n",
       "      <td>beauty</td>\n",
       "      <td>...</td>\n",
       "      <td>women</td>\n",
       "      <td>handmade</td>\n",
       "      <td>kids</td>\n",
       "      <td>men</td>\n",
       "      <td>kids</td>\n",
       "      <td>beauty</td>\n",
       "      <td>women</td>\n",
       "      <td>home</td>\n",
       "      <td>women</td>\n",
       "      <td>kids</td>\n",
       "    </tr>\n",
       "    <tr>\n",
       "      <th>2</th>\n",
       "      <td>underwear</td>\n",
       "      <td>&lt;unk&gt;</td>\n",
       "      <td>sweaters</td>\n",
       "      <td>sweaters</td>\n",
       "      <td>&lt;unk&gt;</td>\n",
       "      <td>boys</td>\n",
       "      <td>makeup</td>\n",
       "      <td>&lt;unk&gt;</td>\n",
       "      <td>toys</td>\n",
       "      <td>fragrance</td>\n",
       "      <td>...</td>\n",
       "      <td>&lt;unk&gt;</td>\n",
       "      <td>&lt;unk&gt;</td>\n",
       "      <td>toys</td>\n",
       "      <td>&lt;unk&gt;</td>\n",
       "      <td>toys</td>\n",
       "      <td>makeup</td>\n",
       "      <td>&lt;unk&gt;</td>\n",
       "      <td>&lt;unk&gt;</td>\n",
       "      <td>sweaters</td>\n",
       "      <td>toys</td>\n",
       "    </tr>\n",
       "    <tr>\n",
       "      <th>3</th>\n",
       "      <td>bras</td>\n",
       "      <td>&lt;unk&gt;</td>\n",
       "      <td>&lt;unk&gt;</td>\n",
       "      <td>crewneck</td>\n",
       "      <td>tote</td>\n",
       "      <td>0</td>\n",
       "      <td>nails</td>\n",
       "      <td>cor</td>\n",
       "      <td>&lt;unk&gt;</td>\n",
       "      <td>women</td>\n",
       "      <td>...</td>\n",
       "      <td>&lt;unk&gt;</td>\n",
       "      <td>sticker</td>\n",
       "      <td>puzzles</td>\n",
       "      <td>flight</td>\n",
       "      <td>&lt;unk&gt;</td>\n",
       "      <td>lips</td>\n",
       "      <td>jackets</td>\n",
       "      <td>&lt;unk&gt;</td>\n",
       "      <td>crewneck</td>\n",
       "      <td>&lt;unk&gt;</td>\n",
       "    </tr>\n",
       "    <tr>\n",
       "      <th>4</th>\n",
       "      <td>&lt;name&gt;</td>\n",
       "      <td>&lt;name&gt;</td>\n",
       "      <td>&lt;name&gt;</td>\n",
       "      <td>&lt;name&gt;</td>\n",
       "      <td>&lt;name&gt;</td>\n",
       "      <td>-</td>\n",
       "      <td>&lt;name&gt;</td>\n",
       "      <td>&lt;unk&gt;</td>\n",
       "      <td>&lt;name&gt;</td>\n",
       "      <td>&lt;name&gt;</td>\n",
       "      <td>...</td>\n",
       "      <td>&lt;name&gt;</td>\n",
       "      <td>&lt;name&gt;</td>\n",
       "      <td>&lt;name&gt;</td>\n",
       "      <td>bomber</td>\n",
       "      <td>&lt;name&gt;</td>\n",
       "      <td>&lt;name&gt;</td>\n",
       "      <td>&lt;name&gt;</td>\n",
       "      <td>&lt;name&gt;</td>\n",
       "      <td>&lt;name&gt;</td>\n",
       "      <td>&lt;name&gt;</td>\n",
       "    </tr>\n",
       "    <tr>\n",
       "      <th>5</th>\n",
       "      <td>victoria</td>\n",
       "      <td>teal</td>\n",
       "      <td>lularoe</td>\n",
       "      <td>f</td>\n",
       "      <td>michael</td>\n",
       "      <td>2</td>\n",
       "      <td>jamberry</td>\n",
       "      <td>&lt;name&gt;</td>\n",
       "      <td>paw</td>\n",
       "      <td>dolce</td>\n",
       "      <td>...</td>\n",
       "      <td>aeropostale</td>\n",
       "      <td>4</td>\n",
       "      <td>flag</td>\n",
       "      <td>&lt;name&gt;</td>\n",
       "      <td>slime</td>\n",
       "      <td>lip</td>\n",
       "      <td>adidas</td>\n",
       "      <td>new</td>\n",
       "      <td>virginia</td>\n",
       "      <td>alexander</td>\n",
       "    </tr>\n",
       "    <tr>\n",
       "      <th>6</th>\n",
       "      <td>'s</td>\n",
       "      <td>mushroom</td>\n",
       "      <td>large</td>\n",
       "      <td>2</td>\n",
       "      <td>kors</td>\n",
       "      <td>4</td>\n",
       "      <td>wrap</td>\n",
       "      <td>ruby</td>\n",
       "      <td>patrol</td>\n",
       "      <td>&amp;</td>\n",
       "      <td>...</td>\n",
       "      <td>black</td>\n",
       "      <td>0</td>\n",
       "      <td>fidget</td>\n",
       "      <td>a&amp;f</td>\n",
       "      <td>collection</td>\n",
       "      <td>lot</td>\n",
       "      <td>jacket</td>\n",
       "      <td>scentportables</td>\n",
       "      <td>tech</td>\n",
       "      <td>baby</td>\n",
       "    </tr>\n",
       "    <tr>\n",
       "      <th>7</th>\n",
       "      <td>secret</td>\n",
       "      <td>bluetooth</td>\n",
       "      <td>arrow</td>\n",
       "      <td>1</td>\n",
       "      <td>medium</td>\n",
       "      <td>mos</td>\n",
       "      <td>bundle</td>\n",
       "      <td>red</td>\n",
       "      <td>party</td>\n",
       "      <td>gabbana</td>\n",
       "      <td>...</td>\n",
       "      <td>huge</td>\n",
       "      <td>thank</td>\n",
       "      <td>spinner</td>\n",
       "      <td>all</td>\n",
       "      <td>7</td>\n",
       "      <td>&lt;description&gt;</td>\n",
       "      <td>&lt;description&gt;</td>\n",
       "      <td>for</td>\n",
       "      <td>university</td>\n",
       "      <td>&lt;unk&gt;</td>\n",
       "    </tr>\n",
       "    <tr>\n",
       "      <th>8</th>\n",
       "      <td>pink</td>\n",
       "      <td>speaker</td>\n",
       "      <td>sarah</td>\n",
       "      <td>fur</td>\n",
       "      <td>tote</td>\n",
       "      <td>one</td>\n",
       "      <td>for</td>\n",
       "      <td>3</td>\n",
       "      <td>supplies</td>\n",
       "      <td>light</td>\n",
       "      <td>...</td>\n",
       "      <td>tote</td>\n",
       "      <td>you</td>\n",
       "      <td>&lt;description&gt;</td>\n",
       "      <td>season</td>\n",
       "      <td>colors</td>\n",
       "      <td>nyx</td>\n",
       "      <td>never</td>\n",
       "      <td>your</td>\n",
       "      <td>crewneck</td>\n",
       "      <td>shipping</td>\n",
       "    </tr>\n",
       "    <tr>\n",
       "      <th>9</th>\n",
       "      <td>bra</td>\n",
       "      <td>&lt;description&gt;</td>\n",
       "      <td>&lt;description&gt;</td>\n",
       "      <td>sweater</td>\n",
       "      <td>&lt;description&gt;</td>\n",
       "      <td>-</td>\n",
       "      <td>joanna</td>\n",
       "      <td>headed</td>\n",
       "      <td>&lt;description&gt;</td>\n",
       "      <td>blue</td>\n",
       "      <td>...</td>\n",
       "      <td>&lt;description&gt;</td>\n",
       "      <td>stickers</td>\n",
       "      <td>one</td>\n",
       "      <td>weather</td>\n",
       "      <td>!</td>\n",
       "      <td>jumbo</td>\n",
       "      <td>worn</td>\n",
       "      <td>car</td>\n",
       "      <td>&lt;description&gt;</td>\n",
       "      <td>)</td>\n",
       "    </tr>\n",
       "    <tr>\n",
       "      <th>10</th>\n",
       "      <td>and</td>\n",
       "      <td>the</td>\n",
       "      <td>euc</td>\n",
       "      <td>&lt;description&gt;</td>\n",
       "      <td>metallic</td>\n",
       "      <td>pieces</td>\n",
       "      <td>&lt;description&gt;</td>\n",
       "      <td>floor</td>\n",
       "      <td>1</td>\n",
       "      <td>scent</td>\n",
       "      <td>...</td>\n",
       "      <td>fits</td>\n",
       "      <td>&lt;description&gt;</td>\n",
       "      <td>spinner</td>\n",
       "      <td>warrior</td>\n",
       "      <td>&lt;description&gt;</td>\n",
       "      <td>lip</td>\n",
       "      <td>,</td>\n",
       "      <td>!</td>\n",
       "      <td>in</td>\n",
       "      <td>&lt;description&gt;</td>\n",
       "    </tr>\n",
       "    <tr>\n",
       "      <th>11</th>\n",
       "      <td>panty</td>\n",
       "      <td>price</td>\n",
       "      <td>only</td>\n",
       "      <td>forever</td>\n",
       "      <td>michael</td>\n",
       "      <td>&lt;name&gt;</td>\n",
       "      <td>reserved</td>\n",
       "      <td>lamp</td>\n",
       "      <td>9</td>\n",
       "      <td>&lt;description&gt;</td>\n",
       "      <td>...</td>\n",
       "      <td>a</td>\n",
       "      <td>white</td>\n",
       "      <td>only</td>\n",
       "      <td>&lt;description&gt;</td>\n",
       "      <td>cute</td>\n",
       "      <td>pencil</td>\n",
       "      <td>too</td>\n",
       "      <td>fs</td>\n",
       "      <td>very</td>\n",
       "      <td>memories</td>\n",
       "    </tr>\n",
       "    <tr>\n",
       "      <th>12</th>\n",
       "      <td>set</td>\n",
       "      <td>is</td>\n",
       "      <td>worn</td>\n",
       "      <td>2</td>\n",
       "      <td>kors</td>\n",
       "      <td>baby</td>\n",
       "      <td>bundle</td>\n",
       "      <td>&lt;description&gt;</td>\n",
       "      <td>cake</td>\n",
       "      <td>dolce</td>\n",
       "      <td>...</td>\n",
       "      <td>1</td>\n",
       "      <td>thank</td>\n",
       "      <td>please</td>\n",
       "      <td>this</td>\n",
       "      <td>colors</td>\n",
       "      <td>shade</td>\n",
       "      <td>small</td>\n",
       "      <td>!</td>\n",
       "      <td>good</td>\n",
       "      <td>of</td>\n",
       "    </tr>\n",
       "    <tr>\n",
       "      <th>13</th>\n",
       "      <td>&lt;description&gt;</td>\n",
       "      <td>firm</td>\n",
       "      <td>once</td>\n",
       "      <td>1</td>\n",
       "      <td>tote</td>\n",
       "      <td>boy</td>\n",
       "      <td>!</td>\n",
       "      <td>this</td>\n",
       "      <td>plates</td>\n",
       "      <td>&amp;</td>\n",
       "      <td>...</td>\n",
       "      <td>5</td>\n",
       "      <td>you</td>\n",
       "      <td>message</td>\n",
       "      <td>abercrombie</td>\n",
       "      <td>!</td>\n",
       "      <td>pecan</td>\n",
       "      <td>for</td>\n",
       "      <td>&lt;description&gt;</td>\n",
       "      <td>condition</td>\n",
       "      <td>lifetime</td>\n",
       "    </tr>\n",
       "    <tr>\n",
       "      <th>14</th>\n",
       "      <td>both</td>\n",
       "      <td>on</td>\n",
       "      <td>or</td>\n",
       "      <td>orange</td>\n",
       "      <td>with</td>\n",
       "      <td>footed</td>\n",
       "      <td>!</td>\n",
       "      <td>lamp</td>\n",
       "      <td>,</td>\n",
       "      <td>gabbana</td>\n",
       "      <td>...</td>\n",
       "      <td>\"</td>\n",
       "      <td>stickers</td>\n",
       "      <td>me</td>\n",
       "      <td>&amp;</td>\n",
       "      <td>!</td>\n",
       "      <td>nyx</td>\n",
       "      <td>me</td>\n",
       "      <td>new</td>\n",
       "      <td>and</td>\n",
       "      <td>bride</td>\n",
       "    </tr>\n",
       "    <tr>\n",
       "      <th>15</th>\n",
       "      <td>new</td>\n",
       "      <td>these</td>\n",
       "      <td>twice</td>\n",
       "      <td>and</td>\n",
       "      <td>magnetic</td>\n",
       "      <td>sleepers</td>\n",
       "      <td>full</td>\n",
       "      <td>is</td>\n",
       "      <td>2</td>\n",
       "      <td>light</td>\n",
       "      <td>...</td>\n",
       "      <td>inch</td>\n",
       "      <td>with</td>\n",
       "      <td>the</td>\n",
       "      <td>fitch</td>\n",
       "      <td>check</td>\n",
       "      <td>lip</td>\n",
       "      <td>size</td>\n",
       "      <td>bath</td>\n",
       "      <td>hardly</td>\n",
       "      <td>and</td>\n",
       "    </tr>\n",
       "    <tr>\n",
       "      <th>16</th>\n",
       "      <td>in</td>\n",
       "      <td>.</td>\n",
       "      <td>-</td>\n",
       "      <td>white</td>\n",
       "      <td>button</td>\n",
       "      <td>size</td>\n",
       "      <td>sheet</td>\n",
       "      <td>really</td>\n",
       "      <td>2</td>\n",
       "      <td>blue</td>\n",
       "      <td>...</td>\n",
       "      <td>laptop</td>\n",
       "      <td>red</td>\n",
       "      <td>color</td>\n",
       "      <td>all</td>\n",
       "      <td>out</td>\n",
       "      <td>cream</td>\n",
       "      <td>is</td>\n",
       "      <td>&amp;</td>\n",
       "      <td>ever</td>\n",
       "      <td>groom</td>\n",
       "    </tr>\n",
       "    <tr>\n",
       "      <th>17</th>\n",
       "      <td>packaging</td>\n",
       "      <td>i</td>\n",
       "      <td>sarah</td>\n",
       "      <td>striped</td>\n",
       "      <td>closure</td>\n",
       "      <td>3</td>\n",
       "      <td>jamberry</td>\n",
       "      <td>cute</td>\n",
       "      <td>dinner</td>\n",
       "      <td>eau</td>\n",
       "      <td>...</td>\n",
       "      <td>&amp;</td>\n",
       "      <td>hearts</td>\n",
       "      <td>you</td>\n",
       "      <td>season</td>\n",
       "      <td>my</td>\n",
       "      <td>shade</td>\n",
       "      <td>medium</td>\n",
       "      <td>body</td>\n",
       "      <td>worn</td>\n",
       "      <td>,</td>\n",
       "    </tr>\n",
       "    <tr>\n",
       "      <th>18</th>\n",
       "      <td>cloud</td>\n",
       "      <td>have</td>\n",
       "      <td>'s</td>\n",
       "      <td>sweater</td>\n",
       "      <td>.</td>\n",
       "      <td>months</td>\n",
       "      <td>wrap</td>\n",
       "      <td>!</td>\n",
       "      <td>plates</td>\n",
       "      <td>de</td>\n",
       "      <td>...</td>\n",
       "      <td>charger</td>\n",
       "      <td>8</td>\n",
       "      <td>want</td>\n",
       "      <td>weather</td>\n",
       "      <td>listening</td>\n",
       "      <td>natural</td>\n",
       "      <td>but</td>\n",
       "      <td>works</td>\n",
       "      <td>.</td>\n",
       "      <td>eye</td>\n",
       "    </tr>\n",
       "    <tr>\n",
       "      <th>19</th>\n",
       "      <td>tie</td>\n",
       "      <td>multiple</td>\n",
       "      <td>just</td>\n",
       "      <td>2</td>\n",
       "      <td>zipper</td>\n",
       "      <td>&lt;description&gt;</td>\n",
       "      <td>neptune</td>\n",
       "      <td>i</td>\n",
       "      <td>(</td>\n",
       "      <td>toilette</td>\n",
       "      <td>...</td>\n",
       "      <td>plus</td>\n",
       "      <td>strips</td>\n",
       "      <td>,</td>\n",
       "      <td>warrior</td>\n",
       "      <td>more</td>\n",
       "      <td>nyx</td>\n",
       "      <td>fits</td>\n",
       "      <td>coral</td>\n",
       "      <td>tag</td>\n",
       "      <td>can</td>\n",
       "    </tr>\n",
       "    <tr>\n",
       "      <th>20</th>\n",
       "      <td>dye</td>\n",
       "      <td>colors</td>\n",
       "      <td>not</td>\n",
       "      <td>8</td>\n",
       "      <td>inside</td>\n",
       "      <td>these</td>\n",
       "      <td>full</td>\n",
       "      <td>use</td>\n",
       "      <td>8</td>\n",
       "      <td>-</td>\n",
       "      <td>...</td>\n",
       "      <td>a</td>\n",
       "      <td>with</td>\n",
       "      <td>or</td>\n",
       "      <td>has</td>\n",
       "      <td>coming</td>\n",
       "      <td>simple</td>\n",
       "      <td>more</td>\n",
       "      <td>&amp;</td>\n",
       "      <td>says</td>\n",
       "      <td>open</td>\n",
       "    </tr>\n",
       "    <tr>\n",
       "      <th>21</th>\n",
       "      <td>.</td>\n",
       "      <td>including</td>\n",
       "      <td>my</td>\n",
       "      <td>%</td>\n",
       "      <td>as</td>\n",
       "      <td>sleepers</td>\n",
       "      <td>sheet</td>\n",
       "      <td>to</td>\n",
       "      <td>still</td>\n",
       "      <td>new</td>\n",
       "      <td>...</td>\n",
       "      <td>textbook</td>\n",
       "      <td>5</td>\n",
       "      <td>we</td>\n",
       "      <td>a</td>\n",
       "      <td>soon</td>\n",
       "      <td>nude</td>\n",
       "      <td>like</td>\n",
       "      <td>white</td>\n",
       "      <td>medium</td>\n",
       "      <td>and</td>\n",
       "    </tr>\n",
       "    <tr>\n",
       "      <th>22</th>\n",
       "      <td>the</td>\n",
       "      <td>:</td>\n",
       "      <td>jam</td>\n",
       "      <td>rabbit</td>\n",
       "      <td>well</td>\n",
       "      <td>are</td>\n",
       "      <td>rebel</td>\n",
       "      <td>use</td>\n",
       "      <td>in</td>\n",
       "      <td>-</td>\n",
       "      <td>...</td>\n",
       "      <td>with</td>\n",
       "      <td>on</td>\n",
       "      <td>will</td>\n",
       "      <td>name</td>\n",
       "      <td>!</td>\n",
       "      <td>shade</td>\n",
       "      <td>a</td>\n",
       "      <td>purse</td>\n",
       "      <td>but</td>\n",
       "      <td>close</td>\n",
       "    </tr>\n",
       "    <tr>\n",
       "      <th>23</th>\n",
       "      <td>bra</td>\n",
       "      <td>yellow</td>\n",
       "      <td>.</td>\n",
       "      <td>fur</td>\n",
       "      <td>as</td>\n",
       "      <td>in</td>\n",
       "      <td>black</td>\n",
       "      <td>it</td>\n",
       "      <td>packaging</td>\n",
       "      <td>look</td>\n",
       "      <td>...</td>\n",
       "      <td>still</td>\n",
       "      <td>each</td>\n",
       "      <td>ship</td>\n",
       "      <td>that</td>\n",
       "      <td>!</td>\n",
       "      <td>0</td>\n",
       "      <td>small</td>\n",
       "      <td>visor</td>\n",
       "      <td>fits</td>\n",
       "      <td>,</td>\n",
       "    </tr>\n",
       "    <tr>\n",
       "      <th>24</th>\n",
       "      <td>is</td>\n",
       "      <td>teal</td>\n",
       "      <td>price</td>\n",
       "      <td>1</td>\n",
       "      <td>phone</td>\n",
       "      <td>good</td>\n",
       "      <td>full</td>\n",
       "      <td>while</td>\n",
       "      <td>)</td>\n",
       "      <td>at</td>\n",
       "      <td>...</td>\n",
       "      <td>space</td>\n",
       "      <td>.</td>\n",
       "      <td>it</td>\n",
       "      <td>speaks</td>\n",
       "      <td>!</td>\n",
       "      <td>1</td>\n",
       "      <td>the</td>\n",
       "      <td>clip</td>\n",
       "      <td>like</td>\n",
       "      <td>arms</td>\n",
       "    </tr>\n",
       "    <tr>\n",
       "      <th>25</th>\n",
       "      <td>palm</td>\n",
       "      <td>blue</td>\n",
       "      <td>is</td>\n",
       "      <td>4</td>\n",
       "      <td>and</td>\n",
       "      <td>condition</td>\n",
       "      <td>sheet</td>\n",
       "      <td>i</td>\n",
       "      <td>5</td>\n",
       "      <td>4</td>\n",
       "      <td>...</td>\n",
       "      <td>left</td>\n",
       "      <td>quarter</td>\n",
       "      <td>by</td>\n",
       "      <td>for</td>\n",
       "      <td>will</td>\n",
       "      <td>juice</td>\n",
       "      <td>color</td>\n",
       "      <td>6</td>\n",
       "      <td>a</td>\n",
       "      <td>and</td>\n",
       "    </tr>\n",
       "    <tr>\n",
       "      <th>26</th>\n",
       "      <td>fern</td>\n",
       "      <td>black</td>\n",
       "      <td>firm</td>\n",
       "      <td>%</td>\n",
       "      <td>other</td>\n",
       "      <td>.</td>\n",
       "      <td>nov</td>\n",
       "      <td>was</td>\n",
       "      <td>2</td>\n",
       "      <td>th</td>\n",
       "      <td>...</td>\n",
       "      <td>over</td>\n",
       "      <td>used</td>\n",
       "      <td>randomly</td>\n",
       "      <td>itself</td>\n",
       "      <td>include</td>\n",
       "      <td>beauty</td>\n",
       "      <td>is</td>\n",
       "      <td>scent</td>\n",
       "      <td>small</td>\n",
       "      <td>legs</td>\n",
       "    </tr>\n",
       "    <tr>\n",
       "      <th>27</th>\n",
       "      <td>print</td>\n",
       "      <td>if</td>\n",
       "      <td>.</td>\n",
       "      <td>wool</td>\n",
       "      <td>pockets</td>\n",
       "      <td>these</td>\n",
       "      <td>1</td>\n",
       "      <td>away</td>\n",
       "      <td>big</td>\n",
       "      <td>pic</td>\n",
       "      <td>...</td>\n",
       "      <td>.</td>\n",
       "      <td>to</td>\n",
       "      <td>selected</td>\n",
       "      <td>.</td>\n",
       "      <td>a</td>\n",
       "      <td>lipgloss</td>\n",
       "      <td>similar</td>\n",
       "      <td>disc</td>\n",
       "      <td>.</td>\n",
       "      <td>can</td>\n",
       "    </tr>\n",
       "    <tr>\n",
       "      <th>28</th>\n",
       "      <td>lace</td>\n",
       "      <td>you</td>\n",
       "      <td>background</td>\n",
       "      <td>worn</td>\n",
       "      <td>.</td>\n",
       "      <td>are</td>\n",
       "      <td>4</td>\n",
       "      <td>at</td>\n",
       "      <td>napkins</td>\n",
       "      <td>for</td>\n",
       "      <td>...</td>\n",
       "      <td>does</td>\n",
       "      <td>show</td>\n",
       "      <td>save</td>\n",
       "      <td>it</td>\n",
       "      <td>table</td>\n",
       "      <td>shade</td>\n",
       "      <td>to</td>\n",
       "      <td>refills</td>\n",
       "      <td>tag</td>\n",
       "      <td>move</td>\n",
       "    </tr>\n",
       "    <tr>\n",
       "      <th>29</th>\n",
       "      <td>size</td>\n",
       "      <td>are</td>\n",
       "      <td>is</td>\n",
       "      <td>as</td>\n",
       "      <td>copper</td>\n",
       "      <td>carter</td>\n",
       "      <td>he</td>\n",
       "      <td>college</td>\n",
       "      <td>(</td>\n",
       "      <td>a</td>\n",
       "      <td>...</td>\n",
       "      <td>not</td>\n",
       "      <td>size</td>\n",
       "      <td>with</td>\n",
       "      <td>is</td>\n",
       "      <td>spoon</td>\n",
       "      <td>drew</td>\n",
       "      <td>maroon</td>\n",
       "      <td>vanilla</td>\n",
       "      <td>:</td>\n",
       "      <td>.</td>\n",
       "    </tr>\n",
       "    <tr>\n",
       "      <th>30</th>\n",
       "      <td>3</td>\n",
       "      <td>interested</td>\n",
       "      <td>blue</td>\n",
       "      <td>a</td>\n",
       "      <td>color</td>\n",
       "      <td>'s</td>\n",
       "      <td>sparkle</td>\n",
       "      <td>,</td>\n",
       "      <td>1</td>\n",
       "      <td>size</td>\n",
       "      <td>...</td>\n",
       "      <td>have</td>\n",
       "      <td>great</td>\n",
       "      <td>bundle</td>\n",
       "      <td>extremely</td>\n",
       "      <td>of</td>\n",
       "      <td>&lt;unk&gt;</td>\n",
       "      <td>,</td>\n",
       "      <td>coconut</td>\n",
       "      <td>brandy</td>\n",
       "      <td>very</td>\n",
       "    </tr>\n",
       "    <tr>\n",
       "      <th>31</th>\n",
       "      <td>4</td>\n",
       "      <td>in</td>\n",
       "      <td>and</td>\n",
       "      <td>sweater</td>\n",
       "      <td>.</td>\n",
       "      <td>and</td>\n",
       "      <td>ships</td>\n",
       "      <td>now</td>\n",
       "      <td>6</td>\n",
       "      <td>comparison</td>\n",
       "      <td>...</td>\n",
       "      <td>a</td>\n",
       "      <td>for</td>\n",
       "      <td>all</td>\n",
       "      <td>warm</td>\n",
       "      <td>borax</td>\n",
       "      <td>legendary</td>\n",
       "      <td>but</td>\n",
       "      <td>stress</td>\n",
       "      <td>melville</td>\n",
       "      <td>cute</td>\n",
       "    </tr>\n",
       "    <tr>\n",
       "      <th>32</th>\n",
       "      <td>b</td>\n",
       "      <td>any</td>\n",
       "      <td>black</td>\n",
       "      <td>dress</td>\n",
       "      <td>gold</td>\n",
       "      <td>little</td>\n",
       "      <td>from</td>\n",
       "      <td>i</td>\n",
       "      <td>still</td>\n",
       "      <td>includes</td>\n",
       "      <td>...</td>\n",
       "      <td>zipper</td>\n",
       "      <td>envelope</td>\n",
       "      <td>order</td>\n",
       "      <td>and</td>\n",
       "      <td>that</td>\n",
       "      <td>lipgloss</td>\n",
       "      <td>has</td>\n",
       "      <td>relief</td>\n",
       "      <td>urban</td>\n",
       "      <td>,</td>\n",
       "    </tr>\n",
       "    <tr>\n",
       "      <th>33</th>\n",
       "      <td>with</td>\n",
       "      <td>other</td>\n",
       "      <td>print</td>\n",
       "      <td>,</td>\n",
       "      <td>hardware</td>\n",
       "      <td>me</td>\n",
       "      <td>a</td>\n",
       "      <td>'m</td>\n",
       "      <td>in</td>\n",
       "      <td>the</td>\n",
       "      <td>...</td>\n",
       "      <td>.</td>\n",
       "      <td>seals</td>\n",
       "      <td>will</td>\n",
       "      <td>comfy</td>\n",
       "      <td>makes</td>\n",
       "      <td>shade</td>\n",
       "      <td>a</td>\n",
       "      <td>eucalyptus</td>\n",
       "      <td>outfitters</td>\n",
       "      <td>with</td>\n",
       "    </tr>\n",
       "    <tr>\n",
       "      <th>34</th>\n",
       "      <td>a</td>\n",
       "      <td>color</td>\n",
       "      <td>with</td>\n",
       "      <td>since</td>\n",
       "      <td>.</td>\n",
       "      <td>brand</td>\n",
       "      <td>smoke</td>\n",
       "      <td>changing</td>\n",
       "      <td>packaging</td>\n",
       "      <td>below</td>\n",
       "      <td>...</td>\n",
       "      <td>has</td>\n",
       "      <td>,</td>\n",
       "      <td>drop</td>\n",
       "      <td>.</td>\n",
       "      <td>a</td>\n",
       "      <td>pout</td>\n",
       "      <td>bit</td>\n",
       "      <td>spearmint</td>\n",
       "      <td>pacsun</td>\n",
       "      <td>tag</td>\n",
       "    </tr>\n",
       "    <tr>\n",
       "      <th>35</th>\n",
       "      <td>cute</td>\n",
       "      <td>,</td>\n",
       "      <td>cream</td>\n",
       "      <td>i</td>\n",
       "      <td>minor</td>\n",
       "      <td>,</td>\n",
       "      <td>free</td>\n",
       "      <td>the</td>\n",
       "      <td>)</td>\n",
       "      <td>:</td>\n",
       "      <td>...</td>\n",
       "      <td>four</td>\n",
       "      <td>crafts</td>\n",
       "      <td>off</td>\n",
       "      <td>these</td>\n",
       "      <td>cup</td>\n",
       "      <td>nyx</td>\n",
       "      <td>of</td>\n",
       "      <td>bourbon</td>\n",
       "      <td>forever</td>\n",
       "      <td>,</td>\n",
       "    </tr>\n",
       "    <tr>\n",
       "      <th>36</th>\n",
       "      <td>lace</td>\n",
       "      <td>please</td>\n",
       "      <td>and</td>\n",
       "      <td>'m</td>\n",
       "      <td>marks</td>\n",
       "      <td>both</td>\n",
       "      <td>home</td>\n",
       "      <td>entire</td>\n",
       "      <td>1</td>\n",
       "      <td>&lt;unk&gt;</td>\n",
       "      <td>...</td>\n",
       "      <td>wide</td>\n",
       "      <td>,</td>\n",
       "      <td>to</td>\n",
       "      <td>retail</td>\n",
       "      <td>of</td>\n",
       "      <td>butter</td>\n",
       "      <td>a</td>\n",
       "      <td>&amp;</td>\n",
       "      <td>2</td>\n",
       "      <td>no</td>\n",
       "    </tr>\n",
       "    <tr>\n",
       "      <th>37</th>\n",
       "      <td>back</td>\n",
       "      <td>let</td>\n",
       "      <td>creamy</td>\n",
       "      <td>a</td>\n",
       "      <td>shown</td>\n",
       "      <td>sleepers</td>\n",
       "      <td>and</td>\n",
       "      <td>color</td>\n",
       "      <td>6</td>\n",
       "      <td>1</td>\n",
       "      <td>...</td>\n",
       "      <td>side</td>\n",
       "      <td>wedding</td>\n",
       "      <td>usps</td>\n",
       "      <td>around</td>\n",
       "      <td>water</td>\n",
       "      <td>gloss</td>\n",
       "      <td>purple</td>\n",
       "      <td>bow</td>\n",
       "      <td>1</td>\n",
       "      <td>box</td>\n",
       "    </tr>\n",
       "    <tr>\n",
       "      <th>38</th>\n",
       "      <td>.</td>\n",
       "      <td>me</td>\n",
       "      <td>red</td>\n",
       "      <td>size</td>\n",
       "      <td>in</td>\n",
       "      <td>are</td>\n",
       "      <td>super</td>\n",
       "      <td>scheme</td>\n",
       "      <td>small</td>\n",
       "      <td>vial</td>\n",
       "      <td>...</td>\n",
       "      <td>pockets</td>\n",
       "      <td>or</td>\n",
       "      <td>by</td>\n",
       "      <td>[rm]</td>\n",
       "      <td>for</td>\n",
       "      <td>shade</td>\n",
       "      <td>shade</td>\n",
       "      <td>ties</td>\n",
       "      <td>abercrombie</td>\n",
       "      <td>,</td>\n",
       "    </tr>\n",
       "    <tr>\n",
       "      <th>39</th>\n",
       "      <td>the</td>\n",
       "      <td>know</td>\n",
       "      <td>arrows</td>\n",
       "      <td>small</td>\n",
       "      <td>picture</td>\n",
       "      <td>size</td>\n",
       "      <td>quick</td>\n",
       "      <td>so</td>\n",
       "      <td>napkins</td>\n",
       "      <td>on</td>\n",
       "      <td>...</td>\n",
       "      <td>going</td>\n",
       "      <td>birthday</td>\n",
       "      <td>next</td>\n",
       "      <td>for</td>\n",
       "      <td>your</td>\n",
       "      <td>peanut</td>\n",
       "      <td>in</td>\n",
       "      <td>black</td>\n",
       "      <td>lululemon</td>\n",
       "      <td>coming</td>\n",
       "    </tr>\n",
       "    <tr>\n",
       "      <th>40</th>\n",
       "      <td>panties</td>\n",
       "      <td>!</td>\n",
       "      <td>.</td>\n",
       "      <td>really</td>\n",
       "      <td>but</td>\n",
       "      <td>3</td>\n",
       "      <td>!</td>\n",
       "      <td>i</td>\n",
       "      <td>still</td>\n",
       "      <td>card</td>\n",
       "      <td>...</td>\n",
       "      <td>around</td>\n",
       "      <td>thank</td>\n",
       "      <td>business</td>\n",
       "      <td>men</td>\n",
       "      <td>slime</td>\n",
       "      <td>brittle</td>\n",
       "      <td>it</td>\n",
       "      <td>cherry</td>\n",
       "      <td>bath</td>\n",
       "      <td>with</td>\n",
       "    </tr>\n",
       "    <tr>\n",
       "      <th>41</th>\n",
       "      <td>are</td>\n",
       "      <td>the</td>\n",
       "      <td>ps</td>\n",
       "      <td>soft</td>\n",
       "      <td>overall</td>\n",
       "      <td>months</td>\n",
       "      <td>no</td>\n",
       "      <td>do</td>\n",
       "      <td>in</td>\n",
       "      <td>(</td>\n",
       "      <td>...</td>\n",
       "      <td>the</td>\n",
       "      <td>you</td>\n",
       "      <td>day</td>\n",
       "      <td>.</td>\n",
       "      <td>just</td>\n",
       "      <td>butter</td>\n",
       "      <td>;</td>\n",
       "      <td>merlot</td>\n",
       "      <td>and</td>\n",
       "      <td>porcelain</td>\n",
       "    </tr>\n",
       "    <tr>\n",
       "      <th>42</th>\n",
       "      <td>lace</td>\n",
       "      <td>contents</td>\n",
       "      <td>-</td>\n",
       "      <td>(:</td>\n",
       "      <td>great</td>\n",
       "      <td>.</td>\n",
       "      <td>funky</td>\n",
       "      <td>n't</td>\n",
       "      <td>packaging</td>\n",
       "      <td>1</td>\n",
       "      <td>...</td>\n",
       "      <td>bag</td>\n",
       "      <td>stationary</td>\n",
       "      <td>again</td>\n",
       "      <td>the</td>\n",
       "      <td>in</td>\n",
       "      <td>london</td>\n",
       "      <td>hard</td>\n",
       "      <td>watermelon</td>\n",
       "      <td>body</td>\n",
       "      <td>bird</td>\n",
       "    </tr>\n",
       "    <tr>\n",
       "      <th>43</th>\n",
       "      <td>trim</td>\n",
       "      <td>include</td>\n",
       "      <td>this</td>\n",
       "      <td>let</td>\n",
       "      <td>used</td>\n",
       "      <td>do</td>\n",
       "      <td>smells</td>\n",
       "      <td>need</td>\n",
       "      <td>2</td>\n",
       "      <td>.</td>\n",
       "      <td>...</td>\n",
       "      <td>.</td>\n",
       "      <td>eco</td>\n",
       "      <td>let</td>\n",
       "      <td>color</td>\n",
       "      <td>case</td>\n",
       "      <td>lipstick</td>\n",
       "      <td>to</td>\n",
       "      <td>lemonade</td>\n",
       "      <td>works</td>\n",
       "      <td>salt</td>\n",
       "    </tr>\n",
       "    <tr>\n",
       "      <th>44</th>\n",
       "      <td>thong</td>\n",
       "      <td>the</td>\n",
       "      <td>matches</td>\n",
       "      <td>me</td>\n",
       "      <td>condition</td>\n",
       "      <td>n't</td>\n",
       "      <td>and</td>\n",
       "      <td>it</td>\n",
       "      <td>9</td>\n",
       "      <td>5</td>\n",
       "      <td>...</td>\n",
       "      <td>it</td>\n",
       "      <td>-</td>\n",
       "      <td>me</td>\n",
       "      <td>is</td>\n",
       "      <td>needs</td>\n",
       "      <td>shade</td>\n",
       "      <td>explain</td>\n",
       "      <td>limoncello</td>\n",
       "      <td>s'well</td>\n",
       "      <td>&amp;</td>\n",
       "    </tr>\n",
       "    <tr>\n",
       "      <th>45</th>\n",
       "      <td>size</td>\n",
       "      <td>mushroom</td>\n",
       "      <td>nicely</td>\n",
       "      <td>know</td>\n",
       "      <td>.</td>\n",
       "      <td>forget</td>\n",
       "      <td>in</td>\n",
       "      <td>anymore</td>\n",
       "      <td>opened</td>\n",
       "      <td>ml</td>\n",
       "      <td>...</td>\n",
       "      <td>is</td>\n",
       "      <td>friendly</td>\n",
       "      <td>know</td>\n",
       "      <td>midnight</td>\n",
       "      <td>to</td>\n",
       "      <td>&lt;unk&gt;</td>\n",
       "      <td>no</td>\n",
       "      <td>free</td>\n",
       "      <td>bebe</td>\n",
       "      <td>pepper</td>\n",
       "    </tr>\n",
       "    <tr>\n",
       "      <th>46</th>\n",
       "      <td>medium</td>\n",
       "      <td>bluetooth</td>\n",
       "      <td>with</td>\n",
       "      <td>if</td>\n",
       "      <td>1</td>\n",
       "      <td>to</td>\n",
       "      <td>a</td>\n",
       "      <td>.</td>\n",
       "      <td>but</td>\n",
       "      <td>)</td>\n",
       "      <td>...</td>\n",
       "      <td>super</td>\n",
       "      <td>water</td>\n",
       "      <td>the</td>\n",
       "      <td>/</td>\n",
       "      <td>be</td>\n",
       "      <td>no</td>\n",
       "      <td>flaws</td>\n",
       "      <td>shipping</td>\n",
       "      <td>vineyard</td>\n",
       "      <td>shakers</td>\n",
       "    </tr>\n",
       "    <tr>\n",
       "      <th>47</th>\n",
       "      <td>.</td>\n",
       "      <td>speaker</td>\n",
       "      <td>the</td>\n",
       "      <td>you</td>\n",
       "      <td>0</td>\n",
       "      <td>check</td>\n",
       "      <td>jamberry</td>\n",
       "      <td>it</td>\n",
       "      <td>unused</td>\n",
       "      <td>&lt;unk&gt;</td>\n",
       "      <td>...</td>\n",
       "      <td>cute</td>\n",
       "      <td>based</td>\n",
       "      <td>color</td>\n",
       "      <td>navy</td>\n",
       "      <td>fix</td>\n",
       "      <td>free</td>\n",
       "      <td>,</td>\n",
       "      <td>firm</td>\n",
       "      <td>vines</td>\n",
       "      <td>as</td>\n",
       "    </tr>\n",
       "    <tr>\n",
       "      <th>48</th>\n",
       "      <td>vs</td>\n",
       "      <td>,</td>\n",
       "      <td>red</td>\n",
       "      <td>want</td>\n",
       "      <td>0</td>\n",
       "      <td>out</td>\n",
       "      <td>sleeve</td>\n",
       "      <td>works</td>\n",
       "      <td>,</td>\n",
       "      <td>1</td>\n",
       "      <td>...</td>\n",
       "      <td>!</td>\n",
       "      <td>ink</td>\n",
       "      <td>you</td>\n",
       "      <td>blue</td>\n",
       "      <td>because</td>\n",
       "      <td>shipping</td>\n",
       "      <td>super</td>\n",
       "      <td>!</td>\n",
       "      <td>ivory</td>\n",
       "      <td>gift</td>\n",
       "    </tr>\n",
       "    <tr>\n",
       "      <th>49</th>\n",
       "      <td>free</td>\n",
       "      <td>usb</td>\n",
       "      <td>arrow</td>\n",
       "      <td>to</td>\n",
       "      <td>%</td>\n",
       "      <td>my</td>\n",
       "      <td>!</td>\n",
       "      <td>great</td>\n",
       "      <td>one</td>\n",
       "      <td>deluxe</td>\n",
       "      <td>...</td>\n",
       "      <td>*</td>\n",
       "      <td>used</td>\n",
       "      <td>want</td>\n",
       "      <td>.</td>\n",
       "      <td>weather</td>\n",
       "      <td>view</td>\n",
       "      <td>cute</td>\n",
       "      <td>!</td>\n",
       "      <td>ella</td>\n",
       "      <td>.</td>\n",
       "    </tr>\n",
       "    <tr>\n",
       "      <th>50</th>\n",
       "      <td>ship</td>\n",
       "      <td>charging</td>\n",
       "      <td>carly</td>\n",
       "      <td>bundle</td>\n",
       "      <td>authentic</td>\n",
       "      <td>other</td>\n",
       "      <td>extra</td>\n",
       "      <td>,</td>\n",
       "      <td>purple</td>\n",
       "      <td>sample</td>\n",
       "      <td>...</td>\n",
       "      <td>bundle</td>\n",
       "      <td>for</td>\n",
       "      <td>or</td>\n",
       "      <td>size</td>\n",
       "      <td>on</td>\n",
       "      <td>other</td>\n",
       "      <td>&amp;</td>\n",
       "      <td>selling</td>\n",
       "      <td>nike</td>\n",
       "      <td>love</td>\n",
       "    </tr>\n",
       "    <tr>\n",
       "      <th>51</th>\n",
       "      <td>.</td>\n",
       "      <td>cable</td>\n",
       "      <td>i</td>\n",
       "      <td>!</td>\n",
       "      <td>.</td>\n",
       "      <td>listings</td>\n",
       "      <td>protection</td>\n",
       "      <td>it</td>\n",
       "      <td>tassel</td>\n",
       "      <td>(</td>\n",
       "      <td>...</td>\n",
       "      <td>for</td>\n",
       "      <td>print</td>\n",
       "      <td>we</td>\n",
       "      <td>m</td>\n",
       "      <td>shipping</td>\n",
       "      <td>listings</td>\n",
       "      <td>uniquely</td>\n",
       "      <td>together</td>\n",
       "      <td>adidas</td>\n",
       "      <td>,</td>\n",
       "    </tr>\n",
       "    <tr>\n",
       "      <th>52</th>\n",
       "      <td>8</td>\n",
       "      <td>,</td>\n",
       "      <td>am</td>\n",
       "      <td>pet</td>\n",
       "      <td>open</td>\n",
       "      <td>bundle</td>\n",
       "      <td>with</td>\n",
       "      <td>just</td>\n",
       "      <td>garland</td>\n",
       "      <td>4</td>\n",
       "      <td>...</td>\n",
       "      <td>1</td>\n",
       "      <td>shipped</td>\n",
       "      <td>will</td>\n",
       "      <td>but</td>\n",
       "      <td>!</td>\n",
       "      <td>to</td>\n",
       "      <td>colored</td>\n",
       "      <td>!</td>\n",
       "      <td>victoria</td>\n",
       "      <td>rest</td>\n",
       "    </tr>\n",
       "    <tr>\n",
       "      <th>53</th>\n",
       "      <td>3</td>\n",
       "      <td>and</td>\n",
       "      <td>also</td>\n",
       "      <td>and</td>\n",
       "      <td>to</td>\n",
       "      <td>and</td>\n",
       "      <td>tracked</td>\n",
       "      <td>needs</td>\n",
       "      <td>still</td>\n",
       "      <td>.</td>\n",
       "      <td>...</td>\n",
       "      <td>5</td>\n",
       "      <td>in</td>\n",
       "      <td>ship</td>\n",
       "      <td>also</td>\n",
       "      <td>have</td>\n",
       "      <td>combine</td>\n",
       "      <td>jacket</td>\n",
       "      <td>retails</td>\n",
       "      <td>secret</td>\n",
       "      <td>,</td>\n",
       "    </tr>\n",
       "    <tr>\n",
       "      <th>54</th>\n",
       "      <td>2</td>\n",
       "      <td>instructions</td>\n",
       "      <td>selling</td>\n",
       "      <td>smoke</td>\n",
       "      <td>reasonable</td>\n",
       "      <td>save</td>\n",
       "      <td>shipping</td>\n",
       "      <td>light</td>\n",
       "      <td>in</td>\n",
       "      <td>5</td>\n",
       "      <td>...</td>\n",
       "      <td>%</td>\n",
       "      <td>a</td>\n",
       "      <td>it</td>\n",
       "      <td>fits</td>\n",
       "      <td>fun</td>\n",
       "      <td>shipping</td>\n",
       "      <td>!</td>\n",
       "      <td>for</td>\n",
       "      <td>pink</td>\n",
       "      <td>dream</td>\n",
       "    </tr>\n",
       "    <tr>\n",
       "      <th>55</th>\n",
       "      <td>9</td>\n",
       "      <td>.</td>\n",
       "      <td>;-)</td>\n",
       "      <td>free</td>\n",
       "      <td>offers</td>\n",
       "      <td>!</td>\n",
       "      <td>included</td>\n",
       "      <td>bulbs</td>\n",
       "      <td>packaging</td>\n",
       "      <td>ml</td>\n",
       "      <td>...</td>\n",
       "      <td>off</td>\n",
       "      <td>stamped</td>\n",
       "      <td>randomly</td>\n",
       "      <td>size</td>\n",
       "      <td>!</td>\n",
       "      <td>will</td>\n",
       "      <td>price</td>\n",
       "      <td>almost</td>\n",
       "      <td>american</td>\n",
       "      <td>,</td>\n",
       "    </tr>\n",
       "    <tr>\n",
       "      <th>56</th>\n",
       "      <td>&lt;pad&gt;</td>\n",
       "      <td>&lt;pad&gt;</td>\n",
       "      <td>&lt;pad&gt;</td>\n",
       "      <td>home</td>\n",
       "      <td>.</td>\n",
       "      <td>5</td>\n",
       "      <td>.</td>\n",
       "      <td>.</td>\n",
       "      <td>.</td>\n",
       "      <td>)</td>\n",
       "      <td>...</td>\n",
       "      <td>!</td>\n",
       "      <td>envelope</td>\n",
       "      <td>selected</td>\n",
       "      <td>large</td>\n",
       "      <td>!</td>\n",
       "      <td>not</td>\n",
       "      <td>is</td>\n",
       "      <td>[rm]</td>\n",
       "      <td>eagle</td>\n",
       "      <td>nest</td>\n",
       "    </tr>\n",
       "    <tr>\n",
       "      <th>57</th>\n",
       "      <td>&lt;pad&gt;</td>\n",
       "      <td>&lt;pad&gt;</td>\n",
       "      <td>&lt;pad&gt;</td>\n",
       "      <td>&lt;pad&gt;</td>\n",
       "      <td>&lt;pad&gt;</td>\n",
       "      <td>&lt;pad&gt;</td>\n",
       "      <td>&lt;pad&gt;</td>\n",
       "      <td>&lt;pad&gt;</td>\n",
       "      <td>&lt;pad&gt;</td>\n",
       "      <td>&lt;pad&gt;</td>\n",
       "      <td>...</td>\n",
       "      <td>*</td>\n",
       "      <td>.</td>\n",
       "      <td>.</td>\n",
       "      <td>.</td>\n",
       "      <td>!</td>\n",
       "      <td>seperate</td>\n",
       "      <td>negotiable</td>\n",
       "      <td>!</td>\n",
       "      <td>tobi</td>\n",
       "      <td>.</td>\n",
       "    </tr>\n",
       "  </tbody>\n",
       "</table>\n",
       "<p>58 rows × 128 columns</p>\n",
       "</div>"
      ],
      "text/plain": [
       "              0              1              2              3              4    \\\n",
       "0           <unk>          <unk>          <unk>          <unk>          <unk>   \n",
       "1           women    electronics          women          women       handmade   \n",
       "2       underwear          <unk>       sweaters       sweaters          <unk>   \n",
       "3            bras          <unk>          <unk>       crewneck           tote   \n",
       "4          <name>         <name>         <name>         <name>         <name>   \n",
       "5        victoria           teal        lularoe              f        michael   \n",
       "6              's       mushroom          large              2           kors   \n",
       "7          secret      bluetooth          arrow              1         medium   \n",
       "8            pink        speaker          sarah            fur           tote   \n",
       "9             bra  <description>  <description>        sweater  <description>   \n",
       "10            and            the            euc  <description>       metallic   \n",
       "11          panty          price           only        forever        michael   \n",
       "12            set             is           worn              2           kors   \n",
       "13  <description>           firm           once              1           tote   \n",
       "14           both             on             or         orange           with   \n",
       "15            new          these          twice            and       magnetic   \n",
       "16             in              .              -          white         button   \n",
       "17      packaging              i          sarah        striped        closure   \n",
       "18          cloud           have             's        sweater              .   \n",
       "19            tie       multiple           just              2         zipper   \n",
       "20            dye         colors            not              8         inside   \n",
       "21              .      including             my              %             as   \n",
       "22            the              :            jam         rabbit           well   \n",
       "23            bra         yellow              .            fur             as   \n",
       "24             is           teal          price              1          phone   \n",
       "25           palm           blue             is              4            and   \n",
       "26           fern          black           firm              %          other   \n",
       "27          print             if              .           wool        pockets   \n",
       "28           lace            you     background           worn              .   \n",
       "29           size            are             is             as         copper   \n",
       "30              3     interested           blue              a          color   \n",
       "31              4             in            and        sweater              .   \n",
       "32              b            any          black          dress           gold   \n",
       "33           with          other          print              ,       hardware   \n",
       "34              a          color           with          since              .   \n",
       "35           cute              ,          cream              i          minor   \n",
       "36           lace         please            and             'm          marks   \n",
       "37           back            let         creamy              a          shown   \n",
       "38              .             me            red           size             in   \n",
       "39            the           know         arrows          small        picture   \n",
       "40        panties              !              .         really            but   \n",
       "41            are            the             ps           soft        overall   \n",
       "42           lace       contents              -             (:          great   \n",
       "43           trim        include           this            let           used   \n",
       "44          thong            the        matches             me      condition   \n",
       "45           size       mushroom         nicely           know              .   \n",
       "46         medium      bluetooth           with             if              1   \n",
       "47              .        speaker            the            you              0   \n",
       "48             vs              ,            red           want              0   \n",
       "49           free            usb          arrow             to              %   \n",
       "50           ship       charging          carly         bundle      authentic   \n",
       "51              .          cable              i              !              .   \n",
       "52              8              ,             am            pet           open   \n",
       "53              3            and           also            and             to   \n",
       "54              2   instructions        selling          smoke     reasonable   \n",
       "55              9              .            ;-)           free         offers   \n",
       "56          <pad>          <pad>          <pad>           home              .   \n",
       "57          <pad>          <pad>          <pad>          <pad>          <pad>   \n",
       "\n",
       "              5              6              7              8              9    \\\n",
       "0           <unk>          <unk>          <unk>          <unk>          <unk>   \n",
       "1            kids         beauty           home           kids         beauty   \n",
       "2            boys         makeup          <unk>           toys      fragrance   \n",
       "3               0          nails            cor          <unk>          women   \n",
       "4               -         <name>          <unk>         <name>         <name>   \n",
       "5               2       jamberry         <name>            paw          dolce   \n",
       "6               4           wrap           ruby         patrol              &   \n",
       "7             mos         bundle            red          party        gabbana   \n",
       "8             one            for              3       supplies          light   \n",
       "9               -         joanna         headed  <description>           blue   \n",
       "10         pieces  <description>          floor              1          scent   \n",
       "11         <name>       reserved           lamp              9  <description>   \n",
       "12           baby         bundle  <description>           cake          dolce   \n",
       "13            boy              !           this         plates              &   \n",
       "14         footed              !           lamp              ,        gabbana   \n",
       "15       sleepers           full             is              2          light   \n",
       "16           size          sheet         really              2           blue   \n",
       "17              3       jamberry           cute         dinner            eau   \n",
       "18         months           wrap              !         plates             de   \n",
       "19  <description>        neptune              i              (       toilette   \n",
       "20          these           full            use              8              -   \n",
       "21       sleepers          sheet             to          still            new   \n",
       "22            are          rebel            use             in              -   \n",
       "23             in          black             it      packaging           look   \n",
       "24           good           full          while              )             at   \n",
       "25      condition          sheet              i              5              4   \n",
       "26              .            nov            was              2             th   \n",
       "27          these              1           away            big            pic   \n",
       "28            are              4             at        napkins            for   \n",
       "29         carter             he        college              (              a   \n",
       "30             's        sparkle              ,              1           size   \n",
       "31            and          ships            now              6     comparison   \n",
       "32         little           from              i          still       includes   \n",
       "33             me              a             'm             in            the   \n",
       "34          brand          smoke       changing      packaging          below   \n",
       "35              ,           free            the              )              :   \n",
       "36           both           home         entire              1          <unk>   \n",
       "37       sleepers            and          color              6              1   \n",
       "38            are          super         scheme          small           vial   \n",
       "39           size          quick             so        napkins             on   \n",
       "40              3              !              i          still           card   \n",
       "41         months             no             do             in              (   \n",
       "42              .          funky            n't      packaging              1   \n",
       "43             do         smells           need              2              .   \n",
       "44            n't            and             it              9              5   \n",
       "45         forget             in        anymore         opened             ml   \n",
       "46             to              a              .            but              )   \n",
       "47          check       jamberry             it         unused          <unk>   \n",
       "48            out         sleeve          works              ,              1   \n",
       "49             my              !          great            one         deluxe   \n",
       "50          other          extra              ,         purple         sample   \n",
       "51       listings     protection             it         tassel              (   \n",
       "52         bundle           with           just        garland              4   \n",
       "53            and        tracked          needs          still              .   \n",
       "54           save       shipping          light             in              5   \n",
       "55              !       included          bulbs      packaging             ml   \n",
       "56              5              .              .              .              )   \n",
       "57          <pad>          <pad>          <pad>          <pad>          <pad>   \n",
       "\n",
       "        ...                  118            119            120            121  \\\n",
       "0       ...                <unk>          <unk>          <unk>          <unk>   \n",
       "1       ...                women       handmade           kids            men   \n",
       "2       ...                <unk>          <unk>           toys          <unk>   \n",
       "3       ...                <unk>        sticker        puzzles         flight   \n",
       "4       ...               <name>         <name>         <name>         bomber   \n",
       "5       ...          aeropostale              4           flag         <name>   \n",
       "6       ...                black              0         fidget            a&f   \n",
       "7       ...                 huge          thank        spinner            all   \n",
       "8       ...                 tote            you  <description>         season   \n",
       "9       ...        <description>       stickers            one        weather   \n",
       "10      ...                 fits  <description>        spinner        warrior   \n",
       "11      ...                    a          white           only  <description>   \n",
       "12      ...                    1          thank         please           this   \n",
       "13      ...                    5            you        message    abercrombie   \n",
       "14      ...                    \"       stickers             me              &   \n",
       "15      ...                 inch           with            the          fitch   \n",
       "16      ...               laptop            red          color            all   \n",
       "17      ...                    &         hearts            you         season   \n",
       "18      ...              charger              8           want        weather   \n",
       "19      ...                 plus         strips              ,        warrior   \n",
       "20      ...                    a           with             or            has   \n",
       "21      ...             textbook              5             we              a   \n",
       "22      ...                 with             on           will           name   \n",
       "23      ...                still           each           ship           that   \n",
       "24      ...                space              .             it         speaks   \n",
       "25      ...                 left        quarter             by            for   \n",
       "26      ...                 over           used       randomly         itself   \n",
       "27      ...                    .             to       selected              .   \n",
       "28      ...                 does           show           save             it   \n",
       "29      ...                  not           size           with             is   \n",
       "30      ...                 have          great         bundle      extremely   \n",
       "31      ...                    a            for            all           warm   \n",
       "32      ...               zipper       envelope          order            and   \n",
       "33      ...                    .          seals           will          comfy   \n",
       "34      ...                  has              ,           drop              .   \n",
       "35      ...                 four         crafts            off          these   \n",
       "36      ...                 wide              ,             to         retail   \n",
       "37      ...                 side        wedding           usps         around   \n",
       "38      ...              pockets             or             by           [rm]   \n",
       "39      ...                going       birthday           next            for   \n",
       "40      ...               around          thank       business            men   \n",
       "41      ...                  the            you            day              .   \n",
       "42      ...                  bag     stationary          again            the   \n",
       "43      ...                    .            eco            let          color   \n",
       "44      ...                   it              -             me             is   \n",
       "45      ...                   is       friendly           know       midnight   \n",
       "46      ...                super          water            the              /   \n",
       "47      ...                 cute          based          color           navy   \n",
       "48      ...                    !            ink            you           blue   \n",
       "49      ...                    *           used           want              .   \n",
       "50      ...               bundle            for             or           size   \n",
       "51      ...                  for          print             we              m   \n",
       "52      ...                    1        shipped           will            but   \n",
       "53      ...                    5             in           ship           also   \n",
       "54      ...                    %              a             it           fits   \n",
       "55      ...                  off        stamped       randomly           size   \n",
       "56      ...                    !       envelope       selected          large   \n",
       "57      ...                    *              .              .              .   \n",
       "\n",
       "              122            123            124             125  \\\n",
       "0           <unk>          <unk>          <unk>           <unk>   \n",
       "1            kids         beauty          women            home   \n",
       "2            toys         makeup          <unk>           <unk>   \n",
       "3           <unk>           lips        jackets           <unk>   \n",
       "4          <name>         <name>         <name>          <name>   \n",
       "5           slime            lip         adidas             new   \n",
       "6      collection            lot         jacket  scentportables   \n",
       "7               7  <description>  <description>             for   \n",
       "8          colors            nyx          never            your   \n",
       "9               !          jumbo           worn             car   \n",
       "10  <description>            lip              ,               !   \n",
       "11           cute         pencil            too              fs   \n",
       "12         colors          shade          small               !   \n",
       "13              !          pecan            for   <description>   \n",
       "14              !            nyx             me             new   \n",
       "15          check            lip           size            bath   \n",
       "16            out          cream             is               &   \n",
       "17             my          shade         medium            body   \n",
       "18      listening        natural            but           works   \n",
       "19           more            nyx           fits           coral   \n",
       "20         coming         simple           more               &   \n",
       "21           soon           nude           like           white   \n",
       "22              !          shade              a           purse   \n",
       "23              !              0          small           visor   \n",
       "24              !              1            the            clip   \n",
       "25           will          juice          color               6   \n",
       "26        include         beauty             is           scent   \n",
       "27              a       lipgloss        similar            disc   \n",
       "28          table          shade             to         refills   \n",
       "29          spoon           drew         maroon         vanilla   \n",
       "30             of          <unk>              ,         coconut   \n",
       "31          borax      legendary            but          stress   \n",
       "32           that       lipgloss            has          relief   \n",
       "33          makes          shade              a      eucalyptus   \n",
       "34              a           pout            bit       spearmint   \n",
       "35            cup            nyx             of         bourbon   \n",
       "36             of         butter              a               &   \n",
       "37          water          gloss         purple             bow   \n",
       "38            for          shade          shade            ties   \n",
       "39           your         peanut             in           black   \n",
       "40          slime        brittle             it          cherry   \n",
       "41           just         butter              ;          merlot   \n",
       "42             in         london           hard      watermelon   \n",
       "43           case       lipstick             to        lemonade   \n",
       "44          needs          shade        explain      limoncello   \n",
       "45             to          <unk>             no            free   \n",
       "46             be             no          flaws        shipping   \n",
       "47            fix           free              ,            firm   \n",
       "48        because       shipping          super               !   \n",
       "49        weather           view           cute               !   \n",
       "50             on          other              &         selling   \n",
       "51       shipping       listings       uniquely        together   \n",
       "52              !             to        colored               !   \n",
       "53           have        combine         jacket         retails   \n",
       "54            fun       shipping              !             for   \n",
       "55              !           will          price          almost   \n",
       "56              !            not             is            [rm]   \n",
       "57              !       seperate     negotiable               !   \n",
       "\n",
       "              126            127  \n",
       "0           <unk>          <unk>  \n",
       "1           women           kids  \n",
       "2        sweaters           toys  \n",
       "3        crewneck          <unk>  \n",
       "4          <name>         <name>  \n",
       "5        virginia      alexander  \n",
       "6            tech           baby  \n",
       "7      university          <unk>  \n",
       "8        crewneck       shipping  \n",
       "9   <description>              )  \n",
       "10             in  <description>  \n",
       "11           very       memories  \n",
       "12           good             of  \n",
       "13      condition       lifetime  \n",
       "14            and          bride  \n",
       "15         hardly            and  \n",
       "16           ever          groom  \n",
       "17           worn              ,  \n",
       "18              .            eye  \n",
       "19            tag            can  \n",
       "20           says           open  \n",
       "21         medium            and  \n",
       "22            but          close  \n",
       "23           fits              ,  \n",
       "24           like           arms  \n",
       "25              a            and  \n",
       "26          small           legs  \n",
       "27              .            can  \n",
       "28            tag           move  \n",
       "29              :              .  \n",
       "30         brandy           very  \n",
       "31       melville           cute  \n",
       "32          urban              ,  \n",
       "33     outfitters           with  \n",
       "34         pacsun            tag  \n",
       "35        forever              ,  \n",
       "36              2             no  \n",
       "37              1            box  \n",
       "38    abercrombie              ,  \n",
       "39      lululemon         coming  \n",
       "40           bath           with  \n",
       "41            and      porcelain  \n",
       "42           body           bird  \n",
       "43          works           salt  \n",
       "44         s'well              &  \n",
       "45           bebe         pepper  \n",
       "46       vineyard        shakers  \n",
       "47          vines             as  \n",
       "48          ivory           gift  \n",
       "49           ella              .  \n",
       "50           nike           love  \n",
       "51         adidas              ,  \n",
       "52       victoria           rest  \n",
       "53         secret              ,  \n",
       "54           pink          dream  \n",
       "55       american              ,  \n",
       "56          eagle           nest  \n",
       "57           tobi              .  \n",
       "\n",
       "[58 rows x 128 columns]"
      ]
     },
     "execution_count": 46,
     "metadata": {},
     "output_type": "execute_result"
    }
   ],
   "source": [
    "# same as to_np(xs[0])\n",
    "xdf = pd.DataFrame(xbs[0].data.cpu().numpy())\n",
    "xdf.apply(lambda x: x.apply(lambda x1: ITEM_DESCRIPTION.vocab.itos[x1]))"
   ]
  },
  {
   "cell_type": "code",
   "execution_count": 47,
   "metadata": {
    "collapsed": true
   },
   "outputs": [],
   "source": [
    "bptt, max_sl=50, 200\n",
    "text_emb_sz = 100  # size of each embedding vector\n",
    "enc_n_hid = 200     # number of hidden activations per layer\n",
    "enc_n_layers = 3       # number of layers\n",
    "opt_fn = partial(optim.Adam, betas=(0.7, 0.99))\n",
    "cat_emb_drop=0.04\n",
    "fc_layers=[1000, 500]\n",
    "fc_drops =[0.001, 0.01]"
   ]
  },
  {
   "cell_type": "code",
   "execution_count": 48,
   "metadata": {},
   "outputs": [
    {
     "data": {
      "text/plain": [
       "(0.0, 7.6058900010531216)"
      ]
     },
     "execution_count": 48,
     "metadata": {},
     "output_type": "execute_result"
    }
   ],
   "source": [
    "y_range = (np.min(np.log(y+1)), np.max(np.log(y+1)))\n",
    "y_range"
   ]
  },
  {
   "cell_type": "code",
   "execution_count": 49,
   "metadata": {
    "collapsed": true
   },
   "outputs": [],
   "source": [
    "learner = md.get_learner(opt_fn, text_emb_sz, enc_n_hid, enc_n_layers, max_sl, bptt, \n",
    "                    cat_emb_szs, cat_emb_drop, fc_layers, fc_drops, out_sz=1, y_range=y_range, \n",
    "                    dropouti=0.65, dropoute=0.1, dropouth=0.3, wdrop=0.5)\n",
    "\n",
    "learner.reg_fn = partial(seq2seq_reg, alpha=2, beta=1)\n",
    "learner.clip=3.0"
   ]
  },
  {
   "cell_type": "code",
   "execution_count": 50,
   "metadata": {},
   "outputs": [
    {
     "name": "stdout",
     "output_type": "stream",
     "text": [
      "While copying the parameter named encoder.weight, whose dimensions in the model are torch.Size([20792, 100]) and whose dimensions in the checkpoint are torch.Size([17013, 100]), ...\n"
     ]
    },
    {
     "ename": "RuntimeError",
     "evalue": "invalid argument 2: sizes do not match at /opt/conda/conda-bld/pytorch_1511320797808/work/torch/lib/THC/generic/THCTensorCopy.c:48",
     "output_type": "error",
     "traceback": [
      "\u001b[0;31m---------------------------------------------------------------------------\u001b[0m",
      "\u001b[0;31mRuntimeError\u001b[0m                              Traceback (most recent call last)",
      "\u001b[0;32m<ipython-input-50-e1f6d1a68ea8>\u001b[0m in \u001b[0;36m<module>\u001b[0;34m()\u001b[0m\n\u001b[0;32m----> 1\u001b[0;31m \u001b[0mlearner\u001b[0m\u001b[0;34m.\u001b[0m\u001b[0mload_encoder\u001b[0m\u001b[0;34m(\u001b[0m\u001b[0;34mf'adam1_enc'\u001b[0m\u001b[0;34m)\u001b[0m\u001b[0;34m\u001b[0m\u001b[0m\n\u001b[0m",
      "\u001b[0;32m<ipython-input-34-b43ae1d3b6cd>\u001b[0m in \u001b[0;36mload_encoder\u001b[0;34m(self, name)\u001b[0m\n\u001b[1;32m     77\u001b[0m \u001b[0;34m\u001b[0m\u001b[0m\n\u001b[1;32m     78\u001b[0m     \u001b[0;32mdef\u001b[0m \u001b[0msave_encoder\u001b[0m\u001b[0;34m(\u001b[0m\u001b[0mself\u001b[0m\u001b[0;34m,\u001b[0m \u001b[0mname\u001b[0m\u001b[0;34m)\u001b[0m\u001b[0;34m:\u001b[0m \u001b[0msave_model\u001b[0m\u001b[0;34m(\u001b[0m\u001b[0mself\u001b[0m\u001b[0;34m.\u001b[0m\u001b[0mmodel\u001b[0m\u001b[0;34m.\u001b[0m\u001b[0mrnn_encoder\u001b[0m\u001b[0;34m,\u001b[0m \u001b[0mself\u001b[0m\u001b[0;34m.\u001b[0m\u001b[0mget_model_path\u001b[0m\u001b[0;34m(\u001b[0m\u001b[0mname\u001b[0m\u001b[0;34m)\u001b[0m\u001b[0;34m)\u001b[0m\u001b[0;34m\u001b[0m\u001b[0m\n\u001b[0;32m---> 79\u001b[0;31m     \u001b[0;32mdef\u001b[0m \u001b[0mload_encoder\u001b[0m\u001b[0;34m(\u001b[0m\u001b[0mself\u001b[0m\u001b[0;34m,\u001b[0m \u001b[0mname\u001b[0m\u001b[0;34m)\u001b[0m\u001b[0;34m:\u001b[0m \u001b[0mload_model\u001b[0m\u001b[0;34m(\u001b[0m\u001b[0mself\u001b[0m\u001b[0;34m.\u001b[0m\u001b[0mmodel\u001b[0m\u001b[0;34m.\u001b[0m\u001b[0mrnn_encoder\u001b[0m\u001b[0;34m,\u001b[0m \u001b[0mself\u001b[0m\u001b[0;34m.\u001b[0m\u001b[0mget_model_path\u001b[0m\u001b[0;34m(\u001b[0m\u001b[0mname\u001b[0m\u001b[0;34m)\u001b[0m\u001b[0;34m)\u001b[0m\u001b[0;34m\u001b[0m\u001b[0m\n\u001b[0m",
      "\u001b[0;32m~/mercari/fastai/torch_imports.py\u001b[0m in \u001b[0;36mload_model\u001b[0;34m(m, p)\u001b[0m\n\u001b[1;32m     24\u001b[0m \u001b[0;32mdef\u001b[0m \u001b[0mchildren\u001b[0m\u001b[0;34m(\u001b[0m\u001b[0mm\u001b[0m\u001b[0;34m)\u001b[0m\u001b[0;34m:\u001b[0m \u001b[0;32mreturn\u001b[0m \u001b[0mm\u001b[0m \u001b[0;32mif\u001b[0m \u001b[0misinstance\u001b[0m\u001b[0;34m(\u001b[0m\u001b[0mm\u001b[0m\u001b[0;34m,\u001b[0m \u001b[0;34m(\u001b[0m\u001b[0mlist\u001b[0m\u001b[0;34m,\u001b[0m \u001b[0mtuple\u001b[0m\u001b[0;34m)\u001b[0m\u001b[0;34m)\u001b[0m \u001b[0;32melse\u001b[0m \u001b[0mlist\u001b[0m\u001b[0;34m(\u001b[0m\u001b[0mm\u001b[0m\u001b[0;34m.\u001b[0m\u001b[0mchildren\u001b[0m\u001b[0;34m(\u001b[0m\u001b[0;34m)\u001b[0m\u001b[0;34m)\u001b[0m\u001b[0;34m\u001b[0m\u001b[0m\n\u001b[1;32m     25\u001b[0m \u001b[0;32mdef\u001b[0m \u001b[0msave_model\u001b[0m\u001b[0;34m(\u001b[0m\u001b[0mm\u001b[0m\u001b[0;34m,\u001b[0m \u001b[0mp\u001b[0m\u001b[0;34m)\u001b[0m\u001b[0;34m:\u001b[0m \u001b[0mtorch\u001b[0m\u001b[0;34m.\u001b[0m\u001b[0msave\u001b[0m\u001b[0;34m(\u001b[0m\u001b[0mm\u001b[0m\u001b[0;34m.\u001b[0m\u001b[0mstate_dict\u001b[0m\u001b[0;34m(\u001b[0m\u001b[0;34m)\u001b[0m\u001b[0;34m,\u001b[0m \u001b[0mp\u001b[0m\u001b[0;34m)\u001b[0m\u001b[0;34m\u001b[0m\u001b[0m\n\u001b[0;32m---> 26\u001b[0;31m \u001b[0;32mdef\u001b[0m \u001b[0mload_model\u001b[0m\u001b[0;34m(\u001b[0m\u001b[0mm\u001b[0m\u001b[0;34m,\u001b[0m \u001b[0mp\u001b[0m\u001b[0;34m)\u001b[0m\u001b[0;34m:\u001b[0m \u001b[0mm\u001b[0m\u001b[0;34m.\u001b[0m\u001b[0mload_state_dict\u001b[0m\u001b[0;34m(\u001b[0m\u001b[0mtorch\u001b[0m\u001b[0;34m.\u001b[0m\u001b[0mload\u001b[0m\u001b[0;34m(\u001b[0m\u001b[0mp\u001b[0m\u001b[0;34m,\u001b[0m \u001b[0mmap_location\u001b[0m\u001b[0;34m=\u001b[0m\u001b[0;32mlambda\u001b[0m \u001b[0mstorage\u001b[0m\u001b[0;34m,\u001b[0m \u001b[0mloc\u001b[0m\u001b[0;34m:\u001b[0m \u001b[0mstorage\u001b[0m\u001b[0;34m)\u001b[0m\u001b[0;34m)\u001b[0m\u001b[0;34m\u001b[0m\u001b[0m\n\u001b[0m\u001b[1;32m     27\u001b[0m \u001b[0;34m\u001b[0m\u001b[0m\n\u001b[1;32m     28\u001b[0m \u001b[0;32mdef\u001b[0m \u001b[0mload_pre\u001b[0m\u001b[0;34m(\u001b[0m\u001b[0mpre\u001b[0m\u001b[0;34m,\u001b[0m \u001b[0mf\u001b[0m\u001b[0;34m,\u001b[0m \u001b[0mfn\u001b[0m\u001b[0;34m)\u001b[0m\u001b[0;34m:\u001b[0m\u001b[0;34m\u001b[0m\u001b[0m\n",
      "\u001b[0;32m~/anaconda3/lib/python3.6/site-packages/torch/nn/modules/module.py\u001b[0m in \u001b[0;36mload_state_dict\u001b[0;34m(self, state_dict)\u001b[0m\n\u001b[1;32m    358\u001b[0m                 \u001b[0mparam\u001b[0m \u001b[0;34m=\u001b[0m \u001b[0mparam\u001b[0m\u001b[0;34m.\u001b[0m\u001b[0mdata\u001b[0m\u001b[0;34m\u001b[0m\u001b[0m\n\u001b[1;32m    359\u001b[0m             \u001b[0;32mtry\u001b[0m\u001b[0;34m:\u001b[0m\u001b[0;34m\u001b[0m\u001b[0m\n\u001b[0;32m--> 360\u001b[0;31m                 \u001b[0mown_state\u001b[0m\u001b[0;34m[\u001b[0m\u001b[0mname\u001b[0m\u001b[0;34m]\u001b[0m\u001b[0;34m.\u001b[0m\u001b[0mcopy_\u001b[0m\u001b[0;34m(\u001b[0m\u001b[0mparam\u001b[0m\u001b[0;34m)\u001b[0m\u001b[0;34m\u001b[0m\u001b[0m\n\u001b[0m\u001b[1;32m    361\u001b[0m             \u001b[0;32mexcept\u001b[0m\u001b[0;34m:\u001b[0m\u001b[0;34m\u001b[0m\u001b[0m\n\u001b[1;32m    362\u001b[0m                 print('While copying the parameter named {}, whose dimensions in the model are'\n",
      "\u001b[0;31mRuntimeError\u001b[0m: invalid argument 2: sizes do not match at /opt/conda/conda-bld/pytorch_1511320797808/work/torch/lib/THC/generic/THCTensorCopy.c:48"
     ]
    }
   ],
   "source": [
    "learner.load_encoder(f'adam1_enc')"
   ]
  },
  {
   "cell_type": "code",
   "execution_count": 51,
   "metadata": {},
   "outputs": [
    {
     "data": {
      "text/plain": [
       "20792"
      ]
     },
     "execution_count": 51,
     "metadata": {},
     "output_type": "execute_result"
    }
   ],
   "source": [
    "len(ITEM_DESCRIPTION.vocab.itos[:])"
   ]
  },
  {
   "cell_type": "code",
   "execution_count": 67,
   "metadata": {
    "collapsed": true
   },
   "outputs": [],
   "source": [
    "#lrs=np.array([1e-4,1e-3,1e-2])"
   ]
  },
  {
   "cell_type": "markdown",
   "metadata": {},
   "source": [
    "Lets test if the model is correctly defined as data is being correctly processed. "
   ]
  },
  {
   "cell_type": "code",
   "execution_count": 69,
   "metadata": {
    "collapsed": true
   },
   "outputs": [],
   "source": [
    "m = learner.model\n",
    "#m.rnn_encoder(*[xs[0]])\n",
    "m.reset()\n",
    "output = m(*xbs)"
   ]
  },
  {
   "cell_type": "code",
   "execution_count": 70,
   "metadata": {},
   "outputs": [
    {
     "data": {
      "text/plain": [
       "(Variable containing:\n",
       "  3.6181\n",
       "  3.9446\n",
       "  3.7202\n",
       "  3.6678\n",
       "  3.8783\n",
       "  3.7263\n",
       "  3.9661\n",
       "  3.4908\n",
       "  3.8354\n",
       "  3.8559\n",
       "  3.8013\n",
       "  3.3799\n",
       "  3.6042\n",
       "  3.9475\n",
       "  3.8356\n",
       "  3.8966\n",
       "  3.5658\n",
       "  3.7949\n",
       "  3.5020\n",
       "  3.6923\n",
       "  4.2151\n",
       "  3.5769\n",
       "  3.4816\n",
       "  3.8391\n",
       "  3.3249\n",
       "  3.5473\n",
       "  3.7893\n",
       "  3.5662\n",
       "  3.7217\n",
       "  3.8910\n",
       "  3.4415\n",
       "  3.3827\n",
       "  3.2523\n",
       "  3.8972\n",
       "  3.3478\n",
       "  3.7975\n",
       "  3.5294\n",
       "  3.6582\n",
       "  3.6804\n",
       "  3.7621\n",
       "  3.2584\n",
       "  3.8015\n",
       "  3.6557\n",
       "  3.6046\n",
       "  4.1807\n",
       "  3.3565\n",
       "  3.6747\n",
       "  3.7143\n",
       "  3.8558\n",
       "  3.7824\n",
       "  4.4163\n",
       "  3.7560\n",
       "  3.6889\n",
       "  3.6515\n",
       "  3.8735\n",
       "  3.7477\n",
       "  3.8140\n",
       "  3.4001\n",
       "  3.8260\n",
       "  3.5541\n",
       "  3.5676\n",
       "  3.3578\n",
       "  3.5410\n",
       "  3.5185\n",
       "  3.7121\n",
       "  3.7429\n",
       "  3.7495\n",
       "  3.6752\n",
       "  3.9159\n",
       "  3.6501\n",
       "  3.6887\n",
       "  3.4351\n",
       "  3.6867\n",
       "  3.8932\n",
       "  3.5829\n",
       "  3.9509\n",
       "  3.6481\n",
       "  3.6799\n",
       "  3.9697\n",
       "  3.6319\n",
       "  3.3755\n",
       "  3.9984\n",
       "  3.6916\n",
       "  3.8138\n",
       "  3.6280\n",
       "  3.7956\n",
       "  3.7160\n",
       "  3.5720\n",
       "  3.8919\n",
       "  3.8289\n",
       "  3.6233\n",
       "  3.6392\n",
       "  3.6914\n",
       "  3.4172\n",
       "  3.7554\n",
       "  3.5829\n",
       "  3.4342\n",
       "  3.7841\n",
       "  3.4219\n",
       "  3.2321\n",
       "  3.6565\n",
       "  3.8305\n",
       "  3.6280\n",
       "  3.6028\n",
       "  3.5750\n",
       "  3.5899\n",
       "  3.7033\n",
       "  3.4524\n",
       "  3.4607\n",
       "  3.5780\n",
       "  3.6703\n",
       "  3.8597\n",
       "  3.7029\n",
       "  3.7767\n",
       "  3.7452\n",
       "  3.3705\n",
       "  4.0775\n",
       "  3.6431\n",
       "  3.4806\n",
       "  4.1365\n",
       "  3.8264\n",
       "  3.4057\n",
       "  4.1076\n",
       "  3.6877\n",
       "  3.4832\n",
       "  3.5827\n",
       "  3.7626\n",
       "  3.5973\n",
       " [torch.cuda.FloatTensor of size 128x1 (GPU 0)], [Variable containing:\n",
       "  ( 0 ,.,.) = \n",
       "    0.0000 -0.0000 -0.0000  ...   0.0000 -0.0177 -0.7616\n",
       "    0.0000  0.0000 -0.7616  ...   0.7576 -0.0000 -0.0000\n",
       "    0.0111  0.0000 -0.0000  ...   0.0000  0.0000 -0.0000\n",
       "             ...             ⋱             ...          \n",
       "    0.4812  0.0000 -0.0000  ...   0.0000  0.0000 -0.0000\n",
       "    0.5632 -0.0000 -0.0000  ...   0.0000 -0.0000 -0.7615\n",
       "    0.0000 -0.0000 -0.0000  ...   0.0000 -0.0000 -0.0000\n",
       "  \n",
       "  ( 1 ,.,.) = \n",
       "   -0.5568 -0.3279 -0.2384  ...   0.0253 -0.5923 -0.1688\n",
       "   -0.7603 -0.0032 -0.8009  ...   0.3426 -0.0007  0.5008\n",
       "   -0.7573 -0.7267 -0.0052  ...   0.0218 -0.0000  0.0000\n",
       "             ...             ⋱             ...          \n",
       "   -0.6569 -0.0050 -0.0000  ...   0.1607  0.7541  0.0010\n",
       "   -0.0760  0.0075 -0.0179  ...   0.0890 -0.2020 -0.0110\n",
       "   -0.3548 -0.0192 -0.0004  ...   0.9412 -0.0000  0.0357\n",
       "  \n",
       "  ( 2 ,.,.) = \n",
       "    0.4923 -0.0000 -0.9797  ...   0.6217 -0.9507 -0.0015\n",
       "   -0.0753 -0.0009 -0.2130  ...   0.0003 -0.0000  0.7633\n",
       "   -0.1414 -0.2429 -0.0076  ...   0.0543  0.0007  0.0037\n",
       "             ...             ⋱             ...          \n",
       "   -0.0013 -0.0033 -0.1999  ...   0.9612  0.0106  0.2198\n",
       "    0.0000  0.0015 -0.0000  ...   0.2069 -0.1334 -0.0311\n",
       "   -0.0000 -0.0000 -0.0000  ...   0.0015 -0.0000  0.0000\n",
       "  ... \n",
       "  \n",
       "  ( 5 ,.,.) = \n",
       "    0.0000 -0.0000 -0.0655  ...   0.0142  0.0000 -0.0000\n",
       "   -0.0000  0.0000 -0.0000  ...   0.8441  0.0000  0.7595\n",
       "   -0.0108 -0.0000 -0.1654  ...   0.0000  0.0000  0.0000\n",
       "             ...             ⋱             ...          \n",
       "   -0.0000 -0.3816 -0.0000  ...   0.9727  0.0001  0.0000\n",
       "   -0.0003  0.0000 -0.0012  ...   0.0000  0.0000  0.0000\n",
       "   -0.0000  0.0000 -0.0000  ...   0.0000  0.0000 -0.0000\n",
       "  \n",
       "  ( 6 ,.,.) = \n",
       "    0.0000 -0.0000 -0.0000  ...   0.0001  0.7523 -0.7612\n",
       "   -0.0131 -0.1012 -0.5335  ...   0.0084  0.0058  0.0003\n",
       "    0.0000  0.0008 -0.8780  ...   0.0197  0.0000  0.0000\n",
       "             ...             ⋱             ...          \n",
       "   -0.0702 -0.0000 -0.7947  ...   0.6660  0.6914  0.0003\n",
       "   -0.0000  0.0000 -0.1155  ...   0.0001 -0.1601  0.0001\n",
       "   -0.0532  0.0000 -0.0047  ...   0.0000  0.0000 -0.0000\n",
       "  \n",
       "  ( 7 ,.,.) = \n",
       "   -0.0463  0.0106 -0.0523  ...   0.0027 -0.0134 -0.1376\n",
       "   -0.0511 -0.0995 -0.1297  ...   0.1618 -0.0016 -0.0005\n",
       "   -0.1624 -0.0228 -0.0201  ...   0.6115  0.0005 -0.0336\n",
       "             ...             ⋱             ...          \n",
       "   -0.0681 -0.0000 -0.0000  ...   0.3285 -0.0000  0.0021\n",
       "   -0.0000  0.0000 -0.0005  ...   0.0000 -0.0000 -0.5984\n",
       "    0.7560  0.0000 -0.7355  ...   0.0000  0.0000 -0.0000\n",
       "  [torch.cuda.FloatTensor of size 8x128x200 (GPU 0)], Variable containing:\n",
       "  ( 0 ,.,.) = \n",
       "    9.0596e-03 -6.7312e-01 -1.3795e-01  ...   1.2323e-05  1.2485e-02  9.0009e-02\n",
       "    3.8278e-04  4.6654e-01 -2.1768e-02  ...   4.2927e-02  7.3229e-02 -9.4874e-03\n",
       "    3.4970e-04  8.3482e-04 -1.7903e-03  ...   2.4325e-05  1.2728e-03 -1.0315e-01\n",
       "                   ...                   ⋱                   ...                \n",
       "    1.6585e-02  3.4814e-04 -1.0456e-02  ...   1.8476e-05 -3.1359e-03  1.5027e-03\n",
       "    8.6837e-05 -1.3205e-01 -4.1868e-04  ...   4.2654e-04 -3.5682e-02 -2.6249e-01\n",
       "    8.4004e-02 -2.6159e-01 -2.8738e-02  ...   1.0021e-03  1.6987e-03 -7.6152e-03\n",
       "  \n",
       "  ( 1 ,.,.) = \n",
       "    2.4705e-01  3.4098e-02 -1.9541e-01  ...   1.8587e-03  4.7586e-01  1.5871e-02\n",
       "    3.1903e-05  2.5649e-02 -2.9269e-03  ...   2.5935e-03  7.5619e-02 -1.3095e-01\n",
       "    2.4562e-02  2.0081e-02 -1.6415e-02  ...   4.5603e-03  2.8808e-02 -1.7488e-01\n",
       "                   ...                   ⋱                   ...                \n",
       "    4.0991e-03  6.3187e-01 -5.4204e-03  ...  -8.1670e-02 -3.5216e-03 -9.1465e-04\n",
       "    3.1046e-03 -3.5872e-02 -1.9470e-03  ...   1.5089e-01  1.6824e-01 -1.3042e-01\n",
       "    9.6730e-04 -8.5165e-03 -2.1027e-02  ...   5.2616e-02  1.8754e-02 -5.2003e-05\n",
       "  \n",
       "  ( 2 ,.,.) = \n",
       "    2.5331e-01  4.7733e-01 -7.4353e-02  ...   5.4406e-04  9.6656e-02 -5.8636e-04\n",
       "    5.8892e-07  2.4789e-01 -1.3290e-02  ...  -4.5154e-04  4.1519e-04 -7.2881e-04\n",
       "    4.4693e-04  2.4228e-02 -8.4209e-03  ...   4.3451e-03 -4.9653e-02 -1.1336e-02\n",
       "                   ...                   ⋱                   ...                \n",
       "    8.3744e-02  4.1135e-02 -7.3281e-03  ...   1.3587e-05  3.6735e-02 -3.5677e-05\n",
       "    2.9930e-01 -4.6480e-05 -5.7073e-03  ...   3.0367e-02  8.4658e-02 -3.7831e-02\n",
       "    1.7993e-01 -3.8152e-04 -7.5624e-03  ...   1.5524e-02  9.5610e-04 -5.9076e-05\n",
       "  ... \n",
       "  \n",
       "  ( 5 ,.,.) = \n",
       "    7.3473e-05 -7.4496e-03 -8.7873e-04  ...  -4.1593e-02  1.0256e-01 -2.6468e-03\n",
       "    6.9535e-07 -2.9429e-02  7.4244e-03  ...  -9.2623e-03 -6.0543e-02 -7.5369e-04\n",
       "    2.3831e-02 -7.8750e-06  1.8341e-03  ...   1.8223e-02 -3.5864e-02 -2.1292e-03\n",
       "                   ...                   ⋱                   ...                \n",
       "    5.1403e-04  6.5353e-02 -5.6245e-04  ...  -1.0530e-01 -2.0993e-01 -6.1956e-01\n",
       "    2.9349e-03  8.3827e-02 -1.5359e-02  ...   6.3283e-05 -1.7130e-03 -4.5938e-02\n",
       "    1.2211e-04  5.4544e-02 -4.9083e-03  ...   2.5143e-06  4.9949e-02  1.7289e-03\n",
       "  \n",
       "  ( 6 ,.,.) = \n",
       "    1.0268e-03  4.6872e-04 -1.2838e-01  ...  -1.4141e-02 -6.7483e-02  1.2953e-02\n",
       "    2.8066e-04  1.7629e-01  4.3717e-02  ...   2.2607e-01 -1.7002e-02 -1.7634e-02\n",
       "    7.7158e-07  1.0071e-05  3.4434e-03  ...   1.0175e-03  3.2295e-02 -1.3490e-02\n",
       "                   ...                   ⋱                   ...                \n",
       "    3.5333e-02  4.2934e-02 -5.8109e-03  ...  -7.2308e-03 -4.9289e-01 -7.2532e-01\n",
       "    1.3296e-01  8.1521e-04 -2.5245e-03  ...   4.3515e-05 -9.6177e-02 -2.5494e-02\n",
       "    1.6165e-04  4.2392e-03 -4.0959e-03  ...   5.8901e-03  1.7370e-01 -7.6155e-04\n",
       "  \n",
       "  ( 7 ,.,.) = \n",
       "    3.7680e-02  2.5169e-02 -4.4945e-02  ...   1.2704e-01  4.5978e-01 -1.3353e-03\n",
       "    3.4986e-02  1.5681e-02  1.4017e-01  ...   5.3894e-02 -1.0506e-01 -2.2058e-02\n",
       "    7.1977e-02  2.8448e-03  1.0663e-03  ...   7.6421e-06  1.8572e-01 -5.2102e-03\n",
       "                   ...                   ⋱                   ...                \n",
       "    1.6824e-01  2.1301e-01 -2.6611e-03  ...   7.8962e-02 -7.4804e-02 -5.4854e-01\n",
       "    8.2434e-03  3.6744e-03 -4.8984e-03  ...  -1.0277e-02 -1.9699e-01  4.9843e-02\n",
       "    1.1252e-05  8.6444e-02 -6.9673e-03  ...   8.8215e-03  7.7606e-02 -1.9393e-01\n",
       "  [torch.cuda.FloatTensor of size 8x128x200 (GPU 0)], Variable containing:\n",
       "  ( 0 ,.,.) = \n",
       "    8.8134e-02 -4.0148e-02  5.8609e-02  ...  -3.7161e-03  3.4779e-02 -5.0625e-03\n",
       "    4.4086e-02  2.6800e-02  1.0006e-01  ...  -4.0893e-02  1.0573e-01  9.1067e-02\n",
       "    1.3673e-01  1.8714e-02 -2.4977e-02  ...  -4.9482e-02 -1.0078e-01  1.2923e-01\n",
       "                   ...                   ⋱                   ...                \n",
       "    9.8660e-02  3.5424e-02 -3.9791e-02  ...  -1.2770e-01 -3.3016e-02 -2.5412e-02\n",
       "    3.1355e-02 -2.1932e-01 -2.8416e-02  ...   6.0839e-03 -5.8850e-03 -1.9857e-02\n",
       "   -2.9859e-01  2.5505e-01 -4.5102e-04  ...   5.4061e-04 -8.3823e-02  1.9213e-01\n",
       "  \n",
       "  ( 1 ,.,.) = \n",
       "    8.7982e-02  1.6064e-01  7.1564e-03  ...   1.0635e-03 -1.7402e-02  2.2114e-02\n",
       "   -1.3408e-01  2.5485e-01  1.9609e-01  ...  -2.0619e-01 -3.2630e-02  6.1829e-02\n",
       "   -6.9249e-01  6.6024e-02  7.9053e-03  ...  -3.6566e-01 -1.3415e-01  1.8214e-01\n",
       "                   ...                   ⋱                   ...                \n",
       "   -7.1125e-02  1.4264e-01 -5.0909e-02  ...  -5.3738e-01 -4.0242e-02 -2.5475e-02\n",
       "    7.4526e-02 -9.9955e-02  2.7586e-02  ...   9.6451e-02 -1.3311e-02  3.7854e-02\n",
       "   -6.3043e-02  3.6634e-02 -5.4526e-03  ...  -1.8078e-01 -1.4273e-01  1.8454e-01\n",
       "  \n",
       "  ( 2 ,.,.) = \n",
       "    7.4623e-02  9.4467e-02  2.7823e-03  ...   3.3092e-02 -3.1703e-02 -2.0236e-02\n",
       "   -3.2662e-01 -5.0149e-01  2.0347e-01  ...  -1.5209e-01 -3.8860e-02  1.1075e-01\n",
       "   -3.2473e-01  1.9870e-01  1.1742e-02  ...  -2.5985e-01 -1.0985e-02  1.8362e-01\n",
       "                   ...                   ⋱                   ...                \n",
       "   -1.2110e-02  4.8968e-01 -2.5576e-01  ...  -2.7293e-01 -1.7430e-02 -2.2924e-02\n",
       "    5.6174e-02 -1.4153e-01  5.3007e-03  ...   9.5868e-02 -2.0464e-02  2.3635e-02\n",
       "   -7.7271e-02  3.1892e-01 -2.8219e-03  ...  -3.9128e-01 -1.5208e-01  1.6092e-01\n",
       "  ... \n",
       "  \n",
       "  ( 5 ,.,.) = \n",
       "   -9.2603e-02 -1.8796e-01 -1.0183e-03  ...  -1.0694e-02  7.9013e-04 -8.2054e-02\n",
       "   -7.1147e-01 -3.6530e-01  1.5075e-01  ...  -9.2297e-03 -6.0817e-02  5.8502e-02\n",
       "   -7.5419e-02  2.6582e-01 -1.3963e-01  ...  -1.1036e-01  8.5597e-02  1.1299e-01\n",
       "                   ...                   ⋱                   ...                \n",
       "    7.4092e-01 -1.8973e-01 -2.6363e-01  ...  -2.9648e-02 -6.4363e-03 -1.4125e-02\n",
       "   -6.3833e-02 -3.4426e-02 -1.2366e-01  ...   1.4094e-02  4.7101e-03 -2.8205e-02\n",
       "   -9.4567e-02  3.7633e-02 -1.6978e-02  ...  -7.3567e-02  5.9489e-02  5.3096e-02\n",
       "  \n",
       "  ( 6 ,.,.) = \n",
       "    1.7158e-01 -2.9356e-01 -3.8419e-03  ...  -3.2123e-02 -1.5907e-02 -1.2808e-01\n",
       "   -3.7570e-01 -4.9567e-02 -4.9579e-03  ...  -1.0333e-01 -3.6690e-02  5.4178e-02\n",
       "    9.0316e-02  1.5679e-01 -6.4151e-02  ...  -2.2016e-01 -2.6756e-02  1.7722e-01\n",
       "                   ...                   ⋱                   ...                \n",
       "    3.6553e-01 -1.4736e-01 -5.2363e-01  ...   1.0682e-01 -1.2822e-02 -3.0201e-02\n",
       "   -1.4448e-01 -2.4808e-01 -3.8985e-02  ...   3.9001e-02 -3.2172e-03 -1.9342e-02\n",
       "   -1.7752e-02 -5.2802e-02  1.0746e-02  ...  -6.6574e-02  1.0145e-01 -2.6897e-03\n",
       "  \n",
       "  ( 7 ,.,.) = \n",
       "    9.5335e-02 -1.6676e-01 -3.3937e-02  ...  -5.0876e-02 -2.8609e-02 -1.0844e-01\n",
       "   -2.1029e-02 -1.5724e-01 -1.3396e-02  ...  -4.7221e-02 -1.8900e-02  1.4999e-02\n",
       "    3.4546e-01  4.3213e-03 -6.7116e-02  ...  -3.4200e-03 -8.9222e-02  1.2886e-01\n",
       "                   ...                   ⋱                   ...                \n",
       "    2.1597e-01 -2.4946e-01 -1.1626e-01  ...   2.2889e-01 -9.5985e-02  4.9912e-02\n",
       "    3.4922e-02  1.8152e-02 -6.0228e-03  ...   1.4624e-01  7.9868e-04 -5.1063e-02\n",
       "   -2.1625e-02  1.6976e-01  9.1910e-03  ...  -2.5050e-01  9.4934e-02 -2.1109e-02\n",
       "  [torch.cuda.FloatTensor of size 8x128x100 (GPU 0)]], [Variable containing:\n",
       "  ( 0 ,.,.) = \n",
       "    0.0000 -0.0000 -0.0000  ...   0.0000 -0.0000 -1.0880\n",
       "    0.0000  0.0000 -1.0880  ...   0.0000 -0.0000 -0.0000\n",
       "    0.0158  0.0000 -0.0000  ...   0.0000  0.0000 -0.0000\n",
       "             ...             ⋱             ...          \n",
       "    0.6875  0.0000 -0.0000  ...   0.0000  0.0000 -0.0000\n",
       "    0.8046 -0.0000 -0.0000  ...   0.0000 -0.0000 -1.0879\n",
       "    0.0000 -0.0000 -0.0000  ...   0.0000 -0.0000 -0.0000\n",
       "  \n",
       "  ( 1 ,.,.) = \n",
       "   -0.0000 -0.0000 -0.3405  ...   0.0362 -0.0000 -0.2411\n",
       "   -0.0000 -0.0000 -1.1442  ...   0.0000 -0.0000  0.7155\n",
       "   -1.0818 -1.0381 -0.0074  ...   0.0312 -0.0000  0.0000\n",
       "             ...             ⋱             ...          \n",
       "   -0.9385 -0.0071 -0.0000  ...   0.0000  0.0000  0.0014\n",
       "   -0.1086  0.0107 -0.0000  ...   0.0000 -0.2886 -0.0156\n",
       "   -0.0000 -0.0274 -0.0005  ...   1.3446 -0.0000  0.0509\n",
       "  \n",
       "  ( 2 ,.,.) = \n",
       "    0.0000 -0.0000 -1.3995  ...   0.8881 -0.0000 -0.0021\n",
       "   -0.0000 -0.0000 -0.3043  ...   0.0000 -0.0000  1.0905\n",
       "   -0.2021 -0.3470 -0.0109  ...   0.0775  0.0010  0.0052\n",
       "             ...             ⋱             ...          \n",
       "   -0.0019 -0.0048 -0.2856  ...   0.0000  0.0000  0.3140\n",
       "    0.0000  0.0022 -0.0000  ...   0.0000 -0.1905 -0.0444\n",
       "   -0.0000 -0.0000 -0.0000  ...   0.0021 -0.0000  0.0000\n",
       "  ... \n",
       "  \n",
       "  ( 5 ,.,.) = \n",
       "    0.0000 -0.0000 -0.0936  ...   0.0202  0.0000 -0.0000\n",
       "   -0.0000  0.0000 -0.0000  ...   0.0000  0.0000  1.0851\n",
       "   -0.0155 -0.0000 -0.2363  ...   0.0000  0.0000  0.0000\n",
       "             ...             ⋱             ...          \n",
       "   -0.0000 -0.5451 -0.0000  ...   0.0000  0.0000  0.0000\n",
       "   -0.0004  0.0000 -0.0000  ...   0.0000  0.0000  0.0000\n",
       "   -0.0000  0.0000 -0.0000  ...   0.0000  0.0000 -0.0000\n",
       "  \n",
       "  ( 6 ,.,.) = \n",
       "    0.0000 -0.0000 -0.0000  ...   0.0001  0.0000 -1.0874\n",
       "   -0.0000 -0.0000 -0.7622  ...   0.0000  0.0000  0.0005\n",
       "    0.0000  0.0012 -1.2543  ...   0.0282  0.0000  0.0000\n",
       "             ...             ⋱             ...          \n",
       "   -0.1002 -0.0000 -1.1353  ...   0.0000  0.0000  0.0004\n",
       "   -0.0000  0.0000 -0.0000  ...   0.0000 -0.2287  0.0001\n",
       "   -0.0000  0.0000 -0.0068  ...   0.0000  0.0000 -0.0000\n",
       "  \n",
       "  ( 7 ,.,.) = \n",
       "   -0.0000  0.0000 -0.0747  ...   0.0039 -0.0000 -0.1966\n",
       "   -0.0000 -0.0000 -0.1854  ...   0.0000 -0.0000 -0.0007\n",
       "   -0.2320 -0.0325 -0.0287  ...   0.8736  0.0007 -0.0480\n",
       "             ...             ⋱             ...          \n",
       "   -0.0973 -0.0000 -0.0000  ...   0.0000 -0.0000  0.0030\n",
       "   -0.0000  0.0000 -0.0000  ...   0.0000 -0.0000 -0.8549\n",
       "    0.0000  0.0000 -1.0506  ...   0.0000  0.0000 -0.0000\n",
       "  [torch.cuda.FloatTensor of size 8x128x200 (GPU 0)], Variable containing:\n",
       "  ( 0 ,.,.) = \n",
       "    0.0129 -0.9616 -0.1971  ...   0.0000  0.0178  0.1286\n",
       "    0.0005  0.6665 -0.0311  ...   0.0613  0.1046 -0.0136\n",
       "    0.0005  0.0012 -0.0000  ...   0.0000  0.0018 -0.0000\n",
       "             ...             ⋱             ...          \n",
       "    0.0237  0.0005 -0.0149  ...   0.0000 -0.0045  0.0000\n",
       "    0.0001 -0.1886 -0.0006  ...   0.0006 -0.0000 -0.3750\n",
       "    0.1200 -0.0000 -0.0411  ...   0.0014  0.0024 -0.0000\n",
       "  \n",
       "  ( 1 ,.,.) = \n",
       "    0.3529  0.0487 -0.2792  ...   0.0000  0.6798  0.0227\n",
       "    0.0000  0.0366 -0.0042  ...   0.0037  0.1080 -0.1871\n",
       "    0.0351  0.0287 -0.0000  ...   0.0065  0.0412 -0.0000\n",
       "             ...             ⋱             ...          \n",
       "    0.0059  0.9027 -0.0077  ...  -0.1167 -0.0050 -0.0000\n",
       "    0.0044 -0.0512 -0.0028  ...   0.2156  0.0000 -0.1863\n",
       "    0.0014 -0.0000 -0.0300  ...   0.0752  0.0268 -0.0000\n",
       "  \n",
       "  ( 2 ,.,.) = \n",
       "    0.3619  0.6819 -0.1062  ...   0.0000  0.1381 -0.0008\n",
       "    0.0000  0.3541 -0.0190  ...  -0.0006  0.0006 -0.0010\n",
       "    0.0006  0.0346 -0.0000  ...   0.0062 -0.0709 -0.0000\n",
       "             ...             ⋱             ...          \n",
       "    0.1196  0.0588 -0.0105  ...   0.0000  0.0525 -0.0000\n",
       "    0.4276 -0.0001 -0.0082  ...   0.0434  0.0000 -0.0540\n",
       "    0.2570 -0.0000 -0.0108  ...   0.0222  0.0014 -0.0000\n",
       "  ... \n",
       "  \n",
       "  ( 5 ,.,.) = \n",
       "    0.0001 -0.0106 -0.0013  ...  -0.0000  0.1465 -0.0038\n",
       "    0.0000 -0.0420  0.0106  ...  -0.0132 -0.0865 -0.0011\n",
       "    0.0340 -0.0000  0.0000  ...   0.0260 -0.0512 -0.0000\n",
       "             ...             ⋱             ...          \n",
       "    0.0007  0.0934 -0.0008  ...  -0.1504 -0.2999 -0.0000\n",
       "    0.0042  0.1198 -0.0219  ...   0.0001 -0.0000 -0.0656\n",
       "    0.0002  0.0000 -0.0070  ...   0.0000  0.0714  0.0000\n",
       "  \n",
       "  ( 6 ,.,.) = \n",
       "    0.0015  0.0007 -0.1834  ...  -0.0000 -0.0964  0.0185\n",
       "    0.0004  0.2518  0.0625  ...   0.3230 -0.0243 -0.0252\n",
       "    0.0000  0.0000  0.0000  ...   0.0015  0.0461 -0.0000\n",
       "             ...             ⋱             ...          \n",
       "    0.0505  0.0613 -0.0083  ...  -0.0103 -0.7041 -0.0000\n",
       "    0.1899  0.0012 -0.0036  ...   0.0001 -0.0000 -0.0364\n",
       "    0.0002  0.0000 -0.0059  ...   0.0084  0.2481 -0.0000\n",
       "  \n",
       "  ( 7 ,.,.) = \n",
       "    0.0538  0.0360 -0.0642  ...   0.0000  0.6568 -0.0019\n",
       "    0.0500  0.0224  0.2002  ...   0.0770 -0.1501 -0.0315\n",
       "    0.1028  0.0041  0.0000  ...   0.0000  0.2653 -0.0000\n",
       "             ...             ⋱             ...          \n",
       "    0.2403  0.3043 -0.0038  ...   0.1128 -0.1069 -0.0000\n",
       "    0.0118  0.0052 -0.0070  ...  -0.0147 -0.0000  0.0712\n",
       "    0.0000  0.0000 -0.0100  ...   0.0126  0.1109 -0.0000\n",
       "  [torch.cuda.FloatTensor of size 8x128x200 (GPU 0)], Variable containing:\n",
       "  ( 0 ,.,.) = \n",
       "    8.8134e-02 -4.0148e-02  5.8609e-02  ...  -3.7161e-03  3.4779e-02 -5.0625e-03\n",
       "    4.4086e-02  2.6800e-02  1.0006e-01  ...  -4.0893e-02  1.0573e-01  9.1067e-02\n",
       "    1.3673e-01  1.8714e-02 -2.4977e-02  ...  -4.9482e-02 -1.0078e-01  1.2923e-01\n",
       "                   ...                   ⋱                   ...                \n",
       "    9.8660e-02  3.5424e-02 -3.9791e-02  ...  -1.2770e-01 -3.3016e-02 -2.5412e-02\n",
       "    3.1355e-02 -2.1932e-01 -2.8416e-02  ...   6.0839e-03 -5.8850e-03 -1.9857e-02\n",
       "   -2.9859e-01  2.5505e-01 -4.5102e-04  ...   5.4061e-04 -8.3823e-02  1.9213e-01\n",
       "  \n",
       "  ( 1 ,.,.) = \n",
       "    8.7982e-02  1.6064e-01  7.1564e-03  ...   1.0635e-03 -1.7402e-02  2.2114e-02\n",
       "   -1.3408e-01  2.5485e-01  1.9609e-01  ...  -2.0619e-01 -3.2630e-02  6.1829e-02\n",
       "   -6.9249e-01  6.6024e-02  7.9053e-03  ...  -3.6566e-01 -1.3415e-01  1.8214e-01\n",
       "                   ...                   ⋱                   ...                \n",
       "   -7.1125e-02  1.4264e-01 -5.0909e-02  ...  -5.3738e-01 -4.0242e-02 -2.5475e-02\n",
       "    7.4526e-02 -9.9955e-02  2.7586e-02  ...   9.6451e-02 -1.3311e-02  3.7854e-02\n",
       "   -6.3043e-02  3.6634e-02 -5.4526e-03  ...  -1.8078e-01 -1.4273e-01  1.8454e-01\n",
       "  \n",
       "  ( 2 ,.,.) = \n",
       "    7.4623e-02  9.4467e-02  2.7823e-03  ...   3.3092e-02 -3.1703e-02 -2.0236e-02\n",
       "   -3.2662e-01 -5.0149e-01  2.0347e-01  ...  -1.5209e-01 -3.8860e-02  1.1075e-01\n",
       "   -3.2473e-01  1.9870e-01  1.1742e-02  ...  -2.5985e-01 -1.0985e-02  1.8362e-01\n",
       "                   ...                   ⋱                   ...                \n",
       "   -1.2110e-02  4.8968e-01 -2.5576e-01  ...  -2.7293e-01 -1.7430e-02 -2.2924e-02\n",
       "    5.6174e-02 -1.4153e-01  5.3007e-03  ...   9.5868e-02 -2.0464e-02  2.3635e-02\n",
       "   -7.7271e-02  3.1892e-01 -2.8219e-03  ...  -3.9128e-01 -1.5208e-01  1.6092e-01\n",
       "  ... \n",
       "  \n",
       "  ( 5 ,.,.) = \n",
       "   -9.2603e-02 -1.8796e-01 -1.0183e-03  ...  -1.0694e-02  7.9013e-04 -8.2054e-02\n",
       "   -7.1147e-01 -3.6530e-01  1.5075e-01  ...  -9.2297e-03 -6.0817e-02  5.8502e-02\n",
       "   -7.5419e-02  2.6582e-01 -1.3963e-01  ...  -1.1036e-01  8.5597e-02  1.1299e-01\n",
       "                   ...                   ⋱                   ...                \n",
       "    7.4092e-01 -1.8973e-01 -2.6363e-01  ...  -2.9648e-02 -6.4363e-03 -1.4125e-02\n",
       "   -6.3833e-02 -3.4426e-02 -1.2366e-01  ...   1.4094e-02  4.7101e-03 -2.8205e-02\n",
       "   -9.4567e-02  3.7633e-02 -1.6978e-02  ...  -7.3567e-02  5.9489e-02  5.3096e-02\n",
       "  \n",
       "  ( 6 ,.,.) = \n",
       "    1.7158e-01 -2.9356e-01 -3.8419e-03  ...  -3.2123e-02 -1.5907e-02 -1.2808e-01\n",
       "   -3.7570e-01 -4.9567e-02 -4.9579e-03  ...  -1.0333e-01 -3.6690e-02  5.4178e-02\n",
       "    9.0316e-02  1.5679e-01 -6.4151e-02  ...  -2.2016e-01 -2.6756e-02  1.7722e-01\n",
       "                   ...                   ⋱                   ...                \n",
       "    3.6553e-01 -1.4736e-01 -5.2363e-01  ...   1.0682e-01 -1.2822e-02 -3.0201e-02\n",
       "   -1.4448e-01 -2.4808e-01 -3.8985e-02  ...   3.9001e-02 -3.2172e-03 -1.9342e-02\n",
       "   -1.7752e-02 -5.2802e-02  1.0746e-02  ...  -6.6574e-02  1.0145e-01 -2.6897e-03\n",
       "  \n",
       "  ( 7 ,.,.) = \n",
       "    9.5335e-02 -1.6676e-01 -3.3937e-02  ...  -5.0876e-02 -2.8609e-02 -1.0844e-01\n",
       "   -2.1029e-02 -1.5724e-01 -1.3396e-02  ...  -4.7221e-02 -1.8900e-02  1.4999e-02\n",
       "    3.4546e-01  4.3213e-03 -6.7116e-02  ...  -3.4200e-03 -8.9222e-02  1.2886e-01\n",
       "                   ...                   ⋱                   ...                \n",
       "    2.1597e-01 -2.4946e-01 -1.1626e-01  ...   2.2889e-01 -9.5985e-02  4.9912e-02\n",
       "    3.4922e-02  1.8152e-02 -6.0228e-03  ...   1.4624e-01  7.9868e-04 -5.1063e-02\n",
       "   -2.1625e-02  1.6976e-01  9.1910e-03  ...  -2.5050e-01  9.4934e-02 -2.1109e-02\n",
       "  [torch.cuda.FloatTensor of size 8x128x100 (GPU 0)]])"
      ]
     },
     "execution_count": 70,
     "metadata": {},
     "output_type": "execute_result"
    }
   ],
   "source": [
    "output"
   ]
  },
  {
   "cell_type": "code",
   "execution_count": 71,
   "metadata": {},
   "outputs": [
    {
     "data": {
      "application/vnd.jupyter.widget-view+json": {
       "model_id": "563b72b4cd4048898899a6ce00637273",
       "version_major": 2,
       "version_minor": 0
      },
      "text/plain": [
       "A Jupyter Widget"
      ]
     },
     "metadata": {},
     "output_type": "display_data"
    },
    {
     "name": "stdout",
     "output_type": "stream",
     "text": [
      " 65%|██████▍   | 1199/1853 [01:00<00:32, 19.97it/s, loss=1.81] "
     ]
    }
   ],
   "source": [
    "learner.lr_find()"
   ]
  },
  {
   "cell_type": "code",
   "execution_count": 72,
   "metadata": {},
   "outputs": [
    {
     "data": {
      "image/png": "[encoded data removed]",
      "text/plain": [
       "<matplotlib.figure.Figure at 0x7fb9eb514cc0>"
      ]
     },
     "metadata": {},
     "output_type": "display_data"
    }
   ],
   "source": [
    "learner.sched.plot()"
   ]
  },
  {
   "cell_type": "code",
   "execution_count": 73,
   "metadata": {},
   "outputs": [
    {
     "data": {
      "application/vnd.jupyter.widget-view+json": {
       "model_id": "3e4aa03406ac4f88887e1e4e1c32fa71",
       "version_major": 2,
       "version_minor": 0
      },
      "text/plain": [
       "A Jupyter Widget"
      ]
     },
     "metadata": {},
     "output_type": "display_data"
    },
    {
     "name": "stdout",
     "output_type": "stream",
     "text": [
      " 10%|▉         | 183/1853 [00:03<00:29, 55.92it/s, loss=1.06] \n",
      " 10%|█         | 190/1853 [00:03<00:30, 54.58it/s, loss=1.07]"
     ]
    },
    {
     "name": "stderr",
     "output_type": "stream",
     "text": [
      "Exception in thread Thread-9:\n",
      "Traceback (most recent call last):\n",
      "  File \"/home/deb/anaconda3/lib/python3.6/threading.py\", line 916, in _bootstrap_inner\n",
      "    self.run()\n",
      "  File \"/home/deb/anaconda3/lib/python3.6/site-packages/tqdm/_tqdm.py\", line 144, in run\n",
      "    for instance in self.tqdm_cls._instances:\n",
      "  File \"/home/deb/anaconda3/lib/python3.6/_weakrefset.py\", line 60, in __iter__\n",
      "    for itemref in self.data:\n",
      "RuntimeError: Set changed size during iteration\n",
      "\n"
     ]
    },
    {
     "name": "stdout",
     "output_type": "stream",
     "text": [
      "[ 0.       1.03309  0.93178]                                  \n",
      "\n"
     ]
    },
    {
     "data": {
      "application/vnd.jupyter.widget-view+json": {
       "model_id": "a5039d002a104f139a43e0bd9b98919f",
       "version_major": 2,
       "version_minor": 0
      },
      "text/plain": [
       "A Jupyter Widget"
      ]
     },
     "metadata": {},
     "output_type": "display_data"
    },
    {
     "name": "stdout",
     "output_type": "stream",
     "text": [
      "[ 0.       0.48971  0.42335]                                   \n",
      "\n"
     ]
    }
   ],
   "source": [
    "lrs=np.array([1e-4,1e-3,1e-2])\n",
    "learner.freeze_to(-1)\n",
    "learner.fit(lrs/2, 1)\n",
    "learner.unfreeze()\n",
    "learner.fit(lrs, 1, cycle_len=1)"
   ]
  },
  {
   "cell_type": "code",
   "execution_count": 74,
   "metadata": {},
   "outputs": [
    {
     "data": {
      "application/vnd.jupyter.widget-view+json": {
       "model_id": "f0c7a45daf0a4eb297bf0007b7a44cd9",
       "version_major": 2,
       "version_minor": 0
      },
      "text/plain": [
       "A Jupyter Widget"
      ]
     },
     "metadata": {},
     "output_type": "display_data"
    },
    {
     "name": "stdout",
     "output_type": "stream",
     "text": [
      "[ 0.       0.48497  0.40723]                                   \n",
      "[ 1.       0.4582   0.39291]                                   \n",
      "[ 2.       0.46481  0.38959]                                   \n",
      "[ 3.       0.4628   0.37633]                                   \n",
      "[ 4.       0.41846  0.37075]                                   \n",
      "[ 5.       0.4405   0.36309]                                   \n",
      "[ 6.       0.4339   0.36285]                                   \n",
      "\n"
     ]
    }
   ],
   "source": [
    "learner.fit(lrs, 3, cycle_len=1, cycle_mult=2, cycle_save_name='mercari')"
   ]
  },
  {
   "cell_type": "code",
   "execution_count": 187,
   "metadata": {},
   "outputs": [
    {
     "data": {
      "image/png": "[encoded data removed]",
      "text/plain": [
       "<matplotlib.figure.Figure at 0x7f876ff6b358>"
      ]
     },
     "metadata": {},
     "output_type": "display_data"
    }
   ],
   "source": [
    "learner.sched.plot_loss()"
   ]
  },
  {
   "cell_type": "markdown",
   "metadata": {},
   "source": [
    "# Learner and Model"
   ]
  },
  {
   "cell_type": "code",
   "execution_count": 24,
   "metadata": {
    "collapsed": true
   },
   "outputs": [],
   "source": [
    "dep = 'price'\n",
    "test[dep] = 0\n",
    "joined = train[cat_vars+contin_vars+[dep,'name']].copy()\n",
    "joined_test = test[cat_vars+contin_vars+[dep, 'name',  'test_id']].copy()"
   ]
  },
  {
   "cell_type": "code",
   "execution_count": 25,
   "metadata": {},
   "outputs": [
    {
     "data": {
      "text/plain": [
       "['cat1',\n",
       " 'cat2',\n",
       " 'cat3',\n",
       " 'brand_name',\n",
       " 'shipping',\n",
       " 'item_condition_id',\n",
       " 'price',\n",
       " 'name']"
      ]
     },
     "execution_count": 25,
     "metadata": {},
     "output_type": "execute_result"
    }
   ],
   "source": [
    "cat_vars+contin_vars+[dep,'name']"
   ]
  },
  {
   "cell_type": "code",
   "execution_count": 26,
   "metadata": {
    "collapsed": true
   },
   "outputs": [],
   "source": [
    "######## NYI\n",
    "# factors the individual columns (does not make sense for item_description need NLP??)\n",
    "for v in cat_vars: joined[v] = joined[v].astype('category').cat.as_ordered()"
   ]
  },
  {
   "cell_type": "code",
   "execution_count": 27,
   "metadata": {
    "collapsed": true
   },
   "outputs": [],
   "source": [
    "apply_cats(joined_test, joined)"
   ]
  },
  {
   "cell_type": "code",
   "execution_count": 28,
   "metadata": {
    "collapsed": true
   },
   "outputs": [],
   "source": [
    "for v in contin_vars:\n",
    "    joined[v] = joined[v].astype('float32')\n",
    "    joined_test[v] = joined_test[v].astype('float32')"
   ]
  },
  {
   "cell_type": "code",
   "execution_count": 29,
   "metadata": {
    "collapsed": true
   },
   "outputs": [],
   "source": [
    "#joined['item_condition_id'] = joined.item_condition_id.astype(np.int32)\n",
    "#joined['shipping'] = joined.shipping.astype(np.int32)\n",
    "#joined_test['item_condition_id'] = joined_test.item_condition_id.astype(np.int32)\n",
    "#joined_test['shipping'] = joined_test.shipping.astype(np.int32)"
   ]
  },
  {
   "cell_type": "code",
   "execution_count": 30,
   "metadata": {},
   "outputs": [
    {
     "data": {
      "text/plain": [
       "296507"
      ]
     },
     "execution_count": 30,
     "metadata": {},
     "output_type": "execute_result"
    }
   ],
   "source": [
    "n = len(joined)\n",
    "idxs = get_cv_idxs(n, val_pct=0.2)\n",
    "joined_samp = joined.iloc[idxs].set_index(\"name\")\n",
    "samp_size = len(joined_samp); samp_size"
   ]
  },
  {
   "cell_type": "code",
   "execution_count": 31,
   "metadata": {
    "collapsed": true
   },
   "outputs": [],
   "source": [
    "#n = len(joined)\n",
    "#samp_size = n\n",
    "#joined_samp = joined"
   ]
  },
  {
   "cell_type": "code",
   "execution_count": 32,
   "metadata": {},
   "outputs": [
    {
     "data": {
      "text/html": [
       "<div>\n",
       "<style>\n",
       "    .dataframe thead tr:only-child th {\n",
       "        text-align: right;\n",
       "    }\n",
       "\n",
       "    .dataframe thead th {\n",
       "        text-align: left;\n",
       "    }\n",
       "\n",
       "    .dataframe tbody tr th {\n",
       "        vertical-align: top;\n",
       "    }\n",
       "</style>\n",
       "<table border=\"1\" class=\"dataframe\">\n",
       "  <thead>\n",
       "    <tr style=\"text-align: right;\">\n",
       "      <th></th>\n",
       "      <th>cat1</th>\n",
       "      <th>cat2</th>\n",
       "      <th>cat3</th>\n",
       "      <th>brand_name</th>\n",
       "      <th>shipping</th>\n",
       "      <th>item_condition_id</th>\n",
       "      <th>price</th>\n",
       "    </tr>\n",
       "    <tr>\n",
       "      <th>name</th>\n",
       "      <th></th>\n",
       "      <th></th>\n",
       "      <th></th>\n",
       "      <th></th>\n",
       "      <th></th>\n",
       "      <th></th>\n",
       "      <th></th>\n",
       "    </tr>\n",
       "  </thead>\n",
       "  <tbody>\n",
       "    <tr>\n",
       "      <th>F/ship 4 Totoro Washi + 1 pen</th>\n",
       "      <td>Handmade</td>\n",
       "      <td>Paper Goods</td>\n",
       "      <td>Stationery</td>\n",
       "      <td>NaN</td>\n",
       "      <td>1</td>\n",
       "      <td>1.0</td>\n",
       "      <td>12.0</td>\n",
       "    </tr>\n",
       "    <tr>\n",
       "      <th>UCLA Men's Bundle + Shorts</th>\n",
       "      <td>Women</td>\n",
       "      <td>Other</td>\n",
       "      <td>Other</td>\n",
       "      <td>Adidas</td>\n",
       "      <td>1</td>\n",
       "      <td>1.0</td>\n",
       "      <td>76.0</td>\n",
       "    </tr>\n",
       "    <tr>\n",
       "      <th>Listing for lol</th>\n",
       "      <td>Beauty</td>\n",
       "      <td>Makeup</td>\n",
       "      <td>Lips</td>\n",
       "      <td>NaN</td>\n",
       "      <td>1</td>\n",
       "      <td>1.0</td>\n",
       "      <td>12.0</td>\n",
       "    </tr>\n",
       "    <tr>\n",
       "      <th>25 pcs kawaii sticker flakes</th>\n",
       "      <td>Kids</td>\n",
       "      <td>Toys</td>\n",
       "      <td>Arts &amp; Crafts</td>\n",
       "      <td>NaN</td>\n",
       "      <td>1</td>\n",
       "      <td>1.0</td>\n",
       "      <td>3.0</td>\n",
       "    </tr>\n",
       "    <tr>\n",
       "      <th>Chanel Mini Lipgloss Set</th>\n",
       "      <td>Beauty</td>\n",
       "      <td>Makeup</td>\n",
       "      <td>Lips</td>\n",
       "      <td>Chanel</td>\n",
       "      <td>1</td>\n",
       "      <td>2.0</td>\n",
       "      <td>30.0</td>\n",
       "    </tr>\n",
       "  </tbody>\n",
       "</table>\n",
       "</div>"
      ],
      "text/plain": [
       "                                   cat1         cat2           cat3  \\\n",
       "name                                                                  \n",
       "F/ship 4 Totoro Washi + 1 pen  Handmade  Paper Goods     Stationery   \n",
       "UCLA Men's Bundle + Shorts        Women        Other          Other   \n",
       "Listing for lol                  Beauty       Makeup           Lips   \n",
       "25 pcs kawaii sticker flakes       Kids         Toys  Arts & Crafts   \n",
       "Chanel Mini Lipgloss Set         Beauty       Makeup           Lips   \n",
       "\n",
       "                              brand_name shipping  item_condition_id  price  \n",
       "name                                                                         \n",
       "F/ship 4 Totoro Washi + 1 pen        NaN        1                1.0   12.0  \n",
       "UCLA Men's Bundle + Shorts        Adidas        1                1.0   76.0  \n",
       "Listing for lol                      NaN        1                1.0   12.0  \n",
       "25 pcs kawaii sticker flakes         NaN        1                1.0    3.0  \n",
       "Chanel Mini Lipgloss Set          Chanel        1                2.0   30.0  "
      ]
     },
     "execution_count": 32,
     "metadata": {},
     "output_type": "execute_result"
    }
   ],
   "source": [
    "joined_samp.head()"
   ]
  },
  {
   "cell_type": "code",
   "execution_count": 33,
   "metadata": {
    "collapsed": true
   },
   "outputs": [],
   "source": [
    "#??proc_df"
   ]
  },
  {
   "cell_type": "code",
   "execution_count": 34,
   "metadata": {},
   "outputs": [
    {
     "data": {
      "text/plain": [
       "296507"
      ]
     },
     "execution_count": 34,
     "metadata": {},
     "output_type": "execute_result"
    }
   ],
   "source": [
    "len(joined_samp)"
   ]
  },
  {
   "cell_type": "code",
   "execution_count": 35,
   "metadata": {
    "collapsed": true
   },
   "outputs": [],
   "source": [
    "joined_test = joined_test"
   ]
  },
  {
   "cell_type": "code",
   "execution_count": 36,
   "metadata": {
    "collapsed": true
   },
   "outputs": [],
   "source": [
    "joined_test = joined_test.set_index(\"name\")\n",
    "joined = joined.set_index(\"name\")"
   ]
  },
  {
   "cell_type": "code",
   "execution_count": 37,
   "metadata": {
    "collapsed": true
   },
   "outputs": [],
   "source": [
    "df, y, nas, mapper = proc_df(joined, 'price', do_scale=True)\n",
    "yl = np.log(y+1).astype('float32')"
   ]
  },
  {
   "cell_type": "code",
   "execution_count": 38,
   "metadata": {
    "collapsed": true
   },
   "outputs": [],
   "source": [
    "df_test, _, nas, mapper = proc_df(joined_test, 'price', do_scale=True, skip_flds=['test_id'],\n",
    "                                  mapper=mapper, na_dict=nas)\n",
    "#for n,c in joined_samp.items(): print(n), print(c)"
   ]
  },
  {
   "cell_type": "code",
   "execution_count": 39,
   "metadata": {
    "collapsed": true
   },
   "outputs": [],
   "source": [
    "train_ratio = 0.75\n",
    "# train_ratio = 0.9\n",
    "train_size = int(samp_size * train_ratio); train_size\n",
    "val_idx = list(range(train_size, len(df)))"
   ]
  },
  {
   "cell_type": "code",
   "execution_count": 40,
   "metadata": {},
   "outputs": [
    {
     "data": {
      "text/plain": [
       "[222381, 222382, 222383, 222384]"
      ]
     },
     "execution_count": 40,
     "metadata": {},
     "output_type": "execute_result"
    }
   ],
   "source": [
    "val_idx[1:5]"
   ]
  },
  {
   "cell_type": "code",
   "execution_count": 41,
   "metadata": {},
   "outputs": [
    {
     "data": {
      "text/html": [
       "<div>\n",
       "<style>\n",
       "    .dataframe thead tr:only-child th {\n",
       "        text-align: right;\n",
       "    }\n",
       "\n",
       "    .dataframe thead th {\n",
       "        text-align: left;\n",
       "    }\n",
       "\n",
       "    .dataframe tbody tr th {\n",
       "        vertical-align: top;\n",
       "    }\n",
       "</style>\n",
       "<table border=\"1\" class=\"dataframe\">\n",
       "  <thead>\n",
       "    <tr style=\"text-align: right;\">\n",
       "      <th></th>\n",
       "      <th>cat1</th>\n",
       "      <th>cat2</th>\n",
       "      <th>cat3</th>\n",
       "      <th>brand_name</th>\n",
       "      <th>shipping</th>\n",
       "      <th>item_condition_id</th>\n",
       "    </tr>\n",
       "    <tr>\n",
       "      <th>name</th>\n",
       "      <th></th>\n",
       "      <th></th>\n",
       "      <th></th>\n",
       "      <th></th>\n",
       "      <th></th>\n",
       "      <th></th>\n",
       "    </tr>\n",
       "  </thead>\n",
       "  <tbody>\n",
       "    <tr>\n",
       "      <th>MLB Cincinnati Reds T Shirt Size XL</th>\n",
       "      <td>6</td>\n",
       "      <td>104</td>\n",
       "      <td>764</td>\n",
       "      <td>0</td>\n",
       "      <td>2</td>\n",
       "      <td>1.209777</td>\n",
       "    </tr>\n",
       "    <tr>\n",
       "      <th>Razer BlackWidow Chroma Keyboard</th>\n",
       "      <td>2</td>\n",
       "      <td>31</td>\n",
       "      <td>213</td>\n",
       "      <td>3558</td>\n",
       "      <td>1</td>\n",
       "      <td>1.209777</td>\n",
       "    </tr>\n",
       "    <tr>\n",
       "      <th>AVA-VIV Blouse</th>\n",
       "      <td>10</td>\n",
       "      <td>105</td>\n",
       "      <td>95</td>\n",
       "      <td>4181</td>\n",
       "      <td>2</td>\n",
       "      <td>-1.004675</td>\n",
       "    </tr>\n",
       "    <tr>\n",
       "      <th>Leather Horse Statues</th>\n",
       "      <td>4</td>\n",
       "      <td>56</td>\n",
       "      <td>405</td>\n",
       "      <td>0</td>\n",
       "      <td>2</td>\n",
       "      <td>-1.004675</td>\n",
       "    </tr>\n",
       "    <tr>\n",
       "      <th>24K GOLD plated rose</th>\n",
       "      <td>10</td>\n",
       "      <td>59</td>\n",
       "      <td>538</td>\n",
       "      <td>0</td>\n",
       "      <td>1</td>\n",
       "      <td>-1.004675</td>\n",
       "    </tr>\n",
       "  </tbody>\n",
       "</table>\n",
       "</div>"
      ],
      "text/plain": [
       "                                     cat1  cat2  cat3  brand_name  shipping  \\\n",
       "name                                                                          \n",
       "MLB Cincinnati Reds T Shirt Size XL     6   104   764           0         2   \n",
       "Razer BlackWidow Chroma Keyboard        2    31   213        3558         1   \n",
       "AVA-VIV Blouse                         10   105    95        4181         2   \n",
       "Leather Horse Statues                   4    56   405           0         2   \n",
       "24K GOLD plated rose                   10    59   538           0         1   \n",
       "\n",
       "                                     item_condition_id  \n",
       "name                                                    \n",
       "MLB Cincinnati Reds T Shirt Size XL           1.209777  \n",
       "Razer BlackWidow Chroma Keyboard              1.209777  \n",
       "AVA-VIV Blouse                               -1.004675  \n",
       "Leather Horse Statues                        -1.004675  \n",
       "24K GOLD plated rose                         -1.004675  "
      ]
     },
     "execution_count": 41,
     "metadata": {},
     "output_type": "execute_result"
    }
   ],
   "source": [
    "df.head()"
   ]
  },
  {
   "cell_type": "code",
   "execution_count": 42,
   "metadata": {},
   "outputs": [
    {
     "data": {
      "text/plain": [
       "1482535"
      ]
     },
     "execution_count": 42,
     "metadata": {},
     "output_type": "execute_result"
    }
   ],
   "source": [
    "len(joined)"
   ]
  },
  {
   "cell_type": "code",
   "execution_count": 43,
   "metadata": {
    "collapsed": true
   },
   "outputs": [],
   "source": [
    "def exp_rmsle(y_pred, targ):\n",
    "    return math.sqrt(((targ - y_pred)**2).mean())\n",
    "\n",
    "max_log_y = np.max(yl)\n",
    "y_range = (0, max_log_y*1.2)"
   ]
  },
  {
   "cell_type": "code",
   "execution_count": 44,
   "metadata": {
    "collapsed": true
   },
   "outputs": [],
   "source": [
    "md = ColumnarModelData.from_data_frame(PATH, val_idx, df, yl, cat_flds=cat_vars, bs=128, \n",
    "                                       test_df=df_test)"
   ]
  },
  {
   "cell_type": "code",
   "execution_count": 45,
   "metadata": {},
   "outputs": [
    {
     "data": {
      "text/plain": [
       "dtype('float32')"
      ]
     },
     "execution_count": 45,
     "metadata": {},
     "output_type": "execute_result"
    }
   ],
   "source": [
    "yl.dtype"
   ]
  },
  {
   "cell_type": "code",
   "execution_count": 46,
   "metadata": {
    "collapsed": true
   },
   "outputs": [],
   "source": [
    "cat_sz = [(c, len(joined_samp[c].cat.categories)+1) for c in cat_vars]"
   ]
  },
  {
   "cell_type": "code",
   "execution_count": 47,
   "metadata": {},
   "outputs": [
    {
     "data": {
      "text/plain": [
       "[('cat1', 12),\n",
       " ('cat2', 115),\n",
       " ('cat3', 872),\n",
       " ('brand_name', 4810),\n",
       " ('shipping', 3)]"
      ]
     },
     "execution_count": 47,
     "metadata": {},
     "output_type": "execute_result"
    }
   ],
   "source": [
    "cat_sz"
   ]
  },
  {
   "cell_type": "code",
   "execution_count": 48,
   "metadata": {
    "collapsed": true
   },
   "outputs": [],
   "source": [
    "emb_szs = [(c, min(50, (c+1)//2)) for _,c in cat_sz]"
   ]
  },
  {
   "cell_type": "code",
   "execution_count": 49,
   "metadata": {},
   "outputs": [
    {
     "data": {
      "text/plain": [
       "[(12, 6), (115, 50), (872, 50), (4810, 50), (3, 2)]"
      ]
     },
     "execution_count": 49,
     "metadata": {},
     "output_type": "execute_result"
    }
   ],
   "source": [
    "emb_szs"
   ]
  },
  {
   "cell_type": "code",
   "execution_count": 50,
   "metadata": {},
   "outputs": [
    {
     "data": {
      "text/plain": [
       "Index(['cat1', 'cat2', 'cat3', 'brand_name', 'shipping', 'item_condition_id'], dtype='object')"
      ]
     },
     "execution_count": 50,
     "metadata": {},
     "output_type": "execute_result"
    }
   ],
   "source": [
    "df.columns"
   ]
  },
  {
   "cell_type": "code",
   "execution_count": 51,
   "metadata": {},
   "outputs": [
    {
     "data": {
      "text/plain": [
       "['cat1', 'cat2', 'cat3', 'brand_name', 'shipping']"
      ]
     },
     "execution_count": 51,
     "metadata": {},
     "output_type": "execute_result"
    }
   ],
   "source": [
    "cat_vars"
   ]
  },
  {
   "cell_type": "code",
   "execution_count": 52,
   "metadata": {},
   "outputs": [
    {
     "data": {
      "text/plain": [
       "(0, 9.1270677566528313)"
      ]
     },
     "execution_count": 52,
     "metadata": {},
     "output_type": "execute_result"
    }
   ],
   "source": [
    "y_range"
   ]
  },
  {
   "cell_type": "code",
   "execution_count": 53,
   "metadata": {
    "collapsed": true
   },
   "outputs": [],
   "source": [
    "m = md.get_learner(emb_szs, len(df.columns)-len(cat_vars),\n",
    "                   0.04, 1, [1500,1000,500], [0.001,0.01,0.01], y_range=y_range)\n",
    "lr = 1e-3"
   ]
  },
  {
   "cell_type": "code",
   "execution_count": 54,
   "metadata": {},
   "outputs": [
    {
     "data": {
      "application/vnd.jupyter.widget-view+json": {
       "model_id": "29a6d5b95bad46d997bec86a875b66e7",
       "version_major": 2,
       "version_minor": 0
      },
      "text/plain": [
       "A Jupyter Widget"
      ]
     },
     "metadata": {},
     "output_type": "display_data"
    },
    {
     "name": "stdout",
     "output_type": "stream",
     "text": [
      " 61%|██████▏   | 1068/1738 [00:09<00:05, 114.63it/s, loss=1.72] \n",
      "                                                               \r"
     ]
    }
   ],
   "source": [
    "m.lr_find()"
   ]
  },
  {
   "cell_type": "code",
   "execution_count": 55,
   "metadata": {},
   "outputs": [
    {
     "data": {
      "image/png": "[encoded data removed]",
      "text/plain": [
       "<matplotlib.figure.Figure at 0x7efef43e78d0>"
      ]
     },
     "metadata": {},
     "output_type": "display_data"
    }
   ],
   "source": [
    "m.sched.plot()"
   ]
  },
  {
   "cell_type": "code",
   "execution_count": 56,
   "metadata": {},
   "outputs": [
    {
     "data": {
      "application/vnd.jupyter.widget-view+json": {
       "model_id": "f4de2e4727e44cadb717cc7580d80cd9",
       "version_major": 2,
       "version_minor": 0
      },
      "text/plain": [
       "A Jupyter Widget"
      ]
     },
     "metadata": {},
     "output_type": "display_data"
    },
    {
     "name": "stdout",
     "output_type": "stream",
     "text": [
      "[ 0.       0.36065  0.35247  0.59251]                           \n",
      "[ 1.       0.334    0.32686  0.57049]                           \n",
      "[ 2.       0.3201   0.32173  0.56601]                           \n",
      "[ 3.       0.31909  0.32209  0.56627]                           \n",
      "[ 4.       0.31596  0.31786  0.56258]                           \n",
      "[ 5.       0.29835  0.31438  0.55947]                           \n",
      "[ 6.       0.30538  0.31377  0.55894]                           \n",
      "\n"
     ]
    }
   ],
   "source": [
    "lr=5.0e-5\n",
    "m.fit(lr, 3, metrics=[exp_rmsle], cycle_len=1, cycle_mult=2)"
   ]
  },
  {
   "cell_type": "code",
   "execution_count": 48,
   "metadata": {},
   "outputs": [
    {
     "data": {
      "application/vnd.jupyter.widget-view+json": {
       "model_id": "eb1b944b062b4e919416f4d526654d92",
       "version_major": 2,
       "version_minor": 0
      },
      "text/plain": [
       "A Jupyter Widget"
      ]
     },
     "metadata": {},
     "output_type": "display_data"
    },
    {
     "name": "stdout",
     "output_type": "stream",
     "text": [
      "[ 0.       0.32404  0.31878  0.56345]                           \n",
      "[ 1.       0.30513  0.31197  0.55732]                           \n",
      "[ 2.       0.29919  0.31445  0.55954]                           \n",
      "[ 3.       0.28376  0.31089  0.55636]                           \n",
      "[ 4.       0.30098  0.3125   0.55779]                           \n",
      "[ 5.       0.28833  0.31059  0.55608]                           \n",
      "\n"
     ]
    }
   ],
   "source": [
    "lr = 5.0e-4\n",
    "m.fit(lr, 3, metrics=[exp_rmsle], cycle_len=2)"
   ]
  },
  {
   "cell_type": "code",
   "execution_count": 47,
   "metadata": {
    "collapsed": true
   },
   "outputs": [],
   "source": [
    "??md.get_learner"
   ]
  }
 ],
 "metadata": {
  "kernelspec": {
   "display_name": "Python 3",
   "language": "python",
   "name": "python3"
  },
  "language_info": {
   "codemirror_mode": {
    "name": "ipython",
    "version": 3
   },
   "file_extension": ".py",
   "mimetype": "text/x-python",
   "name": "python",
   "nbconvert_exporter": "python",
   "pygments_lexer": "ipython3",
   "version": "3.6.2"
  }
 },
 "nbformat": 4,
 "nbformat_minor": 2
}
